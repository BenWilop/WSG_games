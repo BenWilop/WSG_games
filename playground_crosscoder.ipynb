{
 "cells": [
  {
   "cell_type": "markdown",
   "metadata": {
    "colab_type": "text",
    "id": "view-in-github"
   },
   "source": [
    "<a href=\"https://colab.research.google.com/github/BenWilop/WSG_games/blob/main/playground_WSG_games.ipynb\" target=\"_parent\"><img src=\"https://colab.research.google.com/assets/colab-badge.svg\" alt=\"Open In Colab\"/></a>"
   ]
  },
  {
   "cell_type": "markdown",
   "metadata": {},
   "source": [
    "# Imports"
   ]
  },
  {
   "cell_type": "code",
   "execution_count": 1,
   "metadata": {
    "id": "V887fWJPBYKB"
   },
   "outputs": [
    {
     "name": "stderr",
     "output_type": "stream",
     "text": [
      "\u001b[34m\u001b[1mwandb\u001b[0m: \u001b[33mWARNING\u001b[0m If you're specifying your api key in code, ensure this code is not shared publicly.\n",
      "\u001b[34m\u001b[1mwandb\u001b[0m: \u001b[33mWARNING\u001b[0m Consider setting the WANDB_API_KEY environment variable, or running `wandb login` from the command line.\n",
      "\u001b[34m\u001b[1mwandb\u001b[0m: Appending key for api.wandb.ai to your netrc file: /homes/55/bwilop/.netrc\n",
      "\u001b[34m\u001b[1mwandb\u001b[0m: Currently logged in as: \u001b[33mbenwilop\u001b[0m (\u001b[33mbenwilop-rwth-aachen-university\u001b[0m) to \u001b[32mhttps://api.wandb.ai\u001b[0m. Use \u001b[1m`wandb login --relogin`\u001b[0m to force relogin\n"
     ]
    }
   ],
   "source": [
    "import dotenv\n",
    "import wandb\n",
    "import os\n",
    "\n",
    "dotenv.load_dotenv(os.path.join(\"/homes/55/bwilop/wsg/private/\", \"vscode-ssh.env\"))\n",
    "api_key = os.getenv(\"WANDB_API_KEY\")\n",
    "wandb.login(key=api_key)\n",
    "WANDB_ENTITIY = \"benwilop-rwth-aachen-university\"\n",
    "\n",
    "data_folder = \"/homes/55/bwilop/wsg/data/\"\n",
    "experiment_folder = \"/homes/55/bwilop/wsg/experiments/\"\n",
    "crosscoder_folder = experiment_folder + \"tictactoe/crosscoder/\""
   ]
  },
  {
   "cell_type": "code",
   "execution_count": 2,
   "metadata": {
    "colab": {
     "base_uri": "https://localhost:8080/"
    },
    "id": "uV6cMqvSvaBY",
    "outputId": "ec9e34fb-4176-487f-e718-9b1a44238dfa"
   },
   "outputs": [
    {
     "name": "stdout",
     "output_type": "stream",
     "text": [
      "cuda\n"
     ]
    }
   ],
   "source": [
    "%load_ext autoreload\n",
    "%autoreload 2\n",
    "import json\n",
    "import torch as t\n",
    "\n",
    "from jaxtyping import Float\n",
    "import matplotlib.pyplot as plt\n",
    "\n",
    "from wsg_games.meta import *\n",
    "\n",
    "from wsg_games.tictactoe.evals import *\n",
    "from wsg_games.tictactoe.data import *\n",
    "from wsg_games.tictactoe.game import *\n",
    "\n",
    "from wsg_games.tictactoe.analysis.analyse_data import *\n",
    "from wsg_games.tictactoe.analysis.visualize_game import *\n",
    "\n",
    "from wsg_games.tictactoe.train.create_models import *\n",
    "from wsg_games.tictactoe.train.save_load_models import *\n",
    "from wsg_games.tictactoe.train.train import *\n",
    "from wsg_games.tictactoe.train.finetune import *\n",
    "from wsg_games.tictactoe.train.pretrain import *\n",
    "\n",
    "DEVICE = t.device(\"cuda\" if t.cuda.is_available() else \"cpu\")\n",
    "print(DEVICE)"
   ]
  },
  {
   "cell_type": "markdown",
   "metadata": {
    "id": "x-WZi6lEq1sA"
   },
   "source": [
    "# Load Data & Models"
   ]
  },
  {
   "cell_type": "code",
   "execution_count": 3,
   "metadata": {
    "id": "FseGnVqe_00c"
   },
   "outputs": [
    {
     "name": "stdout",
     "output_type": "stream",
     "text": [
      "experiment_folder:  /homes/55/bwilop/wsg/experiments/\n",
      "project_name:  tictactoe/tictactoe_pretraining6\n",
      "/homes/55/bwilop/wsg/experiments/tictactoe/tictactoe_pretraining6\n",
      "Loading model from /homes/55/bwilop/wsg/experiments/tictactoe/tictactoe_pretraining6/experiment_2_medium_weak_2025-05-26-03-18_swx5asc6.pkl\n",
      "Moving model to device:  cuda\n",
      "experiment_folder:  /homes/55/bwilop/wsg/experiments/\n",
      "project_name:  tictactoe/tictactoe_pretraining6\n",
      "/homes/55/bwilop/wsg/experiments/tictactoe/tictactoe_pretraining6\n",
      "Loading model from /homes/55/bwilop/wsg/experiments/tictactoe/tictactoe_pretraining6/experiment_2_huge_weak_2025-05-26-03-24_akjxqang.pkl\n",
      "Moving model to device:  cuda\n",
      "experiment_folder:  /homes/55/bwilop/wsg/experiments/\n",
      "project_name:  tictactoe/tictactoe_pretraining6\n",
      "/homes/55/bwilop/wsg/experiments/tictactoe/tictactoe_pretraining6\n",
      "Loading model from /homes/55/bwilop/wsg/experiments/tictactoe/tictactoe_pretraining6/experiment_2_huge_strong_2025-05-26-04-02_twn0w0nj.pkl\n",
      "Moving model to device:  cuda\n",
      "Moving model to device:  cuda\n",
      "### weak_model ### \n",
      "weak_loss:  0.5954878330230713\n",
      "strong_loss:  1.4417355060577393\n",
      "###  strong_baseline_model ### \n",
      "weak_loss:  0.47930052876472473\n",
      "strong_loss:  1.5861260890960693\n",
      "### strong_model ### \n",
      "weak_loss:  1.7465101480484009\n",
      "strong_loss:  0.504991352558136\n",
      "###  finetuned_model ### \n",
      "weak_loss:  0.7139073014259338\n",
      "strong_loss:  0.7165438532829285\n",
      "Performance Gap Recovered (PGR):  -1.0192117732549564\n"
     ]
    }
   ],
   "source": [
    "# project_name_pretrain = \"tictactoe/tictactoe_pretraining5\"\n",
    "# project_name_finetune = \"tictactoe/tictactoe_finetuning5\"\n",
    "project_name_pretrain = \"tictactoe/tictactoe_pretraining6\"\n",
    "project_name_finetune = \"tictactoe/tictactoe_finetuning_use_best_val_step6_lre5\"\n",
    "weak_model_size = \"medium\"\n",
    "strong_model_size = \"huge\"\n",
    "index = 2\n",
    "\n",
    "# Load data\n",
    "(\n",
    "    tictactoe_train_data,\n",
    "    tictactoe_weak_finetune_data,\n",
    "    tictactoe_val_data,\n",
    "    tictactoe_test_data,\n",
    ") = load_split_data(data_folder + \"tictactoe/\", device=DEVICE, index=index)\n",
    "\n",
    "# Load models\n",
    "weak_model = load_model(\n",
    "    project_name_pretrain,\n",
    "    weak_model_size,\n",
    "    Goal.WEAK_GOAL,\n",
    "    experiment_folder,\n",
    "    device=DEVICE,\n",
    "    index=index,\n",
    ")\n",
    "strong_baseline_model = load_model(\n",
    "    project_name_pretrain,\n",
    "    strong_model_size,\n",
    "    Goal.WEAK_GOAL,\n",
    "    experiment_folder,\n",
    "    device=DEVICE,\n",
    "    index=index,\n",
    ")\n",
    "strong_model = load_model(\n",
    "    project_name_pretrain,\n",
    "    strong_model_size,\n",
    "    Goal.STRONG_GOAL,\n",
    "    experiment_folder,\n",
    "    device=DEVICE,\n",
    "    index=index,\n",
    ")\n",
    "finetuned_model = load_finetuned_model(\n",
    "    project_name_finetune,\n",
    "    weak_model_size,\n",
    "    strong_model_size,\n",
    "    experiment_folder,\n",
    "    DEVICE,\n",
    "    index,\n",
    ")\n",
    "\n",
    "# Print evaluations\n",
    "(\n",
    "    weak_loss,\n",
    "    _,\n",
    ") = quick_evaluation(\"### weak_model ### \", weak_model, tictactoe_test_data)\n",
    "strong_baseline_loss, _ = quick_evaluation(\n",
    "    \"###  strong_baseline_model ### \", strong_baseline_model, tictactoe_test_data\n",
    ")\n",
    "quick_evaluation(\"### strong_model ### \", strong_model, tictactoe_test_data)\n",
    "weak_finetuned_loss, _ = quick_evaluation(\n",
    "    \"###  finetuned_model ### \", finetuned_model, tictactoe_test_data\n",
    ")\n",
    "print(\n",
    "    \"Performance Gap Recovered (PGR): \",\n",
    "    (weak_loss - weak_finetuned_loss) / (weak_loss - strong_baseline_loss),\n",
    ")"
   ]
  },
  {
   "cell_type": "code",
   "execution_count": 4,
   "metadata": {},
   "outputs": [],
   "source": [
    "from dictionary_learning.dictionary_learning.cache import *\n",
    "from wsg_games.tictactoe.crosscoder.collect_activations import *\n",
    "from wsg_games.tictactoe.crosscoder.crosscoder_metrics import *\n",
    "from wsg_games.tictactoe.crosscoder.train_crosscoder import *\n",
    "from wsg_games.tictactoe.crosscoder.crosscoder_feature_explorer import *"
   ]
  },
  {
   "cell_type": "code",
   "execution_count": 5,
   "metadata": {},
   "outputs": [
    {
     "name": "stdout",
     "output_type": "stream",
     "text": [
      "experiment_folder:  /homes/55/bwilop/wsg/experiments/\n",
      "project_name:  tictactoe/tictactoe_pretraining6\n",
      "/homes/55/bwilop/wsg/experiments/tictactoe/tictactoe_pretraining6\n",
      "Loading model from /homes/55/bwilop/wsg/experiments/tictactoe/tictactoe_pretraining6/experiment_2_huge_strong_2025-05-26-04-02_twn0w0nj.pkl\n",
      "Moving model to device:  cuda\n",
      "Shards already exist in /homes/55/bwilop/wsg/experiments/tictactoe/crosscoder/activations/2_huge_strong_train\n",
      "Instead, you can set overwrite=True to overwrite existing shards.\n",
      "Shards already exist in /homes/55/bwilop/wsg/experiments/tictactoe/crosscoder/activations/2_huge_strong_val\n",
      "Instead, you can set overwrite=True to overwrite existing shards.\n",
      "Moving model to device:  cuda\n",
      "Shards already exist in /homes/55/bwilop/wsg/experiments/tictactoe/crosscoder/activations/2_huge_finetuned_through_medium_train\n",
      "Instead, you can set overwrite=True to overwrite existing shards.\n",
      "Shards already exist in /homes/55/bwilop/wsg/experiments/tictactoe/crosscoder/activations/2_huge_finetuned_through_medium_val\n",
      "Instead, you can set overwrite=True to overwrite existing shards.\n",
      "strong_train_activations_path /homes/55/bwilop/wsg/experiments/tictactoe/crosscoder/activations/2_huge_strong_train\n",
      "strong_val_activations_path: /homes/55/bwilop/wsg/experiments/tictactoe/crosscoder/activations/2_huge_strong_val\n",
      "finetuned_train_activations_path: /homes/55/bwilop/wsg/experiments/tictactoe/crosscoder/activations/2_huge_finetuned_through_medium_train\n",
      "finetuned_val_activations_path: /homes/55/bwilop/wsg/experiments/tictactoe/crosscoder/activations/2_huge_finetuned_through_medium_val\n"
     ]
    }
   ],
   "source": [
    "# Strong\n",
    "strong_train_activations_path, strong_val_activations_path = compute_activations(\n",
    "    Game.TICTACTOE,\n",
    "    Goal.STRONG_GOAL,\n",
    "    project_name_pretrain,\n",
    "    None,\n",
    "    None,\n",
    "    strong_model_size,\n",
    "    index,\n",
    "    crosscoder_folder,\n",
    "    tictactoe_test_data.games_data,\n",
    "    tictactoe_val_data.games_data,\n",
    "    experiment_folder,\n",
    "    device=DEVICE,\n",
    ")\n",
    "\n",
    "# Finetuned\n",
    "finetuned_train_activations_path, finetuned_val_activations_path = compute_activations(\n",
    "    Game.TICTACTOE,\n",
    "    None,\n",
    "    None,\n",
    "    weak_model_size,\n",
    "    project_name_finetune,\n",
    "    strong_model_size,\n",
    "    index,\n",
    "    crosscoder_folder,\n",
    "    tictactoe_test_data.games_data,\n",
    "    tictactoe_val_data.games_data,\n",
    "    experiment_folder,\n",
    "    device=DEVICE,\n",
    ")\n",
    "\n",
    "print(\"strong_train_activations_path\", strong_train_activations_path)\n",
    "print(\"strong_val_activations_path:\", strong_val_activations_path)\n",
    "print(\"finetuned_train_activations_path:\", finetuned_train_activations_path)\n",
    "print(\"finetuned_val_activations_path:\", finetuned_val_activations_path)\n",
    "\n",
    "# Verify\n",
    "\n",
    "for layer in range(4):\n",
    "    validate_activations(\n",
    "        [\n",
    "            strong_train_activations_path + f\"/layer_{layer}_out\",\n",
    "            finetuned_train_activations_path + f\"/layer_{layer}_out\",\n",
    "        ]\n",
    "    )\n",
    "    validate_activations(\n",
    "        [\n",
    "            strong_val_activations_path + f\"/layer_{layer}_out\",\n",
    "            finetuned_val_activations_path + f\"/layer_{layer}_out\",\n",
    "        ]\n",
    "    )"
   ]
  },
  {
   "cell_type": "code",
   "execution_count": 6,
   "metadata": {},
   "outputs": [
    {
     "name": "stdout",
     "output_type": "stream",
     "text": [
      "Training on 1107968 token activations.\n",
      "Validating on 553536 token activations.\n",
      "Activation dim: 128\n",
      "Dictionary size: 512\n"
     ]
    },
    {
     "data": {
      "text/html": [
       "creating run (0.0s)"
      ],
      "text/plain": [
       "<IPython.core.display.HTML object>"
      ]
     },
     "metadata": {},
     "output_type": "display_data"
    },
    {
     "data": {
      "text/html": [
       "Tracking run with wandb version 0.19.11"
      ],
      "text/plain": [
       "<IPython.core.display.HTML object>"
      ]
     },
     "metadata": {},
     "output_type": "display_data"
    },
    {
     "data": {
      "text/html": [
       "Run data is saved locally in <code>/homes/55/bwilop/wsg/WSG_games/wandb/run-20250603_210509-ntwrhqim</code>"
      ],
      "text/plain": [
       "<IPython.core.display.HTML object>"
      ]
     },
     "metadata": {},
     "output_type": "display_data"
    },
    {
     "data": {
      "text/html": [
       "Syncing run <strong><a href='https://wandb.ai/benwilop-rwth-aachen-university/crosscoder/runs/ntwrhqim' target=\"_blank\">experiment_2_strong_model_finetuned_model_2025-06-03-21-05L3-k1.0e+01-lr1e-03</a></strong> to <a href='https://wandb.ai/benwilop-rwth-aachen-university/crosscoder' target=\"_blank\">Weights & Biases</a> (<a href='https://wandb.me/developer-guide' target=\"_blank\">docs</a>)<br>"
      ],
      "text/plain": [
       "<IPython.core.display.HTML object>"
      ]
     },
     "metadata": {},
     "output_type": "display_data"
    },
    {
     "data": {
      "text/html": [
       " View project at <a href='https://wandb.ai/benwilop-rwth-aachen-university/crosscoder' target=\"_blank\">https://wandb.ai/benwilop-rwth-aachen-university/crosscoder</a>"
      ],
      "text/plain": [
       "<IPython.core.display.HTML object>"
      ]
     },
     "metadata": {},
     "output_type": "display_data"
    },
    {
     "data": {
      "text/html": [
       " View run at <a href='https://wandb.ai/benwilop-rwth-aachen-university/crosscoder/runs/ntwrhqim' target=\"_blank\">https://wandb.ai/benwilop-rwth-aachen-university/crosscoder/runs/ntwrhqim</a>"
      ],
      "text/plain": [
       "<IPython.core.display.HTML object>"
      ]
     },
     "metadata": {},
     "output_type": "display_data"
    },
    {
     "name": "stderr",
     "output_type": "stream",
     "text": [
      "/homes/55/bwilop/wsg/WSG_games/dictionary_learning/dictionary_learning/training.py:239: UserWarning: Error saving config: 'generator' object has no attribute 'config'\n",
      "  warn(f\"Error saving config: {e}\")\n",
      "  5%|▍         | 985/20000 [00:06<01:51, 171.03it/s]"
     ]
    },
    {
     "name": "stdout",
     "output_type": "stream",
     "text": [
      "Validating at step 1000\n"
     ]
    },
    {
     "name": "stderr",
     "output_type": "stream",
     "text": [
      "100%|██████████| 554/554 [00:40<00:00, 13.63it/s]/s]\n",
      " 10%|▉         | 1990/20000 [00:53<01:50, 162.36it/s] "
     ]
    },
    {
     "name": "stdout",
     "output_type": "stream",
     "text": [
      "Validating at step 2000\n"
     ]
    },
    {
     "name": "stderr",
     "output_type": "stream",
     "text": [
      "100%|██████████| 554/554 [00:40<00:00, 13.68it/s]t/s]\n",
      " 15%|█▍        | 2987/20000 [01:39<01:55, 147.36it/s] "
     ]
    },
    {
     "name": "stdout",
     "output_type": "stream",
     "text": [
      "Validating at step 3000\n"
     ]
    },
    {
     "name": "stderr",
     "output_type": "stream",
     "text": [
      "100%|██████████| 554/554 [00:40<00:00, 13.74it/s]t/s]\n",
      " 20%|█▉        | 3993/20000 [02:27<01:48, 147.46it/s] "
     ]
    },
    {
     "name": "stdout",
     "output_type": "stream",
     "text": [
      "Validating at step 4000\n"
     ]
    },
    {
     "name": "stderr",
     "output_type": "stream",
     "text": [
      "100%|██████████| 554/554 [00:40<00:00, 13.74it/s]t/s]\n",
      " 25%|██▍       | 4993/20000 [03:14<01:42, 145.83it/s] "
     ]
    },
    {
     "name": "stdout",
     "output_type": "stream",
     "text": [
      "Validating at step 5000\n"
     ]
    },
    {
     "name": "stderr",
     "output_type": "stream",
     "text": [
      "100%|██████████| 554/554 [00:40<00:00, 13.81it/s]t/s]\n",
      " 30%|██▉       | 5993/20000 [04:01<01:35, 146.95it/s] "
     ]
    },
    {
     "name": "stdout",
     "output_type": "stream",
     "text": [
      "Validating at step 6000\n"
     ]
    },
    {
     "name": "stderr",
     "output_type": "stream",
     "text": [
      "100%|██████████| 554/554 [00:40<00:00, 13.59it/s]t/s]\n",
      " 35%|███▍      | 6983/20000 [04:47<01:11, 183.28it/s] "
     ]
    },
    {
     "name": "stdout",
     "output_type": "stream",
     "text": [
      "Validating at step 7000\n"
     ]
    },
    {
     "name": "stderr",
     "output_type": "stream",
     "text": [
      "100%|██████████| 554/554 [00:40<00:00, 13.73it/s]t/s]\n",
      " 40%|███▉      | 7995/20000 [05:33<01:04, 186.73it/s] "
     ]
    },
    {
     "name": "stdout",
     "output_type": "stream",
     "text": [
      "Validating at step 8000\n"
     ]
    },
    {
     "name": "stderr",
     "output_type": "stream",
     "text": [
      "100%|██████████| 554/554 [00:45<00:00, 12.23it/s]t/s]\n",
      " 45%|████▍     | 8999/20000 [06:25<01:15, 145.81it/s] "
     ]
    },
    {
     "name": "stdout",
     "output_type": "stream",
     "text": [
      "Validating at step 9000\n"
     ]
    },
    {
     "name": "stderr",
     "output_type": "stream",
     "text": [
      "100%|██████████| 554/554 [00:40<00:00, 13.79it/s]t/s]\n",
      " 50%|████▉     | 9988/20000 [07:11<01:07, 147.61it/s] "
     ]
    },
    {
     "name": "stdout",
     "output_type": "stream",
     "text": [
      "Validating at step 10000\n"
     ]
    },
    {
     "name": "stderr",
     "output_type": "stream",
     "text": [
      "100%|██████████| 554/554 [00:40<00:00, 13.81it/s]t/s]\n",
      " 55%|█████▍    | 10989/20000 [07:58<01:01, 146.96it/s] "
     ]
    },
    {
     "name": "stdout",
     "output_type": "stream",
     "text": [
      "Validating at step 11000\n"
     ]
    },
    {
     "name": "stderr",
     "output_type": "stream",
     "text": [
      "100%|██████████| 554/554 [00:39<00:00, 13.88it/s]it/s]\n",
      " 60%|█████▉    | 11987/20000 [08:44<00:53, 148.73it/s] "
     ]
    },
    {
     "name": "stdout",
     "output_type": "stream",
     "text": [
      "Validating at step 12000\n"
     ]
    },
    {
     "name": "stderr",
     "output_type": "stream",
     "text": [
      "100%|██████████| 554/554 [00:40<00:00, 13.78it/s]it/s]\n",
      " 65%|██████▍   | 12984/20000 [09:31<00:39, 179.84it/s] "
     ]
    },
    {
     "name": "stdout",
     "output_type": "stream",
     "text": [
      "Validating at step 13000\n"
     ]
    },
    {
     "name": "stderr",
     "output_type": "stream",
     "text": [
      "100%|██████████| 554/554 [00:40<00:00, 13.84it/s]it/s]\n",
      " 70%|██████▉   | 13985/20000 [10:17<00:31, 190.98it/s] "
     ]
    },
    {
     "name": "stdout",
     "output_type": "stream",
     "text": [
      "Validating at step 14000\n"
     ]
    },
    {
     "name": "stderr",
     "output_type": "stream",
     "text": [
      "100%|██████████| 554/554 [00:40<00:00, 13.83it/s]it/s]\n",
      " 75%|███████▍  | 14982/20000 [11:02<00:26, 190.80it/s] "
     ]
    },
    {
     "name": "stdout",
     "output_type": "stream",
     "text": [
      "Validating at step 15000\n"
     ]
    },
    {
     "name": "stderr",
     "output_type": "stream",
     "text": [
      "100%|██████████| 554/554 [00:40<00:00, 13.82it/s]it/s]\n",
      " 80%|███████▉  | 15989/20000 [11:49<00:27, 146.58it/s]"
     ]
    },
    {
     "name": "stdout",
     "output_type": "stream",
     "text": [
      "Validating at step 16000\n"
     ]
    },
    {
     "name": "stderr",
     "output_type": "stream",
     "text": [
      "100%|██████████| 554/554 [00:39<00:00, 14.08it/s]it/s]\n",
      " 85%|████████▍ | 16993/20000 [12:34<00:16, 182.32it/s]"
     ]
    },
    {
     "name": "stdout",
     "output_type": "stream",
     "text": [
      "Validating at step 17000\n"
     ]
    },
    {
     "name": "stderr",
     "output_type": "stream",
     "text": [
      "100%|██████████| 554/554 [00:39<00:00, 13.87it/s]it/s]\n",
      " 90%|█████████ | 18000/20000 [13:20<00:12, 154.71it/s]"
     ]
    },
    {
     "name": "stdout",
     "output_type": "stream",
     "text": [
      "Validating at step 18000\n"
     ]
    },
    {
     "name": "stderr",
     "output_type": "stream",
     "text": [
      "100%|██████████| 554/554 [00:47<00:00, 11.78it/s]it/s]\n",
      " 95%|█████████▍| 18992/20000 [14:13<00:05, 179.31it/s]"
     ]
    },
    {
     "name": "stdout",
     "output_type": "stream",
     "text": [
      "Validating at step 19000\n"
     ]
    },
    {
     "name": "stderr",
     "output_type": "stream",
     "text": [
      "100%|██████████| 554/554 [00:40<00:00, 13.68it/s]it/s]\n",
      "100%|██████████| 20000/20000 [14:59<00:00, 22.24it/s] \n",
      "100%|██████████| 554/554 [00:50<00:00, 11.07it/s]\n"
     ]
    },
    {
     "data": {
      "text/html": [],
      "text/plain": [
       "<IPython.core.display.HTML object>"
      ]
     },
     "metadata": {},
     "output_type": "display_data"
    },
    {
     "data": {
      "text/html": [
       "<br>    <style><br>        .wandb-row {<br>            display: flex;<br>            flex-direction: row;<br>            flex-wrap: wrap;<br>            justify-content: flex-start;<br>            width: 100%;<br>        }<br>        .wandb-col {<br>            display: flex;<br>            flex-direction: column;<br>            flex-basis: 100%;<br>            flex: 1;<br>            padding: 10px;<br>        }<br>    </style><br><div class=\"wandb-row\"><div class=\"wandb-col\"><h3>Run history:</h3><br/><table class=\"wandb\"><tr><td>step</td><td>▁▁▁▁▁▂▂▂▃▃▃▄▄▄▄▄▅▅▅▅▅▅▆▆▆▆▆▆▆▇▇▇▇▇▇▇████</td></tr><tr><td>train/auxk_loss</td><td>▁▁▁▁▁▁▁▁▁▁▁▁▁▁▁▁▁▁▁▁▁▁▁▁▁▁▁▁▁▁▁▁▁▁▁▁▁███</td></tr><tr><td>train/cl0_frac_variance_explained</td><td>▁▃▃▇▇▇▇▇▇██████▇████████████████████████</td></tr><tr><td>train/cl1_frac_variance_explained</td><td>▁▂▁▄▆▅▃█▅▄▆▇▆▆▇▇▇▇▆█▇█▇▇▇█▇▆██▇▇▇█▇█▇███</td></tr><tr><td>train/effective_l0</td><td>▁▁▁▁▁▁▁▁▁▁▁▁▁▁▁▁▁▁▁▁▁▁▁▁▁▁▁▁▁▁▁▁▁▁▁▁▁▁▁▁</td></tr><tr><td>train/frac_deads</td><td>▅▄▆█▄▅▄▅▄▃▃▃▆█▃▂▃▇▃▅▁▂▄▄▂▂▃▂▄▂▄▄▅▅▄▄▅▃▁▄</td></tr><tr><td>train/frac_variance_explained</td><td>▁▇▇█████████████████████████████████████</td></tr><tr><td>train/l0</td><td>▁▁▁▁▁▁▁▁▁▁▁▁▁▁▁▁▁▁▁▁▁▁▁▁▁▁▁▁▁▁▁▁▁▁▁▁▁▁▁▁</td></tr><tr><td>train/l2_loss</td><td>█▄▅▄▃▂▂▂▂▂▂▂▂▂▂▂▂▂▂▁▂▁▂▂▁▂▂▂▂▁▂▂▂▁▂▂▁▂▂▁</td></tr><tr><td>train/loss</td><td>█▅▄▂▃▃▂▂▃▂▃▂▃▂▂▂▃▂▁▂▂▁▂▁▁▂▃▂▁▁▂▁▃▁▁▂▂▂▁▂</td></tr><tr><td>train/mse_loss</td><td>█▂▂▁▁▁▁▁▁▁▁▁▁▁▁▁▁▁▁▁▁▁▁▁▁▁▁▁▁▁▁▁▁▁▁▁▁▁▁▁</td></tr><tr><td>train/pre_norm_auxk_loss</td><td>▁▁▁▁▁▁▁▁▁▁▁▁▁▁▁▁▁▁▁▁▁▁▁▁▁▁▁▁▁▁▁▁▁▁▁▁▇█▇▇</td></tr><tr><td>train/running_deads</td><td>▁▁▁▁▁▁▁▁▁▁▁▁▁▁▁▁▁▁▁▁▁▁▁▁▁▁▁▁▁▁▁▁▁▁▁▁▁▁▁█</td></tr><tr><td>train/sparsity_weight</td><td>▄▅▆▇██████▇▇▇▇▇▆▆▆▅▄▄▄▄▄▃▃▃▃▃▃▃▃▃▃▂▂▂▁▁▁</td></tr><tr><td>train/threshold</td><td>▁▁██▇▇▆▆▆▆▆▅▅▅▅▅▅▅▅▅▅▅▅▅▅▅▅▅▅▅▅▅▅▅▅▅▅▅▅▅</td></tr><tr><td>trainthres/auxk_loss</td><td>▁▁▁▁▁▁▁▁▁▁▁▁▁▁▁▁▁▁▁▁▁▁▁▁▁▁▁▁▁▁▁▁▁▁▁▁████</td></tr><tr><td>trainthres/cl0_frac_variance_explained</td><td>▁▆▆▇▇▇▇▇█▇▇██████▇▇█████▇██████████▇████</td></tr><tr><td>trainthres/cl1_frac_variance_explained</td><td>▁███████████████████████████████████████</td></tr><tr><td>trainthres/effective_l0</td><td>▁▁▁▁▁▁▁▁▁▁▁▁▁▁▁▁▁▁▁▁▁▁▁▁▁▁▁▁▁▁▁▁▁▁▁▁▁▁▁▁</td></tr><tr><td>trainthres/frac_deads</td><td>▁▁▁████▇▇█▇▇▇█▇▇██▇▇▇▇▇▇▇▇▇▇▇▇▇▇█▇▇▇▇▇▇▇</td></tr><tr><td>trainthres/frac_variance_explained</td><td>▁▃▂▂▃▄▅▅▃▆▇▅▆▆▆▇▇▇▇▇▇▇▇██▇█▆█▆▇▇▇▇█▇▇▆▇▇</td></tr><tr><td>trainthres/l0</td><td>█▃▃▂▂▁▁▁▁▁▁▁▁▁▁▁▁▁▁▁▁▁▁▁▁▁▁▁▁▁▁▁▁▁▁▁▁▁▁▁</td></tr><tr><td>trainthres/l2_loss</td><td>█▃▂▂▁▁▁▁▁▁▁▁▁▁▁▁▁▁▁▁▁▁▁▁▁▁▁▁▁▁▁▁▁▁▁▁▁▁▁▁</td></tr><tr><td>trainthres/loss</td><td>█▆▃▂▂▂▂▂▁▁▂▂▁▂▁▂▂▂▂▂▁▁▁▁▁▁▁▁▁▁▁▁▁▁▁▁▁▁▁▁</td></tr><tr><td>trainthres/mse_loss</td><td>█▃▂▂▁▁▁▁▁▁▁▁▁▁▁▁▁▁▁▁▁▁▁▁▁▁▁▁▁▁▁▁▁▁▁▁▁▁▁▁</td></tr><tr><td>trainthres/pre_norm_auxk_loss</td><td>▁▁▁▁▁▁▁▁▁▁▁▁▁▁▁▁▁▁▁▁▁▁▁▁▁▁▁▁▁▁▁▁▁▁▁▁█▇▇█</td></tr><tr><td>trainthres/running_deads</td><td>▁▁▁▁▁▁▁▁▁▁▁▁▁▁▁▁▁▁▁▁▁▁▁▁▁▁▁▁▁▁▁▁▁▁▁▅▅▄██</td></tr><tr><td>trainthres/sparsity_weight</td><td>▇▆▄▄▇▇██████████▇▇▇▆▅▄▄▄▃▃▃▃▃▃▃▃▂▃▂▁▁▁▁▁</td></tr><tr><td>trainthres/threshold</td><td>▁▁▁██▇▇▇▇▆▆▆▆▆▆▅▅▅▅▅▅▅▅▅▅▅▅▅▅▅▅▅▅▅▅▅▅▅▅▅</td></tr><tr><td>val/cl0_frac_variance_explained</td><td>▁▂▅▆▆▇▇▇████████████</td></tr><tr><td>val/cl1_frac_variance_explained</td><td>▁▂▄▆▆▇▇▇▇█▇█████████</td></tr><tr><td>val/frac_deads</td><td>▁▇▇▇▇███████████████</td></tr><tr><td>val/frac_variance_explained</td><td>▁▂▄▆▆▇▇▇▇███████████</td></tr><tr><td>val/l0</td><td>█▁▁▁▁▁▁▁▁▁▁▁▁▁▁▁▁▁▁▁</td></tr><tr><td>val/num_specific_latents_l0</td><td>▁▁▁▁▁▁▁▁▁▁▁▁▁▁▁▁▁▁▁▁</td></tr><tr><td>val/num_specific_latents_l1</td><td>▁▁▁▁▁▁▁▁▁▁▁▁▁▁▁▁▁▁▁▁</td></tr></table><br/></div><div class=\"wandb-col\"><h3>Run summary:</h3><br/><table class=\"wandb\"><tr><td>step</td><td>19999</td></tr><tr><td>train/auxk_loss</td><td>1.02315</td></tr><tr><td>train/cl0_frac_variance_explained</td><td>0.96688</td></tr><tr><td>train/cl1_frac_variance_explained</td><td>0.96395</td></tr><tr><td>train/effective_l0</td><td>10</td></tr><tr><td>train/frac_deads</td><td>0.61328</td></tr><tr><td>train/frac_variance_explained</td><td>0.96556</td></tr><tr><td>train/l0</td><td>10</td></tr><tr><td>train/l2_loss</td><td>73.90965</td></tr><tr><td>train/loss</td><td>73.94163</td></tr><tr><td>train/mse_loss</td><td>7460.65771</td></tr><tr><td>train/pre_norm_auxk_loss</td><td>14921.31445</td></tr><tr><td>train/running_deads</td><td>27</td></tr><tr><td>train/sparsity_weight</td><td>1.9298</td></tr><tr><td>train/threshold</td><td>35.4895</td></tr><tr><td>trainthres/auxk_loss</td><td>1.02324</td></tr><tr><td>trainthres/cl0_frac_variance_explained</td><td>0.96658</td></tr><tr><td>trainthres/cl1_frac_variance_explained</td><td>0.96372</td></tr><tr><td>trainthres/effective_l0</td><td>10</td></tr><tr><td>trainthres/frac_deads</td><td>0.61523</td></tr><tr><td>trainthres/frac_variance_explained</td><td>0.96529</td></tr><tr><td>trainthres/l0</td><td>9.84375</td></tr><tr><td>trainthres/l2_loss</td><td>74.18502</td></tr><tr><td>trainthres/loss</td><td>74.217</td></tr><tr><td>trainthres/mse_loss</td><td>7519.44336</td></tr><tr><td>trainthres/pre_norm_auxk_loss</td><td>15038.88672</td></tr><tr><td>trainthres/running_deads</td><td>27</td></tr><tr><td>trainthres/sparsity_weight</td><td>1.9298</td></tr><tr><td>trainthres/threshold</td><td>35.4895</td></tr><tr><td>val/cl0_frac_variance_explained</td><td>0.92619</td></tr><tr><td>val/cl1_frac_variance_explained</td><td>0.91417</td></tr><tr><td>val/frac_deads</td><td>0.34375</td></tr><tr><td>val/frac_variance_explained</td><td>0.92071</td></tr><tr><td>val/l0</td><td>12.36916</td></tr><tr><td>val/num_specific_latents_l0</td><td>0</td></tr><tr><td>val/num_specific_latents_l1</td><td>0</td></tr></table><br/></div></div>"
      ],
      "text/plain": [
       "<IPython.core.display.HTML object>"
      ]
     },
     "metadata": {},
     "output_type": "display_data"
    },
    {
     "data": {
      "text/html": [
       " View run <strong style=\"color:#cdcd00\">experiment_2_strong_model_finetuned_model_2025-06-03-21-05L3-k1.0e+01-lr1e-03</strong> at: <a href='https://wandb.ai/benwilop-rwth-aachen-university/crosscoder/runs/ntwrhqim' target=\"_blank\">https://wandb.ai/benwilop-rwth-aachen-university/crosscoder/runs/ntwrhqim</a><br> View project at: <a href='https://wandb.ai/benwilop-rwth-aachen-university/crosscoder' target=\"_blank\">https://wandb.ai/benwilop-rwth-aachen-university/crosscoder</a><br>Synced 5 W&B file(s), 0 media file(s), 0 artifact file(s) and 0 other file(s)"
      ],
      "text/plain": [
       "<IPython.core.display.HTML object>"
      ]
     },
     "metadata": {},
     "output_type": "display_data"
    },
    {
     "data": {
      "text/html": [
       "Find logs at: <code>./wandb/run-20250603_210509-ntwrhqim/logs</code>"
      ],
      "text/plain": [
       "<IPython.core.display.HTML object>"
      ]
     },
     "metadata": {},
     "output_type": "display_data"
    }
   ],
   "source": [
    "layer = 3  # 0 indexed\n",
    "\n",
    "model_0_name = \"strong_model\"\n",
    "model_1_name = \"finetuned_model\"\n",
    "\n",
    "train_activations_stor_dir_model_0 = get_activations_path(\n",
    "    Goal.STRONG_GOAL, None, strong_model_size, index, crosscoder_folder, \"train\"\n",
    ")\n",
    "val_activations_stor_dir_model_0 = get_activations_path(\n",
    "    Goal.STRONG_GOAL, None, strong_model_size, index, crosscoder_folder, \"val\"\n",
    ")\n",
    "train_activations_stor_dir_model_1 = get_activations_path(\n",
    "    None, weak_model_size, strong_model_size, index, crosscoder_folder, \"train\"\n",
    ")\n",
    "val_activations_stor_dir_model_1 = get_activations_path(\n",
    "    None, weak_model_size, strong_model_size, index, crosscoder_folder, \"val\"\n",
    ")\n",
    "training_cfg_cross_coder = get_training_cfg_cross_coder()\n",
    "train_crosscoder(\n",
    "    model_0_name,\n",
    "    model_1_name,\n",
    "    index,\n",
    "    train_activations_stor_dir_model_0 + f\"/layer_{layer}_out\",\n",
    "    val_activations_stor_dir_model_0 + f\"/layer_{layer}_out\",\n",
    "    train_activations_stor_dir_model_1 + f\"/layer_{layer}_out\",\n",
    "    val_activations_stor_dir_model_1 + f\"/layer_{layer}_out\",\n",
    "    layer,\n",
    "    training_cfg_cross_coder,\n",
    "    WANDB_ENTITIY,\n",
    "    DEVICE,\n",
    "    crosscoder_folder,\n",
    ")"
   ]
  },
  {
   "cell_type": "code",
   "execution_count": 7,
   "metadata": {},
   "outputs": [
    {
     "ename": "Exception",
     "evalue": "",
     "output_type": "error",
     "traceback": [
      "\u001b[0;31m---------------------------------------------------------------------------\u001b[0m",
      "\u001b[0;31mException\u001b[0m                                 Traceback (most recent call last)",
      "Cell \u001b[0;32mIn[7], line 1\u001b[0m\n\u001b[0;32m----> 1\u001b[0m \u001b[38;5;28;01mraise\u001b[39;00m \u001b[38;5;167;01mException\u001b[39;00m()\n",
      "\u001b[0;31mException\u001b[0m: "
     ]
    }
   ],
   "source": [
    "raise Exception()"
   ]
  },
  {
   "cell_type": "code",
   "execution_count": null,
   "metadata": {},
   "outputs": [
    {
     "name": "stdout",
     "output_type": "stream",
     "text": [
      "File not found. Creating new CrosscoderMetrics ...\n"
     ]
    }
   ],
   "source": [
    "# save_dir = \"/homes/55/bwilop/wsg/experiments/tictactoe/crosscoder/checkpoints/experiment_2_strong_model_finetuned_model_2025-05-31-10-35\"\n",
    "# save_dir = \"/homes/55/bwilop/wsg/experiments/tictactoe/crosscoder/checkpoints/experiment_2_strong_model_finetuned_model_2025-06-03-11-28\"\n",
    "# save_dir = \"/homes/55/bwilop/wsg/experiments/tictactoe/crosscoder/checkpoints/experiment_2_strong_model_finetuned_model_2025-06-03-17-28\"\n",
    "\n",
    "# Layer 0\n",
    "# save_dir = \"/homes/55/bwilop/wsg/experiments/tictactoe/crosscoder/checkpoints/experiment_2_strong_model_finetuned_model_2025-06-03-19-56\"\n",
    "# Layer 3\n",
    "save_dir = \"/homes/55/bwilop/wsg/experiments/tictactoe/crosscoder/checkpoints/experiment_2_strong_model_finetuned_model_2025-06-03-21-05\"\n",
    "# Layer 5\n",
    "# save_dir = \"/homes/55/bwilop/wsg/experiments/tictactoe/crosscoder/checkpoints/experiment_2_strong_model_finetuned_model_2025-06-03-19-11\"\n",
    "\n",
    "crosscoder_metrics = CrosscoderMetrics.cache(save_dir, DEVICE, overwrite=True)\n",
    "# crosscoder_metrics = CrosscoderMetrics(save_dir, DEVICE)"
   ]
  },
  {
   "cell_type": "code",
   "execution_count": null,
   "metadata": {},
   "outputs": [
    {
     "name": "stdout",
     "output_type": "stream",
     "text": [
      "Pre-computing model predictions for all features. This may take a while...\n"
     ]
    },
    {
     "data": {
      "application/vnd.jupyter.widget-view+json": {
       "model_id": "d3d076ed6c0f4ae4a2d786a82d2589b2",
       "version_major": 2,
       "version_minor": 0
      },
      "text/plain": [
       "Pre-computing predictions:   0%|          | 0/512 [00:00<?, ?it/s]"
      ]
     },
     "metadata": {},
     "output_type": "display_data"
    },
    {
     "name": "stdout",
     "output_type": "stream",
     "text": [
      "Saving computed predictions to /homes/55/bwilop/wsg/experiments/tictactoe/crosscoder/checkpoints/experiment_2_strong_model_finetuned_model_2025-06-03-19-56/crosscoder_metrics_model_predictions.pkl...\n"
     ]
    }
   ],
   "source": [
    "predictions = crosscoder_metrics._get_or_compute_model_predictions(\n",
    "    weak_model, strong_model, finetuned_model\n",
    ")"
   ]
  },
  {
   "cell_type": "code",
   "execution_count": null,
   "metadata": {},
   "outputs": [
    {
     "data": {
      "application/vnd.jupyter.widget-view+json": {
       "model_id": "3b299832a9d649da990d19688034126b",
       "version_major": 2,
       "version_minor": 0
      },
      "text/plain": [
       "VBox(children=(HBox(children=(IntSlider(value=0, description='Feature Index:', max=511), IntText(value=0, desc…"
      ]
     },
     "metadata": {},
     "output_type": "display_data"
    }
   ],
   "source": [
    "explorer = CrosscoderFeatureExplorer(crosscoder_metrics)\n",
    "explorer.display()\n",
    "# 24 -> complete X\n",
    "# 15, 21, 25, 37, 38  -> complete X or block O\n",
    "# 27, 30, 34 -> complete O or block X\n",
    "\n",
    "# 35"
   ]
  }
 ],
 "metadata": {
  "accelerator": "GPU",
  "colab": {
   "gpuType": "T4",
   "include_colab_link": true,
   "machine_shape": "hm",
   "provenance": []
  },
  "kernelspec": {
   "display_name": "uv_venv2",
   "language": "python",
   "name": "python3"
  },
  "language_info": {
   "codemirror_mode": {
    "name": "ipython",
    "version": 3
   },
   "file_extension": ".py",
   "mimetype": "text/x-python",
   "name": "python",
   "nbconvert_exporter": "python",
   "pygments_lexer": "ipython3",
   "version": "3.10.10"
  }
 },
 "nbformat": 4,
 "nbformat_minor": 0
}
