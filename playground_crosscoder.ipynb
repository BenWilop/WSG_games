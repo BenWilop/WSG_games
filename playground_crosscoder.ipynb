{
 "cells": [
  {
   "cell_type": "markdown",
   "metadata": {
    "colab_type": "text",
    "id": "view-in-github"
   },
   "source": [
    "<a href=\"https://colab.research.google.com/github/BenWilop/WSG_games/blob/main/playground_WSG_games.ipynb\" target=\"_parent\"><img src=\"https://colab.research.google.com/assets/colab-badge.svg\" alt=\"Open In Colab\"/></a>"
   ]
  },
  {
   "cell_type": "markdown",
   "metadata": {},
   "source": [
    "# Imports"
   ]
  },
  {
   "cell_type": "code",
   "execution_count": 1,
   "metadata": {
    "id": "V887fWJPBYKB"
   },
   "outputs": [
    {
     "name": "stderr",
     "output_type": "stream",
     "text": [
      "Failed to detect the name of this notebook, you can set it manually with the WANDB_NOTEBOOK_NAME environment variable to enable code saving.\n",
      "\u001b[34m\u001b[1mwandb\u001b[0m: Currently logged in as: \u001b[33mbenwilop\u001b[0m (\u001b[33mbenwilop-rwth-aachen-university\u001b[0m). Use \u001b[1m`wandb login --relogin`\u001b[0m to force relogin\n",
      "\u001b[34m\u001b[1mwandb\u001b[0m: \u001b[33mWARNING\u001b[0m If you're specifying your api key in code, ensure this code is not shared publicly.\n",
      "\u001b[34m\u001b[1mwandb\u001b[0m: \u001b[33mWARNING\u001b[0m Consider setting the WANDB_API_KEY environment variable, or running `wandb login` from the command line.\n",
      "\u001b[34m\u001b[1mwandb\u001b[0m: Appending key for api.wandb.ai to your netrc file: /homes/55/bwilop/.netrc\n"
     ]
    }
   ],
   "source": [
    "import dotenv\n",
    "import wandb\n",
    "import os\n",
    "\n",
    "dotenv.load_dotenv(os.path.join(\"/homes/55/bwilop/wsg/private/\", \"vscode-ssh.env\"))\n",
    "api_key = os.getenv(\"WANDB_API_KEY\")\n",
    "wandb.login(key=api_key)\n",
    "\n",
    "data_folder = \"/homes/55/bwilop/wsg/data/\"\n",
    "experiment_folder = \"/homes/55/bwilop/wsg/experiments/\""
   ]
  },
  {
   "cell_type": "code",
   "execution_count": null,
   "metadata": {
    "colab": {
     "base_uri": "https://localhost:8080/"
    },
    "id": "uV6cMqvSvaBY",
    "outputId": "ec9e34fb-4176-487f-e718-9b1a44238dfa"
   },
   "outputs": [
    {
     "name": "stdout",
     "output_type": "stream",
     "text": [
      "cuda\n"
     ]
    }
   ],
   "source": [
    "%load_ext autoreload\n",
    "%autoreload 2\n",
    "import json\n",
    "import torch as t\n",
    "from torch.utils.data import DataLoader, TensorDataset\n",
    "\n",
    "# from jaxtyping import Float\n",
    "import matplotlib.pyplot as plt\n",
    "\n",
    "from wsg_games.tictactoe.evals import *\n",
    "from wsg_games.tictactoe.data import *\n",
    "from wsg_games.tictactoe.game import *\n",
    "\n",
    "from wsg_games.tictactoe.analysis.analyse_data import *\n",
    "from wsg_games.tictactoe.analysis.visualize_game import *\n",
    "\n",
    "from wsg_games.tictactoe.train.create_models import *\n",
    "from wsg_games.tictactoe.train.save_load_models import *\n",
    "from wsg_games.tictactoe.train.train import *\n",
    "from wsg_games.tictactoe.train.finetune import *\n",
    "from wsg_games.tictactoe.train.pretrain import *\n",
    "\n",
    "DEVICE = t.device(\"cuda\" if t.cuda.is_available() else \"cpu\")\n",
    "print(DEVICE)"
   ]
  },
  {
   "cell_type": "markdown",
   "metadata": {
    "id": "x-WZi6lEq1sA"
   },
   "source": [
    "# Load Data & Models"
   ]
  },
  {
   "cell_type": "code",
   "execution_count": 3,
   "metadata": {
    "id": "FseGnVqe_00c"
   },
   "outputs": [
    {
     "name": "stdout",
     "output_type": "stream",
     "text": [
      "experiment_folder:  /homes/55/bwilop/wsg/experiments/\n",
      "project_name:  tictactoe/tictactoe_pretraining5\n",
      "/homes/55/bwilop/wsg/experiments/tictactoe/tictactoe_pretraining5\n",
      "Loading model from /homes/55/bwilop/wsg/experiments/tictactoe/tictactoe_pretraining5/experiment_2_small_weak_2025-05-16-16-35_ayyrg2xq.pkl\n",
      "Moving model to device:  cuda\n",
      "experiment_folder:  /homes/55/bwilop/wsg/experiments/\n",
      "project_name:  tictactoe/tictactoe_pretraining5\n",
      "/homes/55/bwilop/wsg/experiments/tictactoe/tictactoe_pretraining5\n",
      "Loading model from /homes/55/bwilop/wsg/experiments/tictactoe/tictactoe_pretraining5/experiment_2_medium_weak_2025-05-16-16-35_eif67e03.pkl\n",
      "Moving model to device:  cuda\n",
      "experiment_folder:  /homes/55/bwilop/wsg/experiments/\n",
      "project_name:  tictactoe/tictactoe_pretraining5\n",
      "/homes/55/bwilop/wsg/experiments/tictactoe/tictactoe_pretraining5\n",
      "Loading model from /homes/55/bwilop/wsg/experiments/tictactoe/tictactoe_pretraining5/experiment_2_medium_strong_2025-05-16-16-44_omyjjb73.pkl\n",
      "Moving model to device:  cuda\n",
      "Moving model to device:  cuda\n",
      "weak_model\n",
      "weak_loss:  0.9712896943092346\n",
      "strong_loss:  1.24258291721344\n",
      "strong_baseline_model\n",
      "weak_loss:  0.7484082579612732\n",
      "strong_loss:  1.4353753328323364\n",
      "strong_model\n",
      "weak_loss:  1.4618232250213623\n",
      "strong_loss:  0.716180145740509\n",
      "finetuned_model\n",
      "weak_loss:  0.8323054313659668\n",
      "strong_loss:  1.007196307182312\n",
      "Performance Gap Recovered (PGR):  0.6235793577993919\n"
     ]
    }
   ],
   "source": [
    "project_name_pretrain = \"tictactoe/tictactoe_pretraining5\"\n",
    "project_name_finetune = \"tictactoe/tictactoe_finetuning5\"\n",
    "weak_model_size = \"small\"\n",
    "strong_model_size = \"medium\"\n",
    "index = 2\n",
    "\n",
    "# Load data\n",
    "(\n",
    "    tictactoe_train_data,\n",
    "    tictactoe_weak_finetune_data,\n",
    "    tictactoe_val_data,\n",
    "    tictactoe_test_data,\n",
    ") = load_split_data(data_folder + \"tictactoe/\", device=DEVICE, index=index)\n",
    "\n",
    "# Load models\n",
    "weak_model = load_model(\n",
    "    project_name_pretrain,\n",
    "    weak_model_size,\n",
    "    Goal.WEAK_GOAL,\n",
    "    experiment_folder,\n",
    "    device=DEVICE,\n",
    "    index=index,\n",
    ")\n",
    "strong_baseline_model = load_model(\n",
    "    project_name_pretrain,\n",
    "    strong_model_size,\n",
    "    Goal.WEAK_GOAL,\n",
    "    experiment_folder,\n",
    "    device=DEVICE,\n",
    "    index=index,\n",
    ")\n",
    "strong_model = load_model(\n",
    "    project_name_pretrain,\n",
    "    strong_model_size,\n",
    "    Goal.STRONG_GOAL,\n",
    "    experiment_folder,\n",
    "    device=DEVICE,\n",
    "    index=index,\n",
    ")\n",
    "finetuned_model = load_finetuned_model(\n",
    "    project_name_finetune,\n",
    "    weak_model_size,\n",
    "    strong_model_size,\n",
    "    experiment_folder,\n",
    "    DEVICE,\n",
    "    index,\n",
    ")\n",
    "\n",
    "# Print evaluations\n",
    "(\n",
    "    weak_loss,\n",
    "    _,\n",
    ") = quick_evaluation(\"weak_model\", weak_model, tictactoe_test_data)\n",
    "strong_baseline_loss, _ = quick_evaluation(\n",
    "    \"strong_baseline_model\", strong_baseline_model, tictactoe_test_data\n",
    ")\n",
    "quick_evaluation(\"strong_model\", strong_model, tictactoe_test_data)\n",
    "weak_finetuned_loss, _ = quick_evaluation(\n",
    "    \"finetuned_model\", finetuned_model, tictactoe_test_data\n",
    ")\n",
    "print(\n",
    "    \"Performance Gap Recovered (PGR): \",\n",
    "    (weak_loss - weak_finetuned_loss) / (weak_loss - strong_baseline_loss),\n",
    ")"
   ]
  },
  {
   "cell_type": "code",
   "execution_count": null,
   "metadata": {},
   "outputs": [],
   "source": [
    "from dictionary_learning.dictionary_learning import CrossCoder\n",
    "from dictionary_learning.dictionary_learning.cache import (\n",
    "    PairedActivationCache,\n",
    "    ActivationCache,\n",
    "    ActivationShard,\n",
    ")\n",
    "import transformer_lens.utils as utils"
   ]
  },
  {
   "cell_type": "code",
   "execution_count": null,
   "metadata": {},
   "outputs": [],
   "source": [
    "def get_activations(\n",
    "    model,\n",
    "    tokenized_games: Float[Tensor, \"n_games game_length\"],\n",
    "    layer_i: int,\n",
    ") -> t.Tensor:\n",
    "    activation_hook_name = utils.get_act_name(\"resid_post\", layer_i)\n",
    "    model.eval()\n",
    "    _, cache = model.run_with_cache(tokenized_games)\n",
    "    layer_activations = cache[activation_hook_name]\n",
    "    return layer_activations"
   ]
  },
  {
   "cell_type": "code",
   "execution_count": 10,
   "metadata": {},
   "outputs": [
    {
     "name": "stdout",
     "output_type": "stream",
     "text": [
      "blocks.1.hook_resid_post\n"
     ]
    }
   ],
   "source": [
    "activation_hook_name = utils.get_act_name(\"resid_post\", 1)\n",
    "print(activation_hook_name)"
   ]
  },
  {
   "cell_type": "code",
   "execution_count": null,
   "metadata": {},
   "outputs": [],
   "source": [
    "# Train\n",
    "def get_paired_activations(\n",
    "    model_1,\n",
    "    model_2,\n",
    "    tictactoe_data: TicTacToeData,\n",
    "    layer_i: int,\n",
    "):\n",
    "    tokenized_games = tictactoe_data.games_data\n",
    "    activations_model_1 = rearrange(get_activations(model_1, tokenized_games, layer_i))\n",
    "    activations_model_2 = rearrange(get_activations(model_2, tokenized_games, layer_i))\n",
    "    paired_activations = t.stack((activations_model_1, activations_model_2), dim=1)\n",
    "    return paired_activations\n",
    "\n",
    "\n",
    "# train_paired_activations = get_paired_activations(\n",
    "#     strong_model, finetuned_model, tictactoe_test_data, 3\n",
    "# )  # Train crosscoder on unknown data\n",
    "# val_paired_activations = get_paired_activations(\n",
    "#     strong_model, finetuned_model, tictactoe_val_data, 3\n",
    "# )\n",
    "# print(\"train_paired_activations: \", train_paired_activations.shape)\n",
    "# print(\"val_paired_activations: \", val_paired_activations.shape)\n",
    "# train_dataset = TensorDataset(train_paired_activations)\n",
    "# validation_dataset = TensorDataset(val_paired_activations)"
   ]
  },
  {
   "cell_type": "code",
   "execution_count": 7,
   "metadata": {},
   "outputs": [],
   "source": [
    "def get_training_cfg_cross_coder():\n",
    "    training_cfg_cross_coder = {\n",
    "        \"learning_rate\": 1e-3,\n",
    "        \"max_steps\": 1000,\n",
    "        \"validate_every_n_steps\": 3,\n",
    "        \"batch_size\": 64,\n",
    "    }\n",
    "    return training_cfg_cross_coder\n",
    "\n",
    "\n",
    "# run_name\n",
    "# wandb-entity\n",
    "# disable-wandb\n",
    "# K=\n",
    "# n_workers\n",
    "# compile = False\n",
    "\n",
    "\n",
    "# def train_crosscoder(activations_model_1, activations_model_2, layer, ):"
   ]
  },
  {
   "cell_type": "code",
   "execution_count": null,
   "metadata": {},
   "outputs": [],
   "source": [
    "@th.no_grad()\n",
    "def create_data_shards(\n",
    "    games_data: Float[Tensor, \"n_games game_length\"],\n",
    "    model: HookedTransformer,\n",
    "    store_dir: str,\n",
    "    batch_size: int = 64,\n",
    "    shard_size: int = 10**6,\n",
    "    io: str = \"out\",\n",
    "    max_total_tokens: int = 10**8,\n",
    "    overwrite: bool = False,\n",
    "):\n",
    "    dataloader = DataLoader(games_data, batch_size=batch_size)\n",
    "    submodule_names = [f\"layer_{layer_i}\" for layer_i in range(model.n_layers)]\n",
    "\n",
    "    activation_cache = [[] for _ in range(submodule_names)]\n",
    "    store_dirs = [\n",
    "        os.path.join(store_dir, f\"{submodule_names[layer_i]}_{io}\")\n",
    "        for layer_i in range(len(submodule_names))\n",
    "    ]\n",
    "    for store_dir in store_dirs:\n",
    "        os.makedirs(store_dir, exist_ok=True)\n",
    "    total_size = 0\n",
    "    current_size = 0\n",
    "    shard_count = 0\n",
    "\n",
    "    # Check if shards already exist\n",
    "    if os.path.exists(os.path.join(store_dirs[0], \"shard_0.pt\")):\n",
    "        print(f\"Shards already exist in {store_dir}\")\n",
    "        if not overwrite:\n",
    "            print(\"Set overwrite=True to overwrite existing shards.\")\n",
    "            return\n",
    "        else:\n",
    "            print(\"Overwriting existing shards...\")\n",
    "\n",
    "    print(\"Collecting activations...\")\n",
    "    for games in tqdm(dataloader, desc=\"Collecting activations\"):\n",
    "        for layer_i in range(len(submodule_names)):\n",
    "            local_activations = rearrange(\n",
    "                get_activations(model, games, layer_i)\n",
    "            )  # (B x T) x D\n",
    "            activation_cache[i].append(local_activations)\n",
    "            current_size += activation_cache[0][-1].shape[0]\n",
    "\n",
    "        if current_size > shard_size:\n",
    "            print(f\"Storing shard {shard_count}...\", flush=True)\n",
    "            ActivationCache.collate_store_shards(\n",
    "                store_dirs,\n",
    "                shard_count,\n",
    "                activation_cache,\n",
    "                submodule_names,\n",
    "                shuffle_shards=False,\n",
    "                io=io,\n",
    "                multiprocessing=False,\n",
    "            )\n",
    "            shard_count += 1\n",
    "            total_size += current_size\n",
    "            current_size = 0\n",
    "            activation_cache = [[] for _ in range(submodule_names)]\n",
    "\n",
    "        if total_size > max_total_tokens:\n",
    "            print(\"Max total tokens reached. Stopping collection.\")\n",
    "            break\n",
    "\n",
    "    if current_size > 0:\n",
    "        ActivationCache.collate_store_shards(\n",
    "            store_dirs,\n",
    "            shard_count,\n",
    "            activation_cache,\n",
    "            submodule_names,\n",
    "            shuffle_shards=False,\n",
    "            io=io,\n",
    "            multiprocessing=False,\n",
    "        )\n",
    "\n",
    "    # store configs\n",
    "    for i, store_dir in enumerate(store_dirs):\n",
    "        with open(os.path.join(store_dir, \"config.json\"), \"w\") as f:\n",
    "            json.dump(\n",
    "                {\n",
    "                    \"batch_size\": batch_size,\n",
    "                    \"context_len\": -1,\n",
    "                    \"shard_size\": shard_size,\n",
    "                    \"d_model\": model.cfg.d_model,\n",
    "                    \"shuffle_shards\": False,\n",
    "                    \"io\": io,\n",
    "                    \"total_size\": total_size,\n",
    "                    \"shard_count\": shard_count,\n",
    "                    \"store_tokens\": False,\n",
    "                },\n",
    "            )\n",
    "    ActivationCache.cleanup_multiprocessing()\n",
    "    print(f\"Finished collecting activations. Total size: {total_size}\")"
   ]
  }
 ],
 "metadata": {
  "accelerator": "GPU",
  "colab": {
   "gpuType": "T4",
   "include_colab_link": true,
   "machine_shape": "hm",
   "provenance": []
  },
  "kernelspec": {
   "display_name": "Python (uv_venv2)",
   "language": "python",
   "name": "uv_venv2"
  },
  "language_info": {
   "codemirror_mode": {
    "name": "ipython",
    "version": 3
   },
   "file_extension": ".py",
   "mimetype": "text/x-python",
   "name": "python",
   "nbconvert_exporter": "python",
   "pygments_lexer": "ipython3",
   "version": "3.10.10"
  }
 },
 "nbformat": 4,
 "nbformat_minor": 0
}
