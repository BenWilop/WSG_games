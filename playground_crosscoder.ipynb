{
 "cells": [
  {
   "cell_type": "markdown",
   "metadata": {
    "colab_type": "text",
    "id": "view-in-github"
   },
   "source": [
    "<a href=\"https://colab.research.google.com/github/BenWilop/WSG_games/blob/main/playground_WSG_games.ipynb\" target=\"_parent\"><img src=\"https://colab.research.google.com/assets/colab-badge.svg\" alt=\"Open In Colab\"/></a>"
   ]
  },
  {
   "cell_type": "markdown",
   "metadata": {},
   "source": [
    "# Imports"
   ]
  },
  {
   "cell_type": "code",
   "execution_count": 1,
   "metadata": {
    "id": "V887fWJPBYKB"
   },
   "outputs": [
    {
     "name": "stderr",
     "output_type": "stream",
     "text": [
      "\u001b[34m\u001b[1mwandb\u001b[0m: \u001b[33mWARNING\u001b[0m If you're specifying your api key in code, ensure this code is not shared publicly.\n",
      "\u001b[34m\u001b[1mwandb\u001b[0m: \u001b[33mWARNING\u001b[0m Consider setting the WANDB_API_KEY environment variable, or running `wandb login` from the command line.\n",
      "\u001b[34m\u001b[1mwandb\u001b[0m: Appending key for api.wandb.ai to your netrc file: /homes/55/bwilop/.netrc\n",
      "\u001b[34m\u001b[1mwandb\u001b[0m: Currently logged in as: \u001b[33mbenwilop\u001b[0m (\u001b[33mbenwilop-rwth-aachen-university\u001b[0m) to \u001b[32mhttps://api.wandb.ai\u001b[0m. Use \u001b[1m`wandb login --relogin`\u001b[0m to force relogin\n"
     ]
    }
   ],
   "source": [
    "import dotenv\n",
    "import wandb\n",
    "import os\n",
    "\n",
    "dotenv.load_dotenv(os.path.join(\"/homes/55/bwilop/wsg/private/\", \"vscode-ssh.env\"))\n",
    "api_key = os.getenv(\"WANDB_API_KEY\")\n",
    "wandb.login(key=api_key)\n",
    "WANDB_ENTITIY = \"benwilop-rwth-aachen-university\"\n",
    "\n",
    "data_folder = \"/homes/55/bwilop/wsg/data/\"\n",
    "experiment_folder = \"/homes/55/bwilop/wsg/experiments/\"\n",
    "crosscoder_folder = experiment_folder + \"tictactoe/crosscoder/\""
   ]
  },
  {
   "cell_type": "code",
   "execution_count": 2,
   "metadata": {
    "colab": {
     "base_uri": "https://localhost:8080/"
    },
    "id": "uV6cMqvSvaBY",
    "outputId": "ec9e34fb-4176-487f-e718-9b1a44238dfa"
   },
   "outputs": [
    {
     "name": "stdout",
     "output_type": "stream",
     "text": [
      "cuda\n"
     ]
    }
   ],
   "source": [
    "%load_ext autoreload\n",
    "%autoreload 2\n",
    "import json\n",
    "import torch as t\n",
    "from torch.utils.data import DataLoader, TensorDataset\n",
    "import datetime\n",
    "\n",
    "# from jaxtyping import Float\n",
    "import matplotlib.pyplot as plt\n",
    "\n",
    "from wsg_games.tictactoe.evals import *\n",
    "from wsg_games.tictactoe.data import *\n",
    "from wsg_games.tictactoe.game import *\n",
    "\n",
    "from wsg_games.tictactoe.analysis.analyse_data import *\n",
    "from wsg_games.tictactoe.analysis.visualize_game import *\n",
    "\n",
    "from wsg_games.tictactoe.train.create_models import *\n",
    "from wsg_games.tictactoe.train.save_load_models import *\n",
    "from wsg_games.tictactoe.train.train import *\n",
    "from wsg_games.tictactoe.train.finetune import *\n",
    "from wsg_games.tictactoe.train.pretrain import *\n",
    "\n",
    "DEVICE = t.device(\"cuda\" if t.cuda.is_available() else \"cpu\")\n",
    "print(DEVICE)"
   ]
  },
  {
   "cell_type": "markdown",
   "metadata": {
    "id": "x-WZi6lEq1sA"
   },
   "source": [
    "# Load Data & Models"
   ]
  },
  {
   "cell_type": "code",
   "execution_count": 3,
   "metadata": {
    "id": "FseGnVqe_00c"
   },
   "outputs": [
    {
     "name": "stdout",
     "output_type": "stream",
     "text": [
      "experiment_folder:  /homes/55/bwilop/wsg/experiments/\n",
      "project_name:  tictactoe/tictactoe_pretraining5\n",
      "/homes/55/bwilop/wsg/experiments/tictactoe/tictactoe_pretraining5\n",
      "Loading model from /homes/55/bwilop/wsg/experiments/tictactoe/tictactoe_pretraining5/experiment_2_small_weak_2025-05-16-16-35_ayyrg2xq.pkl\n",
      "Moving model to device:  cuda\n",
      "experiment_folder:  /homes/55/bwilop/wsg/experiments/\n",
      "project_name:  tictactoe/tictactoe_pretraining5\n",
      "/homes/55/bwilop/wsg/experiments/tictactoe/tictactoe_pretraining5\n",
      "Loading model from /homes/55/bwilop/wsg/experiments/tictactoe/tictactoe_pretraining5/experiment_2_medium_weak_2025-05-16-16-35_eif67e03.pkl\n",
      "Moving model to device:  cuda\n",
      "experiment_folder:  /homes/55/bwilop/wsg/experiments/\n",
      "project_name:  tictactoe/tictactoe_pretraining5\n",
      "/homes/55/bwilop/wsg/experiments/tictactoe/tictactoe_pretraining5\n",
      "Loading model from /homes/55/bwilop/wsg/experiments/tictactoe/tictactoe_pretraining5/experiment_2_medium_strong_2025-05-16-16-44_omyjjb73.pkl\n",
      "Moving model to device:  cuda\n",
      "Moving model to device:  cuda\n",
      "weak_model\n",
      "weak_loss:  0.9701383709907532\n",
      "strong_loss:  1.2457000017166138\n",
      "strong_baseline_model\n",
      "weak_loss:  0.7481764554977417\n",
      "strong_loss:  1.4354438781738281\n",
      "strong_model\n",
      "weak_loss:  1.4585901498794556\n",
      "strong_loss:  0.7148150205612183\n",
      "finetuned_model\n",
      "weak_loss:  0.8343833684921265\n",
      "strong_loss:  1.0071916580200195\n",
      "Performance Gap Recovered (PGR):  0.6116139437573965\n"
     ]
    }
   ],
   "source": [
    "project_name_pretrain = \"tictactoe/tictactoe_pretraining5\"\n",
    "project_name_finetune = \"tictactoe/tictactoe_finetuning5\"\n",
    "weak_model_size = \"small\"\n",
    "strong_model_size = \"medium\"\n",
    "index = 2\n",
    "\n",
    "# Load data\n",
    "(\n",
    "    tictactoe_train_data,\n",
    "    tictactoe_weak_finetune_data,\n",
    "    tictactoe_val_data,\n",
    "    tictactoe_test_data,\n",
    ") = load_split_data(data_folder + \"tictactoe/\", device=DEVICE, index=index)\n",
    "\n",
    "# Load models\n",
    "weak_model = load_model(\n",
    "    project_name_pretrain,\n",
    "    weak_model_size,\n",
    "    Goal.WEAK_GOAL,\n",
    "    experiment_folder,\n",
    "    device=DEVICE,\n",
    "    index=index,\n",
    ")\n",
    "strong_baseline_model = load_model(\n",
    "    project_name_pretrain,\n",
    "    strong_model_size,\n",
    "    Goal.WEAK_GOAL,\n",
    "    experiment_folder,\n",
    "    device=DEVICE,\n",
    "    index=index,\n",
    ")\n",
    "strong_model = load_model(\n",
    "    project_name_pretrain,\n",
    "    strong_model_size,\n",
    "    Goal.STRONG_GOAL,\n",
    "    experiment_folder,\n",
    "    device=DEVICE,\n",
    "    index=index,\n",
    ")\n",
    "finetuned_model = load_finetuned_model(\n",
    "    project_name_finetune,\n",
    "    weak_model_size,\n",
    "    strong_model_size,\n",
    "    experiment_folder,\n",
    "    DEVICE,\n",
    "    index,\n",
    ")\n",
    "\n",
    "# Print evaluations\n",
    "(\n",
    "    weak_loss,\n",
    "    _,\n",
    ") = quick_evaluation(\"weak_model\", weak_model, tictactoe_test_data)\n",
    "strong_baseline_loss, _ = quick_evaluation(\n",
    "    \"strong_baseline_model\", strong_baseline_model, tictactoe_test_data\n",
    ")\n",
    "quick_evaluation(\"strong_model\", strong_model, tictactoe_test_data)\n",
    "weak_finetuned_loss, _ = quick_evaluation(\n",
    "    \"finetuned_model\", finetuned_model, tictactoe_test_data\n",
    ")\n",
    "print(\n",
    "    \"Performance Gap Recovered (PGR): \",\n",
    "    (weak_loss - weak_finetuned_loss) / (weak_loss - strong_baseline_loss),\n",
    ")"
   ]
  },
  {
   "cell_type": "code",
   "execution_count": 21,
   "metadata": {},
   "outputs": [],
   "source": [
    "from dictionary_learning.dictionary_learning import CrossCoder\n",
    "from dictionary_learning.dictionary_learning.dictionary import BatchTopKCrossCoder\n",
    "from dictionary_learning.dictionary_learning.trainers.crosscoder import (\n",
    "    CrossCoderTrainer,\n",
    ")\n",
    "from dictionary_learning.dictionary_learning.training import trainSAE\n",
    "from dictionary_learning.dictionary_learning.cache import (\n",
    "    PairedActivationCache,\n",
    "    ActivationCache,\n",
    "    ActivationShard,\n",
    ")\n",
    "import transformer_lens.utils as utils"
   ]
  },
  {
   "cell_type": "code",
   "execution_count": 5,
   "metadata": {},
   "outputs": [],
   "source": [
    "def get_activations(\n",
    "    model,\n",
    "    tokenized_games: Float[Tensor, \"n_games game_length\"],\n",
    "    layer_i: int,\n",
    ") -> t.Tensor:\n",
    "    activation_hook_name = utils.get_act_name(\"resid_post\", layer_i)\n",
    "    model.eval()\n",
    "    _, cache = model.run_with_cache(tokenized_games)\n",
    "    layer_activations = cache[activation_hook_name]\n",
    "    return layer_activations"
   ]
  },
  {
   "cell_type": "code",
   "execution_count": 6,
   "metadata": {},
   "outputs": [
    {
     "name": "stdout",
     "output_type": "stream",
     "text": [
      "blocks.1.hook_resid_post\n"
     ]
    }
   ],
   "source": [
    "activation_hook_name = utils.get_act_name(\"resid_post\", 1)\n",
    "print(activation_hook_name)"
   ]
  },
  {
   "cell_type": "code",
   "execution_count": 7,
   "metadata": {},
   "outputs": [],
   "source": [
    "@t.no_grad()\n",
    "def create_data_shards(\n",
    "    games_data: Float[Tensor, \"n_games game_length\"],\n",
    "    model: HookedTransformer,\n",
    "    store_dir: str,\n",
    "    batch_size: int = 64,\n",
    "    shard_size: int = 10**6,\n",
    "    max_total_tokens: int = 10**8,\n",
    "    overwrite: bool = False,\n",
    ") -> None:\n",
    "    dataloader = DataLoader(games_data, batch_size=batch_size)\n",
    "    io: str = \"out\"\n",
    "    submodule_names = [f\"layer_{layer_i}\" for layer_i in range(model.cfg.n_layers)]\n",
    "\n",
    "    activation_cache = [[] for _ in submodule_names]\n",
    "    store_dirs = [\n",
    "        os.path.join(store_dir, f\"{submodule_names[layer_i]}_{io}\")\n",
    "        for layer_i in range(len(submodule_names))\n",
    "    ]\n",
    "    for store_dir in store_dirs:\n",
    "        os.makedirs(store_dir, exist_ok=True)\n",
    "    total_size = 0\n",
    "    current_size = 0\n",
    "    shard_count = 0\n",
    "\n",
    "    # Check if shards already exist\n",
    "    if os.path.exists(os.path.join(store_dirs[0], \"shard_0.memmap\")):\n",
    "        print(f\"Shards already exist in {store_dir}\")\n",
    "        if not overwrite:\n",
    "            print(\"Set overwrite=True to overwrite existing shards.\")\n",
    "            return\n",
    "        else:\n",
    "            print(\"Overwriting existing shards...\")\n",
    "\n",
    "    print(\"Collecting activations...\")\n",
    "    for games in tqdm(dataloader, desc=\"Collecting activations\"):\n",
    "        for layer_i in range(len(submodule_names)):\n",
    "            local_activations = rearrange(\n",
    "                get_activations(model, games, layer_i)\n",
    "            )  # (B x T) x D\n",
    "            activation_cache[layer_i].append(local_activations.cpu())\n",
    "\n",
    "        current_size += activation_cache[0][-1].shape[0]\n",
    "        if current_size > shard_size:\n",
    "            print(f\"Storing shard {shard_count}...\", flush=True)\n",
    "            ActivationCache.collate_store_shards(\n",
    "                store_dirs,\n",
    "                shard_count,\n",
    "                activation_cache,\n",
    "                submodule_names,\n",
    "                shuffle_shards=True,\n",
    "                io=io,\n",
    "                multiprocessing=False,\n",
    "            )\n",
    "            shard_count += 1\n",
    "            total_size += current_size\n",
    "            current_size = 0\n",
    "            activation_cache = [[] for _ in submodule_names]\n",
    "\n",
    "        if total_size > max_total_tokens:\n",
    "            print(\"Max total tokens reached. Stopping collection.\")\n",
    "            break\n",
    "\n",
    "    if current_size > 0:\n",
    "        ActivationCache.collate_store_shards(\n",
    "            store_dirs,\n",
    "            shard_count,\n",
    "            activation_cache,\n",
    "            submodule_names,\n",
    "            shuffle_shards=True,\n",
    "            io=io,\n",
    "            multiprocessing=False,\n",
    "        )\n",
    "\n",
    "    # store configs\n",
    "    for i, store_dir in enumerate(store_dirs):\n",
    "        with open(os.path.join(store_dir, \"config.json\"), \"w\") as f:\n",
    "            json.dump(\n",
    "                {\n",
    "                    \"batch_size\": batch_size,\n",
    "                    \"context_len\": -1,\n",
    "                    \"shard_size\": shard_size,\n",
    "                    \"d_model\": model.cfg.d_model,\n",
    "                    \"shuffle_shards\": True,\n",
    "                    \"io\": io,\n",
    "                    \"total_size\": total_size,\n",
    "                    \"shard_count\": shard_count,\n",
    "                    \"store_tokens\": False,\n",
    "                },\n",
    "                f,\n",
    "            )\n",
    "    ActivationCache.cleanup_multiprocessing()\n",
    "    print(f\"Finished collecting activations. Total size: {total_size}\")"
   ]
  },
  {
   "cell_type": "code",
   "execution_count": 8,
   "metadata": {},
   "outputs": [],
   "source": [
    "def get_activations_path(\n",
    "    model_goal: Goal | None,\n",
    "    weak_model_size: str | None,\n",
    "    model_size: str,\n",
    "    index: int,\n",
    "    crosscoder_folder: str,\n",
    "    train_val: str,\n",
    ") -> str:\n",
    "    assert model_goal is None or weak_model_size is None\n",
    "    assert model_goal is not None or weak_model_size is not None\n",
    "    if weak_model_size:\n",
    "        postfix = \"finetuned_through_\" + weak_model_size\n",
    "    elif model_goal in [Goal.WEAK_GOAL, Goal.STRONG_GOAL]:\n",
    "        postfix = str(model_goal)\n",
    "    else:\n",
    "        raise ValueError(f\"Invalid activations model goal: {model_goal}\")\n",
    "    return os.path.join(\n",
    "        crosscoder_folder, \"activations\", f\"{index}_{model_size}_{postfix}_\" + train_val\n",
    "    )\n",
    "\n",
    "\n",
    "def compute_activations(\n",
    "    model_goal: Goal | None,\n",
    "    project_name_pretrain: str | None,\n",
    "    weak_model_size: str | None,\n",
    "    project_name_finetune: str | None,\n",
    "    model_size: str,\n",
    "    index: int,\n",
    "    crosscoder_folder: str,\n",
    "    tictactoe_test_data: Float[Tensor, \"n_games game_length\"],\n",
    "    tictactoe_val_data: Float[Tensor, \"n_games game_length\"],\n",
    "    experiment_folder: str,\n",
    ") -> None:\n",
    "    # Either finetuned or pretrained\n",
    "    bool_finetuned_model = (\n",
    "        project_name_finetune is not None and weak_model_size is not None\n",
    "    )\n",
    "    bool_pretrained_model = project_name_pretrain is not None and model_goal is not None\n",
    "    assert int(bool_finetuned_model) + int(bool_pretrained_model) == 1, (\n",
    "        f\"Finetuned XOR pretrained model must be provided.\"\n",
    "    )\n",
    "\n",
    "    # Models\n",
    "    if bool_finetuned_model:\n",
    "        model = load_finetuned_model(\n",
    "            project_name_finetune,\n",
    "            weak_model_size,\n",
    "            model_size,\n",
    "            experiment_folder,\n",
    "            DEVICE,\n",
    "            index,\n",
    "        )\n",
    "    else:\n",
    "        model = load_model(\n",
    "            project_name_pretrain,\n",
    "            model_size,\n",
    "            model_goal,\n",
    "            experiment_folder,\n",
    "            device=DEVICE,\n",
    "            index=index,\n",
    "        )\n",
    "\n",
    "    # Run\n",
    "    for train_val in [\"train\", \"val\"]:\n",
    "        if train_val == \"train\":\n",
    "            games_data = tictactoe_test_data\n",
    "        elif train_val == \"val\":\n",
    "            games_data = tictactoe_val_data\n",
    "        else:\n",
    "            raise ValueError(f\"Invalid train_val: {train_val}\")\n",
    "\n",
    "        activations_path = get_activations_path(\n",
    "            model_goal, weak_model_size, model_size, index, crosscoder_folder, train_val\n",
    "        )\n",
    "        create_data_shards(\n",
    "            games_data,\n",
    "            model,\n",
    "            store_dir=activations_path,\n",
    "            batch_size=64,\n",
    "            shard_size=10**5,\n",
    "            max_total_tokens=10**10,\n",
    "            overwrite=False,\n",
    "        )"
   ]
  },
  {
   "cell_type": "code",
   "execution_count": 9,
   "metadata": {},
   "outputs": [
    {
     "name": "stdout",
     "output_type": "stream",
     "text": [
      "experiment_folder:  /homes/55/bwilop/wsg/experiments/\n",
      "project_name:  tictactoe/tictactoe_pretraining5\n",
      "/homes/55/bwilop/wsg/experiments/tictactoe/tictactoe_pretraining5\n",
      "Loading model from /homes/55/bwilop/wsg/experiments/tictactoe/tictactoe_pretraining5/experiment_2_medium_strong_2025-05-16-16-44_omyjjb73.pkl\n",
      "Moving model to device:  cuda\n",
      "Shards already exist in /homes/55/bwilop/wsg/experiments/tictactoe/crosscoder/activations/2_medium_strong_train/layer_3_out\n",
      "Set overwrite=True to overwrite existing shards.\n",
      "Shards already exist in /homes/55/bwilop/wsg/experiments/tictactoe/crosscoder/activations/2_medium_strong_val/layer_3_out\n",
      "Set overwrite=True to overwrite existing shards.\n",
      "Moving model to device:  cuda\n",
      "Shards already exist in /homes/55/bwilop/wsg/experiments/tictactoe/crosscoder/activations/2_medium_finetuned_through_small_train/layer_3_out\n",
      "Set overwrite=True to overwrite existing shards.\n",
      "Shards already exist in /homes/55/bwilop/wsg/experiments/tictactoe/crosscoder/activations/2_medium_finetuned_through_small_val/layer_3_out\n",
      "Set overwrite=True to overwrite existing shards.\n"
     ]
    }
   ],
   "source": [
    "# Strong\n",
    "compute_activations(\n",
    "    Goal.STRONG_GOAL,\n",
    "    project_name_pretrain,\n",
    "    None,\n",
    "    None,\n",
    "    strong_model_size,\n",
    "    index,\n",
    "    crosscoder_folder,\n",
    "    tictactoe_test_data.games_data,\n",
    "    tictactoe_val_data.games_data,\n",
    "    experiment_folder,\n",
    ")\n",
    "\n",
    "# Finetuned\n",
    "compute_activations(\n",
    "    None,\n",
    "    None,\n",
    "    weak_model_size,\n",
    "    project_name_finetune,\n",
    "    strong_model_size,\n",
    "    index,\n",
    "    crosscoder_folder,\n",
    "    tictactoe_test_data.games_data,\n",
    "    tictactoe_val_data.games_data,\n",
    "    experiment_folder,\n",
    ")"
   ]
  },
  {
   "cell_type": "code",
   "execution_count": 10,
   "metadata": {},
   "outputs": [],
   "source": [
    "def multi_epoch_dataloader_iterator(dataloader: DataLoader, total_steps_to_yield: int):\n",
    "    \"\"\"\n",
    "    A generator that yields batches from a DataLoader repeatedly until\n",
    "    total_steps_to_yield is reached. Re-shuffles if dataloader.shuffle=True.\n",
    "    \"\"\"\n",
    "    # Edge cases\n",
    "    if total_steps_to_yield == 0:  # No steps\n",
    "        return\n",
    "    try:\n",
    "        if len(dataloader) == 0 and total_steps_to_yield > 0:  # Empty dataloader\n",
    "            print(\n",
    "                \"Warning: DataLoader is empty, but total_steps_to_yield > 0. No steps will run.\"\n",
    "            )\n",
    "            return\n",
    "    except TypeError:  # no __len__\n",
    "        pass\n",
    "\n",
    "    steps_yielded = 0\n",
    "    while steps_yielded < total_steps_to_yield:\n",
    "        num_batches_this_epoch = 0\n",
    "        for batch in dataloader:  # DataLoader shuffles here if its shuffle=True\n",
    "            if steps_yielded >= total_steps_to_yield:\n",
    "                return\n",
    "            yield batch\n",
    "            steps_yielded += 1\n",
    "            num_batches_this_epoch += 1\n",
    "\n",
    "        # Safeguard, if the dataloader gets empty for any reason, it would be an infinite loop otherwise\n",
    "        if num_batches_this_epoch == 0 and steps_yielded < total_steps_to_yield:\n",
    "            print(\"Warning: DataLoader became empty before all steps were yielded.\")\n",
    "            return"
   ]
  },
  {
   "cell_type": "code",
   "execution_count": 15,
   "metadata": {},
   "outputs": [],
   "source": [
    "def get_training_cfg_cross_coder():\n",
    "    training_cfg_cross_coder = {\n",
    "        \"learning_rate\": 1e-3,\n",
    "        \"max_steps\": 200000,\n",
    "        \"validate_every_n_steps\": 10000,\n",
    "        \"batch_size\": 64,\n",
    "        \"expansion_factor\": 32,\n",
    "        \"resample_steps\": None,  # int | None\n",
    "        \"mu\": 1e-1,\n",
    "    }\n",
    "    return training_cfg_cross_coder\n",
    "\n",
    "\n",
    "def train_crosscoder(\n",
    "    model_1_name: str,\n",
    "    model_2_name: str,\n",
    "    index: int,\n",
    "    train_activations_stor_dir_model_1: str,\n",
    "    val_activations_stor_dir_model_1: str,\n",
    "    train_activations_stor_dir_model_2: str,\n",
    "    val_activations_stor_dir_model_2: str,\n",
    "    layer: int,\n",
    "    training_cfg_cross_coder: dict,\n",
    "    wandb_entity: str,\n",
    ") -> None:\n",
    "    # Data (not loaded in memory yet)\n",
    "    train_dataset = PairedActivationCache(\n",
    "        train_activations_stor_dir_model_1,\n",
    "        train_activations_stor_dir_model_2,\n",
    "    )\n",
    "    train_dataloader = DataLoader(\n",
    "        train_dataset,\n",
    "        batch_size=training_cfg_cross_coder[\"batch_size\"],\n",
    "        shuffle=True,\n",
    "        num_workers=1,\n",
    "        pin_memory=True,\n",
    "    )\n",
    "    print(f\"Training on {len(train_dataset)} token activations.\")\n",
    "    val_dataset = PairedActivationCache(\n",
    "        val_activations_stor_dir_model_1,\n",
    "        val_activations_stor_dir_model_2,\n",
    "    )\n",
    "    val_dataloader = DataLoader(\n",
    "        val_dataset,\n",
    "        batch_size=1000,\n",
    "        shuffle=False,\n",
    "        num_workers=1,\n",
    "        pin_memory=True,\n",
    "    )\n",
    "    print(f\"Validating on {len(val_dataset)} token activations.\")\n",
    "\n",
    "    # Training config\n",
    "    activation_dim = train_dataset[0].shape[1]\n",
    "    dictionary_size = training_cfg_cross_coder[\"expansion_factor\"] * activation_dim\n",
    "    print(f\"Activation dim: {activation_dim}\")\n",
    "    print(f\"Dictionary size: {dictionary_size}\")\n",
    "    mu = training_cfg_cross_coder[\"mu\"]\n",
    "    lr = training_cfg_cross_coder[\"learning_rate\"]\n",
    "    timestamp = datetime.now().strftime(\"%Y-%m-%d-%H-%M\")\n",
    "    experiment_name = f\"experiment_{index}_{model_1_name}_{model_2_name}_{timestamp}\"\n",
    "    trainer_cfg = {\n",
    "        \"trainer\": CrossCoderTrainer,\n",
    "        \"dict_class\": CrossCoder,\n",
    "        \"activation_dim\": activation_dim,\n",
    "        \"dict_size\": dictionary_size,\n",
    "        \"lr\": lr,\n",
    "        \"resample_steps\": training_cfg_cross_coder[\"resample_steps\"],\n",
    "        \"device\": str(DEVICE),\n",
    "        \"warmup_steps\": 1000,\n",
    "        \"layer\": layer,\n",
    "        \"lm_name\": experiment_name,\n",
    "        \"compile\": True,\n",
    "        \"wandb_name\": experiment_name + f\"L{layer}-mu{mu:.1e}-lr{lr:.0e}\",\n",
    "        \"l1_penalty\": mu,\n",
    "        \"dict_class_kwargs\": {\n",
    "            \"same_init_for_all_layers\": True,\n",
    "            \"norm_init_scale\": 0.005,\n",
    "            \"init_with_transpose\": True,\n",
    "            \"encoder_layers\": None,\n",
    "        },\n",
    "        \"pretrained_ae\": None,\n",
    "    }\n",
    "\n",
    "    # train the sparse autoencoder (SAE)\n",
    "    wandb.finish()\n",
    "    max_steps = training_cfg_cross_coder[\"max_steps\"]\n",
    "    multi_epoch_train_dataloader = multi_epoch_dataloader_iterator(\n",
    "        train_dataloader, max_steps\n",
    "    )\n",
    "    ae = trainSAE(\n",
    "        data=multi_epoch_train_dataloader,\n",
    "        trainer_config=trainer_cfg,\n",
    "        validate_every_n_steps=training_cfg_cross_coder[\"validate_every_n_steps\"],\n",
    "        validation_data=val_dataloader,\n",
    "        use_wandb=True,\n",
    "        wandb_entity=wandb_entity,\n",
    "        wandb_project=\"crosscoder\",\n",
    "        log_steps=50,\n",
    "        save_dir=crosscoder_folder + \"checkpoints/\" + experiment_name,\n",
    "        steps=max_steps,\n",
    "        save_steps=None,\n",
    "    )"
   ]
  },
  {
   "cell_type": "code",
   "execution_count": 16,
   "metadata": {},
   "outputs": [
    {
     "name": "stdout",
     "output_type": "stream",
     "text": [
      "Training on 200704 token activations.\n",
      "Validating on 100352 token activations.\n",
      "Activation dim: 32\n",
      "Dictionary size: 1024\n"
     ]
    },
    {
     "data": {
      "text/html": [
       "creating run (0.0s)"
      ],
      "text/plain": [
       "<IPython.core.display.HTML object>"
      ]
     },
     "metadata": {},
     "output_type": "display_data"
    },
    {
     "data": {
      "text/html": [
       "Tracking run with wandb version 0.19.11"
      ],
      "text/plain": [
       "<IPython.core.display.HTML object>"
      ]
     },
     "metadata": {},
     "output_type": "display_data"
    },
    {
     "data": {
      "text/html": [
       "Run data is saved locally in <code>/homes/55/bwilop/wsg/WSG_games/wandb/run-20250523_145413-a3cairpn</code>"
      ],
      "text/plain": [
       "<IPython.core.display.HTML object>"
      ]
     },
     "metadata": {},
     "output_type": "display_data"
    },
    {
     "data": {
      "text/html": [
       "Syncing run <strong><a href='https://wandb.ai/benwilop-rwth-aachen-university/crosscoder/runs/a3cairpn' target=\"_blank\">experiment_2_strong_model_finetuned_model_2025-05-23-14-54L3-mu1.0e-01-lr1e-03</a></strong> to <a href='https://wandb.ai/benwilop-rwth-aachen-university/crosscoder' target=\"_blank\">Weights & Biases</a> (<a href='https://wandb.me/developer-guide' target=\"_blank\">docs</a>)<br>"
      ],
      "text/plain": [
       "<IPython.core.display.HTML object>"
      ]
     },
     "metadata": {},
     "output_type": "display_data"
    },
    {
     "data": {
      "text/html": [
       " View project at <a href='https://wandb.ai/benwilop-rwth-aachen-university/crosscoder' target=\"_blank\">https://wandb.ai/benwilop-rwth-aachen-university/crosscoder</a>"
      ],
      "text/plain": [
       "<IPython.core.display.HTML object>"
      ]
     },
     "metadata": {},
     "output_type": "display_data"
    },
    {
     "data": {
      "text/html": [
       " View run at <a href='https://wandb.ai/benwilop-rwth-aachen-university/crosscoder/runs/a3cairpn' target=\"_blank\">https://wandb.ai/benwilop-rwth-aachen-university/crosscoder/runs/a3cairpn</a>"
      ],
      "text/plain": [
       "<IPython.core.display.HTML object>"
      ]
     },
     "metadata": {},
     "output_type": "display_data"
    },
    {
     "name": "stderr",
     "output_type": "stream",
     "text": [
      "/homes/55/bwilop/wsg/WSG_games/dictionary_learning/dictionary_learning/training.py:239: UserWarning: Error saving config: 'generator' object has no attribute 'config'\n",
      "  warn(f\"Error saving config: {e}\")\n",
      "  5%|▍         | 9985/200000 [00:54<16:36, 190.70it/s]"
     ]
    },
    {
     "name": "stdout",
     "output_type": "stream",
     "text": [
      "Validating at step 10000\n"
     ]
    },
    {
     "name": "stderr",
     "output_type": "stream",
     "text": [
      "100%|██████████| 101/101 [00:07<00:00, 14.41it/s]\n",
      " 10%|▉         | 19986/200000 [01:57<15:47, 190.03it/s] "
     ]
    },
    {
     "name": "stdout",
     "output_type": "stream",
     "text": [
      "Validating at step 20000\n"
     ]
    },
    {
     "name": "stderr",
     "output_type": "stream",
     "text": [
      "100%|██████████| 101/101 [00:07<00:00, 14.17it/s]\n",
      " 15%|█▍        | 29989/200000 [03:01<14:12, 199.36it/s] "
     ]
    },
    {
     "name": "stdout",
     "output_type": "stream",
     "text": [
      "Validating at step 30000\n"
     ]
    },
    {
     "name": "stderr",
     "output_type": "stream",
     "text": [
      "100%|██████████| 101/101 [00:06<00:00, 14.96it/s]\n",
      " 20%|█▉        | 39997/200000 [04:03<17:51, 149.28it/s] "
     ]
    },
    {
     "name": "stdout",
     "output_type": "stream",
     "text": [
      "Validating at step 40000\n"
     ]
    },
    {
     "name": "stderr",
     "output_type": "stream",
     "text": [
      "100%|██████████| 101/101 [00:07<00:00, 14.08it/s]\n",
      " 25%|██▍       | 49990/200000 [05:05<12:59, 192.33it/s] "
     ]
    },
    {
     "name": "stdout",
     "output_type": "stream",
     "text": [
      "Validating at step 50000\n"
     ]
    },
    {
     "name": "stderr",
     "output_type": "stream",
     "text": [
      "100%|██████████| 101/101 [00:06<00:00, 14.45it/s]\n",
      " 30%|██▉       | 59988/200000 [06:05<12:28, 187.09it/s] "
     ]
    },
    {
     "name": "stdout",
     "output_type": "stream",
     "text": [
      "Validating at step 60000\n"
     ]
    },
    {
     "name": "stderr",
     "output_type": "stream",
     "text": [
      "100%|██████████| 101/101 [00:07<00:00, 14.13it/s]\n",
      " 35%|███▍      | 69996/200000 [07:06<10:43, 201.88it/s] "
     ]
    },
    {
     "name": "stdout",
     "output_type": "stream",
     "text": [
      "Validating at step 70000\n"
     ]
    },
    {
     "name": "stderr",
     "output_type": "stream",
     "text": [
      "100%|██████████| 101/101 [00:08<00:00, 11.74it/s]\n",
      " 40%|███▉      | 79990/200000 [08:09<10:36, 188.57it/s] "
     ]
    },
    {
     "name": "stdout",
     "output_type": "stream",
     "text": [
      "Validating at step 80000\n"
     ]
    },
    {
     "name": "stderr",
     "output_type": "stream",
     "text": [
      "100%|██████████| 101/101 [00:07<00:00, 13.15it/s]\n",
      " 45%|████▍     | 89989/200000 [09:11<09:34, 191.35it/s] "
     ]
    },
    {
     "name": "stdout",
     "output_type": "stream",
     "text": [
      "Validating at step 90000\n"
     ]
    },
    {
     "name": "stderr",
     "output_type": "stream",
     "text": [
      "100%|██████████| 101/101 [00:07<00:00, 14.26it/s]\n",
      " 50%|████▉     | 99997/200000 [10:12<08:53, 187.43it/s] "
     ]
    },
    {
     "name": "stdout",
     "output_type": "stream",
     "text": [
      "Validating at step 100000\n"
     ]
    },
    {
     "name": "stderr",
     "output_type": "stream",
     "text": [
      "100%|██████████| 101/101 [00:06<00:00, 14.85it/s]\n",
      " 55%|█████▍    | 109994/200000 [11:13<08:18, 180.45it/s] "
     ]
    },
    {
     "name": "stdout",
     "output_type": "stream",
     "text": [
      "Validating at step 110000\n"
     ]
    },
    {
     "name": "stderr",
     "output_type": "stream",
     "text": [
      "100%|██████████| 101/101 [00:06<00:00, 14.94it/s]\n",
      " 60%|█████▉    | 119990/200000 [12:13<07:01, 189.76it/s] "
     ]
    },
    {
     "name": "stdout",
     "output_type": "stream",
     "text": [
      "Validating at step 120000\n"
     ]
    },
    {
     "name": "stderr",
     "output_type": "stream",
     "text": [
      "100%|██████████| 101/101 [00:08<00:00, 11.78it/s]\n",
      " 65%|██████▌   | 130000/200000 [13:19<06:11, 188.18it/s] "
     ]
    },
    {
     "name": "stdout",
     "output_type": "stream",
     "text": [
      "Validating at step 130000\n"
     ]
    },
    {
     "name": "stderr",
     "output_type": "stream",
     "text": [
      "100%|██████████| 101/101 [00:07<00:00, 13.87it/s]\n",
      " 70%|██████▉   | 139998/200000 [14:21<05:18, 188.17it/s] "
     ]
    },
    {
     "name": "stdout",
     "output_type": "stream",
     "text": [
      "Validating at step 140000\n"
     ]
    },
    {
     "name": "stderr",
     "output_type": "stream",
     "text": [
      "100%|██████████| 101/101 [00:07<00:00, 13.52it/s]\n",
      " 75%|███████▍  | 149986/200000 [15:22<04:24, 188.75it/s] "
     ]
    },
    {
     "name": "stdout",
     "output_type": "stream",
     "text": [
      "Validating at step 150000\n"
     ]
    },
    {
     "name": "stderr",
     "output_type": "stream",
     "text": [
      "100%|██████████| 101/101 [00:08<00:00, 11.48it/s]\n",
      " 80%|███████▉  | 159981/200000 [16:25<04:43, 141.38it/s] "
     ]
    },
    {
     "name": "stdout",
     "output_type": "stream",
     "text": [
      "Validating at step 160000\n"
     ]
    },
    {
     "name": "stderr",
     "output_type": "stream",
     "text": [
      "100%|██████████| 101/101 [00:07<00:00, 13.54it/s]\n",
      " 85%|████████▍ | 169993/200000 [17:29<02:37, 190.95it/s] "
     ]
    },
    {
     "name": "stdout",
     "output_type": "stream",
     "text": [
      "Validating at step 170000\n"
     ]
    },
    {
     "name": "stderr",
     "output_type": "stream",
     "text": [
      "100%|██████████| 101/101 [00:07<00:00, 13.69it/s]\n",
      " 90%|████████▉ | 179992/200000 [18:31<01:41, 196.16it/s]"
     ]
    },
    {
     "name": "stdout",
     "output_type": "stream",
     "text": [
      "Validating at step 180000\n"
     ]
    },
    {
     "name": "stderr",
     "output_type": "stream",
     "text": [
      "100%|██████████| 101/101 [00:08<00:00, 12.05it/s]\n",
      " 95%|█████████▍| 189991/200000 [19:34<01:05, 152.30it/s]"
     ]
    },
    {
     "name": "stdout",
     "output_type": "stream",
     "text": [
      "Validating at step 190000\n"
     ]
    },
    {
     "name": "stderr",
     "output_type": "stream",
     "text": [
      "100%|██████████| 101/101 [00:07<00:00, 13.98it/s]\n",
      "100%|██████████| 200000/200000 [20:35<00:00, 161.85it/s]\n",
      "100%|██████████| 101/101 [00:07<00:00, 12.71it/s]\n"
     ]
    },
    {
     "data": {
      "text/html": [],
      "text/plain": [
       "<IPython.core.display.HTML object>"
      ]
     },
     "metadata": {},
     "output_type": "display_data"
    },
    {
     "data": {
      "text/html": [
       "<br>    <style><br>        .wandb-row {<br>            display: flex;<br>            flex-direction: row;<br>            flex-wrap: wrap;<br>            justify-content: flex-start;<br>            width: 100%;<br>        }<br>        .wandb-col {<br>            display: flex;<br>            flex-direction: column;<br>            flex-basis: 100%;<br>            flex: 1;<br>            padding: 10px;<br>        }<br>    </style><br><div class=\"wandb-row\"><div class=\"wandb-col\"><h3>Run history:</h3><br/><table class=\"wandb\"><tr><td>step</td><td>▁▁▁▁▂▂▂▂▂▃▃▃▄▄▄▅▅▅▅▅▅▅▆▆▆▆▆▆▆▇▇▇▇▇▇▇████</td></tr><tr><td>train/cl0_frac_variance_explained</td><td>▆▇▆▅▄▅▆▅▅▇▅▆▇▄▆▇▇▆▅▆▆▆█▆▆▆▅▇▄▇▆▅▇▆▇▅▆▁▆▆</td></tr><tr><td>train/cl1_frac_variance_explained</td><td>▁▄▄▅▆▅▆█▆▆▇▇▇▆▇▇▆▇▇▇█▇▆█▇▇▇▇█▆▆█▇▇▅▇▆▆▆█</td></tr><tr><td>train/frac_deads</td><td>▁▂▃▄▅▆▆▆▇▆▇▇▇▇▇▇▇▇▇▇▇▇█▇▇▇██▇▇███▇████▇█</td></tr><tr><td>train/frac_variance_explained</td><td>▃▁▄▃▆▇▇▇▇▇█▄▇▇▆▆▇▇▅▇▅▇▇█▇▇▆▇▇█▆▆▇▆▆▇▇▇▅▆</td></tr><tr><td>train/l0</td><td>█▅▅▃▃▃▂▂▂▂▂▂▂▂▂▁▂▁▁▁▁▁▁▁▁▁▁▁▁▁▁▁▁▁▁▁▁▁▁▁</td></tr><tr><td>train/l2_loss</td><td>▇▆▅▇▄▆▆▅▄█▄▃▂▅▇▄▅▃▅▆▄▃▃▄▅▁▆▄▁▄▂▂▃▃▄▂▄▂▄▅</td></tr><tr><td>train/loss</td><td>█▇▃▄▅▃▄▄▃▂▄▄▄▃▂▄▃▂▃▃▂▄▃▂▁▃▃▂▂▃▃▂▁▁▂▂▂▂▃▁</td></tr><tr><td>train/mse_loss</td><td>█▂▁▁▁▁▁▁▁▁▁▁▁▁▁▁▁▁▁▁▁▁▁▁▁▁▁▁▁▁▁▁▁▁▁▁▁▁▁▁</td></tr><tr><td>train/sparsity_loss</td><td>▅█▅▄▅▄▄▄▃▃▄▅▃▃▂▂▃▂▂▂▃▂▁▃▂▁▃▂▂▂▃▂▂▂▃▂▂▃▂▂</td></tr><tr><td>val/cl0_frac_variance_explained</td><td>█▆▆▅▅▅▄▃▃▂▃▂▃▂▂▁▂▁▁▁</td></tr><tr><td>val/cl1_frac_variance_explained</td><td>█▇▇▆▅▅▄▄▃▃▃▂▂▂▂▂▂▂▁▁</td></tr><tr><td>val/frac_deads</td><td>▁▆▇▇▇███████████████</td></tr><tr><td>val/frac_variance_explained</td><td>█▇▇▆▅▅▄▄▃▃▃▂▂▂▂▂▂▂▁▁</td></tr><tr><td>val/l0</td><td>█▅▄▃▃▂▂▂▂▂▁▁▁▁▁▁▁▁▁▁</td></tr><tr><td>val/num_specific_latents_l0</td><td>█▃▂▂▂▁▁▁▁▁▁▁▁▁▁▁▁▁▁▁</td></tr><tr><td>val/num_specific_latents_l1</td><td>▁▁██████████████████</td></tr></table><br/></div><div class=\"wandb-col\"><h3>Run summary:</h3><br/><table class=\"wandb\"><tr><td>step</td><td>199999</td></tr><tr><td>train/cl0_frac_variance_explained</td><td>0.98054</td></tr><tr><td>train/cl1_frac_variance_explained</td><td>0.98691</td></tr><tr><td>train/frac_deads</td><td>0.36914</td></tr><tr><td>train/frac_variance_explained</td><td>0.98355</td></tr><tr><td>train/l0</td><td>37.53125</td></tr><tr><td>train/l2_loss</td><td>6.51136</td></tr><tr><td>train/loss</td><td>21.39609</td></tr><tr><td>train/mse_loss</td><td>59.86386</td></tr><tr><td>train/sparsity_loss</td><td>148.84732</td></tr><tr><td>val/cl0_frac_variance_explained</td><td>0.94732</td></tr><tr><td>val/cl1_frac_variance_explained</td><td>0.72051</td></tr><tr><td>val/frac_deads</td><td>0.14746</td></tr><tr><td>val/frac_variance_explained</td><td>0.84829</td></tr><tr><td>val/l0</td><td>51.10347</td></tr><tr><td>val/num_specific_latents_l0</td><td>603</td></tr><tr><td>val/num_specific_latents_l1</td><td>300</td></tr></table><br/></div></div>"
      ],
      "text/plain": [
       "<IPython.core.display.HTML object>"
      ]
     },
     "metadata": {},
     "output_type": "display_data"
    },
    {
     "data": {
      "text/html": [
       " View run <strong style=\"color:#cdcd00\">experiment_2_strong_model_finetuned_model_2025-05-23-14-54L3-mu1.0e-01-lr1e-03</strong> at: <a href='https://wandb.ai/benwilop-rwth-aachen-university/crosscoder/runs/a3cairpn' target=\"_blank\">https://wandb.ai/benwilop-rwth-aachen-university/crosscoder/runs/a3cairpn</a><br> View project at: <a href='https://wandb.ai/benwilop-rwth-aachen-university/crosscoder' target=\"_blank\">https://wandb.ai/benwilop-rwth-aachen-university/crosscoder</a><br>Synced 5 W&B file(s), 0 media file(s), 0 artifact file(s) and 0 other file(s)"
      ],
      "text/plain": [
       "<IPython.core.display.HTML object>"
      ]
     },
     "metadata": {},
     "output_type": "display_data"
    },
    {
     "data": {
      "text/html": [
       "Find logs at: <code>./wandb/run-20250523_145413-a3cairpn/logs</code>"
      ],
      "text/plain": [
       "<IPython.core.display.HTML object>"
      ]
     },
     "metadata": {},
     "output_type": "display_data"
    }
   ],
   "source": [
    "layer = 3\n",
    "\n",
    "model_1_name = \"strong_model\"\n",
    "model_2_name = \"finetuned_model\"\n",
    "\n",
    "train_activations_stor_dir_model_1 = get_activations_path(\n",
    "    Goal.STRONG_GOAL, None, strong_model_size, index, crosscoder_folder, \"train\"\n",
    ")\n",
    "val_activations_stor_dir_model_1 = get_activations_path(\n",
    "    Goal.STRONG_GOAL, None, strong_model_size, index, crosscoder_folder, \"val\"\n",
    ")\n",
    "train_activations_stor_dir_model_2 = get_activations_path(\n",
    "    None, weak_model_size, strong_model_size, index, crosscoder_folder, \"train\"\n",
    ")\n",
    "val_activations_stor_dir_model_2 = get_activations_path(\n",
    "    None, weak_model_size, strong_model_size, index, crosscoder_folder, \"val\"\n",
    ")\n",
    "training_cfg_cross_coder = get_training_cfg_cross_coder()\n",
    "train_crosscoder(\n",
    "    model_1_name,\n",
    "    model_2_name,\n",
    "    index,\n",
    "    train_activations_stor_dir_model_1 + f\"/layer_{layer}_out\",\n",
    "    val_activations_stor_dir_model_1 + f\"/layer_{layer}_out\",\n",
    "    train_activations_stor_dir_model_2 + f\"/layer_{layer}_out\",\n",
    "    val_activations_stor_dir_model_2 + f\"/layer_{layer}_out\",\n",
    "    layer,\n",
    "    training_cfg_cross_coder,\n",
    "    WANDB_ENTITIY,\n",
    ")"
   ]
  },
  {
   "cell_type": "code",
   "execution_count": 24,
   "metadata": {},
   "outputs": [],
   "source": [
    "@dataclass\n",
    "class CrosscoderMetrics:\n",
    "    save_dir: str\n",
    "    config: dict\n",
    "    crosscoder: BatchTopKCrossCoder\n",
    "    delta_norms: Float[Tensor, \"n_activations\"]\n",
    "    beta_reconstruction_model_1: Float[Tensor, \"n_activations\"]\n",
    "    beta_reconstruction_model_2: Float[Tensor, \"n_activations\"]\n",
    "    beta_error_model_1: Float[Tensor, \"n_activations\"]\n",
    "    beta_error_model_2: Float[Tensor, \"n_activations\"]\n",
    "    nu_reconstruction: Float[Tensor, \"n_activations\"]\n",
    "    nu_error: Float[Tensor, \"n_activations\"]\n",
    "\n",
    "    def __init__(self, save_dir: str) -> None:\n",
    "        self.save_dir = save_dir\n",
    "        self.config = self.load_config(self.save_dir)\n",
    "        self.crosscoder = self.load_model(self.save_dir)\n",
    "        self.delta_norms = self.compute_delta_norms()\n",
    "        self.beta_reconstruction_model_1, self.beta_error_model_1 = self.compute_beta(\n",
    "            model_i=0, val_data_loader=self.val_data_loader\n",
    "        )\n",
    "        self.beta_reconstruction_model_2, self.beta_error_model_2 = self.compute_beta(\n",
    "            model_i=1, val_data_loader=self.val_data_loader\n",
    "        )\n",
    "        self.nu_reconstruction = (\n",
    "            self.beta_reconstruction_model_1 / self.beta_reconstruction_model_2\n",
    "        )\n",
    "        self.nu_error = self.beta_error_model_1 / self.beta_error_model_2\n",
    "        self.plot_delta_norms()\n",
    "        self.plot_betas()\n",
    "        self.plot_nu()\n",
    "\n",
    "    # Save + Load\n",
    "    def save(self, save_dir: str) -> None:\n",
    "        path = os.path.join(save_dir, \"crosscoder_metric.pt\")\n",
    "        with open(path, \"wb\") as f:\n",
    "            pickle.dump(self, f)\n",
    "\n",
    "    def _load_helper(path: str):\n",
    "        if os.path.exists(path):\n",
    "            with open(path, \"rb\") as f:\n",
    "                data = pickle.load(f)\n",
    "            return data\n",
    "        else:\n",
    "            raise FileNotFoundError(f\"File {path} not found.\")\n",
    "\n",
    "    @staticmethod\n",
    "    def load(save_dir: str):  # -> CrosscoderMetrics\n",
    "        path = os.path.join(save_dir, \"crosscoder_metric.pt\")\n",
    "        return CrosscoderMetrics._load_helper(path)\n",
    "\n",
    "    @staticmethod\n",
    "    def load_model(save_dir: str) -> CrossCoder:\n",
    "        path = os.path.join(save_dir, \"model_final.pt\")\n",
    "        return CrosscoderMetrics._load_helper(path)\n",
    "\n",
    "    @staticmethod\n",
    "    def load_config(save_dir: str) -> dict:\n",
    "        path = os.path.join(save_dir, \"config.json\")\n",
    "        if os.path.exists(path):\n",
    "            with open(path, \"r\") as f:\n",
    "                data = json.load(f)\n",
    "            return data.get(\"trainer\", {})\n",
    "        else:\n",
    "            raise FileNotFoundError(f\"File {path} not found.\")\n",
    "\n",
    "    def compute_delta_norms(\n",
    "        self, epsilon: float = 0.0001\n",
    "    ) -> Float[Tensor, \"n_activations\"]:\n",
    "        d_model_1_vectors = self.crosscoder.decoder.weight[0]\n",
    "        d_model_2_vectors = self.crosscoder.decoder.weight[1]\n",
    "        norm_sq_model1 = t.sum(d_model_1_vectors**2, dim=-1)\n",
    "        norm_sq_model2 = t.sum(d_model_2_vectors**2, dim=-1)\n",
    "        max_norms_sq = t.maximum(norm_sq_model1, norm_sq_model2)\n",
    "\n",
    "        delta_norms = 0.5 * (\n",
    "            (norm_sq_model2 - norm_sq_model1) / (max_norms_sq + epsilon) + 1.0\n",
    "        )\n",
    "        return delta_norms.cpu()\n",
    "\n",
    "    def compute_beta(\n",
    "        self, model_i: int, val_data_loader: DataLoader\n",
    "    ) -> tuple[Float[Tensor, \"n_activations\"], Float[Tensor, \"n_activations\"]]:\n",
    "        pass\n",
    "        # compute the beta reconstruction and error for model_i\n",
    "\n",
    "    def plot_delta_norms(\n",
    "        self, threshold_only: float = 0.1, threshold_shared: float = 0.1\n",
    "    ):  # -> matplotlib plot that can be easily added to another plot as a subplot\n",
    "        # Thresholds\n",
    "        threshold_model_1_only = threshold_only\n",
    "        threshold_model_2_only = 1 - threshold_only\n",
    "        threshold_shared_lower = 0.5 - threshold_shared\n",
    "        threshold_shared_upper = 0.5 + threshold_shared\n",
    "        assert (\n",
    "            threshold_model_1_only\n",
    "            < threshold_shared_lower\n",
    "            < threshold_shared_upper\n",
    "            < threshold_model_2_only\n",
    "        ), (\n",
    "            f\"Invalid thresholds: {threshold_model_1_only}, {threshold_shared_lower}, {threshold_shared_upper}, {threshold_model_2_only}\"\n",
    "        )\n",
    "\n",
    "        # Data\n",
    "        data_to_plot = self.deltas.numpy()\n",
    "        bins = np.linspace(0, 1, 101)  # 100 bins from 0 to 1, [0, 0.01, 0.02, ..., 1.0]\n",
    "\n",
    "        # Plot\n",
    "        fig, axes = plt.subplots(1, 2, figsize=(15, 6))\n",
    "        fig.suptitle(\n",
    "            f\"Histogram of Delta Norms (Features: {len(data_to_plot)})\", fontsize=16\n",
    "        )\n",
    "        titles = [\"Linear Y-Axis\", \"Logarithmic Y-Axis\"]\n",
    "        y_scales = [\"linear\", \"log\"]\n",
    "        for i, ax in enumerate(axes):\n",
    "            counts, _, patches = ax.hist(\n",
    "                data_to_plot, bins=bins, edgecolor=\"black\", alpha=0.7\n",
    "            )\n",
    "            bin_centers = (bins[:-1] + bins[1:]) / 2\n",
    "            for count, patch, bin_center in zip(counts, patches, bin_centers):\n",
    "                if bin_center <= threshold_model_1_only:\n",
    "                    patch.set_facecolor(\"green\")\n",
    "                elif bin_center >= threshold_model_2_only:\n",
    "                    patch.set_facecolor(\"lightblue\")\n",
    "                elif threshold_shared_lower <= bin_center <= threshold_shared_upper:\n",
    "                    patch.set_facecolor(\"orange\")\n",
    "                else:\n",
    "                    patch.set_facecolor(\"grey\")\n",
    "\n",
    "            ax.set_title(titles[i])\n",
    "            ax.set_xlabel(\"Delta Norm Value\")\n",
    "            ax.set_ylabel(\"Number of Features\")\n",
    "            ax.set_yscale(y_scales[i])\n",
    "            if y_scales[i] == \"log\":\n",
    "                ax.set_ylim(bottom=0.1)  # Avoid log(0)\n",
    "            ax.grid(True, linestyle=\"--\", alpha=0.6)\n",
    "\n",
    "        plt.tight_layout(rect=[0, 0, 1, 0.96])\n",
    "\n",
    "        # Save plot\n",
    "        filename = f\"delta_norms.png\"\n",
    "        if self.save_dir:\n",
    "            os.makedirs(self.save_dir, exist_ok=True)\n",
    "            save_path = os.path.join(self.save_dir, filename)\n",
    "            try:\n",
    "                fig.savefig(save_path)\n",
    "                print(f\"Delta norms plot saved to {save_path}\")\n",
    "            except Exception as e:\n",
    "                print(f\"Error saving plot: {e}\")\n",
    "\n",
    "        return fig, axes\n",
    "\n",
    "    def plot_betas(self):\n",
    "        pass\n",
    "        # Ignore for now\n",
    "\n",
    "    def plot_nu(self):\n",
    "        pass\n",
    "        # Ignore for now"
   ]
  },
  {
   "cell_type": "code",
   "execution_count": 25,
   "metadata": {},
   "outputs": [
    {
     "ename": "UnpicklingError",
     "evalue": "A load persistent id instruction was encountered,\nbut no persistent_load function was specified.",
     "output_type": "error",
     "traceback": [
      "\u001b[0;31m---------------------------------------------------------------------------\u001b[0m",
      "\u001b[0;31mUnpicklingError\u001b[0m                           Traceback (most recent call last)",
      "Cell \u001b[0;32mIn[25], line 2\u001b[0m\n\u001b[1;32m      1\u001b[0m save_dir \u001b[38;5;241m=\u001b[39m \u001b[38;5;124m\"\u001b[39m\u001b[38;5;124m/homes/55/bwilop/wsg/experiments/tictactoe/crosscoder/checkpoints/experiment_2_strong_model_finetuned_model_2025-05-23-14-54/\u001b[39m\u001b[38;5;124m\"\u001b[39m\n\u001b[0;32m----> 2\u001b[0m crosscoder_metrics \u001b[38;5;241m=\u001b[39m \u001b[43mCrosscoderMetrics\u001b[49m\u001b[43m(\u001b[49m\u001b[43msave_dir\u001b[49m\u001b[43m)\u001b[49m\n",
      "Cell \u001b[0;32mIn[24], line 17\u001b[0m, in \u001b[0;36mCrosscoderMetrics.__init__\u001b[0;34m(self, save_dir)\u001b[0m\n\u001b[1;32m     15\u001b[0m \u001b[38;5;28mself\u001b[39m\u001b[38;5;241m.\u001b[39msave_dir \u001b[38;5;241m=\u001b[39m save_dir\n\u001b[1;32m     16\u001b[0m \u001b[38;5;28mself\u001b[39m\u001b[38;5;241m.\u001b[39mconfig \u001b[38;5;241m=\u001b[39m \u001b[38;5;28mself\u001b[39m\u001b[38;5;241m.\u001b[39mload_config(\u001b[38;5;28mself\u001b[39m\u001b[38;5;241m.\u001b[39msave_dir)\n\u001b[0;32m---> 17\u001b[0m \u001b[38;5;28mself\u001b[39m\u001b[38;5;241m.\u001b[39mcrosscoder \u001b[38;5;241m=\u001b[39m \u001b[38;5;28;43mself\u001b[39;49m\u001b[38;5;241;43m.\u001b[39;49m\u001b[43mload_model\u001b[49m\u001b[43m(\u001b[49m\u001b[38;5;28;43mself\u001b[39;49m\u001b[38;5;241;43m.\u001b[39;49m\u001b[43msave_dir\u001b[49m\u001b[43m)\u001b[49m\n\u001b[1;32m     18\u001b[0m \u001b[38;5;28mself\u001b[39m\u001b[38;5;241m.\u001b[39mdelta_norms \u001b[38;5;241m=\u001b[39m \u001b[38;5;28mself\u001b[39m\u001b[38;5;241m.\u001b[39mcompute_delta_norms()\n\u001b[1;32m     19\u001b[0m \u001b[38;5;28mself\u001b[39m\u001b[38;5;241m.\u001b[39mbeta_reconstruction_model_1, \u001b[38;5;28mself\u001b[39m\u001b[38;5;241m.\u001b[39mbeta_error_model_1 \u001b[38;5;241m=\u001b[39m \u001b[38;5;28mself\u001b[39m\u001b[38;5;241m.\u001b[39mcompute_beta(\n\u001b[1;32m     20\u001b[0m     model_i\u001b[38;5;241m=\u001b[39m\u001b[38;5;241m0\u001b[39m, val_data_loader\u001b[38;5;241m=\u001b[39m\u001b[38;5;28mself\u001b[39m\u001b[38;5;241m.\u001b[39mval_data_loader\n\u001b[1;32m     21\u001b[0m )\n",
      "Cell \u001b[0;32mIn[24], line 53\u001b[0m, in \u001b[0;36mCrosscoderMetrics.load_model\u001b[0;34m(save_dir)\u001b[0m\n\u001b[1;32m     50\u001b[0m \u001b[38;5;129m@staticmethod\u001b[39m\n\u001b[1;32m     51\u001b[0m \u001b[38;5;28;01mdef\u001b[39;00m\u001b[38;5;250m \u001b[39m\u001b[38;5;21mload_model\u001b[39m(save_dir: \u001b[38;5;28mstr\u001b[39m) \u001b[38;5;241m-\u001b[39m\u001b[38;5;241m>\u001b[39m CrossCoder:\n\u001b[1;32m     52\u001b[0m     path \u001b[38;5;241m=\u001b[39m os\u001b[38;5;241m.\u001b[39mpath\u001b[38;5;241m.\u001b[39mjoin(save_dir, \u001b[38;5;124m\"\u001b[39m\u001b[38;5;124mmodel_final.pt\u001b[39m\u001b[38;5;124m\"\u001b[39m)\n\u001b[0;32m---> 53\u001b[0m     \u001b[38;5;28;01mreturn\u001b[39;00m \u001b[43mCrosscoderMetrics\u001b[49m\u001b[38;5;241;43m.\u001b[39;49m\u001b[43m_load_helper\u001b[49m\u001b[43m(\u001b[49m\u001b[43mpath\u001b[49m\u001b[43m)\u001b[49m\n",
      "Cell \u001b[0;32mIn[24], line 40\u001b[0m, in \u001b[0;36mCrosscoderMetrics._load_helper\u001b[0;34m(path)\u001b[0m\n\u001b[1;32m     38\u001b[0m \u001b[38;5;28;01mif\u001b[39;00m os\u001b[38;5;241m.\u001b[39mpath\u001b[38;5;241m.\u001b[39mexists(path):\n\u001b[1;32m     39\u001b[0m     \u001b[38;5;28;01mwith\u001b[39;00m \u001b[38;5;28mopen\u001b[39m(path, \u001b[38;5;124m\"\u001b[39m\u001b[38;5;124mrb\u001b[39m\u001b[38;5;124m\"\u001b[39m) \u001b[38;5;28;01mas\u001b[39;00m f:\n\u001b[0;32m---> 40\u001b[0m         data \u001b[38;5;241m=\u001b[39m \u001b[43mpickle\u001b[49m\u001b[38;5;241;43m.\u001b[39;49m\u001b[43mload\u001b[49m\u001b[43m(\u001b[49m\u001b[43mf\u001b[49m\u001b[43m)\u001b[49m\n\u001b[1;32m     41\u001b[0m     \u001b[38;5;28;01mreturn\u001b[39;00m data\n\u001b[1;32m     42\u001b[0m \u001b[38;5;28;01melse\u001b[39;00m:\n",
      "\u001b[0;31mUnpicklingError\u001b[0m: A load persistent id instruction was encountered,\nbut no persistent_load function was specified."
     ]
    }
   ],
   "source": [
    "save_dir = \"/homes/55/bwilop/wsg/experiments/tictactoe/crosscoder/checkpoints/experiment_2_strong_model_finetuned_model_2025-05-23-14-54/\"\n",
    "crosscoder_metrics = CrosscoderMetrics(save_dir)"
   ]
  },
  {
   "cell_type": "code",
   "execution_count": null,
   "metadata": {},
   "outputs": [],
   "source": []
  }
 ],
 "metadata": {
  "accelerator": "GPU",
  "colab": {
   "gpuType": "T4",
   "include_colab_link": true,
   "machine_shape": "hm",
   "provenance": []
  },
  "kernelspec": {
   "display_name": "Python (uv_venv2)",
   "language": "python",
   "name": "uv_venv2"
  },
  "language_info": {
   "codemirror_mode": {
    "name": "ipython",
    "version": 3
   },
   "file_extension": ".py",
   "mimetype": "text/x-python",
   "name": "python",
   "nbconvert_exporter": "python",
   "pygments_lexer": "ipython3",
   "version": "3.10.10"
  }
 },
 "nbformat": 4,
 "nbformat_minor": 0
}
