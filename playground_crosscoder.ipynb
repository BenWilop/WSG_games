{
 "cells": [
  {
   "cell_type": "markdown",
   "metadata": {
    "colab_type": "text",
    "id": "view-in-github"
   },
   "source": [
    "<a href=\"https://colab.research.google.com/github/BenWilop/WSG_games/blob/main/playground_WSG_games.ipynb\" target=\"_parent\"><img src=\"https://colab.research.google.com/assets/colab-badge.svg\" alt=\"Open In Colab\"/></a>"
   ]
  },
  {
   "cell_type": "markdown",
   "metadata": {},
   "source": [
    "# Imports"
   ]
  },
  {
   "cell_type": "code",
   "execution_count": 1,
   "metadata": {
    "id": "V887fWJPBYKB"
   },
   "outputs": [
    {
     "name": "stderr",
     "output_type": "stream",
     "text": [
      "\u001b[34m\u001b[1mwandb\u001b[0m: \u001b[33mWARNING\u001b[0m If you're specifying your api key in code, ensure this code is not shared publicly.\n",
      "\u001b[34m\u001b[1mwandb\u001b[0m: \u001b[33mWARNING\u001b[0m Consider setting the WANDB_API_KEY environment variable, or running `wandb login` from the command line.\n",
      "\u001b[34m\u001b[1mwandb\u001b[0m: Appending key for api.wandb.ai to your netrc file: /homes/55/bwilop/.netrc\n",
      "\u001b[34m\u001b[1mwandb\u001b[0m: Currently logged in as: \u001b[33mbenwilop\u001b[0m (\u001b[33mbenwilop-rwth-aachen-university\u001b[0m) to \u001b[32mhttps://api.wandb.ai\u001b[0m. Use \u001b[1m`wandb login --relogin`\u001b[0m to force relogin\n"
     ]
    }
   ],
   "source": [
    "import dotenv\n",
    "import wandb\n",
    "import os\n",
    "\n",
    "dotenv.load_dotenv(os.path.join(\"/homes/55/bwilop/wsg/private/\", \"vscode-ssh.env\"))\n",
    "api_key = os.getenv(\"WANDB_API_KEY\")\n",
    "wandb.login(key=api_key)\n",
    "WANDB_ENTITIY = \"benwilop-rwth-aachen-university\"\n",
    "\n",
    "data_folder = \"/homes/55/bwilop/wsg/data/\"\n",
    "experiment_folder = \"/homes/55/bwilop/wsg/experiments/\"\n",
    "crosscoder_folder = experiment_folder + \"tictactoe/crosscoder/\""
   ]
  },
  {
   "cell_type": "code",
   "execution_count": 2,
   "metadata": {
    "colab": {
     "base_uri": "https://localhost:8080/"
    },
    "id": "uV6cMqvSvaBY",
    "outputId": "ec9e34fb-4176-487f-e718-9b1a44238dfa"
   },
   "outputs": [
    {
     "name": "stdout",
     "output_type": "stream",
     "text": [
      "cuda\n"
     ]
    }
   ],
   "source": [
    "%load_ext autoreload\n",
    "%autoreload 2\n",
    "import json\n",
    "import torch as t\n",
    "\n",
    "from jaxtyping import Float\n",
    "import matplotlib.pyplot as plt\n",
    "\n",
    "from wsg_games.meta import *\n",
    "\n",
    "from wsg_games.tictactoe.evals import *\n",
    "from wsg_games.tictactoe.data import *\n",
    "from wsg_games.tictactoe.game import *\n",
    "\n",
    "from wsg_games.tictactoe.analysis.analyse_data import *\n",
    "from wsg_games.tictactoe.analysis.visualize_game import *\n",
    "\n",
    "from wsg_games.tictactoe.train.create_models import *\n",
    "from wsg_games.tictactoe.train.save_load_models import *\n",
    "from wsg_games.tictactoe.train.train import *\n",
    "from wsg_games.tictactoe.train.finetune import *\n",
    "from wsg_games.tictactoe.train.pretrain import *\n",
    "\n",
    "DEVICE = t.device(\"cuda\" if t.cuda.is_available() else \"cpu\")\n",
    "print(DEVICE)"
   ]
  },
  {
   "cell_type": "markdown",
   "metadata": {
    "id": "x-WZi6lEq1sA"
   },
   "source": [
    "# Load Data & Models"
   ]
  },
  {
   "cell_type": "code",
   "execution_count": 3,
   "metadata": {
    "id": "FseGnVqe_00c"
   },
   "outputs": [
    {
     "name": "stdout",
     "output_type": "stream",
     "text": [
      "experiment_folder:  /homes/55/bwilop/wsg/experiments/\n",
      "project_name:  tictactoe/tictactoe_pretraining5\n",
      "/homes/55/bwilop/wsg/experiments/tictactoe/tictactoe_pretraining5\n",
      "Loading model from /homes/55/bwilop/wsg/experiments/tictactoe/tictactoe_pretraining5/experiment_2_small_weak_2025-05-16-16-35_ayyrg2xq.pkl\n",
      "Moving model to device:  cuda\n",
      "experiment_folder:  /homes/55/bwilop/wsg/experiments/\n",
      "project_name:  tictactoe/tictactoe_pretraining5\n",
      "/homes/55/bwilop/wsg/experiments/tictactoe/tictactoe_pretraining5\n",
      "Loading model from /homes/55/bwilop/wsg/experiments/tictactoe/tictactoe_pretraining5/experiment_2_medium_weak_2025-05-16-16-35_eif67e03.pkl\n",
      "Moving model to device:  cuda\n",
      "experiment_folder:  /homes/55/bwilop/wsg/experiments/\n",
      "project_name:  tictactoe/tictactoe_pretraining5\n",
      "/homes/55/bwilop/wsg/experiments/tictactoe/tictactoe_pretraining5\n",
      "Loading model from /homes/55/bwilop/wsg/experiments/tictactoe/tictactoe_pretraining5/experiment_2_medium_strong_2025-05-16-16-44_omyjjb73.pkl\n",
      "Moving model to device:  cuda\n",
      "Moving model to device:  cuda\n",
      "weak_model\n",
      "weak_loss:  0.9401953816413879\n",
      "strong_loss:  1.105525016784668\n",
      "strong_baseline_model\n",
      "weak_loss:  0.7347724437713623\n",
      "strong_loss:  1.2347381114959717\n",
      "strong_model\n",
      "weak_loss:  1.2901314496994019\n",
      "strong_loss:  0.6982832551002502\n",
      "finetuned_model\n",
      "weak_loss:  0.7916118502616882\n",
      "strong_loss:  0.9129748940467834\n",
      "Performance Gap Recovered (PGR):  0.7233054542025432\n"
     ]
    }
   ],
   "source": [
    "project_name_pretrain = \"tictactoe/tictactoe_pretraining5\"\n",
    "project_name_finetune = \"tictactoe/tictactoe_finetuning5\"\n",
    "weak_model_size = \"small\"\n",
    "strong_model_size = \"medium\"\n",
    "index = 2\n",
    "\n",
    "# Load data\n",
    "(\n",
    "    tictactoe_train_data,\n",
    "    tictactoe_weak_finetune_data,\n",
    "    tictactoe_val_data,\n",
    "    tictactoe_test_data,\n",
    ") = load_split_data(data_folder + \"tictactoe/\", device=DEVICE, index=index)\n",
    "\n",
    "# Load models\n",
    "weak_model = load_model(\n",
    "    project_name_pretrain,\n",
    "    weak_model_size,\n",
    "    Goal.WEAK_GOAL,\n",
    "    experiment_folder,\n",
    "    device=DEVICE,\n",
    "    index=index,\n",
    ")\n",
    "strong_baseline_model = load_model(\n",
    "    project_name_pretrain,\n",
    "    strong_model_size,\n",
    "    Goal.WEAK_GOAL,\n",
    "    experiment_folder,\n",
    "    device=DEVICE,\n",
    "    index=index,\n",
    ")\n",
    "strong_model = load_model(\n",
    "    project_name_pretrain,\n",
    "    strong_model_size,\n",
    "    Goal.STRONG_GOAL,\n",
    "    experiment_folder,\n",
    "    device=DEVICE,\n",
    "    index=index,\n",
    ")\n",
    "finetuned_model = load_finetuned_model(\n",
    "    project_name_finetune,\n",
    "    weak_model_size,\n",
    "    strong_model_size,\n",
    "    experiment_folder,\n",
    "    DEVICE,\n",
    "    index,\n",
    ")\n",
    "\n",
    "# Print evaluations\n",
    "(\n",
    "    weak_loss,\n",
    "    _,\n",
    ") = quick_evaluation(\"weak_model\", weak_model, tictactoe_test_data)\n",
    "strong_baseline_loss, _ = quick_evaluation(\n",
    "    \"strong_baseline_model\", strong_baseline_model, tictactoe_test_data\n",
    ")\n",
    "quick_evaluation(\"strong_model\", strong_model, tictactoe_test_data)\n",
    "weak_finetuned_loss, _ = quick_evaluation(\n",
    "    \"finetuned_model\", finetuned_model, tictactoe_test_data\n",
    ")\n",
    "print(\n",
    "    \"Performance Gap Recovered (PGR): \",\n",
    "    (weak_loss - weak_finetuned_loss) / (weak_loss - strong_baseline_loss),\n",
    ")"
   ]
  },
  {
   "cell_type": "code",
   "execution_count": 10,
   "metadata": {},
   "outputs": [],
   "source": [
    "from dictionary_learning.dictionary_learning.cache import *\n",
    "from wsg_games.tictactoe.crosscoder.collect_activations import *\n",
    "from wsg_games.tictactoe.crosscoder.crosscoder_metrics import *\n",
    "from wsg_games.tictactoe.crosscoder.train_crosscoder import *"
   ]
  },
  {
   "cell_type": "code",
   "execution_count": 18,
   "metadata": {},
   "outputs": [
    {
     "name": "stdout",
     "output_type": "stream",
     "text": [
      "experiment_folder:  /homes/55/bwilop/wsg/experiments/\n",
      "project_name:  tictactoe/tictactoe_pretraining5\n",
      "/homes/55/bwilop/wsg/experiments/tictactoe/tictactoe_pretraining5\n",
      "Loading model from /homes/55/bwilop/wsg/experiments/tictactoe/tictactoe_pretraining5/experiment_2_medium_strong_2025-05-16-16-44_omyjjb73.pkl\n",
      "Moving model to device:  cuda\n",
      "Shards already exist in /homes/55/bwilop/wsg/experiments/tictactoe/crosscoder/activations/2_medium_strong_train\n",
      "Instead, you can set overwrite=True to overwrite existing shards.\n",
      "Shards already exist in /homes/55/bwilop/wsg/experiments/tictactoe/crosscoder/activations/2_medium_strong_val\n",
      "Instead, you can set overwrite=True to overwrite existing shards.\n",
      "Moving model to device:  cuda\n",
      "Shards already exist in /homes/55/bwilop/wsg/experiments/tictactoe/crosscoder/activations/2_medium_finetuned_through_small_train\n",
      "Instead, you can set overwrite=True to overwrite existing shards.\n",
      "Shards already exist in /homes/55/bwilop/wsg/experiments/tictactoe/crosscoder/activations/2_medium_finetuned_through_small_val\n",
      "Instead, you can set overwrite=True to overwrite existing shards.\n",
      "strong_train_activations_path /homes/55/bwilop/wsg/experiments/tictactoe/crosscoder/activations/2_medium_strong_train\n",
      "strong_val_activations_path: /homes/55/bwilop/wsg/experiments/tictactoe/crosscoder/activations/2_medium_strong_val\n",
      "finetuned_train_activations_path: /homes/55/bwilop/wsg/experiments/tictactoe/crosscoder/activations/2_medium_finetuned_through_small_train\n",
      "finetuned_val_activations_path: /homes/55/bwilop/wsg/experiments/tictactoe/crosscoder/activations/2_medium_finetuned_through_small_val\n"
     ]
    }
   ],
   "source": [
    "# Strong\n",
    "strong_train_activations_path, strong_val_activations_path = compute_activations(\n",
    "    Game.TICTACTOE,\n",
    "    Goal.STRONG_GOAL,\n",
    "    project_name_pretrain,\n",
    "    None,\n",
    "    None,\n",
    "    strong_model_size,\n",
    "    index,\n",
    "    crosscoder_folder,\n",
    "    tictactoe_test_data.games_data,\n",
    "    tictactoe_val_data.games_data,\n",
    "    experiment_folder,\n",
    "    device=DEVICE,\n",
    ")\n",
    "\n",
    "# Finetuned\n",
    "finetuned_train_activations_path, finetuned_val_activations_path = compute_activations(\n",
    "    Game.TICTACTOE,\n",
    "    None,\n",
    "    None,\n",
    "    weak_model_size,\n",
    "    project_name_finetune,\n",
    "    strong_model_size,\n",
    "    index,\n",
    "    crosscoder_folder,\n",
    "    tictactoe_test_data.games_data,\n",
    "    tictactoe_val_data.games_data,\n",
    "    experiment_folder,\n",
    "    device=DEVICE,\n",
    ")\n",
    "\n",
    "print(\"strong_train_activations_path\", strong_train_activations_path)\n",
    "print(\"strong_val_activations_path:\", strong_val_activations_path)\n",
    "print(\"finetuned_train_activations_path:\", finetuned_train_activations_path)\n",
    "print(\"finetuned_val_activations_path:\", finetuned_val_activations_path)\n",
    "\n",
    "# Verify\n",
    "\n",
    "for layer in range(4):\n",
    "    validate_activations(\n",
    "        [\n",
    "            strong_train_activations_path + f\"/layer_{layer}_out\",\n",
    "            finetuned_train_activations_path + f\"/layer_{layer}_out\",\n",
    "        ]\n",
    "    )\n",
    "    validate_activations(\n",
    "        [\n",
    "            strong_val_activations_path + f\"/layer_{layer}_out\",\n",
    "            finetuned_val_activations_path + f\"/layer_{layer}_out\",\n",
    "        ]\n",
    "    )"
   ]
  },
  {
   "cell_type": "code",
   "execution_count": 19,
   "metadata": {},
   "outputs": [
    {
     "name": "stdout",
     "output_type": "stream",
     "text": [
      "Training on 1107968 token activations.\n",
      "Validating on 553536 token activations.\n",
      "Activation dim: 32\n",
      "Dictionary size: 1024\n"
     ]
    },
    {
     "data": {
      "text/html": [
       "creating run (0.0s)"
      ],
      "text/plain": [
       "<IPython.core.display.HTML object>"
      ]
     },
     "metadata": {},
     "output_type": "display_data"
    },
    {
     "data": {
      "text/html": [
       "Tracking run with wandb version 0.19.11"
      ],
      "text/plain": [
       "<IPython.core.display.HTML object>"
      ]
     },
     "metadata": {},
     "output_type": "display_data"
    },
    {
     "data": {
      "text/html": [
       "Run data is saved locally in <code>/homes/55/bwilop/wsg/WSG_games/wandb/run-20250530_195746-y1i93whw</code>"
      ],
      "text/plain": [
       "<IPython.core.display.HTML object>"
      ]
     },
     "metadata": {},
     "output_type": "display_data"
    },
    {
     "data": {
      "text/html": [
       "Syncing run <strong><a href='https://wandb.ai/benwilop-rwth-aachen-university/crosscoder/runs/y1i93whw' target=\"_blank\">experiment_2_strong_model_finetuned_model_2025-05-30-19-57L3-k1.0e+01-lr1e-03</a></strong> to <a href='https://wandb.ai/benwilop-rwth-aachen-university/crosscoder' target=\"_blank\">Weights & Biases</a> (<a href='https://wandb.me/developer-guide' target=\"_blank\">docs</a>)<br>"
      ],
      "text/plain": [
       "<IPython.core.display.HTML object>"
      ]
     },
     "metadata": {},
     "output_type": "display_data"
    },
    {
     "data": {
      "text/html": [
       " View project at <a href='https://wandb.ai/benwilop-rwth-aachen-university/crosscoder' target=\"_blank\">https://wandb.ai/benwilop-rwth-aachen-university/crosscoder</a>"
      ],
      "text/plain": [
       "<IPython.core.display.HTML object>"
      ]
     },
     "metadata": {},
     "output_type": "display_data"
    },
    {
     "data": {
      "text/html": [
       " View run at <a href='https://wandb.ai/benwilop-rwth-aachen-university/crosscoder/runs/y1i93whw' target=\"_blank\">https://wandb.ai/benwilop-rwth-aachen-university/crosscoder/runs/y1i93whw</a>"
      ],
      "text/plain": [
       "<IPython.core.display.HTML object>"
      ]
     },
     "metadata": {},
     "output_type": "display_data"
    },
    {
     "name": "stderr",
     "output_type": "stream",
     "text": [
      "/homes/55/bwilop/wsg/WSG_games/dictionary_learning/dictionary_learning/training.py:239: UserWarning: Error saving config: 'generator' object has no attribute 'config'\n",
      "  warn(f\"Error saving config: {e}\")\n",
      "  0%|          | 0/20000 [00:00<?, ?it/s]\n"
     ]
    },
    {
     "ename": "IndexError",
     "evalue": "Caught IndexError in DataLoader worker process 0.\nOriginal Traceback (most recent call last):\n  File \"/homes/55/bwilop/wsg/WSG_games/uv_venv2/lib/python3.10/site-packages/torch/utils/data/_utils/worker.py\", line 349, in _worker_loop\n    data = fetcher.fetch(index)  # type: ignore[possibly-undefined]\n  File \"/homes/55/bwilop/wsg/WSG_games/uv_venv2/lib/python3.10/site-packages/torch/utils/data/_utils/fetch.py\", line 52, in fetch\n    data = [self.dataset[idx] for idx in possibly_batched_index]\n  File \"/homes/55/bwilop/wsg/WSG_games/uv_venv2/lib/python3.10/site-packages/torch/utils/data/_utils/fetch.py\", line 52, in <listcomp>\n    data = [self.dataset[idx] for idx in possibly_batched_index]\n  File \"/homes/55/bwilop/wsg/WSG_games/dictionary_learning/dictionary_learning/cache.py\", line 382, in __getitem__\n    (self.activation_cache_1[index], self.activation_cache_2[index]), dim=0\n  File \"/homes/55/bwilop/wsg/WSG_games/dictionary_learning/dictionary_learning/cache.py\", line 97, in __getitem__\n    shard = self.shards[shard_idx]\nIndexError: list index out of range\n",
     "output_type": "error",
     "traceback": [
      "\u001b[0;31m---------------------------------------------------------------------------\u001b[0m",
      "\u001b[0;31mIndexError\u001b[0m                                Traceback (most recent call last)",
      "Cell \u001b[0;32mIn[19], line 19\u001b[0m\n\u001b[1;32m     15\u001b[0m val_activations_stor_dir_model_1 \u001b[38;5;241m=\u001b[39m get_activations_path(\n\u001b[1;32m     16\u001b[0m     \u001b[38;5;28;01mNone\u001b[39;00m, weak_model_size, strong_model_size, index, crosscoder_folder, \u001b[38;5;124m\"\u001b[39m\u001b[38;5;124mval\u001b[39m\u001b[38;5;124m\"\u001b[39m\n\u001b[1;32m     17\u001b[0m )\n\u001b[1;32m     18\u001b[0m training_cfg_cross_coder \u001b[38;5;241m=\u001b[39m get_training_cfg_cross_coder()\n\u001b[0;32m---> 19\u001b[0m \u001b[43mtrain_crosscoder\u001b[49m\u001b[43m(\u001b[49m\n\u001b[1;32m     20\u001b[0m \u001b[43m    \u001b[49m\u001b[43mmodel_0_name\u001b[49m\u001b[43m,\u001b[49m\n\u001b[1;32m     21\u001b[0m \u001b[43m    \u001b[49m\u001b[43mmodel_1_name\u001b[49m\u001b[43m,\u001b[49m\n\u001b[1;32m     22\u001b[0m \u001b[43m    \u001b[49m\u001b[43mindex\u001b[49m\u001b[43m,\u001b[49m\n\u001b[1;32m     23\u001b[0m \u001b[43m    \u001b[49m\u001b[43mtrain_activations_stor_dir_model_0\u001b[49m\u001b[43m \u001b[49m\u001b[38;5;241;43m+\u001b[39;49m\u001b[43m \u001b[49m\u001b[38;5;124;43mf\u001b[39;49m\u001b[38;5;124;43m\"\u001b[39;49m\u001b[38;5;124;43m/layer_\u001b[39;49m\u001b[38;5;132;43;01m{\u001b[39;49;00m\u001b[43mlayer\u001b[49m\u001b[38;5;132;43;01m}\u001b[39;49;00m\u001b[38;5;124;43m_out\u001b[39;49m\u001b[38;5;124;43m\"\u001b[39;49m\u001b[43m,\u001b[49m\n\u001b[1;32m     24\u001b[0m \u001b[43m    \u001b[49m\u001b[43mval_activations_stor_dir_model_0\u001b[49m\u001b[43m \u001b[49m\u001b[38;5;241;43m+\u001b[39;49m\u001b[43m \u001b[49m\u001b[38;5;124;43mf\u001b[39;49m\u001b[38;5;124;43m\"\u001b[39;49m\u001b[38;5;124;43m/layer_\u001b[39;49m\u001b[38;5;132;43;01m{\u001b[39;49;00m\u001b[43mlayer\u001b[49m\u001b[38;5;132;43;01m}\u001b[39;49;00m\u001b[38;5;124;43m_out\u001b[39;49m\u001b[38;5;124;43m\"\u001b[39;49m\u001b[43m,\u001b[49m\n\u001b[1;32m     25\u001b[0m \u001b[43m    \u001b[49m\u001b[43mtrain_activations_stor_dir_model_1\u001b[49m\u001b[43m \u001b[49m\u001b[38;5;241;43m+\u001b[39;49m\u001b[43m \u001b[49m\u001b[38;5;124;43mf\u001b[39;49m\u001b[38;5;124;43m\"\u001b[39;49m\u001b[38;5;124;43m/layer_\u001b[39;49m\u001b[38;5;132;43;01m{\u001b[39;49;00m\u001b[43mlayer\u001b[49m\u001b[38;5;132;43;01m}\u001b[39;49;00m\u001b[38;5;124;43m_out\u001b[39;49m\u001b[38;5;124;43m\"\u001b[39;49m\u001b[43m,\u001b[49m\n\u001b[1;32m     26\u001b[0m \u001b[43m    \u001b[49m\u001b[43mval_activations_stor_dir_model_1\u001b[49m\u001b[43m \u001b[49m\u001b[38;5;241;43m+\u001b[39;49m\u001b[43m \u001b[49m\u001b[38;5;124;43mf\u001b[39;49m\u001b[38;5;124;43m\"\u001b[39;49m\u001b[38;5;124;43m/layer_\u001b[39;49m\u001b[38;5;132;43;01m{\u001b[39;49;00m\u001b[43mlayer\u001b[49m\u001b[38;5;132;43;01m}\u001b[39;49;00m\u001b[38;5;124;43m_out\u001b[39;49m\u001b[38;5;124;43m\"\u001b[39;49m\u001b[43m,\u001b[49m\n\u001b[1;32m     27\u001b[0m \u001b[43m    \u001b[49m\u001b[43mlayer\u001b[49m\u001b[43m,\u001b[49m\n\u001b[1;32m     28\u001b[0m \u001b[43m    \u001b[49m\u001b[43mtraining_cfg_cross_coder\u001b[49m\u001b[43m,\u001b[49m\n\u001b[1;32m     29\u001b[0m \u001b[43m    \u001b[49m\u001b[43mWANDB_ENTITIY\u001b[49m\u001b[43m,\u001b[49m\n\u001b[1;32m     30\u001b[0m \u001b[43m    \u001b[49m\u001b[43mDEVICE\u001b[49m\u001b[43m,\u001b[49m\n\u001b[1;32m     31\u001b[0m \u001b[43m    \u001b[49m\u001b[43mcrosscoder_folder\u001b[49m\u001b[43m,\u001b[49m\n\u001b[1;32m     32\u001b[0m \u001b[43m)\u001b[49m\n",
      "File \u001b[0;32m~/wsg/WSG_games/wsg_games/tictactoe/crosscoder/train_crosscoder.py:159\u001b[0m, in \u001b[0;36mtrain_crosscoder\u001b[0;34m(model_0_name, model_1_name, index, train_activations_stor_dir_model_0, val_activations_stor_dir_model_0, train_activations_stor_dir_model_1, val_activations_stor_dir_model_1, layer, training_cfg_cross_coder, wandb_entity, device, crosscoder_folder)\u001b[0m\n\u001b[1;32m    155\u001b[0m wandb\u001b[38;5;241m.\u001b[39mfinish()\n\u001b[1;32m    156\u001b[0m multi_epoch_train_dataloader \u001b[38;5;241m=\u001b[39m multi_epoch_dataloader_iterator(\n\u001b[1;32m    157\u001b[0m     train_dataloader, max_steps\n\u001b[1;32m    158\u001b[0m )\n\u001b[0;32m--> 159\u001b[0m \u001b[43mtrainSAE\u001b[49m\u001b[43m(\u001b[49m\n\u001b[1;32m    160\u001b[0m \u001b[43m    \u001b[49m\u001b[43mdata\u001b[49m\u001b[38;5;241;43m=\u001b[39;49m\u001b[43mmulti_epoch_train_dataloader\u001b[49m\u001b[43m,\u001b[49m\n\u001b[1;32m    161\u001b[0m \u001b[43m    \u001b[49m\u001b[43mtrainer_config\u001b[49m\u001b[38;5;241;43m=\u001b[39;49m\u001b[43mtrainer_cfg\u001b[49m\u001b[43m,\u001b[49m\n\u001b[1;32m    162\u001b[0m \u001b[43m    \u001b[49m\u001b[43mvalidate_every_n_steps\u001b[49m\u001b[38;5;241;43m=\u001b[39;49m\u001b[43mtraining_cfg_cross_coder\u001b[49m\u001b[43m[\u001b[49m\u001b[38;5;124;43m\"\u001b[39;49m\u001b[38;5;124;43mvalidate_every_n_steps\u001b[39;49m\u001b[38;5;124;43m\"\u001b[39;49m\u001b[43m]\u001b[49m\u001b[43m,\u001b[49m\n\u001b[1;32m    163\u001b[0m \u001b[43m    \u001b[49m\u001b[43mvalidation_data\u001b[49m\u001b[38;5;241;43m=\u001b[39;49m\u001b[43mval_dataloader\u001b[49m\u001b[43m,\u001b[49m\n\u001b[1;32m    164\u001b[0m \u001b[43m    \u001b[49m\u001b[43muse_wandb\u001b[49m\u001b[38;5;241;43m=\u001b[39;49m\u001b[38;5;28;43;01mTrue\u001b[39;49;00m\u001b[43m,\u001b[49m\n\u001b[1;32m    165\u001b[0m \u001b[43m    \u001b[49m\u001b[43mwandb_entity\u001b[49m\u001b[38;5;241;43m=\u001b[39;49m\u001b[43mwandb_entity\u001b[49m\u001b[43m,\u001b[49m\n\u001b[1;32m    166\u001b[0m \u001b[43m    \u001b[49m\u001b[43mwandb_project\u001b[49m\u001b[38;5;241;43m=\u001b[39;49m\u001b[38;5;124;43m\"\u001b[39;49m\u001b[38;5;124;43mcrosscoder\u001b[39;49m\u001b[38;5;124;43m\"\u001b[39;49m\u001b[43m,\u001b[49m\n\u001b[1;32m    167\u001b[0m \u001b[43m    \u001b[49m\u001b[43mlog_steps\u001b[49m\u001b[38;5;241;43m=\u001b[39;49m\u001b[38;5;241;43m50\u001b[39;49m\u001b[43m,\u001b[49m\n\u001b[1;32m    168\u001b[0m \u001b[43m    \u001b[49m\u001b[43msave_dir\u001b[49m\u001b[38;5;241;43m=\u001b[39;49m\u001b[43msave_dir\u001b[49m\u001b[43m,\u001b[49m\n\u001b[1;32m    169\u001b[0m \u001b[43m    \u001b[49m\u001b[43msteps\u001b[49m\u001b[38;5;241;43m=\u001b[39;49m\u001b[43mmax_steps\u001b[49m\u001b[43m,\u001b[49m\n\u001b[1;32m    170\u001b[0m \u001b[43m    \u001b[49m\u001b[43msave_steps\u001b[49m\u001b[38;5;241;43m=\u001b[39;49m\u001b[38;5;28;43;01mNone\u001b[39;49;00m\u001b[43m,\u001b[49m\n\u001b[1;32m    171\u001b[0m \u001b[43m\u001b[49m\u001b[43m)\u001b[49m\n",
      "File \u001b[0;32m~/wsg/WSG_games/dictionary_learning/dictionary_learning/training.py:244\u001b[0m, in \u001b[0;36mtrainSAE\u001b[0;34m(data, trainer_config, use_wandb, wandb_entity, wandb_project, steps, save_steps, save_dir, log_steps, activations_split_by_head, validate_every_n_steps, validation_data, transcoder, run_cfg, end_of_step_logging_fn, save_last_eval, start_of_training_eval, dtype)\u001b[0m\n\u001b[1;32m    241\u001b[0m     \u001b[38;5;28;01mwith\u001b[39;00m \u001b[38;5;28mopen\u001b[39m(os\u001b[38;5;241m.\u001b[39mpath\u001b[38;5;241m.\u001b[39mjoin(save_dir, \u001b[38;5;124m\"\u001b[39m\u001b[38;5;124mconfig.json\u001b[39m\u001b[38;5;124m\"\u001b[39m), \u001b[38;5;124m\"\u001b[39m\u001b[38;5;124mw\u001b[39m\u001b[38;5;124m\"\u001b[39m) \u001b[38;5;28;01mas\u001b[39;00m f:\n\u001b[1;32m    242\u001b[0m         json\u001b[38;5;241m.\u001b[39mdump(config, f, indent\u001b[38;5;241m=\u001b[39m\u001b[38;5;241m4\u001b[39m)\n\u001b[0;32m--> 244\u001b[0m \u001b[38;5;28;01mfor\u001b[39;00m step, act \u001b[38;5;129;01min\u001b[39;00m \u001b[38;5;28menumerate\u001b[39m(tqdm(data, total\u001b[38;5;241m=\u001b[39msteps)):\n\u001b[1;32m    245\u001b[0m     \u001b[38;5;28;01mif\u001b[39;00m steps \u001b[38;5;129;01mis\u001b[39;00m \u001b[38;5;129;01mnot\u001b[39;00m \u001b[38;5;28;01mNone\u001b[39;00m \u001b[38;5;129;01mand\u001b[39;00m step \u001b[38;5;241m>\u001b[39m\u001b[38;5;241m=\u001b[39m steps:\n\u001b[1;32m    246\u001b[0m         \u001b[38;5;28;01mbreak\u001b[39;00m\n",
      "File \u001b[0;32m~/wsg/WSG_games/uv_venv2/lib/python3.10/site-packages/tqdm/std.py:1181\u001b[0m, in \u001b[0;36mtqdm.__iter__\u001b[0;34m(self)\u001b[0m\n\u001b[1;32m   1178\u001b[0m time \u001b[38;5;241m=\u001b[39m \u001b[38;5;28mself\u001b[39m\u001b[38;5;241m.\u001b[39m_time\n\u001b[1;32m   1180\u001b[0m \u001b[38;5;28;01mtry\u001b[39;00m:\n\u001b[0;32m-> 1181\u001b[0m     \u001b[38;5;28;01mfor\u001b[39;00m obj \u001b[38;5;129;01min\u001b[39;00m iterable:\n\u001b[1;32m   1182\u001b[0m         \u001b[38;5;28;01myield\u001b[39;00m obj\n\u001b[1;32m   1183\u001b[0m         \u001b[38;5;66;03m# Update and possibly print the progressbar.\u001b[39;00m\n\u001b[1;32m   1184\u001b[0m         \u001b[38;5;66;03m# Note: does not call self.update(1) for speed optimisation.\u001b[39;00m\n",
      "File \u001b[0;32m~/wsg/WSG_games/wsg_games/tictactoe/crosscoder/train_crosscoder.py:40\u001b[0m, in \u001b[0;36mmulti_epoch_dataloader_iterator\u001b[0;34m(dataloader, total_steps_to_yield)\u001b[0m\n\u001b[1;32m     38\u001b[0m \u001b[38;5;28;01mwhile\u001b[39;00m steps_yielded \u001b[38;5;241m<\u001b[39m total_steps_to_yield:\n\u001b[1;32m     39\u001b[0m     num_batches_this_epoch \u001b[38;5;241m=\u001b[39m \u001b[38;5;241m0\u001b[39m\n\u001b[0;32m---> 40\u001b[0m     \u001b[38;5;28;01mfor\u001b[39;00m batch \u001b[38;5;129;01min\u001b[39;00m dataloader:  \u001b[38;5;66;03m# DataLoader shuffles here if its shuffle=True\u001b[39;00m\n\u001b[1;32m     41\u001b[0m         \u001b[38;5;28;01mif\u001b[39;00m steps_yielded \u001b[38;5;241m>\u001b[39m\u001b[38;5;241m=\u001b[39m total_steps_to_yield:\n\u001b[1;32m     42\u001b[0m             \u001b[38;5;28;01mreturn\u001b[39;00m\n",
      "File \u001b[0;32m~/wsg/WSG_games/uv_venv2/lib/python3.10/site-packages/torch/utils/data/dataloader.py:733\u001b[0m, in \u001b[0;36m_BaseDataLoaderIter.__next__\u001b[0;34m(self)\u001b[0m\n\u001b[1;32m    730\u001b[0m \u001b[38;5;28;01mif\u001b[39;00m \u001b[38;5;28mself\u001b[39m\u001b[38;5;241m.\u001b[39m_sampler_iter \u001b[38;5;129;01mis\u001b[39;00m \u001b[38;5;28;01mNone\u001b[39;00m:\n\u001b[1;32m    731\u001b[0m     \u001b[38;5;66;03m# TODO(https://github.com/pytorch/pytorch/issues/76750)\u001b[39;00m\n\u001b[1;32m    732\u001b[0m     \u001b[38;5;28mself\u001b[39m\u001b[38;5;241m.\u001b[39m_reset()  \u001b[38;5;66;03m# type: ignore[call-arg]\u001b[39;00m\n\u001b[0;32m--> 733\u001b[0m data \u001b[38;5;241m=\u001b[39m \u001b[38;5;28;43mself\u001b[39;49m\u001b[38;5;241;43m.\u001b[39;49m\u001b[43m_next_data\u001b[49m\u001b[43m(\u001b[49m\u001b[43m)\u001b[49m\n\u001b[1;32m    734\u001b[0m \u001b[38;5;28mself\u001b[39m\u001b[38;5;241m.\u001b[39m_num_yielded \u001b[38;5;241m+\u001b[39m\u001b[38;5;241m=\u001b[39m \u001b[38;5;241m1\u001b[39m\n\u001b[1;32m    735\u001b[0m \u001b[38;5;28;01mif\u001b[39;00m (\n\u001b[1;32m    736\u001b[0m     \u001b[38;5;28mself\u001b[39m\u001b[38;5;241m.\u001b[39m_dataset_kind \u001b[38;5;241m==\u001b[39m _DatasetKind\u001b[38;5;241m.\u001b[39mIterable\n\u001b[1;32m    737\u001b[0m     \u001b[38;5;129;01mand\u001b[39;00m \u001b[38;5;28mself\u001b[39m\u001b[38;5;241m.\u001b[39m_IterableDataset_len_called \u001b[38;5;129;01mis\u001b[39;00m \u001b[38;5;129;01mnot\u001b[39;00m \u001b[38;5;28;01mNone\u001b[39;00m\n\u001b[1;32m    738\u001b[0m     \u001b[38;5;129;01mand\u001b[39;00m \u001b[38;5;28mself\u001b[39m\u001b[38;5;241m.\u001b[39m_num_yielded \u001b[38;5;241m>\u001b[39m \u001b[38;5;28mself\u001b[39m\u001b[38;5;241m.\u001b[39m_IterableDataset_len_called\n\u001b[1;32m    739\u001b[0m ):\n",
      "File \u001b[0;32m~/wsg/WSG_games/uv_venv2/lib/python3.10/site-packages/torch/utils/data/dataloader.py:1515\u001b[0m, in \u001b[0;36m_MultiProcessingDataLoaderIter._next_data\u001b[0;34m(self)\u001b[0m\n\u001b[1;32m   1513\u001b[0m worker_id \u001b[38;5;241m=\u001b[39m \u001b[38;5;28mself\u001b[39m\u001b[38;5;241m.\u001b[39m_task_info\u001b[38;5;241m.\u001b[39mpop(idx)[\u001b[38;5;241m0\u001b[39m]\n\u001b[1;32m   1514\u001b[0m \u001b[38;5;28mself\u001b[39m\u001b[38;5;241m.\u001b[39m_rcvd_idx \u001b[38;5;241m+\u001b[39m\u001b[38;5;241m=\u001b[39m \u001b[38;5;241m1\u001b[39m\n\u001b[0;32m-> 1515\u001b[0m \u001b[38;5;28;01mreturn\u001b[39;00m \u001b[38;5;28;43mself\u001b[39;49m\u001b[38;5;241;43m.\u001b[39;49m\u001b[43m_process_data\u001b[49m\u001b[43m(\u001b[49m\u001b[43mdata\u001b[49m\u001b[43m,\u001b[49m\u001b[43m \u001b[49m\u001b[43mworker_id\u001b[49m\u001b[43m)\u001b[49m\n",
      "File \u001b[0;32m~/wsg/WSG_games/uv_venv2/lib/python3.10/site-packages/torch/utils/data/dataloader.py:1550\u001b[0m, in \u001b[0;36m_MultiProcessingDataLoaderIter._process_data\u001b[0;34m(self, data, worker_idx)\u001b[0m\n\u001b[1;32m   1548\u001b[0m \u001b[38;5;28mself\u001b[39m\u001b[38;5;241m.\u001b[39m_try_put_index()\n\u001b[1;32m   1549\u001b[0m \u001b[38;5;28;01mif\u001b[39;00m \u001b[38;5;28misinstance\u001b[39m(data, ExceptionWrapper):\n\u001b[0;32m-> 1550\u001b[0m     \u001b[43mdata\u001b[49m\u001b[38;5;241;43m.\u001b[39;49m\u001b[43mreraise\u001b[49m\u001b[43m(\u001b[49m\u001b[43m)\u001b[49m\n\u001b[1;32m   1551\u001b[0m \u001b[38;5;28;01mreturn\u001b[39;00m data\n",
      "File \u001b[0;32m~/wsg/WSG_games/uv_venv2/lib/python3.10/site-packages/torch/_utils.py:750\u001b[0m, in \u001b[0;36mExceptionWrapper.reraise\u001b[0;34m(self)\u001b[0m\n\u001b[1;32m    746\u001b[0m \u001b[38;5;28;01mexcept\u001b[39;00m \u001b[38;5;167;01mException\u001b[39;00m:\n\u001b[1;32m    747\u001b[0m     \u001b[38;5;66;03m# If the exception takes multiple arguments or otherwise can't\u001b[39;00m\n\u001b[1;32m    748\u001b[0m     \u001b[38;5;66;03m# be constructed, don't try to instantiate since we don't know how to\u001b[39;00m\n\u001b[1;32m    749\u001b[0m     \u001b[38;5;28;01mraise\u001b[39;00m \u001b[38;5;167;01mRuntimeError\u001b[39;00m(msg) \u001b[38;5;28;01mfrom\u001b[39;00m\u001b[38;5;250m \u001b[39m\u001b[38;5;28;01mNone\u001b[39;00m\n\u001b[0;32m--> 750\u001b[0m \u001b[38;5;28;01mraise\u001b[39;00m exception\n",
      "\u001b[0;31mIndexError\u001b[0m: Caught IndexError in DataLoader worker process 0.\nOriginal Traceback (most recent call last):\n  File \"/homes/55/bwilop/wsg/WSG_games/uv_venv2/lib/python3.10/site-packages/torch/utils/data/_utils/worker.py\", line 349, in _worker_loop\n    data = fetcher.fetch(index)  # type: ignore[possibly-undefined]\n  File \"/homes/55/bwilop/wsg/WSG_games/uv_venv2/lib/python3.10/site-packages/torch/utils/data/_utils/fetch.py\", line 52, in fetch\n    data = [self.dataset[idx] for idx in possibly_batched_index]\n  File \"/homes/55/bwilop/wsg/WSG_games/uv_venv2/lib/python3.10/site-packages/torch/utils/data/_utils/fetch.py\", line 52, in <listcomp>\n    data = [self.dataset[idx] for idx in possibly_batched_index]\n  File \"/homes/55/bwilop/wsg/WSG_games/dictionary_learning/dictionary_learning/cache.py\", line 382, in __getitem__\n    (self.activation_cache_1[index], self.activation_cache_2[index]), dim=0\n  File \"/homes/55/bwilop/wsg/WSG_games/dictionary_learning/dictionary_learning/cache.py\", line 97, in __getitem__\n    shard = self.shards[shard_idx]\nIndexError: list index out of range\n"
     ]
    }
   ],
   "source": [
    "layer = 3\n",
    "\n",
    "model_0_name = \"strong_model\"\n",
    "model_1_name = \"finetuned_model\"\n",
    "\n",
    "train_activations_stor_dir_model_0 = get_activations_path(\n",
    "    Goal.STRONG_GOAL, None, strong_model_size, index, crosscoder_folder, \"train\"\n",
    ")\n",
    "val_activations_stor_dir_model_0 = get_activations_path(\n",
    "    Goal.STRONG_GOAL, None, strong_model_size, index, crosscoder_folder, \"val\"\n",
    ")\n",
    "train_activations_stor_dir_model_1 = get_activations_path(\n",
    "    None, weak_model_size, strong_model_size, index, crosscoder_folder, \"train\"\n",
    ")\n",
    "val_activations_stor_dir_model_1 = get_activations_path(\n",
    "    None, weak_model_size, strong_model_size, index, crosscoder_folder, \"val\"\n",
    ")\n",
    "training_cfg_cross_coder = get_training_cfg_cross_coder()\n",
    "train_crosscoder(\n",
    "    model_0_name,\n",
    "    model_1_name,\n",
    "    index,\n",
    "    train_activations_stor_dir_model_0 + f\"/layer_{layer}_out\",\n",
    "    val_activations_stor_dir_model_0 + f\"/layer_{layer}_out\",\n",
    "    train_activations_stor_dir_model_1 + f\"/layer_{layer}_out\",\n",
    "    val_activations_stor_dir_model_1 + f\"/layer_{layer}_out\",\n",
    "    layer,\n",
    "    training_cfg_cross_coder,\n",
    "    WANDB_ENTITIY,\n",
    "    DEVICE,\n",
    "    crosscoder_folder,\n",
    ")"
   ]
  },
  {
   "cell_type": "code",
   "execution_count": 13,
   "metadata": {},
   "outputs": [
    {
     "ename": "FileNotFoundError",
     "evalue": "File /homes/55/bwilop/wsg/experiments/tictactoe/crosscoder/checkpoints/experiment_2_strong_model_finetuned_model_2025-05-24-15-40/train_crosscoder_args.json not found.",
     "output_type": "error",
     "traceback": [
      "\u001b[0;31m---------------------------------------------------------------------------\u001b[0m",
      "\u001b[0;31mFileNotFoundError\u001b[0m                         Traceback (most recent call last)",
      "Cell \u001b[0;32mIn[13], line 9\u001b[0m\n\u001b[1;32m      1\u001b[0m save_dir \u001b[38;5;241m=\u001b[39m \u001b[38;5;124m\"\u001b[39m\u001b[38;5;124m/homes/55/bwilop/wsg/experiments/tictactoe/crosscoder/checkpoints/experiment_2_strong_model_finetuned_model_2025-05-24-15-40\u001b[39m\u001b[38;5;124m\"\u001b[39m\n\u001b[1;32m      2\u001b[0m val_dataloader \u001b[38;5;241m=\u001b[39m DataLoader(\n\u001b[1;32m      3\u001b[0m     tictactoe_val_data\u001b[38;5;241m.\u001b[39mgames_data,\n\u001b[1;32m      4\u001b[0m     batch_size\u001b[38;5;241m=\u001b[39m\u001b[38;5;241m1000\u001b[39m,\n\u001b[0;32m   (...)\u001b[0m\n\u001b[1;32m      7\u001b[0m     pin_memory\u001b[38;5;241m=\u001b[39m\u001b[38;5;28;01mTrue\u001b[39;00m,\n\u001b[1;32m      8\u001b[0m )\n\u001b[0;32m----> 9\u001b[0m crosscoder_metrics \u001b[38;5;241m=\u001b[39m \u001b[43mCrosscoderMetrics\u001b[49m\u001b[43m(\u001b[49m\u001b[43msave_dir\u001b[49m\u001b[43m,\u001b[49m\u001b[43m \u001b[49m\u001b[43mDEVICE\u001b[49m\u001b[43m)\u001b[49m\n",
      "File \u001b[0;32m~/wsg/WSG_games/wsg_games/tictactoe/crosscoder/crosscoder_metrics.py:37\u001b[0m, in \u001b[0;36mCrosscoderMetrics.__init__\u001b[0;34m(self, save_dir, device)\u001b[0m\n\u001b[1;32m     35\u001b[0m \u001b[38;5;28mself\u001b[39m\u001b[38;5;241m.\u001b[39msave_dir \u001b[38;5;241m=\u001b[39m save_dir\n\u001b[1;32m     36\u001b[0m \u001b[38;5;28mself\u001b[39m\u001b[38;5;241m.\u001b[39mdevice \u001b[38;5;241m=\u001b[39m device\n\u001b[0;32m---> 37\u001b[0m \u001b[38;5;28mself\u001b[39m\u001b[38;5;241m.\u001b[39mtrain_crosscoder_args \u001b[38;5;241m=\u001b[39m \u001b[38;5;28;43mself\u001b[39;49m\u001b[38;5;241;43m.\u001b[39;49m\u001b[43mload_train_crosscoder_args\u001b[49m\u001b[43m(\u001b[49m\u001b[43msave_dir\u001b[49m\u001b[43m)\u001b[49m\n\u001b[1;32m     38\u001b[0m \u001b[38;5;28mself\u001b[39m\u001b[38;5;241m.\u001b[39mconfig \u001b[38;5;241m=\u001b[39m \u001b[38;5;28mself\u001b[39m\u001b[38;5;241m.\u001b[39mload_config(\u001b[38;5;28mself\u001b[39m\u001b[38;5;241m.\u001b[39msave_dir)\n\u001b[1;32m     39\u001b[0m \u001b[38;5;28mself\u001b[39m\u001b[38;5;241m.\u001b[39mcrosscoder \u001b[38;5;241m=\u001b[39m \u001b[38;5;28mself\u001b[39m\u001b[38;5;241m.\u001b[39mload_model(\u001b[38;5;28mself\u001b[39m\u001b[38;5;241m.\u001b[39msave_dir, device)\n",
      "File \u001b[0;32m~/wsg/WSG_games/wsg_games/tictactoe/crosscoder/crosscoder_metrics.py:82\u001b[0m, in \u001b[0;36mCrosscoderMetrics.load_train_crosscoder_args\u001b[0;34m(save_dir)\u001b[0m\n\u001b[1;32m     80\u001b[0m         \u001b[38;5;28;01mreturn\u001b[39;00m json\u001b[38;5;241m.\u001b[39mload(f)\n\u001b[1;32m     81\u001b[0m \u001b[38;5;28;01melse\u001b[39;00m:\n\u001b[0;32m---> 82\u001b[0m     \u001b[38;5;28;01mraise\u001b[39;00m \u001b[38;5;167;01mFileNotFoundError\u001b[39;00m(\u001b[38;5;124mf\u001b[39m\u001b[38;5;124m\"\u001b[39m\u001b[38;5;124mFile \u001b[39m\u001b[38;5;132;01m{\u001b[39;00mpath\u001b[38;5;132;01m}\u001b[39;00m\u001b[38;5;124m not found.\u001b[39m\u001b[38;5;124m\"\u001b[39m)\n",
      "\u001b[0;31mFileNotFoundError\u001b[0m: File /homes/55/bwilop/wsg/experiments/tictactoe/crosscoder/checkpoints/experiment_2_strong_model_finetuned_model_2025-05-24-15-40/train_crosscoder_args.json not found."
     ]
    }
   ],
   "source": [
    "save_dir = \"/homes/55/bwilop/wsg/experiments/tictactoe/crosscoder/checkpoints/experiment_2_strong_model_finetuned_model_2025-05-24-15-40\"\n",
    "val_dataloader = DataLoader(\n",
    "    tictactoe_val_data.games_data,\n",
    "    batch_size=1000,\n",
    "    shuffle=False,\n",
    "    num_workers=1,\n",
    "    pin_memory=True,\n",
    ")\n",
    "crosscoder_metrics = CrosscoderMetrics(save_dir, DEVICE)"
   ]
  }
 ],
 "metadata": {
  "accelerator": "GPU",
  "colab": {
   "gpuType": "T4",
   "include_colab_link": true,
   "machine_shape": "hm",
   "provenance": []
  },
  "kernelspec": {
   "display_name": "Python (uv_venv2)",
   "language": "python",
   "name": "uv_venv2"
  },
  "language_info": {
   "codemirror_mode": {
    "name": "ipython",
    "version": 3
   },
   "file_extension": ".py",
   "mimetype": "text/x-python",
   "name": "python",
   "nbconvert_exporter": "python",
   "pygments_lexer": "ipython3",
   "version": "3.10.10"
  }
 },
 "nbformat": 4,
 "nbformat_minor": 0
}
