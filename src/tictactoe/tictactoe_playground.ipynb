{
 "cells": [
  {
   "cell_type": "code",
   "execution_count": null,
   "metadata": {},
   "outputs": [],
   "source": []
  },
  {
   "cell_type": "code",
   "execution_count": 1,
   "metadata": {},
   "outputs": [],
   "source": [
    "import sys\n",
    "import os\n",
    "parent_dir = os.path.abspath(os.path.join(os.getcwd(), '..'))\n",
    "sys.path.append(parent_dir)\n",
    "\n",
    "from tictactoe.game import *\n",
    "from tictactoe.data import *"
   ]
  },
  {
   "cell_type": "code",
   "execution_count": 2,
   "metadata": {},
   "outputs": [
    {
     "name": "stdout",
     "output_type": "stream",
     "text": [
      "Generating all games...\n",
      "Finished generating all games\n"
     ]
    },
    {
     "name": "stderr",
     "output_type": "stream",
     "text": [
      "  0%|          | 0/9 [00:00<?, ?it/s]\n"
     ]
    },
    {
     "ename": "ValueError",
     "evalue": "1 is not a valid move.",
     "output_type": "error",
     "traceback": [
      "\u001b[1;31m---------------------------------------------------------------------------\u001b[0m",
      "\u001b[1;31mValueError\u001b[0m                                Traceback (most recent call last)",
      "Cell \u001b[1;32mIn[2], line 1\u001b[0m\n\u001b[1;32m----> 1\u001b[0m tictactoe_data \u001b[38;5;241m=\u001b[39m \u001b[43mcalculate_tictactoe_data\u001b[49m\u001b[43m(\u001b[49m\u001b[43m)\u001b[49m\n",
      "File \u001b[1;32mc:\\Users\\benwi\\OneDrive\\Desktop\\Masterthesis WSG\\Code\\WSG_Games\\src\\tictactoe\\data.py:81\u001b[0m, in \u001b[0;36mcalculate_tictactoe_data\u001b[1;34m()\u001b[0m\n\u001b[0;32m     76\u001b[0m     seq: \u001b[38;5;28mlist\u001b[39m[\u001b[38;5;28mint\u001b[39m] \u001b[38;5;241m=\u001b[39m game[:idx\u001b[38;5;241m+\u001b[39m\u001b[38;5;241m1\u001b[39m]\u001b[38;5;241m.\u001b[39mtolist()\n\u001b[0;32m     77\u001b[0m     random_label\u001b[38;5;241m.\u001b[39mappend(\n\u001b[0;32m     78\u001b[0m         _get_label_tensor(seq, cache_random_label, _next_possible_moves)\n\u001b[0;32m     79\u001b[0m     )\n\u001b[0;32m     80\u001b[0m     weak_label\u001b[38;5;241m.\u001b[39mappend(\n\u001b[1;32m---> 81\u001b[0m         \u001b[43m_get_label_tensor\u001b[49m\u001b[43m(\u001b[49m\u001b[43mseq\u001b[49m\u001b[43m,\u001b[49m\u001b[43m \u001b[49m\u001b[43mcache_weak_label\u001b[49m\u001b[43m,\u001b[49m\u001b[43m \u001b[49m\u001b[38;5;28;43;01mlambda\u001b[39;49;00m\u001b[43m \u001b[49m\u001b[43ms\u001b[49m\u001b[43m:\u001b[49m\u001b[43m \u001b[49m\u001b[43m_next_minimax_moves\u001b[49m\u001b[43m(\u001b[49m\u001b[43ms\u001b[49m\u001b[43m,\u001b[49m\u001b[43m \u001b[49m\u001b[43mGoal\u001b[49m\u001b[38;5;241;43m.\u001b[39;49m\u001b[43mWEAK_GOAL\u001b[49m\u001b[43m)\u001b[49m\u001b[43m)\u001b[49m\n\u001b[0;32m     82\u001b[0m     )\n\u001b[0;32m     83\u001b[0m     strong_label\u001b[38;5;241m.\u001b[39mappend(\n\u001b[0;32m     84\u001b[0m         _get_label_tensor(seq, cache_strong_label, \u001b[38;5;28;01mlambda\u001b[39;00m s: _next_minimax_moves(s, Goal\u001b[38;5;241m.\u001b[39mSTRONG_GOAL))\n\u001b[0;32m     85\u001b[0m     )\n\u001b[0;32m     86\u001b[0m random_labels_all\u001b[38;5;241m.\u001b[39mappend(t\u001b[38;5;241m.\u001b[39mstack(random_label))\n",
      "File \u001b[1;32mc:\\Users\\benwi\\OneDrive\\Desktop\\Masterthesis WSG\\Code\\WSG_Games\\src\\tictactoe\\data.py:49\u001b[0m, in \u001b[0;36m_get_label_tensor\u001b[1;34m(seq, cache, compute_moves_fn)\u001b[0m\n\u001b[0;32m     47\u001b[0m seq_key: \u001b[38;5;28mstr\u001b[39m \u001b[38;5;241m=\u001b[39m \u001b[38;5;28mstr\u001b[39m(seq)\n\u001b[0;32m     48\u001b[0m \u001b[38;5;28;01mif\u001b[39;00m seq_key \u001b[38;5;129;01mnot\u001b[39;00m \u001b[38;5;129;01min\u001b[39;00m cache:\n\u001b[1;32m---> 49\u001b[0m     cache[seq_key] \u001b[38;5;241m=\u001b[39m \u001b[43mcompute_moves_fn\u001b[49m\u001b[43m(\u001b[49m\u001b[43mseq\u001b[49m\u001b[43m)\u001b[49m\n\u001b[0;32m     50\u001b[0m moves \u001b[38;5;241m=\u001b[39m cache[seq_key]\n\u001b[0;32m     51\u001b[0m label_vector \u001b[38;5;241m=\u001b[39m [\u001b[38;5;241m1.0\u001b[39m \u001b[38;5;28;01mif\u001b[39;00m i \u001b[38;5;129;01min\u001b[39;00m moves \u001b[38;5;28;01melse\u001b[39;00m \u001b[38;5;241m0.0\u001b[39m \u001b[38;5;28;01mfor\u001b[39;00m i \u001b[38;5;129;01min\u001b[39;00m \u001b[38;5;28mrange\u001b[39m(\u001b[38;5;241m9\u001b[39m)]\n",
      "File \u001b[1;32mc:\\Users\\benwi\\OneDrive\\Desktop\\Masterthesis WSG\\Code\\WSG_Games\\src\\tictactoe\\data.py:81\u001b[0m, in \u001b[0;36mcalculate_tictactoe_data.<locals>.<lambda>\u001b[1;34m(s)\u001b[0m\n\u001b[0;32m     76\u001b[0m     seq: \u001b[38;5;28mlist\u001b[39m[\u001b[38;5;28mint\u001b[39m] \u001b[38;5;241m=\u001b[39m game[:idx\u001b[38;5;241m+\u001b[39m\u001b[38;5;241m1\u001b[39m]\u001b[38;5;241m.\u001b[39mtolist()\n\u001b[0;32m     77\u001b[0m     random_label\u001b[38;5;241m.\u001b[39mappend(\n\u001b[0;32m     78\u001b[0m         _get_label_tensor(seq, cache_random_label, _next_possible_moves)\n\u001b[0;32m     79\u001b[0m     )\n\u001b[0;32m     80\u001b[0m     weak_label\u001b[38;5;241m.\u001b[39mappend(\n\u001b[1;32m---> 81\u001b[0m         _get_label_tensor(seq, cache_weak_label, \u001b[38;5;28;01mlambda\u001b[39;00m s: \u001b[43m_next_minimax_moves\u001b[49m\u001b[43m(\u001b[49m\u001b[43ms\u001b[49m\u001b[43m,\u001b[49m\u001b[43m \u001b[49m\u001b[43mGoal\u001b[49m\u001b[38;5;241;43m.\u001b[39;49m\u001b[43mWEAK_GOAL\u001b[49m\u001b[43m)\u001b[49m)\n\u001b[0;32m     82\u001b[0m     )\n\u001b[0;32m     83\u001b[0m     strong_label\u001b[38;5;241m.\u001b[39mappend(\n\u001b[0;32m     84\u001b[0m         _get_label_tensor(seq, cache_strong_label, \u001b[38;5;28;01mlambda\u001b[39;00m s: _next_minimax_moves(s, Goal\u001b[38;5;241m.\u001b[39mSTRONG_GOAL))\n\u001b[0;32m     85\u001b[0m     )\n\u001b[0;32m     86\u001b[0m random_labels_all\u001b[38;5;241m.\u001b[39mappend(t\u001b[38;5;241m.\u001b[39mstack(random_label))\n",
      "File \u001b[1;32mc:\\Users\\benwi\\OneDrive\\Desktop\\Masterthesis WSG\\Code\\WSG_Games\\src\\tictactoe\\data.py:44\u001b[0m, in \u001b[0;36m_next_minimax_moves\u001b[1;34m(seq, goal)\u001b[0m\n\u001b[0;32m     42\u001b[0m     \u001b[38;5;28;01mreturn\u001b[39;00m [\u001b[38;5;241m9\u001b[39m]\n\u001b[0;32m     43\u001b[0m \u001b[38;5;28;01melse\u001b[39;00m:\n\u001b[1;32m---> 44\u001b[0m     \u001b[38;5;28;01mreturn\u001b[39;00m \u001b[43mget_best_moves\u001b[49m\u001b[43m(\u001b[49m\u001b[43mboard\u001b[49m\u001b[43m,\u001b[49m\u001b[43m \u001b[49m\u001b[43mgoal\u001b[49m\u001b[43m)\u001b[49m\n",
      "File \u001b[1;32mc:\\Users\\benwi\\OneDrive\\Desktop\\Masterthesis WSG\\Code\\WSG_Games\\src\\tictactoe\\game.py:178\u001b[0m, in \u001b[0;36mget_best_moves\u001b[1;34m(board, goal)\u001b[0m\n\u001b[0;32m    176\u001b[0m best_moves: \u001b[38;5;28mlist\u001b[39m[\u001b[38;5;28mtuple\u001b[39m[\u001b[38;5;28mint\u001b[39m, \u001b[38;5;28mint\u001b[39m]] \u001b[38;5;241m=\u001b[39m []  \u001b[38;5;66;03m# (move, score)\u001b[39;00m\n\u001b[0;32m    177\u001b[0m \u001b[38;5;28;01mfor\u001b[39;00m move \u001b[38;5;129;01min\u001b[39;00m board\u001b[38;5;241m.\u001b[39mget_possible_moves():\n\u001b[1;32m--> 178\u001b[0m     \u001b[43mboard\u001b[49m\u001b[38;5;241;43m.\u001b[39;49m\u001b[43mmake_move\u001b[49m\u001b[43m(\u001b[49m\u001b[43mmove\u001b[49m\u001b[43m)\u001b[49m\n\u001b[0;32m    179\u001b[0m     score \u001b[38;5;241m=\u001b[39m minimax(board, goal)\n\u001b[0;32m    180\u001b[0m     board\u001b[38;5;241m.\u001b[39mundo()\n",
      "File \u001b[1;32mc:\\Users\\benwi\\OneDrive\\Desktop\\Masterthesis WSG\\Code\\WSG_Games\\src\\tictactoe\\game.py:96\u001b[0m, in \u001b[0;36mBoard.make_move\u001b[1;34m(self, move)\u001b[0m\n\u001b[0;32m     94\u001b[0m \u001b[38;5;28;01mdef\u001b[39;00m \u001b[38;5;21mmake_move\u001b[39m(\u001b[38;5;28mself\u001b[39m, move: \u001b[38;5;28mint\u001b[39m) \u001b[38;5;241m-\u001b[39m\u001b[38;5;241m>\u001b[39m \u001b[38;5;28;01mNone\u001b[39;00m:\n\u001b[0;32m     95\u001b[0m     \u001b[38;5;28;01mif\u001b[39;00m move \u001b[38;5;129;01mnot\u001b[39;00m \u001b[38;5;129;01min\u001b[39;00m \u001b[38;5;28mself\u001b[39m\u001b[38;5;241m.\u001b[39mget_possible_moves():\n\u001b[1;32m---> 96\u001b[0m         \u001b[38;5;28;01mraise\u001b[39;00m \u001b[38;5;167;01mValueError\u001b[39;00m(\u001b[38;5;124mf\u001b[39m\u001b[38;5;124m\"\u001b[39m\u001b[38;5;132;01m{\u001b[39;00mmove\u001b[38;5;132;01m}\u001b[39;00m\u001b[38;5;124m is not a valid move.\u001b[39m\u001b[38;5;124m\"\u001b[39m)\n\u001b[0;32m     97\u001b[0m     \u001b[38;5;28mself\u001b[39m\u001b[38;5;241m.\u001b[39mgrid[move] \u001b[38;5;241m=\u001b[39m \u001b[38;5;28mself\u001b[39m\u001b[38;5;241m.\u001b[39mturn\n\u001b[0;32m     98\u001b[0m     \u001b[38;5;28mself\u001b[39m\u001b[38;5;241m.\u001b[39mmoves_played\u001b[38;5;241m.\u001b[39mappend(move)\n",
      "\u001b[1;31mValueError\u001b[0m: 1 is not a valid move."
     ]
    }
   ],
   "source": [
    "tictactoe_data = calculate_tictactoe_data()"
   ]
  },
  {
   "cell_type": "code",
   "execution_count": null,
   "metadata": {},
   "outputs": [],
   "source": []
  }
 ],
 "metadata": {
  "kernelspec": {
   "display_name": "Python 3",
   "language": "python",
   "name": "python3"
  },
  "language_info": {
   "codemirror_mode": {
    "name": "ipython",
    "version": 3
   },
   "file_extension": ".py",
   "mimetype": "text/x-python",
   "name": "python",
   "nbconvert_exporter": "python",
   "pygments_lexer": "ipython3",
   "version": "3.13.0"
  }
 },
 "nbformat": 4,
 "nbformat_minor": 2
}
