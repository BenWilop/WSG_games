{
 "cells": [
  {
   "cell_type": "code",
   "execution_count": 5,
   "metadata": {},
   "outputs": [],
   "source": [
    "import sys\n",
    "import os\n",
    "parent_dir = os.path.abspath(os.path.join(os.getcwd(), '..'))\n",
    "sys.path.append(parent_dir)\n",
    "\n",
    "from tictactoe.game import *\n",
    "from tictactoe.data import *"
   ]
  },
  {
   "cell_type": "code",
   "execution_count": 11,
   "metadata": {},
   "outputs": [
    {
     "name": "stdout",
     "output_type": "stream",
     "text": [
      "torch.Size([255168, 10])\n",
      "torch.Size([255168, 10, 9])\n",
      "torch.Size([255168, 10, 9])\n",
      "torch.Size([255168, 10, 9])\n"
     ]
    }
   ],
   "source": [
    "# tictactoe_data = calculate_tictactoe_data()\n",
    "path = os.path.abspath(os.path.join(os.getcwd(), \"..\", \"..\", \"data\", \"tictactoe\", \"tictactoe_data.pkl\"))\n",
    "tictactoe_data = cache_tictactoe_data(path)\n",
    "\n",
    "print(tictactoe_data.games_data.shape)\n",
    "print(tictactoe_data.random_move_labels.shape)\n",
    "print(tictactoe_data.weak_goals_labels.shape)\n",
    "print(tictactoe_data.strong_goals_labels.shape)"
   ]
  },
  {
   "cell_type": "code",
   "execution_count": null,
   "metadata": {},
   "outputs": [
    {
     "data": {
      "text/plain": [
       "torch.Size([255168, 10])"
      ]
     },
     "execution_count": 10,
     "metadata": {},
     "output_type": "execute_result"
    }
   ],
   "source": []
  }
 ],
 "metadata": {
  "kernelspec": {
   "display_name": "Python 3",
   "language": "python",
   "name": "python3"
  },
  "language_info": {
   "codemirror_mode": {
    "name": "ipython",
    "version": 3
   },
   "file_extension": ".py",
   "mimetype": "text/x-python",
   "name": "python",
   "nbconvert_exporter": "python",
   "pygments_lexer": "ipython3",
   "version": "3.13.0"
  }
 },
 "nbformat": 4,
 "nbformat_minor": 2
}
