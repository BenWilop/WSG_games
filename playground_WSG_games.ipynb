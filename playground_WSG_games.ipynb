{
  "cells": [
    {
      "cell_type": "markdown",
      "metadata": {
        "colab_type": "text",
        "id": "view-in-github"
      },
      "source": [
        "<a href=\"https://colab.research.google.com/github/BenWilop/WSG_games/blob/main/playground_WSG_games.ipynb\" target=\"_parent\"><img src=\"https://colab.research.google.com/assets/colab-badge.svg\" alt=\"Open In Colab\"/></a>"
      ]
    },
    {
      "cell_type": "markdown",
      "metadata": {},
      "source": [
        "# Imports"
      ]
    },
    {
      "cell_type": "code",
      "execution_count": 1,
      "metadata": {
        "id": "V887fWJPBYKB"
      },
      "outputs": [
        {
          "name": "stderr",
          "output_type": "stream",
          "text": [
            "\u001b[34m\u001b[1mwandb\u001b[0m: Using wandb-core as the SDK backend.  Please refer to https://wandb.me/wandb-core for more information.\n",
            "\u001b[34m\u001b[1mwandb\u001b[0m: \u001b[33mWARNING\u001b[0m If you're specifying your api key in code, ensure this code is not shared publicly.\n",
            "\u001b[34m\u001b[1mwandb\u001b[0m: \u001b[33mWARNING\u001b[0m Consider setting the WANDB_API_KEY environment variable, or running `wandb login` from the command line.\n",
            "\u001b[34m\u001b[1mwandb\u001b[0m: Appending key for api.wandb.ai to your netrc file: /homes/55/bwilop/.netrc\n",
            "\u001b[34m\u001b[1mwandb\u001b[0m: Currently logged in as: \u001b[33mbenwilop\u001b[0m (\u001b[33mbenwilop-rwth-aachen-university\u001b[0m) to \u001b[32mhttps://api.wandb.ai\u001b[0m. Use \u001b[1m`wandb login --relogin`\u001b[0m to force relogin\n"
          ]
        }
      ],
      "source": [
        "import getpass\n",
        "import dotenv\n",
        "import wandb\n",
        "import os\n",
        "dotenv.load_dotenv(os.path.join('/homes/55/bwilop/wsg/private/', 'vscode-ssh.env'))\n",
        "api_key = os.getenv('WANDB_API_KEY')\n",
        "wandb.login(key=api_key)\n",
        "\n",
        "data_folder = '/homes/55/bwilop/wsg/data/'\n",
        "experiment_folder = '/homes/55/bwilop/wsg/experiments/'"
      ]
    },
    {
      "cell_type": "code",
      "execution_count": 22,
      "metadata": {
        "colab": {
          "base_uri": "https://localhost:8080/"
        },
        "id": "uV6cMqvSvaBY",
        "outputId": "ec9e34fb-4176-487f-e718-9b1a44238dfa"
      },
      "outputs": [
        {
          "name": "stdout",
          "output_type": "stream",
          "text": [
            "The autoreload extension is already loaded. To reload it, use:\n",
            "  %reload_ext autoreload\n",
            "cuda\n"
          ]
        }
      ],
      "source": [
        "%load_ext autoreload\n",
        "%autoreload 2\n",
        "import torch as t\n",
        "import torch.nn as nn\n",
        "from torch.nn.functional import cross_entropy, softmax\n",
        "from torch import Tensor\n",
        "from jaxtyping import Float\n",
        "from tqdm import tqdm\n",
        "from transformer_lens import HookedTransformerConfig, HookedTransformer\n",
        "import json\n",
        "from typing import Callable, Any\n",
        "import einops\n",
        "import time\n",
        "import uuid\n",
        "import glob\n",
        "from copy import deepcopy\n",
        "import matplotlib.pyplot as plt\n",
        "from datetime import datetime\n",
        "import torch.nn as nn\n",
        "\n",
        "from wsg_games.tictactoe.evals import *\n",
        "from wsg_games.tictactoe.data import *\n",
        "from wsg_games.tictactoe.game import *\n",
        "\n",
        "from wsg_games.tictactoe.analysis.analyse_data import *\n",
        "from wsg_games.tictactoe.analysis.visualize_game import *\n",
        "\n",
        "from wsg_games.tictactoe.train.create_models import *\n",
        "from wsg_games.tictactoe.train.save_load_models import *\n",
        "from wsg_games.tictactoe.train.train import *\n",
        "from wsg_games.tictactoe.train.finetune import *\n",
        "from wsg_games.tictactoe.train.pretrain import *\n",
        "\n",
        "device = t.device(\"cuda\" if t.cuda.is_available() else \"cpu\")\n",
        "print(device)"
      ]
    },
    {
      "cell_type": "markdown",
      "metadata": {
        "id": "x-WZi6lEq1sA"
      },
      "source": [
        "# Data"
      ]
    },
    {
      "cell_type": "code",
      "execution_count": 3,
      "metadata": {
        "colab": {
          "base_uri": "https://localhost:8080/",
          "height": 400
        },
        "id": "ja80xiGclrkX",
        "outputId": "ee10de15-5c0a-4f8c-c559-c5005031824e"
      },
      "outputs": [
        {
          "name": "stdout",
          "output_type": "stream",
          "text": [
            "Shape Data:    torch.Size([100000, 10])\n",
            "Shape Random:  torch.Size([100000, 10, 10])\n",
            "Shape Weak:    torch.Size([100000, 10, 10])\n",
            "Shape Strong:  torch.Size([100000, 10, 10])\n",
            "--------------------------------------------------------\n",
            "Evals Random:  {'weak_accuracy': 0.696753978729248, 'strong_accuracy': 0.662024974822998, 'illegal_move_chance': 0.0}\n",
            "Evals Weak:    {'weak_accuracy': 1.0, 'strong_accuracy': 0.7386389970779419, 'illegal_move_chance': 0.0}\n",
            "Evals Strong:  {'weak_accuracy': 0.7959870100021362, 'strong_accuracy': 1.0, 'illegal_move_chance': 0.0}\n",
            "--------------------------------------------------------\n",
            "Entropy Random:  1.2162327766418457\n",
            "Entropy Weak:    0.6559994220733643\n",
            "Entropy Strong:  0.6168825030326843\n",
            "--------------------------------------------------------\n"
          ]
        }
      ],
      "source": [
        "# tictactoe_data = cache_tictactoe_data(data_folder + 'tictactoe_data.pkl')\n",
        "# tictactoe_data = cache_tictactoe_data_random(data_folder + 'tictactoe_data_random.pkl')\n",
        "tictactoe_data = cache_tictactoe_data_random(data_folder + 'tictactoe_data_random_STRONG_RULE_NO_DIAGONAL.pkl')\n",
        "print_data_statistics(tictactoe_data)"
      ]
    },
    {
      "cell_type": "code",
      "execution_count": 4,
      "metadata": {
        "id": "yoCX7cACxBLY"
      },
      "outputs": [
        {
          "name": "stdout",
          "output_type": "stream",
          "text": [
            "Shape Train:  torch.Size([58224, 10])\n",
            "Shape Validation:  torch.Size([20953, 10])\n",
            "Shape Test:   torch.Size([20823, 10])\n"
          ]
        }
      ],
      "source": [
        "# tictactoe_train_data, tictactoe_val_data, tictactoe_test_data = train_test_split_tictactoe(tictactoe_data, 0.5, 0.25, 0.25, device, 1234)\n",
        "tictactoe_train_data, tictactoe_val_data, tictactoe_test_data = train_test_split_tictactoe_first_two_moves_no_overlap(tictactoe_data, 42, 15, 15, device, 1234)\n",
        "\n",
        "print(\"Shape Train: \", tictactoe_train_data.games_data.shape)\n",
        "print(\"Shape Validation: \", tictactoe_val_data.games_data.shape)\n",
        "print(\"Shape Test:  \", tictactoe_test_data.games_data.shape)"
      ]
    },
    {
      "cell_type": "code",
      "execution_count": 5,
      "metadata": {
        "id": "z2UN1wnAMnEr"
      },
      "outputs": [
        {
          "name": "stdout",
          "output_type": "stream",
          "text": [
            "Leakage Percentage Weighted: 20.00%\n",
            "Leakage Percentage: 0.02%\n"
          ]
        }
      ],
      "source": [
        "leakage_pct_weigted, leakage_pct = calculate_leakage_percentage(tictactoe_train_data, tictactoe_test_data)\n",
        "print(f\"Leakage Percentage Weighted: {leakage_pct_weigted:.2f}%\")\n",
        "print(f\"Leakage Percentage: {leakage_pct:.2f}%\")"
      ]
    },
    {
      "cell_type": "code",
      "execution_count": 6,
      "metadata": {
        "id": "m7t-JI6-Oz8L"
      },
      "outputs": [],
      "source": [
        "# plot_train_test_prefix_histograms(tictactoe_train_data, tictactoe_test_data)"
      ]
    },
    {
      "cell_type": "code",
      "execution_count": 7,
      "metadata": {
        "id": "8kIUD9u4_QGk"
      },
      "outputs": [],
      "source": [
        "import torch.nn.functional as F\n",
        "\n",
        "def sample_hard_labels_from_soft(soft_labels: t.Tensor, num_samples) -> t.Tensor:\n",
        "    n_games, game_length, n_tokens = soft_labels.shape\n",
        "    soft_labels_flat = soft_labels.view(-1, n_tokens)\n",
        "    sampled_indices = t.multinomial(soft_labels_flat, num_samples=num_samples, replacement=True)\n",
        "\n",
        "    one_hot_samples = F.one_hot(sampled_indices, num_classes=n_tokens).float()\n",
        "    one_hot_samples = one_hot_samples.view(n_games, game_length, num_samples, n_tokens)\n",
        "    one_hot_samples = one_hot_samples.permute(0, 2, 1, 3)\n",
        "    new_hard_labels = one_hot_samples.reshape(n_games * num_samples, game_length, n_tokens)\n",
        "    return new_hard_labels\n",
        "\n",
        "def create_hard_label_tictactoe_data(data: TicTacToeData, num_samples, random_seed: int = 4567) -> TicTacToeData:\n",
        "    t.manual_seed(random_seed)\n",
        "    new_games_data = data.games_data.repeat_interleave(num_samples, dim=0)\n",
        "    new_random_move_labels = sample_hard_labels_from_soft(data.random_move_labels, num_samples=num_samples)\n",
        "    new_weak_goals_labels  = sample_hard_labels_from_soft(data.weak_goals_labels, num_samples=num_samples)\n",
        "    new_strong_goals_labels = sample_hard_labels_from_soft(data.strong_goals_labels, num_samples=num_samples)\n",
        "    return TicTacToeData(\n",
        "        games_data=new_games_data,\n",
        "        random_move_labels=new_random_move_labels,\n",
        "        weak_goals_labels=new_weak_goals_labels,\n",
        "        strong_goals_labels=new_strong_goals_labels\n",
        "    )\n",
        "\n",
        "tictactoe_train_data = create_hard_label_tictactoe_data(tictactoe_train_data, num_samples=1)\n",
        "tictactoe_val_data = create_hard_label_tictactoe_data(tictactoe_val_data, num_samples=1)"
      ]
    },
    {
      "cell_type": "code",
      "execution_count": 8,
      "metadata": {
        "id": "hR8xt9Kx4IzL"
      },
      "outputs": [
        {
          "name": "stdout",
          "output_type": "stream",
          "text": [
            "Shape Train:  torch.Size([58224, 10])\n"
          ]
        },
        {
          "data": {
            "text/plain": [
              "tensor([[0., 1., 0., 0., 0., 0., 0., 0., 0., 0.],\n",
              "        [1., 0., 0., 0., 0., 0., 0., 0., 0., 0.],\n",
              "        [0., 0., 0., 0., 0., 0., 0., 0., 1., 0.],\n",
              "        [0., 0., 0., 0., 0., 0., 0., 1., 0., 0.],\n",
              "        [1., 0., 0., 0., 0., 0., 0., 0., 0., 0.],\n",
              "        [0., 0., 0., 0., 0., 0., 0., 0., 0., 1.],\n",
              "        [0., 0., 0., 0., 0., 0., 0., 0., 0., 1.],\n",
              "        [0., 0., 0., 0., 0., 0., 0., 0., 0., 1.],\n",
              "        [0., 0., 0., 0., 0., 0., 0., 0., 0., 1.],\n",
              "        [0., 0., 0., 0., 0., 0., 0., 0., 0., 1.]], device='cuda:0')"
            ]
          },
          "execution_count": 8,
          "metadata": {},
          "output_type": "execute_result"
        }
      ],
      "source": [
        "print(\"Shape Train: \", tictactoe_train_data.games_data.shape)\n",
        "tictactoe_train_data.random_move_labels[0]"
      ]
    },
    {
      "cell_type": "code",
      "execution_count": 9,
      "metadata": {
        "id": "CJSO2B_oAXDR"
      },
      "outputs": [
        {
          "name": "stdout",
          "output_type": "stream",
          "text": [
            "Shape Train:  torch.Size([20953, 10])\n"
          ]
        },
        {
          "data": {
            "text/plain": [
              "tensor([[0., 1., 0., 0., 0., 0., 0., 0., 0., 0.],\n",
              "        [1., 0., 0., 0., 0., 0., 0., 0., 0., 0.],\n",
              "        [0., 0., 0., 0., 0., 0., 1., 0., 0., 0.],\n",
              "        [0., 0., 0., 0., 0., 0., 0., 1., 0., 0.],\n",
              "        [0., 0., 0., 0., 0., 0., 0., 1., 0., 0.],\n",
              "        [0., 0., 1., 0., 0., 0., 0., 0., 0., 0.],\n",
              "        [0., 0., 1., 0., 0., 0., 0., 0., 0., 0.],\n",
              "        [0., 0., 0., 0., 0., 0., 0., 0., 0., 1.],\n",
              "        [0., 0., 0., 0., 0., 0., 0., 0., 0., 1.],\n",
              "        [0., 0., 0., 0., 0., 0., 0., 0., 0., 1.]], device='cuda:0')"
            ]
          },
          "execution_count": 9,
          "metadata": {},
          "output_type": "execute_result"
        }
      ],
      "source": [
        "print(\"Shape Train: \", tictactoe_val_data.games_data.shape)\n",
        "tictactoe_val_data.random_move_labels[0]"
      ]
    },
    {
      "cell_type": "code",
      "execution_count": 10,
      "metadata": {
        "id": "kY0HWIu8PH1a"
      },
      "outputs": [
        {
          "name": "stdout",
          "output_type": "stream",
          "text": [
            "Shape Test:   torch.Size([20823, 10])\n"
          ]
        },
        {
          "data": {
            "text/plain": [
              "tensor([[0.1111, 0.1111, 0.1111, 0.1111, 0.1111, 0.1111, 0.1111, 0.1111, 0.1111,\n",
              "         0.0000],\n",
              "        [0.1250, 0.1250, 0.0000, 0.1250, 0.1250, 0.1250, 0.1250, 0.1250, 0.1250,\n",
              "         0.0000],\n",
              "        [0.1429, 0.1429, 0.0000, 0.1429, 0.1429, 0.1429, 0.0000, 0.1429, 0.1429,\n",
              "         0.0000],\n",
              "        [0.1667, 0.0000, 0.0000, 0.1667, 0.1667, 0.1667, 0.0000, 0.1667, 0.1667,\n",
              "         0.0000],\n",
              "        [0.2000, 0.0000, 0.0000, 0.2000, 0.0000, 0.2000, 0.0000, 0.2000, 0.2000,\n",
              "         0.0000],\n",
              "        [0.2500, 0.0000, 0.0000, 0.2500, 0.0000, 0.2500, 0.0000, 0.0000, 0.2500,\n",
              "         0.0000],\n",
              "        [0.3333, 0.0000, 0.0000, 0.3333, 0.0000, 0.3333, 0.0000, 0.0000, 0.0000,\n",
              "         0.0000],\n",
              "        [0.5000, 0.0000, 0.0000, 0.0000, 0.0000, 0.5000, 0.0000, 0.0000, 0.0000,\n",
              "         0.0000],\n",
              "        [0.0000, 0.0000, 0.0000, 0.0000, 0.0000, 0.0000, 0.0000, 0.0000, 0.0000,\n",
              "         1.0000],\n",
              "        [0.0000, 0.0000, 0.0000, 0.0000, 0.0000, 0.0000, 0.0000, 0.0000, 0.0000,\n",
              "         1.0000]], device='cuda:0')"
            ]
          },
          "execution_count": 10,
          "metadata": {},
          "output_type": "execute_result"
        }
      ],
      "source": [
        "print(\"Shape Test:  \", tictactoe_test_data.games_data.shape)\n",
        "tictactoe_test_data.random_move_labels[0]"
      ]
    },
    {
      "cell_type": "code",
      "execution_count": 11,
      "metadata": {
        "id": "LkmF7KJ9Xql4"
      },
      "outputs": [],
      "source": [
        "def sample_random_games(n_games: int) -> t.Tensor:\n",
        "    games = []\n",
        "    for _ in range(n_games):\n",
        "        board = Board()\n",
        "        while board.game_state == State.ONGOING:\n",
        "            moves = board.get_possible_moves()\n",
        "            if not moves: break\n",
        "            board.make_move(random.choice(moves))\n",
        "        seq = [10] + board.moves_played + [9] * (10 - len(board.moves_played))\n",
        "        games.append(seq)\n",
        "    return t.tensor(games)\n",
        "\n",
        "def print_evaluate_overlap():\n",
        "    train = sample_random_games(1000)\n",
        "    test = sample_random_games(30000)\n",
        "\n",
        "    # Full games\n",
        "    train_full = [tuple(g.tolist()) for g in train]\n",
        "    full_count = sum(1 for game in test.tolist() if tuple(game) in train_full)\n",
        "    perc_full = 100 * full_count / len(test)\n",
        "\n",
        "    # Subgames (all prefixes)\n",
        "    def all_prefixes(games):\n",
        "        prefs = []\n",
        "        for game in games.tolist():\n",
        "            for l in range(1, len(game)+1):\n",
        "                prefs.append(tuple(game[:l]))\n",
        "        return prefs\n",
        "\n",
        "    train_prefs = set(all_prefixes(train))\n",
        "    test_prefs = all_prefixes(test)\n",
        "    subgame_count = sum(1 for p in test_prefs if p in train_prefs)\n",
        "    perc_subgames = 100 * subgame_count / len(test_prefs)\n",
        "\n",
        "    # Board states: unordered sets of moves (only valid moves 0-8)\n",
        "    def board_states(games):\n",
        "        states = []\n",
        "        for game in games.tolist():\n",
        "            for l in range(1, len(game)+1):\n",
        "                state = frozenset(x for x in game[:l] if 0 <= x <= 8)\n",
        "                states.append(state)\n",
        "        return states\n",
        "\n",
        "    train_states = set(board_states(train))\n",
        "    test_states = board_states(test)\n",
        "    state_count = sum(1 for s in test_states if s in train_states)\n",
        "    perc_states = 100 * state_count / len(test_states)\n",
        "\n",
        "    print(f\"Test full games seen: {perc_full:.2f}%\")\n",
        "    print(f\"Test subgames seen: {perc_subgames:.2f}%\")\n",
        "    print(f\"Test board states seen: {perc_states:.2f}%\")\n",
        "\n",
        "# print_evaluate_overlap()\n",
        "# 255k games\n",
        "# We train on 50k games\n",
        "# Test full games seen: 40.98%\n",
        "# Test subgames seen: 77.87%\n",
        "# Test board states seen: 100.00%"
      ]
    },
    {
      "cell_type": "markdown",
      "metadata": {
        "id": "JuRcWagTqzSr"
      },
      "source": [
        "# Train model"
      ]
    },
    {
      "cell_type": "code",
      "execution_count": 12,
      "metadata": {
        "id": "RLl-6o7fjzfS"
      },
      "outputs": [],
      "source": [
        "# raise Exception()"
      ]
    },
    {
      "cell_type": "markdown",
      "metadata": {
        "id": "D_6vzd1Lrwt5"
      },
      "source": [
        "### Parameters"
      ]
    },
    {
      "cell_type": "code",
      "execution_count": 24,
      "metadata": {
        "id": "bjketwo1ipxE"
      },
      "outputs": [
        {
          "name": "stdout",
          "output_type": "stream",
          "text": [
            "Moving model to device:  cuda\n",
            "nano 6.8 * 10^01\n",
            "Moving model to device:  cuda\n",
            "micro 3.9 * 10^02\n",
            "Moving model to device:  cuda\n",
            "mini 2.0 * 10^03\n",
            "Moving model to device:  cuda\n",
            "small 1.0 * 10^04\n",
            "Moving model to device:  cuda\n",
            "medium 5.2 * 10^04\n",
            "Moving model to device:  cuda\n",
            "large 2.5 * 10^05\n",
            "Moving model to device:  cuda\n",
            "huge 1.2 * 10^06\n",
            "Ratio of consecutive model-sizes:  [5.676470588235294, 5.227979274611399, 5.142715559960357, 4.9992291385623435, 4.857985428472302, 4.736774029725204]\n"
          ]
        }
      ],
      "source": [
        "training_cfg = {\n",
        "    \"learning_rate\": 1e-3, # 1e-4,\n",
        "    \"weight_decay\": 1e-4,  # 1e-5,\n",
        "    \"max_epochs\": 1000,\n",
        "    \"early_stopping_patience\": 5,\n",
        "    \"batch_size\": 64,\n",
        "}\n",
        "\n",
        "model_sizes = {}\n",
        "model_sizes[\"nano\"]   = {\"n_layers\": 1, \"n_heads\": 1, \"d_model\": 1, \"d_head\": 1, \"d_mlp\": 4}\n",
        "model_sizes[\"micro\"]   = {\"n_layers\": 1, \"n_heads\": 2, \"d_model\": 4, \"d_head\": 2, \"d_mlp\": 16}\n",
        "model_sizes[\"mini\"]   = {\"n_layers\": 2, \"n_heads\": 4, \"d_model\": 8, \"d_head\": 2, \"d_mlp\": 32}\n",
        "\n",
        "model_sizes[\"small\"] = {\"n_layers\": 3, \"n_heads\": 4, \"d_model\": 16, \"d_head\": 4, \"d_mlp\": 64}\n",
        "model_sizes[\"medium\"] = {\"n_layers\": 4, \"n_heads\": 8, \"d_model\": 32, \"d_head\": 4, \"d_mlp\": 128}\n",
        "model_sizes[\"large\"] = {\"n_layers\": 5, \"n_heads\": 8, \"d_model\": 64, \"d_head\": 8, \"d_mlp\": 256}\n",
        "\n",
        "model_sizes[\"huge\"]   = {\"n_layers\": 6, \"n_heads\": 16, \"d_model\": 128, \"d_head\": 8,  \"d_mlp\": 512}\n",
        "# model_sizes[\"gigantic\"] = {\"n_layers\": 7, \"n_heads\": 16, \"d_model\": 256, \"d_head\": 16, \"d_mlp\": 1024}\n",
        "\n",
        "# model_size_to_epochs = {\n",
        "#                 # roughly converged after\n",
        "#     \"nano\": 3,  # 1\n",
        "#     \"micro\": 20,  # 10\n",
        "#     \"mini\": 40,  # 20\n",
        "#     \"small\": 50,  # 35\n",
        "#     \"medium\": 4,  # 2\n",
        "#     \"large\": 2,  # 1\n",
        "#     # \"huge\": 1,\n",
        "#     # \"gigantic\": 1\n",
        "# }\n",
        "\n",
        "\n",
        "def get_model_config(size: str):\n",
        "    common_params = {\n",
        "        \"act_fn\": \"relu\",\n",
        "        \"normalization_type\": \"LN\",\n",
        "        \"d_vocab\": 11,\n",
        "        \"d_vocab_out\": 10,\n",
        "        \"n_ctx\": 10,\n",
        "        \"init_weights\": True,\n",
        "        \"device\": \"cuda\",\n",
        "        \"seed\": 1337,\n",
        "    }\n",
        "    specific = model_sizes[size]\n",
        "    return HookedTransformerConfig(**specific, **common_params)\n",
        "\n",
        "print_model_ratios(model_sizes, get_model_config)"
      ]
    },
    {
      "cell_type": "markdown",
      "metadata": {
        "id": "r-I_WW83ry7U"
      },
      "source": [
        "### wandb"
      ]
    },
    {
      "cell_type": "markdown",
      "metadata": {
        "id": "HZblgAQar1jd"
      },
      "source": [
        "### Train loop"
      ]
    },
    {
      "cell_type": "code",
      "execution_count": 31,
      "metadata": {
        "id": "GwzgRcIE9JNs"
      },
      "outputs": [],
      "source": [
        "from wsg_games.tictactoe.evals import *\n",
        "from wsg_games.tictactoe.data import *\n",
        "from wsg_games.tictactoe.game import *\n",
        "\n",
        "from wsg_games.tictactoe.analysis.analyse_data import *\n",
        "from wsg_games.tictactoe.analysis.visualize_game import *\n",
        "\n",
        "from wsg_games.tictactoe.train.create_models import *\n",
        "from wsg_games.tictactoe.train.save_load_models import *\n",
        "from wsg_games.tictactoe.train.train import *\n",
        "from wsg_games.tictactoe.train.finetune import *\n",
        "from wsg_games.tictactoe.train.pretrain import *"
      ]
    },
    {
      "cell_type": "code",
      "execution_count": 15,
      "metadata": {
        "id": "szlDLZgl1ist"
      },
      "outputs": [],
      "source": [
        "# project_name = \"tictactoe_playground\"\n",
        "# model_size = \"large\"\n",
        "# model_cfg = get_model_config(model_size)\n",
        "# wandb.finish()\n",
        "# model, _, _ = run_full_training(project_name, model_size, Goal.STRONG_GOAL, tictactoe_train_data, tictactoe_val_data, tictactoe_test_data, training_cfg, model_cfg)"
      ]
    },
    {
      "cell_type": "markdown",
      "metadata": {
        "id": "TtXdvXujjy_Z"
      },
      "source": [
        "### Experiments"
      ]
    },
    {
      "cell_type": "code",
      "execution_count": null,
      "metadata": {
        "id": "dp_ENvvSiLF3"
      },
      "outputs": [
        {
          "name": "stdout",
          "output_type": "stream",
          "text": [
            "Moving model to device:  cuda\n"
          ]
        },
        {
          "data": {
            "text/html": [
              "creating run (4.9s)"
            ],
            "text/plain": [
              "<IPython.core.display.HTML object>"
            ]
          },
          "metadata": {},
          "output_type": "display_data"
        },
        {
          "data": {
            "text/html": [
              "Tracking run with wandb version 0.19.8"
            ],
            "text/plain": [
              "<IPython.core.display.HTML object>"
            ]
          },
          "metadata": {},
          "output_type": "display_data"
        },
        {
          "data": {
            "text/html": [
              "Run data is saved locally in <code>/homes/55/bwilop/wsg/WSG_games/wandb/run-20250316_141654-zwpp13rj</code>"
            ],
            "text/plain": [
              "<IPython.core.display.HTML object>"
            ]
          },
          "metadata": {},
          "output_type": "display_data"
        },
        {
          "data": {
            "text/html": [
              "Syncing run <strong><a href='https://wandb.ai/benwilop-rwth-aachen-university/tictactoe_pretrained_forbidden_diagonals_no_overlap_split/runs/zwpp13rj' target=\"_blank\">experiment_huge_weak_2025-03-16-14-16</a></strong> to <a href='https://wandb.ai/benwilop-rwth-aachen-university/tictactoe_pretrained_forbidden_diagonals_no_overlap_split' target=\"_blank\">Weights & Biases</a> (<a href='https://wandb.me/developer-guide' target=\"_blank\">docs</a>)<br>"
            ],
            "text/plain": [
              "<IPython.core.display.HTML object>"
            ]
          },
          "metadata": {},
          "output_type": "display_data"
        },
        {
          "data": {
            "text/html": [
              " View project at <a href='https://wandb.ai/benwilop-rwth-aachen-university/tictactoe_pretrained_forbidden_diagonals_no_overlap_split' target=\"_blank\">https://wandb.ai/benwilop-rwth-aachen-university/tictactoe_pretrained_forbidden_diagonals_no_overlap_split</a>"
            ],
            "text/plain": [
              "<IPython.core.display.HTML object>"
            ]
          },
          "metadata": {},
          "output_type": "display_data"
        },
        {
          "data": {
            "text/html": [
              " View run at <a href='https://wandb.ai/benwilop-rwth-aachen-university/tictactoe_pretrained_forbidden_diagonals_no_overlap_split/runs/zwpp13rj' target=\"_blank\">https://wandb.ai/benwilop-rwth-aachen-university/tictactoe_pretrained_forbidden_diagonals_no_overlap_split/runs/zwpp13rj</a>"
            ],
            "text/plain": [
              "<IPython.core.display.HTML object>"
            ]
          },
          "metadata": {},
          "output_type": "display_data"
        },
        {
          "data": {
            "application/vnd.jupyter.widget-view+json": {
              "model_id": "381239b3c45b469f8d0ba582daa62825",
              "version_major": 2,
              "version_minor": 0
            },
            "text/plain": [
              "Training epochs:   0%|          | 0/1000 [00:00<?, ?it/s]"
            ]
          },
          "metadata": {},
          "output_type": "display_data"
        },
        {
          "data": {
            "application/vnd.jupyter.widget-view+json": {
              "model_id": "754cd5a154144153a80ee7ea4035e223",
              "version_major": 2,
              "version_minor": 0
            },
            "text/plain": [
              "Training batches:   0%|          | 0/910 [00:00<?, ?it/s]"
            ]
          },
          "metadata": {},
          "output_type": "display_data"
        },
        {
          "data": {
            "application/vnd.jupyter.widget-view+json": {
              "model_id": "40351e4bad034164afb5f0f07534fde3",
              "version_major": 2,
              "version_minor": 0
            },
            "text/plain": [
              "Training batches:   0%|          | 0/910 [00:00<?, ?it/s]"
            ]
          },
          "metadata": {},
          "output_type": "display_data"
        },
        {
          "data": {
            "application/vnd.jupyter.widget-view+json": {
              "model_id": "2d6f09d65eee45aa956e1da305ca30b5",
              "version_major": 2,
              "version_minor": 0
            },
            "text/plain": [
              "Training batches:   0%|          | 0/910 [00:00<?, ?it/s]"
            ]
          },
          "metadata": {},
          "output_type": "display_data"
        },
        {
          "data": {
            "application/vnd.jupyter.widget-view+json": {
              "model_id": "36c18c3549724361b22ce7954c737dba",
              "version_major": 2,
              "version_minor": 0
            },
            "text/plain": [
              "Training batches:   0%|          | 0/910 [00:00<?, ?it/s]"
            ]
          },
          "metadata": {},
          "output_type": "display_data"
        },
        {
          "data": {
            "application/vnd.jupyter.widget-view+json": {
              "model_id": "91df4988b0d446fd9c4ceebde9fe7289",
              "version_major": 2,
              "version_minor": 0
            },
            "text/plain": [
              "Training batches:   0%|          | 0/910 [00:00<?, ?it/s]"
            ]
          },
          "metadata": {},
          "output_type": "display_data"
        },
        {
          "data": {
            "application/vnd.jupyter.widget-view+json": {
              "model_id": "6528a3c72cf44df39e02a6d980eeab72",
              "version_major": 2,
              "version_minor": 0
            },
            "text/plain": [
              "Training batches:   0%|          | 0/910 [00:00<?, ?it/s]"
            ]
          },
          "metadata": {},
          "output_type": "display_data"
        },
        {
          "data": {
            "application/vnd.jupyter.widget-view+json": {
              "model_id": "5e47baa19df84d44b2e66843d2684821",
              "version_major": 2,
              "version_minor": 0
            },
            "text/plain": [
              "Training batches:   0%|          | 0/910 [00:00<?, ?it/s]"
            ]
          },
          "metadata": {},
          "output_type": "display_data"
        },
        {
          "data": {
            "application/vnd.jupyter.widget-view+json": {
              "model_id": "c648a377655c42cabb182117f3aef257",
              "version_major": 2,
              "version_minor": 0
            },
            "text/plain": [
              "Training batches:   0%|          | 0/910 [00:00<?, ?it/s]"
            ]
          },
          "metadata": {},
          "output_type": "display_data"
        },
        {
          "data": {
            "application/vnd.jupyter.widget-view+json": {
              "model_id": "7740bedfaed24424b512b2eee8fdda20",
              "version_major": 2,
              "version_minor": 0
            },
            "text/plain": [
              "Training batches:   0%|          | 0/910 [00:00<?, ?it/s]"
            ]
          },
          "metadata": {},
          "output_type": "display_data"
        },
        {
          "data": {
            "application/vnd.jupyter.widget-view+json": {
              "model_id": "60cbb6378f8a49ecaa56f24ff1c6488a",
              "version_major": 2,
              "version_minor": 0
            },
            "text/plain": [
              "Training batches:   0%|          | 0/910 [00:00<?, ?it/s]"
            ]
          },
          "metadata": {},
          "output_type": "display_data"
        },
        {
          "data": {
            "application/vnd.jupyter.widget-view+json": {
              "model_id": "0fa114cdf8334df9adef6f9deaa2dace",
              "version_major": 2,
              "version_minor": 0
            },
            "text/plain": [
              "Training batches:   0%|          | 0/910 [00:00<?, ?it/s]"
            ]
          },
          "metadata": {},
          "output_type": "display_data"
        },
        {
          "data": {
            "application/vnd.jupyter.widget-view+json": {
              "model_id": "4f049b5df2a8415f89b3e80854da656a",
              "version_major": 2,
              "version_minor": 0
            },
            "text/plain": [
              "Training batches:   0%|          | 0/910 [00:00<?, ?it/s]"
            ]
          },
          "metadata": {},
          "output_type": "display_data"
        },
        {
          "data": {
            "application/vnd.jupyter.widget-view+json": {
              "model_id": "293ec849a776487eae9ec403d896bac9",
              "version_major": 2,
              "version_minor": 0
            },
            "text/plain": [
              "Training batches:   0%|          | 0/910 [00:00<?, ?it/s]"
            ]
          },
          "metadata": {},
          "output_type": "display_data"
        },
        {
          "data": {
            "application/vnd.jupyter.widget-view+json": {
              "model_id": "fa49dc1f7aac49959e2c0d73b1fa9384",
              "version_major": 2,
              "version_minor": 0
            },
            "text/plain": [
              "Training batches:   0%|          | 0/910 [00:00<?, ?it/s]"
            ]
          },
          "metadata": {},
          "output_type": "display_data"
        },
        {
          "data": {
            "application/vnd.jupyter.widget-view+json": {
              "model_id": "a209d34d257c4e98b19efa8c3694a29a",
              "version_major": 2,
              "version_minor": 0
            },
            "text/plain": [
              "Training batches:   0%|          | 0/910 [00:00<?, ?it/s]"
            ]
          },
          "metadata": {},
          "output_type": "display_data"
        },
        {
          "data": {
            "application/vnd.jupyter.widget-view+json": {
              "model_id": "c4548d651cbc4cb3b87f0988099423b5",
              "version_major": 2,
              "version_minor": 0
            },
            "text/plain": [
              "Training batches:   0%|          | 0/910 [00:00<?, ?it/s]"
            ]
          },
          "metadata": {},
          "output_type": "display_data"
        },
        {
          "data": {
            "application/vnd.jupyter.widget-view+json": {
              "model_id": "986be6845bb04a6dbfb5909ce46ad4e6",
              "version_major": 2,
              "version_minor": 0
            },
            "text/plain": [
              "Training batches:   0%|          | 0/910 [00:00<?, ?it/s]"
            ]
          },
          "metadata": {},
          "output_type": "display_data"
        },
        {
          "data": {
            "application/vnd.jupyter.widget-view+json": {
              "model_id": "7efea5e373e441afa7b6d570b066efa8",
              "version_major": 2,
              "version_minor": 0
            },
            "text/plain": [
              "Training batches:   0%|          | 0/910 [00:00<?, ?it/s]"
            ]
          },
          "metadata": {},
          "output_type": "display_data"
        },
        {
          "data": {
            "application/vnd.jupyter.widget-view+json": {
              "model_id": "21518e1524654a0d836c98107c5431de",
              "version_major": 2,
              "version_minor": 0
            },
            "text/plain": [
              "Training batches:   0%|          | 0/910 [00:00<?, ?it/s]"
            ]
          },
          "metadata": {},
          "output_type": "display_data"
        },
        {
          "data": {
            "application/vnd.jupyter.widget-view+json": {
              "model_id": "405756c333924ca7832f2dd92412b687",
              "version_major": 2,
              "version_minor": 0
            },
            "text/plain": [
              "Training batches:   0%|          | 0/910 [00:00<?, ?it/s]"
            ]
          },
          "metadata": {},
          "output_type": "display_data"
        },
        {
          "data": {
            "application/vnd.jupyter.widget-view+json": {
              "model_id": "e31d35b94c3745029a3b75800f2b9233",
              "version_major": 2,
              "version_minor": 0
            },
            "text/plain": [
              "Training batches:   0%|          | 0/910 [00:00<?, ?it/s]"
            ]
          },
          "metadata": {},
          "output_type": "display_data"
        },
        {
          "data": {
            "application/vnd.jupyter.widget-view+json": {
              "model_id": "d6f9d1a29c524d97b4eb110a2f80b716",
              "version_major": 2,
              "version_minor": 0
            },
            "text/plain": [
              "Training batches:   0%|          | 0/910 [00:00<?, ?it/s]"
            ]
          },
          "metadata": {},
          "output_type": "display_data"
        },
        {
          "data": {
            "application/vnd.jupyter.widget-view+json": {
              "model_id": "dc2b13a4fd2646d88fcb76c4e110dacf",
              "version_major": 2,
              "version_minor": 0
            },
            "text/plain": [
              "Training batches:   0%|          | 0/910 [00:00<?, ?it/s]"
            ]
          },
          "metadata": {},
          "output_type": "display_data"
        },
        {
          "data": {
            "application/vnd.jupyter.widget-view+json": {
              "model_id": "fbb6bc0f5bd54a88be68b3b7ce922040",
              "version_major": 2,
              "version_minor": 0
            },
            "text/plain": [
              "Training batches:   0%|          | 0/910 [00:00<?, ?it/s]"
            ]
          },
          "metadata": {},
          "output_type": "display_data"
        },
        {
          "data": {
            "application/vnd.jupyter.widget-view+json": {
              "model_id": "b179a415f10441eca3397437f47edcd6",
              "version_major": 2,
              "version_minor": 0
            },
            "text/plain": [
              "Training batches:   0%|          | 0/910 [00:00<?, ?it/s]"
            ]
          },
          "metadata": {},
          "output_type": "display_data"
        },
        {
          "data": {
            "application/vnd.jupyter.widget-view+json": {
              "model_id": "a68e2132863f487d87d4d125e15aae4b",
              "version_major": 2,
              "version_minor": 0
            },
            "text/plain": [
              "Training batches:   0%|          | 0/910 [00:00<?, ?it/s]"
            ]
          },
          "metadata": {},
          "output_type": "display_data"
        },
        {
          "data": {
            "application/vnd.jupyter.widget-view+json": {
              "model_id": "2430125636b04a40bc484c41b819bee2",
              "version_major": 2,
              "version_minor": 0
            },
            "text/plain": [
              "Training batches:   0%|          | 0/910 [00:00<?, ?it/s]"
            ]
          },
          "metadata": {},
          "output_type": "display_data"
        },
        {
          "name": "stdout",
          "output_type": "stream",
          "text": [
            "Early stopping triggered at epoch 26\n"
          ]
        },
        {
          "data": {
            "text/html": [],
            "text/plain": [
              "<IPython.core.display.HTML object>"
            ]
          },
          "metadata": {},
          "output_type": "display_data"
        },
        {
          "data": {
            "text/html": [
              "<br>    <style><br>        .wandb-row {<br>            display: flex;<br>            flex-direction: row;<br>            flex-wrap: wrap;<br>            justify-content: flex-start;<br>            width: 100%;<br>        }<br>        .wandb-col {<br>            display: flex;<br>            flex-direction: column;<br>            flex-basis: 100%;<br>            flex: 1;<br>            padding: 10px;<br>        }<br>    </style><br><div class=\"wandb-row\"><div class=\"wandb-col\"><h3>Run history:</h3><br/><table class=\"wandb\"><tr><td>generative/_check_if_illegal_moves</td><td>█▂▁▂▁▁▁▁▁▁▁▁▁▁▁▁▁▁▂▁▁▁▁▁▁▁▁▁▁▁▁▁</td></tr><tr><td>generative/_check_played_after_game_ends</td><td>▁▁▁▁▁▁▁▁▁▁▁▁▁▁▁▁▁▁▁▁▁▁▁▁▁▁▁▁▁▁▁▁</td></tr><tr><td>generative/_check_played_repeat_moves</td><td>█▂▁▂▁▁▁▁▁▁▁▁▁▁▁▁▁▁▂▁▁▁▁▁▁▁▁▁▁▁▁▁</td></tr><tr><td>generative/inappropriate_end_state</td><td>█▁▁▁▁▁▁▁▁▁▁▁▁▁▁▁▁▁▁▁▁▁▁▁▁▁▁▁▁▁▁▁</td></tr><tr><td>test/illegal_move_chance</td><td>█▄▂▂▂▁▁▁▁▁▁▁▁▁▁▁▁▁▁▁▁▁▁▁▁▁▁▁▁▁▁▁▁▁▁▁▁▁▁▁</td></tr><tr><td>test/random_loss</td><td>▁▁▂▂▂▂▃▃▄▄▅▅▅▅▅▆▆▆▆▇▆▆▆▆▇▆▇▇▇▇▇▇▇███████</td></tr><tr><td>test/strong_accuracy</td><td>▁▇▆█▆▃▆▆▆▆▆▆▃▆▇▃█▇▇▇▇█▆▇▆▃▇▇▆▆▆▆▇▆▇▅▇▅█▆</td></tr><tr><td>test/strong_loss</td><td>▁▁▁▁▁▂▃▃▄▄▅▄▅▅▅▅▅▆▆▅▅▅▆▇▆▆▆▆▇▅▆▇▆█▆▆▆▇▇▆</td></tr><tr><td>test/weak_accuracy</td><td>▁▅██████████████████████████▇█████████▇█</td></tr><tr><td>test/weak_loss</td><td>▇█▇▅▆▄▄▄▄▄▃▃▃▄▃▅▄▂▃▂▃▂▃▃▁▅▄▂▃▄▂▂▄▃▂▃▂▁▃▂</td></tr><tr><td>train/illegal_move_chance</td><td>▆▆▄▄▅▄▃▄▃▇▇▃▁▅▃▆▄▄▄▁▅▄▅█▄▅▅▄▄▂▅▃▇▃▂▄▅▂▄▂</td></tr><tr><td>train/random_loss</td><td>▁▂▄▄▄▅▅▄▅▅▆▆▆▆▆▇▆▇▇▆▇▇▇▇▇██████▇████████</td></tr><tr><td>train/strong_accuracy</td><td>▁▃▄▃▃▃▁▄▆▇▃▂▄▆▆▃▃▃▄▄▃▃▄▂▄▆▂▅▆▁▂██▅▇▃▄▄▃▃</td></tr><tr><td>train/strong_loss</td><td>▁▁▂▂▃▄▄▅▅▄▅▅▅▅▅▇▇▆▆▆▇▇▇▇▇█▆▇▇▇▇▇▇▇▇▇████</td></tr><tr><td>train/weak_accuracy</td><td>▁▃▄▂▅▃▃▅▃▃▆▄▄▆▄▃▆▇▅▅▄▅▅▄▅▆▄▅▂▄▆▆▆▅▅█▇▆█▅</td></tr><tr><td>train/weak_loss</td><td>█▆▃▂▂▂▂▁▁▁▁▁▁▁▁▁▁▁▁▁▁▁▁▁▁▁▁▁▁▁▁▁▁▁▁▁▁▁▁▁</td></tr><tr><td>val/best_epoch</td><td>▁▁▂▂▂▃▃▃▃▃▃▅▅▅▅▅▆▆▆▆███████</td></tr><tr><td>val/val_loss</td><td>█▇▅▅▄▄▄▄▆▅▅▂▅▄▃▃▂▃▄▃▁▁▂▂▁▂▃</td></tr></table><br/></div><div class=\"wandb-col\"><h3>Run summary:</h3><br/><table class=\"wandb\"><tr><td>generative/_check_if_illegal_moves</td><td>0</td></tr><tr><td>generative/_check_played_after_game_ends</td><td>0</td></tr><tr><td>generative/_check_played_repeat_moves</td><td>0</td></tr><tr><td>generative/inappropriate_end_state</td><td>0</td></tr><tr><td>test/illegal_move_chance</td><td>0.00078</td></tr><tr><td>test/random_loss</td><td>3.50235</td></tr><tr><td>test/strong_accuracy</td><td>0.7191</td></tr><tr><td>test/strong_loss</td><td>2.61504</td></tr><tr><td>test/weak_accuracy</td><td>0.9575</td></tr><tr><td>test/weak_loss</td><td>0.79097</td></tr><tr><td>train/illegal_move_chance</td><td>0.58282</td></tr><tr><td>train/random_loss</td><td>4.07664</td></tr><tr><td>train/strong_accuracy</td><td>0.4885</td></tr><tr><td>train/strong_loss</td><td>3.00199</td></tr><tr><td>train/weak_accuracy</td><td>0.6833</td></tr><tr><td>train/weak_loss</td><td>0.64904</td></tr><tr><td>val/best_epoch</td><td>21</td></tr><tr><td>val/val_loss</td><td>0.8215</td></tr></table><br/></div></div>"
            ],
            "text/plain": [
              "<IPython.core.display.HTML object>"
            ]
          },
          "metadata": {},
          "output_type": "display_data"
        },
        {
          "data": {
            "text/html": [
              " View run <strong style=\"color:#cdcd00\">experiment_huge_weak_2025-03-16-14-16</strong> at: <a href='https://wandb.ai/benwilop-rwth-aachen-university/tictactoe_pretrained_forbidden_diagonals_no_overlap_split/runs/zwpp13rj' target=\"_blank\">https://wandb.ai/benwilop-rwth-aachen-university/tictactoe_pretrained_forbidden_diagonals_no_overlap_split/runs/zwpp13rj</a><br> View project at: <a href='https://wandb.ai/benwilop-rwth-aachen-university/tictactoe_pretrained_forbidden_diagonals_no_overlap_split' target=\"_blank\">https://wandb.ai/benwilop-rwth-aachen-university/tictactoe_pretrained_forbidden_diagonals_no_overlap_split</a><br>Synced 5 W&B file(s), 0 media file(s), 0 artifact file(s) and 0 other file(s)"
            ],
            "text/plain": [
              "<IPython.core.display.HTML object>"
            ]
          },
          "metadata": {},
          "output_type": "display_data"
        },
        {
          "data": {
            "text/html": [
              "Find logs at: <code>./wandb/run-20250316_141654-zwpp13rj/logs</code>"
            ],
            "text/plain": [
              "<IPython.core.display.HTML object>"
            ]
          },
          "metadata": {},
          "output_type": "display_data"
        },
        {
          "name": "stdout",
          "output_type": "stream",
          "text": [
            "Model saved to /homes/55/bwilop/wsg/experiments//tictactoe_pretrained_forbidden_diagonals_no_overlap_split/experiment_huge_weak_2025-03-16-14-16_zwpp13rj.pkl\n",
            "Moving model to device:  cpu\n",
            "Moving model to device:  cuda\n"
          ]
        },
        {
          "data": {
            "text/html": [
              "creating run (4.9s)"
            ],
            "text/plain": [
              "<IPython.core.display.HTML object>"
            ]
          },
          "metadata": {},
          "output_type": "display_data"
        },
        {
          "data": {
            "text/html": [
              "Tracking run with wandb version 0.19.8"
            ],
            "text/plain": [
              "<IPython.core.display.HTML object>"
            ]
          },
          "metadata": {},
          "output_type": "display_data"
        },
        {
          "data": {
            "text/html": [
              "Run data is saved locally in <code>/homes/55/bwilop/wsg/WSG_games/wandb/run-20250316_143532-gz5eav8q</code>"
            ],
            "text/plain": [
              "<IPython.core.display.HTML object>"
            ]
          },
          "metadata": {},
          "output_type": "display_data"
        },
        {
          "data": {
            "text/html": [
              "Syncing run <strong><a href='https://wandb.ai/benwilop-rwth-aachen-university/tictactoe_pretrained_forbidden_diagonals_no_overlap_split/runs/gz5eav8q' target=\"_blank\">experiment_huge_strong_2025-03-16-14-35</a></strong> to <a href='https://wandb.ai/benwilop-rwth-aachen-university/tictactoe_pretrained_forbidden_diagonals_no_overlap_split' target=\"_blank\">Weights & Biases</a> (<a href='https://wandb.me/developer-guide' target=\"_blank\">docs</a>)<br>"
            ],
            "text/plain": [
              "<IPython.core.display.HTML object>"
            ]
          },
          "metadata": {},
          "output_type": "display_data"
        },
        {
          "data": {
            "text/html": [
              " View project at <a href='https://wandb.ai/benwilop-rwth-aachen-university/tictactoe_pretrained_forbidden_diagonals_no_overlap_split' target=\"_blank\">https://wandb.ai/benwilop-rwth-aachen-university/tictactoe_pretrained_forbidden_diagonals_no_overlap_split</a>"
            ],
            "text/plain": [
              "<IPython.core.display.HTML object>"
            ]
          },
          "metadata": {},
          "output_type": "display_data"
        },
        {
          "data": {
            "text/html": [
              " View run at <a href='https://wandb.ai/benwilop-rwth-aachen-university/tictactoe_pretrained_forbidden_diagonals_no_overlap_split/runs/gz5eav8q' target=\"_blank\">https://wandb.ai/benwilop-rwth-aachen-university/tictactoe_pretrained_forbidden_diagonals_no_overlap_split/runs/gz5eav8q</a>"
            ],
            "text/plain": [
              "<IPython.core.display.HTML object>"
            ]
          },
          "metadata": {},
          "output_type": "display_data"
        },
        {
          "data": {
            "application/vnd.jupyter.widget-view+json": {
              "model_id": "3dd6aef03a984ba78ccf43a9ade70e2b",
              "version_major": 2,
              "version_minor": 0
            },
            "text/plain": [
              "Training epochs:   0%|          | 0/1000 [00:00<?, ?it/s]"
            ]
          },
          "metadata": {},
          "output_type": "display_data"
        },
        {
          "data": {
            "application/vnd.jupyter.widget-view+json": {
              "model_id": "4cdd5f01f2dd4981b9562b1fc7a0f3be",
              "version_major": 2,
              "version_minor": 0
            },
            "text/plain": [
              "Training batches:   0%|          | 0/910 [00:00<?, ?it/s]"
            ]
          },
          "metadata": {},
          "output_type": "display_data"
        },
        {
          "data": {
            "application/vnd.jupyter.widget-view+json": {
              "model_id": "23214214691e445ab442fc6fa97fc4c2",
              "version_major": 2,
              "version_minor": 0
            },
            "text/plain": [
              "Training batches:   0%|          | 0/910 [00:00<?, ?it/s]"
            ]
          },
          "metadata": {},
          "output_type": "display_data"
        },
        {
          "data": {
            "application/vnd.jupyter.widget-view+json": {
              "model_id": "7820826088334d0cae567811a17fd0f2",
              "version_major": 2,
              "version_minor": 0
            },
            "text/plain": [
              "Training batches:   0%|          | 0/910 [00:00<?, ?it/s]"
            ]
          },
          "metadata": {},
          "output_type": "display_data"
        },
        {
          "data": {
            "application/vnd.jupyter.widget-view+json": {
              "model_id": "577bc83649cd4f8d9f964d97f840f8c5",
              "version_major": 2,
              "version_minor": 0
            },
            "text/plain": [
              "Training batches:   0%|          | 0/910 [00:00<?, ?it/s]"
            ]
          },
          "metadata": {},
          "output_type": "display_data"
        },
        {
          "data": {
            "application/vnd.jupyter.widget-view+json": {
              "model_id": "884c94014d2c492288309b5505702b0d",
              "version_major": 2,
              "version_minor": 0
            },
            "text/plain": [
              "Training batches:   0%|          | 0/910 [00:00<?, ?it/s]"
            ]
          },
          "metadata": {},
          "output_type": "display_data"
        },
        {
          "data": {
            "application/vnd.jupyter.widget-view+json": {
              "model_id": "9e5b476192e64228b7815a411728c386",
              "version_major": 2,
              "version_minor": 0
            },
            "text/plain": [
              "Training batches:   0%|          | 0/910 [00:00<?, ?it/s]"
            ]
          },
          "metadata": {},
          "output_type": "display_data"
        },
        {
          "data": {
            "application/vnd.jupyter.widget-view+json": {
              "model_id": "37391d65db6d4f42a1c4df76560f2d57",
              "version_major": 2,
              "version_minor": 0
            },
            "text/plain": [
              "Training batches:   0%|          | 0/910 [00:00<?, ?it/s]"
            ]
          },
          "metadata": {},
          "output_type": "display_data"
        },
        {
          "data": {
            "application/vnd.jupyter.widget-view+json": {
              "model_id": "5d941eed0ad744d9a08b68892f624fc8",
              "version_major": 2,
              "version_minor": 0
            },
            "text/plain": [
              "Training batches:   0%|          | 0/910 [00:00<?, ?it/s]"
            ]
          },
          "metadata": {},
          "output_type": "display_data"
        },
        {
          "data": {
            "application/vnd.jupyter.widget-view+json": {
              "model_id": "17aa2c2fa19f452caf27f5f4cc34bbc6",
              "version_major": 2,
              "version_minor": 0
            },
            "text/plain": [
              "Training batches:   0%|          | 0/910 [00:00<?, ?it/s]"
            ]
          },
          "metadata": {},
          "output_type": "display_data"
        },
        {
          "data": {
            "application/vnd.jupyter.widget-view+json": {
              "model_id": "2f55edbe58324b31989adbed1b931f99",
              "version_major": 2,
              "version_minor": 0
            },
            "text/plain": [
              "Training batches:   0%|          | 0/910 [00:00<?, ?it/s]"
            ]
          },
          "metadata": {},
          "output_type": "display_data"
        },
        {
          "data": {
            "application/vnd.jupyter.widget-view+json": {
              "model_id": "2e8ab4d895d6466bb60893c685e68b07",
              "version_major": 2,
              "version_minor": 0
            },
            "text/plain": [
              "Training batches:   0%|          | 0/910 [00:00<?, ?it/s]"
            ]
          },
          "metadata": {},
          "output_type": "display_data"
        },
        {
          "data": {
            "application/vnd.jupyter.widget-view+json": {
              "model_id": "265355bef3eb4876b5be799a6efbf568",
              "version_major": 2,
              "version_minor": 0
            },
            "text/plain": [
              "Training batches:   0%|          | 0/910 [00:00<?, ?it/s]"
            ]
          },
          "metadata": {},
          "output_type": "display_data"
        },
        {
          "data": {
            "application/vnd.jupyter.widget-view+json": {
              "model_id": "8b24dc31c7124b8197d07a34316d32b1",
              "version_major": 2,
              "version_minor": 0
            },
            "text/plain": [
              "Training batches:   0%|          | 0/910 [00:00<?, ?it/s]"
            ]
          },
          "metadata": {},
          "output_type": "display_data"
        },
        {
          "data": {
            "application/vnd.jupyter.widget-view+json": {
              "model_id": "b6aa01bf18244c239f4ac9496ec54854",
              "version_major": 2,
              "version_minor": 0
            },
            "text/plain": [
              "Training batches:   0%|          | 0/910 [00:00<?, ?it/s]"
            ]
          },
          "metadata": {},
          "output_type": "display_data"
        },
        {
          "name": "stdout",
          "output_type": "stream",
          "text": [
            "Early stopping triggered at epoch 13\n"
          ]
        },
        {
          "data": {
            "text/html": [],
            "text/plain": [
              "<IPython.core.display.HTML object>"
            ]
          },
          "metadata": {},
          "output_type": "display_data"
        },
        {
          "data": {
            "text/html": [
              "<br>    <style><br>        .wandb-row {<br>            display: flex;<br>            flex-direction: row;<br>            flex-wrap: wrap;<br>            justify-content: flex-start;<br>            width: 100%;<br>        }<br>        .wandb-col {<br>            display: flex;<br>            flex-direction: column;<br>            flex-basis: 100%;<br>            flex: 1;<br>            padding: 10px;<br>        }<br>    </style><br><div class=\"wandb-row\"><div class=\"wandb-col\"><h3>Run history:</h3><br/><table class=\"wandb\"><tr><td>generative/_check_if_illegal_moves</td><td>█▃▂▂▁▁▁▁▁▁▁▁▁▁▁▁▂</td></tr><tr><td>generative/_check_played_after_game_ends</td><td>▁▁▁▁▁▁▁▁▁▁▁▁▁▁▁▁▁</td></tr><tr><td>generative/_check_played_repeat_moves</td><td>█▂▂▂▁▁▁▁▁▁▁▁▁▁▁▁▂</td></tr><tr><td>generative/inappropriate_end_state</td><td>█▂▁▁▁▁▁▁▁▁▁▁▁▁▁▁▁</td></tr><tr><td>test/illegal_move_chance</td><td>█▅▂▂▂▂▁▂▁▁▁▁▁▁▁▁▁▁▁▁▁▁▁▁▁▁▁▁▁▁▁▁▁▁▁▁▁▁▁▁</td></tr><tr><td>test/random_loss</td><td>▁▂▁▂▂▂▃▃▃▃▃▃▃▃▃▄▃▃▄▃▃▄▄▅▄▅▅▆▅▆▅▆▇▆▆█▇▆▇▇</td></tr><tr><td>test/strong_accuracy</td><td>▁▆▆▇▇▇▇▇▇▇▇████████████▇██████▇▇███▇████</td></tr><tr><td>test/strong_loss</td><td>▇█▇▄▃▃▃▂▃▂▃▃▂▂▃▂▂▂▂▂▂▂▂▂▂▂▂▂▂▁▂▁▁▂▂▂▂▂▁▂</td></tr><tr><td>test/weak_accuracy</td><td>▁▅▃▄▄▆▆▅▅▇▅▅▆▆▇▅▆▆▇▆▅▇█▆▇▇▆▆▇▇▅▅▅▇▇▆▇▇▇▆</td></tr><tr><td>test/weak_loss</td><td>▃▁▁▂▂▃▃▄▂▃▃▃▄▂▄▄▄▄▄▅▅▅▅▄▇▆▆▆▇▆█▆▆▆▆▇▇█▇▇</td></tr><tr><td>train/illegal_move_chance</td><td>█▂▁▁▁▁▁▁▁▁▁▁▁▁▁▁▁▁▁▁▁▁▁▁▁▁▁▁▁▁▁▁▁▁▁▁▁▁▁▁</td></tr><tr><td>train/random_loss</td><td>▁▂▃▃▃▃▃▃▃▃▄▄▄▅▅▅▅▅▅▅▅▅▆▆▆▆▆▆▆▆▆▇▇▇▇▇▇█▇█</td></tr><tr><td>train/strong_accuracy</td><td>▁▇▇▇▇▇█▇▇▇████▇▇█▇████▇████▇████████████</td></tr><tr><td>train/strong_loss</td><td>█▇▆▅▃▃▃▂▃▂▂▂▂▂▂▂▂▂▂▂▁▁▁▁▁▁▁▁▁▁▁▁▁▁▁▁▁▁▁▁</td></tr><tr><td>train/weak_accuracy</td><td>▁▄▇▇▇▇▇▇▇▇▇▇█▆▇▇▆▇█▇▇▇▇▇▇▇▆▇█▇█▇▇▇▇▇█▇▇▇</td></tr><tr><td>train/weak_loss</td><td>▁▂▂▂▂▂▃▃▃▄▄▄▄▄▄▆▅▆▆▆▆▆▆▆▆▆▇▇▇██▇▇▇▇█▇█▇█</td></tr><tr><td>val/best_epoch</td><td>▁▂▂▂▅▅▅▅██████</td></tr><tr><td>val/val_loss</td><td>█▆▆▆▄▂▅▄▁▃▂▄▄▁</td></tr></table><br/></div><div class=\"wandb-col\"><h3>Run summary:</h3><br/><table class=\"wandb\"><tr><td>generative/_check_if_illegal_moves</td><td>0.1</td></tr><tr><td>generative/_check_played_after_game_ends</td><td>0</td></tr><tr><td>generative/_check_played_repeat_moves</td><td>0.1</td></tr><tr><td>generative/inappropriate_end_state</td><td>0</td></tr><tr><td>test/illegal_move_chance</td><td>0.00125</td></tr><tr><td>test/random_loss</td><td>3.28989</td></tr><tr><td>test/strong_accuracy</td><td>0.9508</td></tr><tr><td>test/strong_loss</td><td>0.88695</td></tr><tr><td>test/weak_accuracy</td><td>0.7994</td></tr><tr><td>test/weak_loss</td><td>2.76491</td></tr><tr><td>train/illegal_move_chance</td><td>0.57846</td></tr><tr><td>train/random_loss</td><td>3.98666</td></tr><tr><td>train/strong_accuracy</td><td>0.7038</td></tr><tr><td>train/strong_loss</td><td>0.59862</td></tr><tr><td>train/weak_accuracy</td><td>0.504</td></tr><tr><td>train/weak_loss</td><td>3.18641</td></tr><tr><td>val/best_epoch</td><td>8</td></tr><tr><td>val/val_loss</td><td>0.8546</td></tr></table><br/></div></div>"
            ],
            "text/plain": [
              "<IPython.core.display.HTML object>"
            ]
          },
          "metadata": {},
          "output_type": "display_data"
        },
        {
          "data": {
            "text/html": [
              " View run <strong style=\"color:#cdcd00\">experiment_huge_strong_2025-03-16-14-35</strong> at: <a href='https://wandb.ai/benwilop-rwth-aachen-university/tictactoe_pretrained_forbidden_diagonals_no_overlap_split/runs/gz5eav8q' target=\"_blank\">https://wandb.ai/benwilop-rwth-aachen-university/tictactoe_pretrained_forbidden_diagonals_no_overlap_split/runs/gz5eav8q</a><br> View project at: <a href='https://wandb.ai/benwilop-rwth-aachen-university/tictactoe_pretrained_forbidden_diagonals_no_overlap_split' target=\"_blank\">https://wandb.ai/benwilop-rwth-aachen-university/tictactoe_pretrained_forbidden_diagonals_no_overlap_split</a><br>Synced 5 W&B file(s), 0 media file(s), 0 artifact file(s) and 0 other file(s)"
            ],
            "text/plain": [
              "<IPython.core.display.HTML object>"
            ]
          },
          "metadata": {},
          "output_type": "display_data"
        },
        {
          "data": {
            "text/html": [
              "Find logs at: <code>./wandb/run-20250316_143532-gz5eav8q/logs</code>"
            ],
            "text/plain": [
              "<IPython.core.display.HTML object>"
            ]
          },
          "metadata": {},
          "output_type": "display_data"
        },
        {
          "name": "stdout",
          "output_type": "stream",
          "text": [
            "Model saved to /homes/55/bwilop/wsg/experiments//tictactoe_pretrained_forbidden_diagonals_no_overlap_split/experiment_huge_strong_2025-03-16-14-35_gz5eav8q.pkl\n",
            "Moving model to device:  cpu\n"
          ]
        }
      ],
      "source": [
        "project_name = \"tictactoe_pretrained_forbidden_diagonals_no_overlap_split\"\n",
        "# pretrain_models(experiment_folder, project_name, tictactoe_train_data, tictactoe_val_data, tictactoe_test_data, training_cfg, get_model_config)"
      ]
    },
    {
      "cell_type": "code",
      "execution_count": 29,
      "metadata": {
        "id": "-UammRfNkGPt"
      },
      "outputs": [
        {
          "name": "stdout",
          "output_type": "stream",
          "text": [
            "Loading model from /homes/55/bwilop/wsg/experiments//tictactoe_pretrained_forbidden_diagonals_no_overlap_split/experiment_nano_weak_2025-03-16-13-02_6grwjeyg.pkl\n",
            "Moving model to device:  cpu\n",
            "Loading model from /homes/55/bwilop/wsg/experiments//tictactoe_pretrained_forbidden_diagonals_no_overlap_split/experiment_nano_strong_2025-03-16-13-04_ic1eb75q.pkl\n",
            "Moving model to device:  cpu\n",
            "Loading model from /homes/55/bwilop/wsg/experiments//tictactoe_pretrained_forbidden_diagonals_no_overlap_split/experiment_micro_weak_2025-03-16-13-07_v9nchi68.pkl\n",
            "Moving model to device:  cpu\n",
            "Loading model from /homes/55/bwilop/wsg/experiments//tictactoe_pretrained_forbidden_diagonals_no_overlap_split/experiment_micro_strong_2025-03-16-13-12_bg28wyjd.pkl\n",
            "Moving model to device:  cpu\n",
            "Loading model from /homes/55/bwilop/wsg/experiments//tictactoe_pretrained_forbidden_diagonals_no_overlap_split/experiment_mini_weak_2025-03-16-13-14_t7xv22jn.pkl\n",
            "Moving model to device:  cpu\n",
            "Loading model from /homes/55/bwilop/wsg/experiments//tictactoe_pretrained_forbidden_diagonals_no_overlap_split/experiment_mini_strong_2025-03-16-13-17_6jrlo0ha.pkl\n",
            "Moving model to device:  cpu\n",
            "Loading model from /homes/55/bwilop/wsg/experiments//tictactoe_pretrained_forbidden_diagonals_no_overlap_split/experiment_small_weak_2025-03-16-13-19_w9y4umib.pkl\n",
            "Moving model to device:  cpu\n",
            "Loading model from /homes/55/bwilop/wsg/experiments//tictactoe_pretrained_forbidden_diagonals_no_overlap_split/experiment_small_strong_2025-03-16-13-28_a8jjiz9g.pkl\n",
            "Moving model to device:  cpu\n",
            "Loading model from /homes/55/bwilop/wsg/experiments//tictactoe_pretrained_forbidden_diagonals_no_overlap_split/experiment_medium_weak_2025-03-16-13-30_3uudsequ.pkl\n",
            "Moving model to device:  cpu\n",
            "Loading model from /homes/55/bwilop/wsg/experiments//tictactoe_pretrained_forbidden_diagonals_no_overlap_split/experiment_medium_strong_2025-03-16-13-40_6rg1q835.pkl\n",
            "Moving model to device:  cpu\n",
            "Loading model from /homes/55/bwilop/wsg/experiments//tictactoe_pretrained_forbidden_diagonals_no_overlap_split/experiment_large_weak_2025-03-16-13-48_za94y3zk.pkl\n",
            "Moving model to device:  cpu\n",
            "Loading model from /homes/55/bwilop/wsg/experiments//tictactoe_pretrained_forbidden_diagonals_no_overlap_split/experiment_large_strong_2025-03-16-13-57_41ep66lp.pkl\n",
            "Moving model to device:  cpu\n",
            "Loading model from /homes/55/bwilop/wsg/experiments//tictactoe_pretrained_forbidden_diagonals_no_overlap_split/experiment_huge_weak_2025-03-16-14-16_zwpp13rj.pkl\n",
            "Moving model to device:  cpu\n",
            "Loading model from /homes/55/bwilop/wsg/experiments//tictactoe_pretrained_forbidden_diagonals_no_overlap_split/experiment_huge_strong_2025-03-16-14-35_gz5eav8q.pkl\n",
            "Moving model to device:  cpu\n",
            "No model files found for size gigantic and goal weak\n",
            "No model files found for size gigantic and goal strong\n"
          ]
        },
        {
          "data": {
            "image/png": "[encoded data removed]",
            "text/plain": [
              "<Figure size 1400x600 with 2 Axes>"
            ]
          },
          "metadata": {},
          "output_type": "display_data"
        }
      ],
      "source": [
        "plot_loss_pretrain_models(experiment_folder, project_name, tictactoe_test_data)"
      ]
    },
    {
      "cell_type": "code",
      "execution_count": null,
      "metadata": {},
      "outputs": [],
      "source": []
    },
    {
      "cell_type": "code",
      "execution_count": 33,
      "metadata": {
        "id": "fER3-VgSv1nU"
      },
      "outputs": [
        {
          "name": "stdout",
          "output_type": "stream",
          "text": [
            "Error in callback <bound method _WandbInit._resume_backend of <wandb.sdk.wandb_init._WandbInit object at 0x7f66fc497a90>> (for pre_run_cell), with arguments args (<ExecutionInfo object at 7f66fc7b9990, raw_cell=\"project_name = \"tictactoe_pretrained_forbidden_dia..\" store_history=True silent=False shell_futures=True cell_id=vscode-notebook-cell://ssh-remote%2Btorrnode1/homes/55/bwilop/wsg/WSG_games/playground_WSG_games.ipynb#X34sdnNjb2RlLXJlbW90ZQ%3D%3D>,),kwargs {}:\n"
          ]
        },
        {
          "ename": "BrokenPipeError",
          "evalue": "[Errno 32] Broken pipe",
          "output_type": "error",
          "traceback": [
            "\u001b[31m---------------------------------------------------------------------------\u001b[39m",
            "\u001b[31mBrokenPipeError\u001b[39m                           Traceback (most recent call last)",
            "\u001b[36mFile \u001b[39m\u001b[32m~/.venv/lib/python3.11/site-packages/wandb/sdk/wandb_init.py:570\u001b[39m, in \u001b[36m_WandbInit._resume_backend\u001b[39m\u001b[34m(self, *args, **kwargs)\u001b[39m\n\u001b[32m    568\u001b[39m \u001b[38;5;28;01mif\u001b[39;00m \u001b[38;5;28mself\u001b[39m.backend \u001b[38;5;129;01mis\u001b[39;00m \u001b[38;5;129;01mnot\u001b[39;00m \u001b[38;5;28;01mNone\u001b[39;00m \u001b[38;5;129;01mand\u001b[39;00m \u001b[38;5;28mself\u001b[39m.backend.interface \u001b[38;5;129;01mis\u001b[39;00m \u001b[38;5;129;01mnot\u001b[39;00m \u001b[38;5;28;01mNone\u001b[39;00m:\n\u001b[32m    569\u001b[39m     \u001b[38;5;28mself\u001b[39m._logger.info(\u001b[33m\"\u001b[39m\u001b[33mresuming backend\u001b[39m\u001b[33m\"\u001b[39m)  \u001b[38;5;66;03m# type: ignore\u001b[39;00m\n\u001b[32m--> \u001b[39m\u001b[32m570\u001b[39m     \u001b[38;5;28;43mself\u001b[39;49m\u001b[43m.\u001b[49m\u001b[43mbackend\u001b[49m\u001b[43m.\u001b[49m\u001b[43minterface\u001b[49m\u001b[43m.\u001b[49m\u001b[43mpublish_resume\u001b[49m\u001b[43m(\u001b[49m\u001b[43m)\u001b[49m\n",
            "\u001b[36mFile \u001b[39m\u001b[32m~/.venv/lib/python3.11/site-packages/wandb/sdk/interface/interface.py:777\u001b[39m, in \u001b[36mInterfaceBase.publish_resume\u001b[39m\u001b[34m(self)\u001b[39m\n\u001b[32m    775\u001b[39m \u001b[38;5;28;01mdef\u001b[39;00m\u001b[38;5;250m \u001b[39m\u001b[34mpublish_resume\u001b[39m(\u001b[38;5;28mself\u001b[39m) -> \u001b[38;5;28;01mNone\u001b[39;00m:\n\u001b[32m    776\u001b[39m     resume = pb.ResumeRequest()\n\u001b[32m--> \u001b[39m\u001b[32m777\u001b[39m     \u001b[38;5;28;43mself\u001b[39;49m\u001b[43m.\u001b[49m\u001b[43m_publish_resume\u001b[49m\u001b[43m(\u001b[49m\u001b[43mresume\u001b[49m\u001b[43m)\u001b[49m\n",
            "\u001b[36mFile \u001b[39m\u001b[32m~/.venv/lib/python3.11/site-packages/wandb/sdk/interface/interface_shared.py:293\u001b[39m, in \u001b[36mInterfaceShared._publish_resume\u001b[39m\u001b[34m(self, resume)\u001b[39m\n\u001b[32m    291\u001b[39m \u001b[38;5;28;01mdef\u001b[39;00m\u001b[38;5;250m \u001b[39m\u001b[34m_publish_resume\u001b[39m(\u001b[38;5;28mself\u001b[39m, resume: pb.ResumeRequest) -> \u001b[38;5;28;01mNone\u001b[39;00m:\n\u001b[32m    292\u001b[39m     rec = \u001b[38;5;28mself\u001b[39m._make_request(resume=resume)\n\u001b[32m--> \u001b[39m\u001b[32m293\u001b[39m     \u001b[38;5;28;43mself\u001b[39;49m\u001b[43m.\u001b[49m\u001b[43m_publish\u001b[49m\u001b[43m(\u001b[49m\u001b[43mrec\u001b[49m\u001b[43m)\u001b[49m\n",
            "\u001b[36mFile \u001b[39m\u001b[32m~/.venv/lib/python3.11/site-packages/wandb/sdk/interface/interface_sock.py:39\u001b[39m, in \u001b[36mInterfaceSock._publish\u001b[39m\u001b[34m(self, record, local)\u001b[39m\n\u001b[32m     37\u001b[39m \u001b[38;5;28;01mdef\u001b[39;00m\u001b[38;5;250m \u001b[39m\u001b[34m_publish\u001b[39m(\u001b[38;5;28mself\u001b[39m, record: \u001b[33m\"\u001b[39m\u001b[33mpb.Record\u001b[39m\u001b[33m\"\u001b[39m, local: Optional[\u001b[38;5;28mbool\u001b[39m] = \u001b[38;5;28;01mNone\u001b[39;00m) -> \u001b[38;5;28;01mNone\u001b[39;00m:\n\u001b[32m     38\u001b[39m     \u001b[38;5;28mself\u001b[39m._assign(record)\n\u001b[32m---> \u001b[39m\u001b[32m39\u001b[39m     \u001b[38;5;28;43mself\u001b[39;49m\u001b[43m.\u001b[49m\u001b[43m_sock_client\u001b[49m\u001b[43m.\u001b[49m\u001b[43msend_record_publish\u001b[49m\u001b[43m(\u001b[49m\u001b[43mrecord\u001b[49m\u001b[43m)\u001b[49m\n",
            "\u001b[36mFile \u001b[39m\u001b[32m~/.venv/lib/python3.11/site-packages/wandb/sdk/lib/sock_client.py:174\u001b[39m, in \u001b[36mSockClient.send_record_publish\u001b[39m\u001b[34m(self, record)\u001b[39m\n\u001b[32m    172\u001b[39m server_req.request_id = record.control.mailbox_slot\n\u001b[32m    173\u001b[39m server_req.record_publish.CopyFrom(record)\n\u001b[32m--> \u001b[39m\u001b[32m174\u001b[39m \u001b[38;5;28;43mself\u001b[39;49m\u001b[43m.\u001b[49m\u001b[43msend_server_request\u001b[49m\u001b[43m(\u001b[49m\u001b[43mserver_req\u001b[49m\u001b[43m)\u001b[49m\n",
            "\u001b[36mFile \u001b[39m\u001b[32m~/.venv/lib/python3.11/site-packages/wandb/sdk/lib/sock_client.py:154\u001b[39m, in \u001b[36mSockClient.send_server_request\u001b[39m\u001b[34m(self, msg)\u001b[39m\n\u001b[32m    153\u001b[39m \u001b[38;5;28;01mdef\u001b[39;00m\u001b[38;5;250m \u001b[39m\u001b[34msend_server_request\u001b[39m(\u001b[38;5;28mself\u001b[39m, msg: spb.ServerRequest) -> \u001b[38;5;28;01mNone\u001b[39;00m:\n\u001b[32m--> \u001b[39m\u001b[32m154\u001b[39m     \u001b[38;5;28;43mself\u001b[39;49m\u001b[43m.\u001b[49m\u001b[43m_send_message\u001b[49m\u001b[43m(\u001b[49m\u001b[43mmsg\u001b[49m\u001b[43m)\u001b[49m\n",
            "\u001b[36mFile \u001b[39m\u001b[32m~/.venv/lib/python3.11/site-packages/wandb/sdk/lib/sock_client.py:151\u001b[39m, in \u001b[36mSockClient._send_message\u001b[39m\u001b[34m(self, msg)\u001b[39m\n\u001b[32m    149\u001b[39m header = struct.pack(\u001b[33m\"\u001b[39m\u001b[33m<BI\u001b[39m\u001b[33m\"\u001b[39m, \u001b[38;5;28mord\u001b[39m(\u001b[33m\"\u001b[39m\u001b[33mW\u001b[39m\u001b[33m\"\u001b[39m), raw_size)\n\u001b[32m    150\u001b[39m \u001b[38;5;28;01mwith\u001b[39;00m \u001b[38;5;28mself\u001b[39m._lock:\n\u001b[32m--> \u001b[39m\u001b[32m151\u001b[39m     \u001b[38;5;28;43mself\u001b[39;49m\u001b[43m.\u001b[49m\u001b[43m_sendall_with_error_handle\u001b[49m\u001b[43m(\u001b[49m\u001b[43mheader\u001b[49m\u001b[43m \u001b[49m\u001b[43m+\u001b[49m\u001b[43m \u001b[49m\u001b[43mdata\u001b[49m\u001b[43m)\u001b[49m\n",
            "\u001b[36mFile \u001b[39m\u001b[32m~/.venv/lib/python3.11/site-packages/wandb/sdk/lib/sock_client.py:130\u001b[39m, in \u001b[36mSockClient._sendall_with_error_handle\u001b[39m\u001b[34m(self, data)\u001b[39m\n\u001b[32m    128\u001b[39m start_time = time.monotonic()\n\u001b[32m    129\u001b[39m \u001b[38;5;28;01mtry\u001b[39;00m:\n\u001b[32m--> \u001b[39m\u001b[32m130\u001b[39m     sent = \u001b[38;5;28;43mself\u001b[39;49m\u001b[43m.\u001b[49m\u001b[43m_sock\u001b[49m\u001b[43m.\u001b[49m\u001b[43msend\u001b[49m\u001b[43m(\u001b[49m\u001b[43mdata\u001b[49m\u001b[43m)\u001b[49m\n\u001b[32m    131\u001b[39m     \u001b[38;5;66;03m# sent equal to 0 indicates a closed socket\u001b[39;00m\n\u001b[32m    132\u001b[39m     \u001b[38;5;28;01mif\u001b[39;00m sent == \u001b[32m0\u001b[39m:\n",
            "\u001b[31mBrokenPipeError\u001b[39m: [Errno 32] Broken pipe"
          ]
        },
        {
          "name": "stdout",
          "output_type": "stream",
          "text": [
            "Loading model from /homes/55/bwilop/wsg/experiments//tictactoe_pretrained_forbidden_diagonals_no_overlap_split/experiment_mini_weak_2025-03-16-13-14_t7xv22jn.pkl\n",
            "Loading model from /homes/55/bwilop/wsg/experiments//tictactoe_pretrained_forbidden_diagonals_no_overlap_split/experiment_medium_weak_2025-03-16-13-30_3uudsequ.pkl\n",
            "Loading model from /homes/55/bwilop/wsg/experiments//tictactoe_pretrained_forbidden_diagonals_no_overlap_split/experiment_medium_strong_2025-03-16-13-40_6rg1q835.pkl\n",
            "Weak model weak goal\n",
            "weak_loss:  1.6008632183074951\n",
            "strong_loss:  2.2484512329101562\n",
            "Strong model weak goal\n",
            "weak_loss:  0.8857359290122986\n",
            "strong_loss:  2.231412410736084\n",
            "Strong model strong goal\n",
            "weak_loss:  2.722717761993408\n",
            "strong_loss:  1.0189193487167358\n"
          ]
        },
        {
          "ename": "BrokenPipeError",
          "evalue": "[Errno 32] Broken pipe",
          "output_type": "error",
          "traceback": [
            "\u001b[31m---------------------------------------------------------------------------\u001b[39m",
            "\u001b[31mBrokenPipeError\u001b[39m                           Traceback (most recent call last)",
            "\u001b[36mCell\u001b[39m\u001b[36m \u001b[39m\u001b[32mIn[33]\u001b[39m\u001b[32m, line 16\u001b[39m\n\u001b[32m     14\u001b[39m timestamp = datetime.now().strftime(\u001b[33m\"\u001b[39m\u001b[33m%\u001b[39m\u001b[33mY-\u001b[39m\u001b[33m%\u001b[39m\u001b[33mm-\u001b[39m\u001b[38;5;132;01m%d\u001b[39;00m\u001b[33m-\u001b[39m\u001b[33m%\u001b[39m\u001b[33mH-\u001b[39m\u001b[33m%\u001b[39m\u001b[33mM\u001b[39m\u001b[33m\"\u001b[39m)\n\u001b[32m     15\u001b[39m experiment_name = \u001b[33mf\u001b[39m\u001b[33m\"\u001b[39m\u001b[33mexperiment_finetuning_\u001b[39m\u001b[38;5;132;01m{\u001b[39;00mtimestamp\u001b[38;5;132;01m}\u001b[39;00m\u001b[33m\"\u001b[39m\n\u001b[32m---> \u001b[39m\u001b[32m16\u001b[39m \u001b[43mfinetune_strong_with_weak\u001b[49m\u001b[43m(\u001b[49m\u001b[43mproject_name\u001b[49m\u001b[43m,\u001b[49m\u001b[43m \u001b[49m\u001b[43mexperiment_name\u001b[49m\u001b[43m,\u001b[49m\u001b[43m \u001b[49m\u001b[43mweak_model_weak_goals\u001b[49m\u001b[43m,\u001b[49m\u001b[43m \u001b[49m\u001b[43mstrong_model_finetuned\u001b[49m\u001b[43m,\u001b[49m\u001b[43m \u001b[49m\u001b[43mtictactoe_train_data\u001b[49m\u001b[43m,\u001b[49m\u001b[43m \u001b[49m\u001b[43mtictactoe_test_data\u001b[49m\u001b[43m,\u001b[49m\u001b[43m \u001b[49m\u001b[43madapted_training_cfg\u001b[49m\u001b[43m)\u001b[49m\n",
            "\u001b[36mFile \u001b[39m\u001b[32m<string>:16\u001b[39m, in \u001b[36mfinetune_strong_with_weak\u001b[39m\u001b[34m(project_name, experiment_name, weak_model, strong_model, train_data, test_data, training_cfg)\u001b[39m\n",
            "\u001b[36mFile \u001b[39m\u001b[32m~/.venv/lib/python3.11/site-packages/wandb/sdk/wandb_run.py:4130\u001b[39m, in \u001b[36mfinish\u001b[39m\u001b[34m(exit_code, quiet)\u001b[39m\n\u001b[32m   4113\u001b[39m \u001b[38;5;250m\u001b[39m\u001b[33;03m\"\"\"Finish a run and upload any remaining data.\u001b[39;00m\n\u001b[32m   4114\u001b[39m \n\u001b[32m   4115\u001b[39m \u001b[33;03mMarks the completion of a W&B run and ensures all data is synced to the server.\u001b[39;00m\n\u001b[32m   (...)\u001b[39m\u001b[32m   4127\u001b[39m \u001b[33;03m    quiet: Deprecated. Configure logging verbosity using `wandb.Settings(quiet=...)`.\u001b[39;00m\n\u001b[32m   4128\u001b[39m \u001b[33;03m\"\"\"\u001b[39;00m\n\u001b[32m   4129\u001b[39m \u001b[38;5;28;01mif\u001b[39;00m wandb.run:\n\u001b[32m-> \u001b[39m\u001b[32m4130\u001b[39m     \u001b[43mwandb\u001b[49m\u001b[43m.\u001b[49m\u001b[43mrun\u001b[49m\u001b[43m.\u001b[49m\u001b[43mfinish\u001b[49m\u001b[43m(\u001b[49m\u001b[43mexit_code\u001b[49m\u001b[43m=\u001b[49m\u001b[43mexit_code\u001b[49m\u001b[43m,\u001b[49m\u001b[43m \u001b[49m\u001b[43mquiet\u001b[49m\u001b[43m=\u001b[49m\u001b[43mquiet\u001b[49m\u001b[43m)\u001b[49m\n",
            "\u001b[36mFile \u001b[39m\u001b[32m~/.venv/lib/python3.11/site-packages/wandb/sdk/wandb_run.py:449\u001b[39m, in \u001b[36m_run_decorator._noop.<locals>.wrapper\u001b[39m\u001b[34m(self, *args, **kwargs)\u001b[39m\n\u001b[32m    446\u001b[39m         wandb.termwarn(message, repeat=\u001b[38;5;28;01mFalse\u001b[39;00m)\n\u001b[32m    447\u001b[39m         \u001b[38;5;28;01mreturn\u001b[39;00m \u001b[38;5;28mcls\u001b[39m.Dummy()\n\u001b[32m--> \u001b[39m\u001b[32m449\u001b[39m \u001b[38;5;28;01mreturn\u001b[39;00m \u001b[43mfunc\u001b[49m\u001b[43m(\u001b[49m\u001b[38;5;28;43mself\u001b[39;49m\u001b[43m,\u001b[49m\u001b[43m \u001b[49m\u001b[43m*\u001b[49m\u001b[43margs\u001b[49m\u001b[43m,\u001b[49m\u001b[43m \u001b[49m\u001b[43m*\u001b[49m\u001b[43m*\u001b[49m\u001b[43mkwargs\u001b[49m\u001b[43m)\u001b[49m\n",
            "\u001b[36mFile \u001b[39m\u001b[32m~/.venv/lib/python3.11/site-packages/wandb/sdk/wandb_run.py:391\u001b[39m, in \u001b[36m_run_decorator._attach.<locals>.wrapper\u001b[39m\u001b[34m(self, *args, **kwargs)\u001b[39m\n\u001b[32m    389\u001b[39m         \u001b[38;5;28;01mraise\u001b[39;00m e\n\u001b[32m    390\u001b[39m     \u001b[38;5;28mcls\u001b[39m._is_attaching = \u001b[33m\"\u001b[39m\u001b[33m\"\u001b[39m\n\u001b[32m--> \u001b[39m\u001b[32m391\u001b[39m \u001b[38;5;28;01mreturn\u001b[39;00m \u001b[43mfunc\u001b[49m\u001b[43m(\u001b[49m\u001b[38;5;28;43mself\u001b[39;49m\u001b[43m,\u001b[49m\u001b[43m \u001b[49m\u001b[43m*\u001b[49m\u001b[43margs\u001b[49m\u001b[43m,\u001b[49m\u001b[43m \u001b[49m\u001b[43m*\u001b[49m\u001b[43m*\u001b[49m\u001b[43mkwargs\u001b[49m\u001b[43m)\u001b[49m\n",
            "\u001b[36mFile \u001b[39m\u001b[32m~/.venv/lib/python3.11/site-packages/wandb/sdk/wandb_run.py:2106\u001b[39m, in \u001b[36mRun.finish\u001b[39m\u001b[34m(self, exit_code, quiet)\u001b[39m\n\u001b[32m   2098\u001b[39m \u001b[38;5;28;01mif\u001b[39;00m quiet \u001b[38;5;129;01mis\u001b[39;00m \u001b[38;5;129;01mnot\u001b[39;00m \u001b[38;5;28;01mNone\u001b[39;00m:\n\u001b[32m   2099\u001b[39m     deprecate.deprecate(\n\u001b[32m   2100\u001b[39m         field_name=deprecate.Deprecated.run__finish_quiet,\n\u001b[32m   2101\u001b[39m         warning_message=(\n\u001b[32m   (...)\u001b[39m\u001b[32m   2104\u001b[39m         ),\n\u001b[32m   2105\u001b[39m     )\n\u001b[32m-> \u001b[39m\u001b[32m2106\u001b[39m \u001b[38;5;28;01mreturn\u001b[39;00m \u001b[38;5;28;43mself\u001b[39;49m\u001b[43m.\u001b[49m\u001b[43m_finish\u001b[49m\u001b[43m(\u001b[49m\u001b[43mexit_code\u001b[49m\u001b[43m)\u001b[49m\n",
            "\u001b[36mFile \u001b[39m\u001b[32m~/.venv/lib/python3.11/site-packages/wandb/sdk/wandb_run.py:2113\u001b[39m, in \u001b[36mRun._finish\u001b[39m\u001b[34m(self, exit_code)\u001b[39m\n\u001b[32m   2108\u001b[39m \u001b[38;5;28;01mdef\u001b[39;00m\u001b[38;5;250m \u001b[39m\u001b[34m_finish\u001b[39m(\n\u001b[32m   2109\u001b[39m     \u001b[38;5;28mself\u001b[39m,\n\u001b[32m   2110\u001b[39m     exit_code: \u001b[38;5;28mint\u001b[39m | \u001b[38;5;28;01mNone\u001b[39;00m = \u001b[38;5;28;01mNone\u001b[39;00m,\n\u001b[32m   2111\u001b[39m ) -> \u001b[38;5;28;01mNone\u001b[39;00m:\n\u001b[32m   2112\u001b[39m     logger.info(\u001b[33mf\u001b[39m\u001b[33m\"\u001b[39m\u001b[33mfinishing run \u001b[39m\u001b[38;5;132;01m{\u001b[39;00m\u001b[38;5;28mself\u001b[39m._get_path()\u001b[38;5;132;01m}\u001b[39;00m\u001b[33m\"\u001b[39m)\n\u001b[32m-> \u001b[39m\u001b[32m2113\u001b[39m \u001b[43m    \u001b[49m\u001b[38;5;28;43;01mwith\u001b[39;49;00m\u001b[43m \u001b[49m\u001b[43mtelemetry\u001b[49m\u001b[43m.\u001b[49m\u001b[43mcontext\u001b[49m\u001b[43m(\u001b[49m\u001b[43mrun\u001b[49m\u001b[43m=\u001b[49m\u001b[38;5;28;43mself\u001b[39;49m\u001b[43m)\u001b[49m\u001b[43m \u001b[49m\u001b[38;5;28;43;01mas\u001b[39;49;00m\u001b[43m \u001b[49m\u001b[43mtel\u001b[49m\u001b[43m:\u001b[49m\n\u001b[32m   2114\u001b[39m \u001b[43m        \u001b[49m\u001b[43mtel\u001b[49m\u001b[43m.\u001b[49m\u001b[43mfeature\u001b[49m\u001b[43m.\u001b[49m\u001b[43mfinish\u001b[49m\u001b[43m \u001b[49m\u001b[43m=\u001b[49m\u001b[43m \u001b[49m\u001b[38;5;28;43;01mTrue\u001b[39;49;00m\n\u001b[32m   2116\u001b[39m     \u001b[38;5;66;03m# Run hooks that need to happen before the last messages to the\u001b[39;00m\n\u001b[32m   2117\u001b[39m     \u001b[38;5;66;03m# internal service, like Jupyter hooks.\u001b[39;00m\n",
            "\u001b[36mFile \u001b[39m\u001b[32m~/.venv/lib/python3.11/site-packages/wandb/sdk/lib/telemetry.py:42\u001b[39m, in \u001b[36m_TelemetryObject.__exit__\u001b[39m\u001b[34m(self, exctype, excinst, exctb)\u001b[39m\n\u001b[32m     40\u001b[39m \u001b[38;5;28;01mif\u001b[39;00m \u001b[38;5;129;01mnot\u001b[39;00m \u001b[38;5;28mself\u001b[39m._run:\n\u001b[32m     41\u001b[39m     \u001b[38;5;28;01mreturn\u001b[39;00m\n\u001b[32m---> \u001b[39m\u001b[32m42\u001b[39m \u001b[38;5;28;43mself\u001b[39;49m\u001b[43m.\u001b[49m\u001b[43m_run\u001b[49m\u001b[43m.\u001b[49m\u001b[43m_telemetry_callback\u001b[49m\u001b[43m(\u001b[49m\u001b[38;5;28;43mself\u001b[39;49m\u001b[43m.\u001b[49m\u001b[43m_obj\u001b[49m\u001b[43m)\u001b[49m\n",
            "\u001b[36mFile \u001b[39m\u001b[32m~/.venv/lib/python3.11/site-packages/wandb/sdk/wandb_run.py:749\u001b[39m, in \u001b[36mRun._telemetry_callback\u001b[39m\u001b[34m(self, telem_obj)\u001b[39m\n\u001b[32m    747\u001b[39m \u001b[38;5;28mself\u001b[39m._telemetry_obj.MergeFrom(telem_obj)\n\u001b[32m    748\u001b[39m \u001b[38;5;28mself\u001b[39m._telemetry_obj_dirty = \u001b[38;5;28;01mTrue\u001b[39;00m\n\u001b[32m--> \u001b[39m\u001b[32m749\u001b[39m \u001b[38;5;28;43mself\u001b[39;49m\u001b[43m.\u001b[49m\u001b[43m_telemetry_flush\u001b[49m\u001b[43m(\u001b[49m\u001b[43m)\u001b[49m\n",
            "\u001b[36mFile \u001b[39m\u001b[32m~/.venv/lib/python3.11/site-packages/wandb/sdk/wandb_run.py:762\u001b[39m, in \u001b[36mRun._telemetry_flush\u001b[39m\u001b[34m(self)\u001b[39m\n\u001b[32m    760\u001b[39m \u001b[38;5;28;01mif\u001b[39;00m serialized == \u001b[38;5;28mself\u001b[39m._telemetry_obj_flushed:\n\u001b[32m    761\u001b[39m     \u001b[38;5;28;01mreturn\u001b[39;00m\n\u001b[32m--> \u001b[39m\u001b[32m762\u001b[39m \u001b[38;5;28;43mself\u001b[39;49m\u001b[43m.\u001b[49m\u001b[43m_backend\u001b[49m\u001b[43m.\u001b[49m\u001b[43minterface\u001b[49m\u001b[43m.\u001b[49m\u001b[43m_publish_telemetry\u001b[49m\u001b[43m(\u001b[49m\u001b[38;5;28;43mself\u001b[39;49m\u001b[43m.\u001b[49m\u001b[43m_telemetry_obj\u001b[49m\u001b[43m)\u001b[49m\n\u001b[32m    763\u001b[39m \u001b[38;5;28mself\u001b[39m._telemetry_obj_flushed = serialized\n\u001b[32m    764\u001b[39m \u001b[38;5;28mself\u001b[39m._telemetry_obj_dirty = \u001b[38;5;28;01mFalse\u001b[39;00m\n",
            "\u001b[36mFile \u001b[39m\u001b[32m~/.venv/lib/python3.11/site-packages/wandb/sdk/interface/interface_shared.py:60\u001b[39m, in \u001b[36mInterfaceShared._publish_telemetry\u001b[39m\u001b[34m(self, telem)\u001b[39m\n\u001b[32m     58\u001b[39m \u001b[38;5;28;01mdef\u001b[39;00m\u001b[38;5;250m \u001b[39m\u001b[34m_publish_telemetry\u001b[39m(\u001b[38;5;28mself\u001b[39m, telem: tpb.TelemetryRecord) -> \u001b[38;5;28;01mNone\u001b[39;00m:\n\u001b[32m     59\u001b[39m     rec = \u001b[38;5;28mself\u001b[39m._make_record(telemetry=telem)\n\u001b[32m---> \u001b[39m\u001b[32m60\u001b[39m     \u001b[38;5;28;43mself\u001b[39;49m\u001b[43m.\u001b[49m\u001b[43m_publish\u001b[49m\u001b[43m(\u001b[49m\u001b[43mrec\u001b[49m\u001b[43m)\u001b[49m\n",
            "\u001b[36mFile \u001b[39m\u001b[32m~/.venv/lib/python3.11/site-packages/wandb/sdk/interface/interface_sock.py:39\u001b[39m, in \u001b[36mInterfaceSock._publish\u001b[39m\u001b[34m(self, record, local)\u001b[39m\n\u001b[32m     37\u001b[39m \u001b[38;5;28;01mdef\u001b[39;00m\u001b[38;5;250m \u001b[39m\u001b[34m_publish\u001b[39m(\u001b[38;5;28mself\u001b[39m, record: \u001b[33m\"\u001b[39m\u001b[33mpb.Record\u001b[39m\u001b[33m\"\u001b[39m, local: Optional[\u001b[38;5;28mbool\u001b[39m] = \u001b[38;5;28;01mNone\u001b[39;00m) -> \u001b[38;5;28;01mNone\u001b[39;00m:\n\u001b[32m     38\u001b[39m     \u001b[38;5;28mself\u001b[39m._assign(record)\n\u001b[32m---> \u001b[39m\u001b[32m39\u001b[39m     \u001b[38;5;28;43mself\u001b[39;49m\u001b[43m.\u001b[49m\u001b[43m_sock_client\u001b[49m\u001b[43m.\u001b[49m\u001b[43msend_record_publish\u001b[49m\u001b[43m(\u001b[49m\u001b[43mrecord\u001b[49m\u001b[43m)\u001b[49m\n",
            "\u001b[36mFile \u001b[39m\u001b[32m~/.venv/lib/python3.11/site-packages/wandb/sdk/lib/sock_client.py:174\u001b[39m, in \u001b[36mSockClient.send_record_publish\u001b[39m\u001b[34m(self, record)\u001b[39m\n\u001b[32m    172\u001b[39m server_req.request_id = record.control.mailbox_slot\n\u001b[32m    173\u001b[39m server_req.record_publish.CopyFrom(record)\n\u001b[32m--> \u001b[39m\u001b[32m174\u001b[39m \u001b[38;5;28;43mself\u001b[39;49m\u001b[43m.\u001b[49m\u001b[43msend_server_request\u001b[49m\u001b[43m(\u001b[49m\u001b[43mserver_req\u001b[49m\u001b[43m)\u001b[49m\n",
            "\u001b[36mFile \u001b[39m\u001b[32m~/.venv/lib/python3.11/site-packages/wandb/sdk/lib/sock_client.py:154\u001b[39m, in \u001b[36mSockClient.send_server_request\u001b[39m\u001b[34m(self, msg)\u001b[39m\n\u001b[32m    153\u001b[39m \u001b[38;5;28;01mdef\u001b[39;00m\u001b[38;5;250m \u001b[39m\u001b[34msend_server_request\u001b[39m(\u001b[38;5;28mself\u001b[39m, msg: spb.ServerRequest) -> \u001b[38;5;28;01mNone\u001b[39;00m:\n\u001b[32m--> \u001b[39m\u001b[32m154\u001b[39m     \u001b[38;5;28;43mself\u001b[39;49m\u001b[43m.\u001b[49m\u001b[43m_send_message\u001b[49m\u001b[43m(\u001b[49m\u001b[43mmsg\u001b[49m\u001b[43m)\u001b[49m\n",
            "\u001b[36mFile \u001b[39m\u001b[32m~/.venv/lib/python3.11/site-packages/wandb/sdk/lib/sock_client.py:151\u001b[39m, in \u001b[36mSockClient._send_message\u001b[39m\u001b[34m(self, msg)\u001b[39m\n\u001b[32m    149\u001b[39m header = struct.pack(\u001b[33m\"\u001b[39m\u001b[33m<BI\u001b[39m\u001b[33m\"\u001b[39m, \u001b[38;5;28mord\u001b[39m(\u001b[33m\"\u001b[39m\u001b[33mW\u001b[39m\u001b[33m\"\u001b[39m), raw_size)\n\u001b[32m    150\u001b[39m \u001b[38;5;28;01mwith\u001b[39;00m \u001b[38;5;28mself\u001b[39m._lock:\n\u001b[32m--> \u001b[39m\u001b[32m151\u001b[39m     \u001b[38;5;28;43mself\u001b[39;49m\u001b[43m.\u001b[49m\u001b[43m_sendall_with_error_handle\u001b[49m\u001b[43m(\u001b[49m\u001b[43mheader\u001b[49m\u001b[43m \u001b[49m\u001b[43m+\u001b[49m\u001b[43m \u001b[49m\u001b[43mdata\u001b[49m\u001b[43m)\u001b[49m\n",
            "\u001b[36mFile \u001b[39m\u001b[32m~/.venv/lib/python3.11/site-packages/wandb/sdk/lib/sock_client.py:130\u001b[39m, in \u001b[36mSockClient._sendall_with_error_handle\u001b[39m\u001b[34m(self, data)\u001b[39m\n\u001b[32m    128\u001b[39m start_time = time.monotonic()\n\u001b[32m    129\u001b[39m \u001b[38;5;28;01mtry\u001b[39;00m:\n\u001b[32m--> \u001b[39m\u001b[32m130\u001b[39m     sent = \u001b[38;5;28;43mself\u001b[39;49m\u001b[43m.\u001b[49m\u001b[43m_sock\u001b[49m\u001b[43m.\u001b[49m\u001b[43msend\u001b[49m\u001b[43m(\u001b[49m\u001b[43mdata\u001b[49m\u001b[43m)\u001b[49m\n\u001b[32m    131\u001b[39m     \u001b[38;5;66;03m# sent equal to 0 indicates a closed socket\u001b[39;00m\n\u001b[32m    132\u001b[39m     \u001b[38;5;28;01mif\u001b[39;00m sent == \u001b[32m0\u001b[39m:\n",
            "\u001b[31mBrokenPipeError\u001b[39m: [Errno 32] Broken pipe"
          ]
        },
        {
          "name": "stdout",
          "output_type": "stream",
          "text": [
            "Error in callback <bound method _WandbInit._pause_backend of <wandb.sdk.wandb_init._WandbInit object at 0x7f66fc497a90>> (for post_run_cell), with arguments args (<ExecutionResult object at 7f66fc78b350, execution_count=33 error_before_exec=None error_in_exec=[Errno 32] Broken pipe info=<ExecutionInfo object at 7f66fc7b9990, raw_cell=\"project_name = \"tictactoe_pretrained_forbidden_dia..\" store_history=True silent=False shell_futures=True cell_id=vscode-notebook-cell://ssh-remote%2Btorrnode1/homes/55/bwilop/wsg/WSG_games/playground_WSG_games.ipynb#X34sdnNjb2RlLXJlbW90ZQ%3D%3D> result=None>,),kwargs {}:\n"
          ]
        },
        {
          "ename": "BrokenPipeError",
          "evalue": "[Errno 32] Broken pipe",
          "output_type": "error",
          "traceback": [
            "\u001b[31m---------------------------------------------------------------------------\u001b[39m",
            "\u001b[31mBrokenPipeError\u001b[39m                           Traceback (most recent call last)",
            "\u001b[36mFile \u001b[39m\u001b[32m~/.venv/lib/python3.11/site-packages/wandb/sdk/wandb_init.py:565\u001b[39m, in \u001b[36m_WandbInit._pause_backend\u001b[39m\u001b[34m(self, *args, **kwargs)\u001b[39m\n\u001b[32m    563\u001b[39m \u001b[38;5;28;01mif\u001b[39;00m \u001b[38;5;28mself\u001b[39m.backend.interface \u001b[38;5;129;01mis\u001b[39;00m \u001b[38;5;129;01mnot\u001b[39;00m \u001b[38;5;28;01mNone\u001b[39;00m:\n\u001b[32m    564\u001b[39m     \u001b[38;5;28mself\u001b[39m._logger.info(\u001b[33m\"\u001b[39m\u001b[33mpausing backend\u001b[39m\u001b[33m\"\u001b[39m)  \u001b[38;5;66;03m# type: ignore\u001b[39;00m\n\u001b[32m--> \u001b[39m\u001b[32m565\u001b[39m     \u001b[38;5;28;43mself\u001b[39;49m\u001b[43m.\u001b[49m\u001b[43mbackend\u001b[49m\u001b[43m.\u001b[49m\u001b[43minterface\u001b[49m\u001b[43m.\u001b[49m\u001b[43mpublish_pause\u001b[49m\u001b[43m(\u001b[49m\u001b[43m)\u001b[49m\n",
            "\u001b[36mFile \u001b[39m\u001b[32m~/.venv/lib/python3.11/site-packages/wandb/sdk/interface/interface.py:769\u001b[39m, in \u001b[36mInterfaceBase.publish_pause\u001b[39m\u001b[34m(self)\u001b[39m\n\u001b[32m    767\u001b[39m \u001b[38;5;28;01mdef\u001b[39;00m\u001b[38;5;250m \u001b[39m\u001b[34mpublish_pause\u001b[39m(\u001b[38;5;28mself\u001b[39m) -> \u001b[38;5;28;01mNone\u001b[39;00m:\n\u001b[32m    768\u001b[39m     pause = pb.PauseRequest()\n\u001b[32m--> \u001b[39m\u001b[32m769\u001b[39m     \u001b[38;5;28;43mself\u001b[39;49m\u001b[43m.\u001b[49m\u001b[43m_publish_pause\u001b[49m\u001b[43m(\u001b[49m\u001b[43mpause\u001b[49m\u001b[43m)\u001b[49m\n",
            "\u001b[36mFile \u001b[39m\u001b[32m~/.venv/lib/python3.11/site-packages/wandb/sdk/interface/interface_shared.py:289\u001b[39m, in \u001b[36mInterfaceShared._publish_pause\u001b[39m\u001b[34m(self, pause)\u001b[39m\n\u001b[32m    287\u001b[39m \u001b[38;5;28;01mdef\u001b[39;00m\u001b[38;5;250m \u001b[39m\u001b[34m_publish_pause\u001b[39m(\u001b[38;5;28mself\u001b[39m, pause: pb.PauseRequest) -> \u001b[38;5;28;01mNone\u001b[39;00m:\n\u001b[32m    288\u001b[39m     rec = \u001b[38;5;28mself\u001b[39m._make_request(pause=pause)\n\u001b[32m--> \u001b[39m\u001b[32m289\u001b[39m     \u001b[38;5;28;43mself\u001b[39;49m\u001b[43m.\u001b[49m\u001b[43m_publish\u001b[49m\u001b[43m(\u001b[49m\u001b[43mrec\u001b[49m\u001b[43m)\u001b[49m\n",
            "\u001b[36mFile \u001b[39m\u001b[32m~/.venv/lib/python3.11/site-packages/wandb/sdk/interface/interface_sock.py:39\u001b[39m, in \u001b[36mInterfaceSock._publish\u001b[39m\u001b[34m(self, record, local)\u001b[39m\n\u001b[32m     37\u001b[39m \u001b[38;5;28;01mdef\u001b[39;00m\u001b[38;5;250m \u001b[39m\u001b[34m_publish\u001b[39m(\u001b[38;5;28mself\u001b[39m, record: \u001b[33m\"\u001b[39m\u001b[33mpb.Record\u001b[39m\u001b[33m\"\u001b[39m, local: Optional[\u001b[38;5;28mbool\u001b[39m] = \u001b[38;5;28;01mNone\u001b[39;00m) -> \u001b[38;5;28;01mNone\u001b[39;00m:\n\u001b[32m     38\u001b[39m     \u001b[38;5;28mself\u001b[39m._assign(record)\n\u001b[32m---> \u001b[39m\u001b[32m39\u001b[39m     \u001b[38;5;28;43mself\u001b[39;49m\u001b[43m.\u001b[49m\u001b[43m_sock_client\u001b[49m\u001b[43m.\u001b[49m\u001b[43msend_record_publish\u001b[49m\u001b[43m(\u001b[49m\u001b[43mrecord\u001b[49m\u001b[43m)\u001b[49m\n",
            "\u001b[36mFile \u001b[39m\u001b[32m~/.venv/lib/python3.11/site-packages/wandb/sdk/lib/sock_client.py:174\u001b[39m, in \u001b[36mSockClient.send_record_publish\u001b[39m\u001b[34m(self, record)\u001b[39m\n\u001b[32m    172\u001b[39m server_req.request_id = record.control.mailbox_slot\n\u001b[32m    173\u001b[39m server_req.record_publish.CopyFrom(record)\n\u001b[32m--> \u001b[39m\u001b[32m174\u001b[39m \u001b[38;5;28;43mself\u001b[39;49m\u001b[43m.\u001b[49m\u001b[43msend_server_request\u001b[49m\u001b[43m(\u001b[49m\u001b[43mserver_req\u001b[49m\u001b[43m)\u001b[49m\n",
            "\u001b[36mFile \u001b[39m\u001b[32m~/.venv/lib/python3.11/site-packages/wandb/sdk/lib/sock_client.py:154\u001b[39m, in \u001b[36mSockClient.send_server_request\u001b[39m\u001b[34m(self, msg)\u001b[39m\n\u001b[32m    153\u001b[39m \u001b[38;5;28;01mdef\u001b[39;00m\u001b[38;5;250m \u001b[39m\u001b[34msend_server_request\u001b[39m(\u001b[38;5;28mself\u001b[39m, msg: spb.ServerRequest) -> \u001b[38;5;28;01mNone\u001b[39;00m:\n\u001b[32m--> \u001b[39m\u001b[32m154\u001b[39m     \u001b[38;5;28;43mself\u001b[39;49m\u001b[43m.\u001b[49m\u001b[43m_send_message\u001b[49m\u001b[43m(\u001b[49m\u001b[43mmsg\u001b[49m\u001b[43m)\u001b[49m\n",
            "\u001b[36mFile \u001b[39m\u001b[32m~/.venv/lib/python3.11/site-packages/wandb/sdk/lib/sock_client.py:151\u001b[39m, in \u001b[36mSockClient._send_message\u001b[39m\u001b[34m(self, msg)\u001b[39m\n\u001b[32m    149\u001b[39m header = struct.pack(\u001b[33m\"\u001b[39m\u001b[33m<BI\u001b[39m\u001b[33m\"\u001b[39m, \u001b[38;5;28mord\u001b[39m(\u001b[33m\"\u001b[39m\u001b[33mW\u001b[39m\u001b[33m\"\u001b[39m), raw_size)\n\u001b[32m    150\u001b[39m \u001b[38;5;28;01mwith\u001b[39;00m \u001b[38;5;28mself\u001b[39m._lock:\n\u001b[32m--> \u001b[39m\u001b[32m151\u001b[39m     \u001b[38;5;28;43mself\u001b[39;49m\u001b[43m.\u001b[49m\u001b[43m_sendall_with_error_handle\u001b[49m\u001b[43m(\u001b[49m\u001b[43mheader\u001b[49m\u001b[43m \u001b[49m\u001b[43m+\u001b[49m\u001b[43m \u001b[49m\u001b[43mdata\u001b[49m\u001b[43m)\u001b[49m\n",
            "\u001b[36mFile \u001b[39m\u001b[32m~/.venv/lib/python3.11/site-packages/wandb/sdk/lib/sock_client.py:130\u001b[39m, in \u001b[36mSockClient._sendall_with_error_handle\u001b[39m\u001b[34m(self, data)\u001b[39m\n\u001b[32m    128\u001b[39m start_time = time.monotonic()\n\u001b[32m    129\u001b[39m \u001b[38;5;28;01mtry\u001b[39;00m:\n\u001b[32m--> \u001b[39m\u001b[32m130\u001b[39m     sent = \u001b[38;5;28;43mself\u001b[39;49m\u001b[43m.\u001b[49m\u001b[43m_sock\u001b[49m\u001b[43m.\u001b[49m\u001b[43msend\u001b[49m\u001b[43m(\u001b[49m\u001b[43mdata\u001b[49m\u001b[43m)\u001b[49m\n\u001b[32m    131\u001b[39m     \u001b[38;5;66;03m# sent equal to 0 indicates a closed socket\u001b[39;00m\n\u001b[32m    132\u001b[39m     \u001b[38;5;28;01mif\u001b[39;00m sent == \u001b[32m0\u001b[39m:\n",
            "\u001b[31mBrokenPipeError\u001b[39m: [Errno 32] Broken pipe"
          ]
        }
      ],
      "source": [
        "project_name = \"tictactoe_pretrained_forbidden_diagonals_no_overlap_split\"\n",
        "weak_model_weak_goals = load_model(project_name, \"mini\", Goal.WEAK_GOAL, experiment_folder)\n",
        "strong_model_weak_goals = load_model(project_name, \"medium\", Goal.WEAK_GOAL, experiment_folder)\n",
        "strong_model_strong_goals = load_model(project_name, \"medium\", Goal.STRONG_GOAL, experiment_folder)\n",
        "quick_evaluation(\"Weak model weak goal\", weak_model_weak_goals, tictactoe_test_data)\n",
        "quick_evaluation(\"Strong model weak goal\", strong_model_weak_goals, tictactoe_test_data)\n",
        "quick_evaluation(\"Strong model strong goal\", strong_model_strong_goals, tictactoe_test_data)\n",
        "strong_model_finetuned = deepcopy(strong_model_strong_goals)\n",
        "\n",
        "adapted_training_cfg = deepcopy(training_cfg)\n",
        "adapted_training_cfg[\"epochs\"] = 20\n",
        "\n",
        "project_name = \"tictactoe_playground\"\n",
        "timestamp = datetime.now().strftime(\"%Y-%m-%d-%H-%M\")\n",
        "experiment_name = f\"experiment_finetuning_{timestamp}\"\n",
        "finetune_strong_with_weak(project_name, experiment_name, weak_model_weak_goals, strong_model_finetuned, tictactoe_train_data, tictactoe_test_data, adapted_training_cfg)"
      ]
    },
    {
      "cell_type": "code",
      "execution_count": 19,
      "metadata": {
        "id": "mHXq7Cck4kZu"
      },
      "outputs": [],
      "source": [
        "# quick_evaluation(\"Weak model weak goal\", weak_model_weak_goals, tictactoe_test_data)\n",
        "# quick_evaluation(\"Strong model weak goal\", strong_model_weak_goals, tictactoe_test_data)\n",
        "# quick_evaluation(\"Strong model strong goal\", strong_model_strong_goals, tictactoe_test_data)\n",
        "# quick_evaluation(\"Strong model weakly-finetuned to weak goal\", strong_model_finetuned, tictactoe_test_data)"
      ]
    },
    {
      "cell_type": "markdown",
      "metadata": {
        "id": "3TAZfSRM_vTL"
      },
      "source": [
        "# Inspect model"
      ]
    },
    {
      "cell_type": "code",
      "execution_count": 20,
      "metadata": {
        "id": "FseGnVqe_00c"
      },
      "outputs": [],
      "source": [
        "# project_name = \"tictactoe_pretrained_different_epochs\"\n",
        "# model = load_model(project_name, \"medium\", Goal.WEAK_GOAL, experiment_folder)\n",
        "# quick_evaluation(\"model weak goal\", model, tictactoe_test_data)"
      ]
    },
    {
      "cell_type": "code",
      "execution_count": 21,
      "metadata": {
        "id": "4pMmX7Y7_zLG"
      },
      "outputs": [
        {
          "ename": "NameError",
          "evalue": "name 'model' is not defined",
          "output_type": "error",
          "traceback": [
            "\u001b[31m---------------------------------------------------------------------------\u001b[39m",
            "\u001b[31mNameError\u001b[39m                                 Traceback (most recent call last)",
            "\u001b[36mCell\u001b[39m\u001b[36m \u001b[39m\u001b[32mIn[21]\u001b[39m\u001b[32m, line 1\u001b[39m\n\u001b[32m----> \u001b[39m\u001b[32m1\u001b[39m W = \u001b[43mmodel\u001b[49m.embed.W_E\n\u001b[32m      2\u001b[39m W_normed = W / W.norm(dim=\u001b[32m1\u001b[39m, keepdim=\u001b[38;5;28;01mTrue\u001b[39;00m)\n\u001b[32m      4\u001b[39m \u001b[38;5;66;03m# Compute cosine similarity matrix and move to CPU as a NumPy array\u001b[39;00m\n",
            "\u001b[31mNameError\u001b[39m: name 'model' is not defined"
          ]
        }
      ],
      "source": [
        "W = model.embed.W_E\n",
        "W_normed = W / W.norm(dim=1, keepdim=True)\n",
        "\n",
        "# Compute cosine similarity matrix and move to CPU as a NumPy array\n",
        "cosine_sim = (W_normed @ W_normed.T).detach().cpu().numpy()\n",
        "\n",
        "im = plt.imshow(cosine_sim)\n",
        "plt.title(\"Cosine similarities of each pair of 2D feature embeddings\")\n",
        "plt.gcf().set_size_inches(6, 6)\n",
        "\n",
        "# Add a colorbar with a label\n",
        "cbar = plt.colorbar(im)\n",
        "cbar.set_label(\"Cosine similarity value\")\n",
        "\n",
        "plt.show()"
      ]
    },
    {
      "cell_type": "code",
      "execution_count": null,
      "metadata": {
        "id": "v6yflRSMxJKa"
      },
      "outputs": [],
      "source": [
        "W.shape"
      ]
    },
    {
      "cell_type": "code",
      "execution_count": null,
      "metadata": {
        "id": "1zsCpa7EBMaw"
      },
      "outputs": [],
      "source": [
        "train_sample = random_sample_tictactoe_data(tictactoe_train_data, 1)\n",
        "train_logits = model(train_sample.games_data)\n",
        "soft_labels = softmax(train_logits, dim=-1)\n",
        "hard_labels = F.one_hot(train_sample.weak_goals_labels.argmax(dim=-1), num_classes=train_logits.shape[-1]).float()\n",
        "\n",
        "print(train_sample.weak_goals_labels.shape)\n",
        "print(train_logits.shape)\n",
        "print(soft_labels.shape)\n",
        "print(hard_labels.shape)"
      ]
    },
    {
      "cell_type": "code",
      "execution_count": null,
      "metadata": {
        "id": "azOH0vhNCKdg"
      },
      "outputs": [],
      "source": [
        "train_sample.weak_goals_labels"
      ]
    },
    {
      "cell_type": "code",
      "execution_count": null,
      "metadata": {
        "id": "F-WQZHo_CdqW"
      },
      "outputs": [],
      "source": [
        "soft_labels.clip(0.01)"
      ]
    },
    {
      "cell_type": "code",
      "execution_count": null,
      "metadata": {
        "id": "jjxvnDxbCkoo"
      },
      "outputs": [],
      "source": [
        "hard_labels"
      ]
    },
    {
      "cell_type": "code",
      "execution_count": null,
      "metadata": {
        "id": "ZCAlprThCL57"
      },
      "outputs": [],
      "source": [
        "board = Board()\n",
        "print(get_best_moves(board, Goal.WEAK_GOAL))\n",
        "board.make_move(1)\n",
        "print(get_best_moves(board, Goal.WEAK_GOAL))"
      ]
    },
    {
      "cell_type": "code",
      "execution_count": null,
      "metadata": {
        "id": "6mlqaz9FI6-3"
      },
      "outputs": [],
      "source": [
        "tictactoe_test_data.games_data[600]"
      ]
    },
    {
      "cell_type": "code",
      "execution_count": null,
      "metadata": {
        "id": "FA4fanUYnFCd"
      },
      "outputs": [],
      "source": [
        "tictactoe_test_data.weak_goals_labels[2]"
      ]
    },
    {
      "cell_type": "code",
      "execution_count": null,
      "metadata": {
        "id": "rDmIrkjVnGAI"
      },
      "outputs": [],
      "source": [
        "tictactoe_test_data.games_data[25][:]"
      ]
    },
    {
      "cell_type": "code",
      "execution_count": null,
      "metadata": {
        "id": "fvZuT97em_5p"
      },
      "outputs": [],
      "source": [
        "softmax(model(tictactoe_test_data.games_data[25][:]), dim=-1).clip(0.01)"
      ]
    },
    {
      "cell_type": "code",
      "execution_count": null,
      "metadata": {
        "id": "p0qQ8bpfPAwX"
      },
      "outputs": [],
      "source": [
        "skip_to = 0\n",
        "train_dataset = TensorDataset(\n",
        "    tictactoe_test_data.games_data,\n",
        "    tictactoe_test_data.random_move_labels,\n",
        "    tictactoe_test_data.weak_goals_labels,\n",
        "    tictactoe_test_data.strong_goals_labels,\n",
        ")\n",
        "train_loader = DataLoader(train_dataset, batch_size=1, shuffle=False)\n",
        "i = 0\n",
        "# for games, random_labels, weak_labels, strong_labels in tqdm(train_loader, desc=\"Training batches\", leave=False, position=1, dynamic_ncols=True):\n",
        "#     # if i == 25:\n",
        "#     # print(games)\n",
        "#     logits = model(games)\n",
        "#     # print(logits)\n",
        "#     print(i, cross_entropy(logits, weak_labels))\n",
        "#     # raise Exception()\n",
        "#     i += 1\n",
        "#     if i > 100:\n",
        "#         raise Exception()"
      ]
    },
    {
      "cell_type": "code",
      "execution_count": null,
      "metadata": {
        "id": "HmpNzFgly2a2"
      },
      "outputs": [],
      "source": [
        "visualize_game(tictactoe_test_data, game_id=25, model=model)"
      ]
    },
    {
      "cell_type": "markdown",
      "metadata": {
        "id": "2OeILpjRqric"
      },
      "source": [
        "# Sample games"
      ]
    },
    {
      "cell_type": "code",
      "execution_count": null,
      "metadata": {
        "id": "oQb9vhch0H4I"
      },
      "outputs": [],
      "source": [
        "samples = sample_games(model, 1, 100)"
      ]
    },
    {
      "cell_type": "code",
      "execution_count": null,
      "metadata": {
        "id": "T9XukQVE0IL0"
      },
      "outputs": [],
      "source": [
        "evals.eval_model(samples)"
      ]
    },
    {
      "cell_type": "code",
      "execution_count": null,
      "metadata": {
        "id": "G-TT_WMvMsLw"
      },
      "outputs": [],
      "source": [
        "sample = samples[1]\n",
        "print(sample)"
      ]
    },
    {
      "cell_type": "code",
      "execution_count": null,
      "metadata": {
        "id": "rP0nyV-liYvk"
      },
      "outputs": [],
      "source": [
        "from alphatoe.game import Board, State\n",
        "\n",
        "def check(game: list[int]) -> bool:\n",
        "    board = Board()\n",
        "    for move in game[1:-1]:\n",
        "        print(move)\n",
        "        if board.game_state == State.ONGOING:\n",
        "            try:\n",
        "                board.make_move(move)\n",
        "            except:\n",
        "                return True\n",
        "        elif move == 9:\n",
        "            pass\n",
        "        else:\n",
        "            return True\n",
        "    return False\n",
        "\n",
        "check(sample)"
      ]
    },
    {
      "cell_type": "code",
      "execution_count": null,
      "metadata": {
        "id": "SiWg1vL6aEDi"
      },
      "outputs": [],
      "source": [
        "game.play_game(sample)\n",
        "print(\"\\nPLAY:\")\n",
        "board = game.Board()\n",
        "for move in sample:\n",
        "  if move not in [9, 10]:\n",
        "    board.make_move(move)\n",
        "    board.draw_board()\n",
        "    print(\".\")"
      ]
    },
    {
      "cell_type": "code",
      "execution_count": null,
      "metadata": {
        "id": "2Rhih5yKaYLr"
      },
      "outputs": [],
      "source": [
        "print(evals.model_vs_minimax(model, True), \"\\n\")\n",
        "print(evals._check_minimax_win_rate(model, 100))"
      ]
    },
    {
      "cell_type": "code",
      "execution_count": null,
      "metadata": {
        "id": "IaOr1TOhkhyO"
      },
      "outputs": [],
      "source": [
        "evals.get_error_rate(samples)"
      ]
    },
    {
      "cell_type": "code",
      "execution_count": null,
      "metadata": {
        "id": "Ii5yV15Lbym4"
      },
      "outputs": [],
      "source": []
    }
  ],
  "metadata": {
    "accelerator": "GPU",
    "colab": {
      "gpuType": "T4",
      "include_colab_link": true,
      "machine_shape": "hm",
      "provenance": []
    },
    "kernelspec": {
      "display_name": ".venv",
      "language": "python",
      "name": "python3"
    },
    "language_info": {
      "codemirror_mode": {
        "name": "ipython",
        "version": 3
      },
      "file_extension": ".py",
      "mimetype": "text/x-python",
      "name": "python",
      "nbconvert_exporter": "python",
      "pygments_lexer": "ipython3",
      "version": "3.11.2"
    }
  },
  "nbformat": 4,
  "nbformat_minor": 0
}
