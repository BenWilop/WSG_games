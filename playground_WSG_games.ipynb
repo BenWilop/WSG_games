{
 "cells": [
  {
   "cell_type": "markdown",
   "metadata": {
    "colab_type": "text",
    "id": "view-in-github"
   },
   "source": [
    "<a href=\"https://colab.research.google.com/github/BenWilop/WSG_games/blob/main/playground_WSG_games.ipynb\" target=\"_parent\"><img src=\"https://colab.research.google.com/assets/colab-badge.svg\" alt=\"Open In Colab\"/></a>"
   ]
  },
  {
   "cell_type": "markdown",
   "metadata": {},
   "source": [
    "# Imports"
   ]
  },
  {
   "cell_type": "code",
   "execution_count": 1,
   "metadata": {
    "id": "V887fWJPBYKB"
   },
   "outputs": [
    {
     "name": "stderr",
     "output_type": "stream",
     "text": [
      "Failed to detect the name of this notebook, you can set it manually with the WANDB_NOTEBOOK_NAME environment variable to enable code saving.\n",
      "\u001b[34m\u001b[1mwandb\u001b[0m: Currently logged in as: \u001b[33mbenwilop\u001b[0m (\u001b[33mbenwilop-rwth-aachen-university\u001b[0m). Use \u001b[1m`wandb login --relogin`\u001b[0m to force relogin\n",
      "\u001b[34m\u001b[1mwandb\u001b[0m: \u001b[33mWARNING\u001b[0m If you're specifying your api key in code, ensure this code is not shared publicly.\n",
      "\u001b[34m\u001b[1mwandb\u001b[0m: \u001b[33mWARNING\u001b[0m Consider setting the WANDB_API_KEY environment variable, or running `wandb login` from the command line.\n",
      "\u001b[34m\u001b[1mwandb\u001b[0m: Appending key for api.wandb.ai to your netrc file: /homes/55/bwilop/.netrc\n"
     ]
    }
   ],
   "source": [
    "import dotenv\n",
    "import wandb\n",
    "import os\n",
    "\n",
    "dotenv.load_dotenv(os.path.join(\"/homes/55/bwilop/wsg/private/\", \"vscode-ssh.env\"))\n",
    "api_key = os.getenv(\"WANDB_API_KEY\")\n",
    "wandb.login(key=api_key)\n",
    "\n",
    "data_folder = \"/homes/55/bwilop/wsg/data/\"\n",
    "experiment_folder = \"/homes/55/bwilop/wsg/experiments/\""
   ]
  },
  {
   "cell_type": "code",
   "execution_count": 2,
   "metadata": {
    "colab": {
     "base_uri": "https://localhost:8080/"
    },
    "id": "uV6cMqvSvaBY",
    "outputId": "ec9e34fb-4176-487f-e718-9b1a44238dfa"
   },
   "outputs": [
    {
     "name": "stdout",
     "output_type": "stream",
     "text": [
      "cuda\n"
     ]
    }
   ],
   "source": [
    "%load_ext autoreload\n",
    "%autoreload 2\n",
    "import torch as t\n",
    "from torch.nn.functional import cross_entropy, softmax\n",
    "\n",
    "# from jaxtyping import Float\n",
    "import matplotlib.pyplot as plt\n",
    "\n",
    "from wsg_games.tictactoe.evals import *\n",
    "from wsg_games.tictactoe.data import *\n",
    "from wsg_games.tictactoe.game import *\n",
    "\n",
    "from wsg_games.tictactoe.analysis.analyse_data import *\n",
    "from wsg_games.tictactoe.analysis.visualize_game import *\n",
    "\n",
    "from wsg_games.tictactoe.train.create_models import *\n",
    "from wsg_games.tictactoe.train.save_load_models import *\n",
    "from wsg_games.tictactoe.train.train import *\n",
    "from wsg_games.tictactoe.train.finetune import *\n",
    "from wsg_games.tictactoe.train.pretrain import *\n",
    "\n",
    "DEVICE = t.device(\"cuda\" if t.cuda.is_available() else \"cpu\")\n",
    "print(DEVICE)"
   ]
  },
  {
   "cell_type": "markdown",
   "metadata": {
    "id": "x-WZi6lEq1sA"
   },
   "source": [
    "# Data"
   ]
  },
  {
   "cell_type": "code",
   "execution_count": 3,
   "metadata": {
    "colab": {
     "base_uri": "https://localhost:8080/",
     "height": 400
    },
    "id": "ja80xiGclrkX",
    "outputId": "ee10de15-5c0a-4f8c-c559-c5005031824e"
   },
   "outputs": [
    {
     "name": "stdout",
     "output_type": "stream",
     "text": [
      "Shape Data:    torch.Size([200000, 10])\n",
      "Shape Random:  torch.Size([200000, 10, 10])\n",
      "Shape Weak:    torch.Size([200000, 10, 10])\n",
      "Shape Strong:  torch.Size([200000, 10, 10])\n",
      "--------------------------------------------------------\n",
      "Evals Random:  {'weak_accuracy': 0.6868898868560791, 'strong_accuracy': 0.6662130951881409, 'illegal_move_chance': 0.0}\n",
      "Evals Weak:    {'weak_accuracy': 1.0, 'strong_accuracy': 0.7240148782730103, 'illegal_move_chance': 0.0}\n",
      "Evals Strong:  {'weak_accuracy': 0.7929724454879761, 'strong_accuracy': 1.0, 'illegal_move_chance': 0.0}\n",
      "--------------------------------------------------------\n",
      "torch.Size([200000, 10, 10])\n",
      "Entropy Random:  1.2156327962875366\n",
      "torch.Size([200000, 10, 10])\n",
      "Entropy Weak:    0.6562134027481079\n",
      "torch.Size([200000, 10, 10])\n",
      "Entropy Strong:  0.6169049143791199\n",
      "--------------------------------------------------------\n"
     ]
    }
   ],
   "source": [
    "# tictactoe_data = cache_tictactoe_data(data_folder + 'tictactoe_data.pkl', DEVICE)\n",
    "# tictactoe_data = cache_tictactoe_data_random(data_folder + 'tictactoe_data_random_STRONG_RULE_REVERSE_RULE.pkl', DEVICE)\n",
    "tictactoe_data = cache_tictactoe_data_random(\n",
    "    data_folder + \"tictactoe_data_random_STRONG_RULE_NO_DIAGONAL.pkl\", DEVICE\n",
    ")\n",
    "print_data_statistics(tictactoe_data)"
   ]
  },
  {
   "cell_type": "code",
   "execution_count": 4,
   "metadata": {
    "id": "yoCX7cACxBLY"
   },
   "outputs": [
    {
     "name": "stdout",
     "output_type": "stream",
     "text": [
      "Shape Train:  torch.Size([116726, 10])\n",
      "Shape Weak Finetune:  torch.Size([41694, 10])\n",
      "Shape Validation:  torch.Size([14077, 10])\n",
      "Shape Test:   torch.Size([27503, 10])\n"
     ]
    }
   ],
   "source": [
    "# tictactoe_train_data, weak_finetune_data, tictactoe_val_data, tictactoe_test_data = train_test_split_tictactoe(tictactoe_data, 0.5, 0.25, 0.05, 0.20, DEVICE, 1234)\n",
    "(\n",
    "    tictactoe_train_data,\n",
    "    tictactoe_weak_finetune_data,\n",
    "    tictactoe_val_data,\n",
    "    tictactoe_test_data,\n",
    ") = train_test_split_tictactoe_first_two_moves_no_overlap(\n",
    "    tictactoe_data, 42, 15, 5, 10, 1234\n",
    ")\n",
    "\n",
    "print(\"Shape Train: \", tictactoe_train_data.games_data.shape)\n",
    "print(\"Shape Weak Finetune: \", tictactoe_weak_finetune_data.games_data.shape)\n",
    "print(\"Shape Validation: \", tictactoe_val_data.games_data.shape)\n",
    "print(\"Shape Test:  \", tictactoe_test_data.games_data.shape)"
   ]
  },
  {
   "cell_type": "code",
   "execution_count": 5,
   "metadata": {
    "id": "z2UN1wnAMnEr"
   },
   "outputs": [],
   "source": [
    "# leakage_pct = calculate_leakage_percentage(tictactoe_train_data, tictactoe_test_data)\n",
    "# print(f\"Leakage Percentage: {leakage_pct:.2f}%\")"
   ]
  },
  {
   "cell_type": "code",
   "execution_count": 6,
   "metadata": {
    "id": "m7t-JI6-Oz8L"
   },
   "outputs": [],
   "source": [
    "# plot_train_test_prefix_histograms(tictactoe_train_data, tictactoe_test_data)"
   ]
  },
  {
   "cell_type": "code",
   "execution_count": 7,
   "metadata": {
    "id": "8kIUD9u4_QGk"
   },
   "outputs": [],
   "source": [
    "tictactoe_train_data = create_hard_label_tictactoe_data(\n",
    "    tictactoe_train_data, num_samples=1, seed=1234\n",
    ")\n",
    "tictactoe_weak_finetune_data = create_hard_label_tictactoe_data(\n",
    "    tictactoe_weak_finetune_data, num_samples=1, seed=1234\n",
    ")\n",
    "tictactoe_val_data = create_hard_label_tictactoe_data(\n",
    "    tictactoe_val_data, num_samples=1, seed=1234\n",
    ")"
   ]
  },
  {
   "cell_type": "code",
   "execution_count": 8,
   "metadata": {
    "id": "hR8xt9Kx4IzL"
   },
   "outputs": [
    {
     "name": "stdout",
     "output_type": "stream",
     "text": [
      "Shape Train:  torch.Size([116726, 10])\n"
     ]
    },
    {
     "data": {
      "text/plain": [
       "tensor([[0., 0., 0., 0., 0., 1., 0., 0., 0., 0.],\n",
       "        [0., 0., 0., 0., 1., 0., 0., 0., 0., 0.],\n",
       "        [0., 0., 0., 0., 1., 0., 0., 0., 0., 0.]], device='cuda:0')"
      ]
     },
     "execution_count": 8,
     "metadata": {},
     "output_type": "execute_result"
    }
   ],
   "source": [
    "print(\"Shape Train: \", tictactoe_train_data.games_data.shape)\n",
    "tictactoe_train_data.weak_goals_labels[0][:3]"
   ]
  },
  {
   "cell_type": "code",
   "execution_count": 9,
   "metadata": {},
   "outputs": [
    {
     "name": "stdout",
     "output_type": "stream",
     "text": [
      "Shape Weak Finetune:  torch.Size([41694, 10])\n"
     ]
    },
    {
     "data": {
      "text/plain": [
       "tensor([[0., 0., 0., 0., 0., 1., 0., 0., 0., 0.],\n",
       "        [0., 0., 0., 0., 1., 0., 0., 0., 0., 0.],\n",
       "        [0., 0., 0., 0., 0., 0., 1., 0., 0., 0.]], device='cuda:0')"
      ]
     },
     "execution_count": 9,
     "metadata": {},
     "output_type": "execute_result"
    }
   ],
   "source": [
    "print(\"Shape Weak Finetune: \", tictactoe_weak_finetune_data.games_data.shape)\n",
    "tictactoe_weak_finetune_data.weak_goals_labels[0][:3]"
   ]
  },
  {
   "cell_type": "code",
   "execution_count": 10,
   "metadata": {
    "id": "CJSO2B_oAXDR"
   },
   "outputs": [
    {
     "name": "stdout",
     "output_type": "stream",
     "text": [
      "Shape Val:  torch.Size([14077, 10])\n"
     ]
    },
    {
     "data": {
      "text/plain": [
       "tensor([[0., 0., 0., 0., 0., 1., 0., 0., 0., 0.],\n",
       "        [0., 0., 0., 0., 1., 0., 0., 0., 0., 0.],\n",
       "        [0., 0., 0., 0., 0., 0., 1., 0., 0., 0.]], device='cuda:0')"
      ]
     },
     "execution_count": 10,
     "metadata": {},
     "output_type": "execute_result"
    }
   ],
   "source": [
    "print(\"Shape Val: \", tictactoe_val_data.games_data.shape)\n",
    "tictactoe_val_data.weak_goals_labels[0][:3]"
   ]
  },
  {
   "cell_type": "code",
   "execution_count": 11,
   "metadata": {
    "id": "kY0HWIu8PH1a"
   },
   "outputs": [
    {
     "name": "stdout",
     "output_type": "stream",
     "text": [
      "Shape Test:   torch.Size([27503, 10])\n"
     ]
    },
    {
     "data": {
      "text/plain": [
       "tensor([[0.1111, 0.1111, 0.1111, 0.1111, 0.1111, 0.1111, 0.1111, 0.1111, 0.1111,\n",
       "         0.0000],\n",
       "        [0.0000, 0.0000, 0.0000, 0.0000, 1.0000, 0.0000, 0.0000, 0.0000, 0.0000,\n",
       "         0.0000],\n",
       "        [0.0000, 0.0000, 0.0000, 0.0000, 0.3333, 0.0000, 0.3333, 0.3333, 0.0000,\n",
       "         0.0000]], device='cuda:0')"
      ]
     },
     "execution_count": 11,
     "metadata": {},
     "output_type": "execute_result"
    }
   ],
   "source": [
    "print(\"Shape Test:  \", tictactoe_test_data.games_data.shape)\n",
    "tictactoe_test_data.weak_goals_labels[0][:3]"
   ]
  },
  {
   "cell_type": "markdown",
   "metadata": {
    "id": "JuRcWagTqzSr"
   },
   "source": [
    "# Train model"
   ]
  },
  {
   "cell_type": "code",
   "execution_count": 12,
   "metadata": {
    "id": "RLl-6o7fjzfS"
   },
   "outputs": [],
   "source": [
    "# raise Exception()"
   ]
  },
  {
   "cell_type": "markdown",
   "metadata": {
    "id": "D_6vzd1Lrwt5"
   },
   "source": [
    "### Parameters"
   ]
  },
  {
   "cell_type": "code",
   "execution_count": 13,
   "metadata": {
    "id": "bjketwo1ipxE"
   },
   "outputs": [
    {
     "name": "stdout",
     "output_type": "stream",
     "text": [
      "Moving model to device:  cuda\n",
      "nano 6.8 * 10^01\n",
      "Moving model to device:  cuda\n",
      "micro 3.9 * 10^02\n",
      "Moving model to device:  cuda\n",
      "mini 2.0 * 10^03\n",
      "Moving model to device:  cuda\n",
      "small 1.0 * 10^04\n",
      "Moving model to device:  cuda\n",
      "medium 5.2 * 10^04\n",
      "Moving model to device:  cuda\n",
      "large 2.5 * 10^05\n",
      "Moving model to device:  cuda\n",
      "huge 1.2 * 10^06\n",
      "Ratio of consecutive model-sizes:  [5.676470588235294, 5.227979274611399, 5.142715559960357, 4.9992291385623435, 4.857985428472302, 4.736774029725204]\n"
     ]
    }
   ],
   "source": [
    "training_cfg = get_training_cfg()\n",
    "model_sizes = get_model_sizes()\n",
    "print_model_ratios(model_sizes, get_model_config)"
   ]
  },
  {
   "cell_type": "markdown",
   "metadata": {
    "id": "r-I_WW83ry7U"
   },
   "source": [
    "### wandb"
   ]
  },
  {
   "cell_type": "markdown",
   "metadata": {
    "id": "HZblgAQar1jd"
   },
   "source": [
    "### Train loop"
   ]
  },
  {
   "cell_type": "code",
   "execution_count": 14,
   "metadata": {
    "id": "GwzgRcIE9JNs"
   },
   "outputs": [],
   "source": [
    "from wsg_games.tictactoe.evals import *\n",
    "from wsg_games.tictactoe.data import *\n",
    "from wsg_games.tictactoe.game import *\n",
    "\n",
    "from wsg_games.tictactoe.analysis.analyse_data import *\n",
    "from wsg_games.tictactoe.analysis.visualize_game import *\n",
    "\n",
    "from wsg_games.tictactoe.train.create_models import *\n",
    "from wsg_games.tictactoe.train.save_load_models import *\n",
    "from wsg_games.tictactoe.train.train import *\n",
    "from wsg_games.tictactoe.train.finetune import *\n",
    "from wsg_games.tictactoe.train.pretrain import *"
   ]
  },
  {
   "cell_type": "code",
   "execution_count": 15,
   "metadata": {
    "id": "szlDLZgl1ist"
   },
   "outputs": [],
   "source": [
    "# project_name = \"tictactoe_playground\"\n",
    "# model_size = \"large\"\n",
    "# model_cfg = get_model_config(model_size)\n",
    "# wandb.finish()\n",
    "# model, _, _ = run_full_training(project_name, model_size, Goal.WEAK_GOAL, tictactoe_train_data, tictactoe_val_data, tictactoe_test_data, training_cfg, model_cfg)"
   ]
  },
  {
   "cell_type": "markdown",
   "metadata": {
    "id": "TtXdvXujjy_Z"
   },
   "source": [
    "### Experiments"
   ]
  },
  {
   "cell_type": "code",
   "execution_count": 16,
   "metadata": {
    "id": "dp_ENvvSiLF3"
   },
   "outputs": [],
   "source": [
    "# project_name = \"tictactoe_pretrained_reverse_rule_no_overlap_split_start_third_200k\"\n",
    "# project_name = \"tictactoe_pretrained_forbidden_diagonals_no_overlap_split_start_third_200k\"\n",
    "# pretrain_models(experiment_folder, project_name, tictactoe_train_data, tictactoe_val_data, tictactoe_test_data, training_cfg, get_model_config)"
   ]
  },
  {
   "cell_type": "code",
   "execution_count": 17,
   "metadata": {
    "id": "-UammRfNkGPt"
   },
   "outputs": [
    {
     "name": "stdout",
     "output_type": "stream",
     "text": [
      "Indices:  [1]\n",
      "Loading model from /homes/55/bwilop/wsg/experiments//tictactoe/tictactoe_pretraining/experiment_1_nano_weak_2025-05-12-13-08_dp0hcgh6.pkl\n",
      "Moving model to device:  cuda\n",
      "Moving model to device:  cpu\n",
      "Loading model from /homes/55/bwilop/wsg/experiments//tictactoe/tictactoe_pretraining/experiment_1_nano_strong_2025-05-12-13-22_nbc8z1hx.pkl\n",
      "Moving model to device:  cuda\n",
      "Moving model to device:  cpu\n",
      "Loading model from /homes/55/bwilop/wsg/experiments//tictactoe/tictactoe_pretraining/experiment_1_micro_weak_2025-05-12-13-10_hytet1nu.pkl\n",
      "Moving model to device:  cuda\n",
      "Moving model to device:  cpu\n",
      "Loading model from /homes/55/bwilop/wsg/experiments//tictactoe/tictactoe_pretraining/experiment_1_micro_strong_2025-05-12-13-24_borssshp.pkl\n",
      "Moving model to device:  cuda\n",
      "Moving model to device:  cpu\n",
      "Loading model from /homes/55/bwilop/wsg/experiments//tictactoe/tictactoe_pretraining/experiment_1_mini_weak_2025-05-12-13-11_j1nejgpj.pkl\n",
      "Moving model to device:  cuda\n",
      "Moving model to device:  cpu\n",
      "Loading model from /homes/55/bwilop/wsg/experiments//tictactoe/tictactoe_pretraining/experiment_1_mini_strong_2025-05-12-13-25_i8dft33e.pkl\n",
      "Moving model to device:  cuda\n",
      "Moving model to device:  cpu\n",
      "Loading model from /homes/55/bwilop/wsg/experiments//tictactoe/tictactoe_pretraining/experiment_1_small_weak_2025-05-12-13-13_hsqxz1og.pkl\n",
      "Moving model to device:  cuda\n",
      "Moving model to device:  cpu\n",
      "Loading model from /homes/55/bwilop/wsg/experiments//tictactoe/tictactoe_pretraining/experiment_1_small_strong_2025-05-12-13-26_04ydvwhy.pkl\n",
      "Moving model to device:  cuda\n",
      "Moving model to device:  cpu\n",
      "Loading model from /homes/55/bwilop/wsg/experiments//tictactoe/tictactoe_pretraining/experiment_1_medium_weak_2025-05-12-13-15_lap3pc5k.pkl\n",
      "Moving model to device:  cuda\n",
      "Moving model to device:  cpu\n",
      "Loading model from /homes/55/bwilop/wsg/experiments//tictactoe/tictactoe_pretraining/experiment_1_medium_strong_2025-05-12-13-26_9dl6dkal.pkl\n",
      "Moving model to device:  cuda\n",
      "Moving model to device:  cpu\n",
      "Loading model from /homes/55/bwilop/wsg/experiments//tictactoe/tictactoe_pretraining/experiment_1_large_weak_2025-05-12-13-17_0no6qk4c.pkl\n",
      "Moving model to device:  cuda\n",
      "Moving model to device:  cpu\n",
      "Loading model from /homes/55/bwilop/wsg/experiments//tictactoe/tictactoe_pretraining/experiment_1_large_strong_2025-05-12-13-30_j0rk4tyn.pkl\n",
      "Moving model to device:  cuda\n",
      "Moving model to device:  cpu\n",
      "Loading model from /homes/55/bwilop/wsg/experiments//tictactoe/tictactoe_pretraining/experiment_1_huge_weak_2025-05-12-13-18_k8vb76zm.pkl\n",
      "Moving model to device:  cuda\n",
      "Moving model to device:  cpu\n",
      "Loading model from /homes/55/bwilop/wsg/experiments//tictactoe/tictactoe_pretraining/experiment_1_huge_strong_2025-05-12-13-31_cghnxdaz.pkl\n",
      "Moving model to device:  cuda\n",
      "Moving model to device:  cpu\n"
     ]
    },
    {
     "data": {
      "image/png": "[encoded data removed]",
      "text/plain": [
       "<Figure size 1600x700 with 2 Axes>"
      ]
     },
     "metadata": {},
     "output_type": "display_data"
    }
   ],
   "source": [
    "# project_name = \"tictactoe_pretrain_forbidden_diagonal_rule_test2\"\n",
    "project_name = \"tictactoe/tictactoe_pretraining\"\n",
    "plot_loss_pretrain_models(\n",
    "    data_folder + \"tictactoe/\",\n",
    "    experiment_folder,\n",
    "    project_name,\n",
    "    device=DEVICE,\n",
    "    indices=[1],\n",
    ")"
   ]
  },
  {
   "cell_type": "code",
   "execution_count": null,
   "metadata": {
    "id": "fER3-VgSv1nU"
   },
   "outputs": [
    {
     "ename": "",
     "evalue": "",
     "output_type": "error",
     "traceback": [
      "\u001b[1;31mnotebook controller is DISPOSED. \n",
      "\u001b[1;31mView Jupyter <a href='command:jupyter.viewOutput'>log</a> for further details."
     ]
    },
    {
     "ename": "",
     "evalue": "",
     "output_type": "error",
     "traceback": [
      "\u001b[1;31mnotebook controller is DISPOSED. \n",
      "\u001b[1;31mView Jupyter <a href='command:jupyter.viewOutput'>log</a> for further details."
     ]
    },
    {
     "ename": "",
     "evalue": "",
     "output_type": "error",
     "traceback": [
      "\u001b[1;31mnotebook controller is DISPOSED. \n",
      "\u001b[1;31mView Jupyter <a href='command:jupyter.viewOutput'>log</a> for further details."
     ]
    },
    {
     "ename": "",
     "evalue": "",
     "output_type": "error",
     "traceback": [
      "\u001b[1;31mnotebook controller is DISPOSED. \n",
      "\u001b[1;31mView Jupyter <a href='command:jupyter.viewOutput'>log</a> for further details."
     ]
    },
    {
     "ename": "",
     "evalue": "",
     "output_type": "error",
     "traceback": [
      "\u001b[1;31mnotebook controller is DISPOSED. \n",
      "\u001b[1;31mView Jupyter <a href='command:jupyter.viewOutput'>log</a> for further details."
     ]
    }
   ],
   "source": [
    "# project_name = \"tictactoe_pretrained_reverse_rule_no_overlap_split_start_third_200k\"\n",
    "# weak_model_weak_goals = load_model(project_name, \"mini\", Goal.WEAK_GOAL, experiment_folder)\n",
    "# strong_model_weak_goals = load_model(project_name, \"medium\", Goal.WEAK_GOAL, experiment_folder)\n",
    "# strong_model_strong_goals = load_model(project_name, \"medium\", Goal.STRONG_GOAL, experiment_folder)\n",
    "# quick_evaluation(\"Weak model weak goal\", weak_model_weak_goals, tictactoe_test_data)\n",
    "# quick_evaluation(\"Strong model weak goal\", strong_model_weak_goals, tictactoe_test_data)\n",
    "# quick_evaluation(\"Strong model strong goal\", strong_model_strong_goals, tictactoe_test_data)\n",
    "# strong_model_finetuned = deepcopy(strong_model_strong_goals)\n",
    "\n",
    "# project_name = \"tictactoe_playground\"\n",
    "# timestamp = datetime.now().strftime(\"%Y-%m-%d-%H-%M\")\n",
    "# experiment_name = f\"experiment_finetuning_{timestamp}\"\n",
    "#  # Use validation data as weak_train_data\n",
    "# finetune_strong_with_weak(project_name, experiment_name, weak_model_weak_goals, strong_model_finetuned, tictactoe_weak_finetune_data, tictactoe_test_data, adapted_training_cfg)"
   ]
  },
  {
   "cell_type": "code",
   "execution_count": 19,
   "metadata": {},
   "outputs": [
    {
     "name": "stdout",
     "output_type": "stream",
     "text": [
      "Moving model to device:  cuda\n",
      "Moving model to device:  cuda\n",
      "Moving model to device:  cuda\n",
      "Moving model to device:  cuda\n",
      "Moving model to device:  cuda\n",
      "No finetuned model found for weak nano and strong micro, and index 5\n",
      "Indices:  [0, 1, 2, 3, 4]\n",
      "Loading model from /homes/55/bwilop/wsg/experiments//tictactoe/tictactoe_pretraining/experiment_0_nano_weak_2025-05-12-12-53_lawn3fdy.pkl\n",
      "Moving model to device:  cuda\n",
      "Moving model to device:  cpu\n",
      "Loading model from /homes/55/bwilop/wsg/experiments//tictactoe/tictactoe_pretraining/experiment_0_micro_weak_2025-05-12-12-53_bcxjen7p.pkl\n",
      "Moving model to device:  cuda\n",
      "Moving model to device:  cpu\n",
      "Loading model from /homes/55/bwilop/wsg/experiments//tictactoe/tictactoe_pretraining/experiment_0_mini_weak_2025-05-12-12-53_7zx5is9k.pkl\n",
      "Moving model to device:  cuda\n",
      "Moving model to device:  cpu\n",
      "Loading model from /homes/55/bwilop/wsg/experiments//tictactoe/tictactoe_pretraining/experiment_0_small_weak_2025-05-12-12-53_80g6xcpz.pkl\n",
      "Moving model to device:  cuda\n",
      "Moving model to device:  cpu\n",
      "Loading model from /homes/55/bwilop/wsg/experiments//tictactoe/tictactoe_pretraining/experiment_0_medium_weak_2025-05-12-12-53_tlayz9my.pkl\n",
      "Moving model to device:  cuda\n",
      "Moving model to device:  cpu\n",
      "Loading model from /homes/55/bwilop/wsg/experiments//tictactoe/tictactoe_pretraining/experiment_0_large_weak_2025-05-12-12-53_ha1ppcql.pkl\n",
      "Moving model to device:  cuda\n",
      "Moving model to device:  cpu\n",
      "Loading model from /homes/55/bwilop/wsg/experiments//tictactoe/tictactoe_pretraining/experiment_0_huge_weak_2025-05-12-12-56_207v1vt5.pkl\n",
      "Moving model to device:  cuda\n",
      "Moving model to device:  cpu\n",
      "Loading model from /homes/55/bwilop/wsg/experiments//tictactoe/tictactoe_pretraining/experiment_1_nano_weak_2025-05-12-13-08_dp0hcgh6.pkl\n",
      "Moving model to device:  cuda\n",
      "Moving model to device:  cpu\n",
      "Loading model from /homes/55/bwilop/wsg/experiments//tictactoe/tictactoe_pretraining/experiment_1_micro_weak_2025-05-12-13-10_hytet1nu.pkl\n",
      "Moving model to device:  cuda\n",
      "Moving model to device:  cpu\n",
      "Loading model from /homes/55/bwilop/wsg/experiments//tictactoe/tictactoe_pretraining/experiment_1_mini_weak_2025-05-12-13-11_j1nejgpj.pkl\n",
      "Moving model to device:  cuda\n",
      "Moving model to device:  cpu\n",
      "Loading model from /homes/55/bwilop/wsg/experiments//tictactoe/tictactoe_pretraining/experiment_1_small_weak_2025-05-12-13-13_hsqxz1og.pkl\n",
      "Moving model to device:  cuda\n",
      "Moving model to device:  cpu\n",
      "Loading model from /homes/55/bwilop/wsg/experiments//tictactoe/tictactoe_pretraining/experiment_1_medium_weak_2025-05-12-13-15_lap3pc5k.pkl\n",
      "Moving model to device:  cuda\n",
      "Moving model to device:  cpu\n",
      "Loading model from /homes/55/bwilop/wsg/experiments//tictactoe/tictactoe_pretraining/experiment_1_large_weak_2025-05-12-13-17_0no6qk4c.pkl\n",
      "Moving model to device:  cuda\n",
      "Moving model to device:  cpu\n",
      "Loading model from /homes/55/bwilop/wsg/experiments//tictactoe/tictactoe_pretraining/experiment_1_huge_weak_2025-05-12-13-18_k8vb76zm.pkl\n",
      "Moving model to device:  cuda\n",
      "Moving model to device:  cpu\n",
      "Loading model from /homes/55/bwilop/wsg/experiments//tictactoe/tictactoe_pretraining/experiment_2_nano_weak_2025-05-12-18-14_d1oc27nm.pkl\n",
      "Moving model to device:  cuda\n",
      "Moving model to device:  cpu\n",
      "Loading model from /homes/55/bwilop/wsg/experiments//tictactoe/tictactoe_pretraining/experiment_2_micro_weak_2025-05-12-18-14_i8mbh9yl.pkl\n",
      "Moving model to device:  cuda\n",
      "Moving model to device:  cpu\n",
      "Loading model from /homes/55/bwilop/wsg/experiments//tictactoe/tictactoe_pretraining/experiment_2_mini_weak_2025-05-12-18-14_jqiag92q.pkl\n",
      "Moving model to device:  cuda\n",
      "Moving model to device:  cpu\n",
      "Loading model from /homes/55/bwilop/wsg/experiments//tictactoe/tictactoe_pretraining/experiment_2_small_weak_2025-05-12-18-14_ghpr8drv.pkl\n",
      "Moving model to device:  cuda\n",
      "Moving model to device:  cpu\n",
      "Loading model from /homes/55/bwilop/wsg/experiments//tictactoe/tictactoe_pretraining/experiment_2_medium_weak_2025-05-12-18-14_cijpqgz6.pkl\n",
      "Moving model to device:  cuda\n",
      "Moving model to device:  cpu\n",
      "Loading model from /homes/55/bwilop/wsg/experiments//tictactoe/tictactoe_pretraining/experiment_2_large_weak_2025-05-12-18-14_av3h7qd0.pkl\n",
      "Moving model to device:  cuda\n",
      "Moving model to device:  cpu\n",
      "Loading model from /homes/55/bwilop/wsg/experiments//tictactoe/tictactoe_pretraining/experiment_2_huge_weak_2025-05-12-18-16_v6qy4frd.pkl\n",
      "Moving model to device:  cuda\n",
      "Moving model to device:  cpu\n",
      "Loading model from /homes/55/bwilop/wsg/experiments//tictactoe/tictactoe_pretraining/experiment_3_nano_weak_2025-05-12-18-35_avslgc6n.pkl\n",
      "Moving model to device:  cuda\n",
      "Moving model to device:  cpu\n",
      "Loading model from /homes/55/bwilop/wsg/experiments//tictactoe/tictactoe_pretraining/experiment_3_micro_weak_2025-05-12-18-35_vt1mgwew.pkl\n",
      "Moving model to device:  cuda\n",
      "Moving model to device:  cpu\n",
      "Loading model from /homes/55/bwilop/wsg/experiments//tictactoe/tictactoe_pretraining/experiment_3_mini_weak_2025-05-12-18-36_zd06v8jp.pkl\n",
      "Moving model to device:  cuda\n",
      "Moving model to device:  cpu\n",
      "Loading model from /homes/55/bwilop/wsg/experiments//tictactoe/tictactoe_pretraining/experiment_3_small_weak_2025-05-12-18-39_jomb7pap.pkl\n",
      "Moving model to device:  cuda\n",
      "Moving model to device:  cpu\n",
      "Loading model from /homes/55/bwilop/wsg/experiments//tictactoe/tictactoe_pretraining/experiment_3_medium_weak_2025-05-12-18-39_iare05ab.pkl\n",
      "Moving model to device:  cuda\n",
      "Moving model to device:  cpu\n",
      "Loading model from /homes/55/bwilop/wsg/experiments//tictactoe/tictactoe_pretraining/experiment_3_large_weak_2025-05-12-18-40_m23ggchr.pkl\n",
      "Moving model to device:  cuda\n",
      "Moving model to device:  cpu\n",
      "Loading model from /homes/55/bwilop/wsg/experiments//tictactoe/tictactoe_pretraining/experiment_3_huge_weak_2025-05-12-18-43_xgi55zha.pkl\n",
      "Moving model to device:  cuda\n",
      "Moving model to device:  cpu\n",
      "Loading model from /homes/55/bwilop/wsg/experiments//tictactoe/tictactoe_pretraining/experiment_4_nano_weak_2025-05-12-19-00_5hddchyc.pkl\n",
      "Moving model to device:  cuda\n",
      "Moving model to device:  cpu\n",
      "Loading model from /homes/55/bwilop/wsg/experiments//tictactoe/tictactoe_pretraining/experiment_4_micro_weak_2025-05-12-19-01_1mke382i.pkl\n",
      "Moving model to device:  cuda\n",
      "Moving model to device:  cpu\n",
      "Loading model from /homes/55/bwilop/wsg/experiments//tictactoe/tictactoe_pretraining/experiment_4_mini_weak_2025-05-12-19-01_rw6w0t62.pkl\n",
      "Moving model to device:  cuda\n",
      "Moving model to device:  cpu\n",
      "Loading model from /homes/55/bwilop/wsg/experiments//tictactoe/tictactoe_pretraining/experiment_4_small_weak_2025-05-12-19-03_hrfsn1r1.pkl\n",
      "Moving model to device:  cuda\n",
      "Moving model to device:  cpu\n",
      "Loading model from /homes/55/bwilop/wsg/experiments//tictactoe/tictactoe_pretraining/experiment_4_medium_weak_2025-05-12-19-05_mnyntcsj.pkl\n",
      "Moving model to device:  cuda\n",
      "Moving model to device:  cpu\n",
      "Loading model from /homes/55/bwilop/wsg/experiments//tictactoe/tictactoe_pretraining/experiment_4_large_weak_2025-05-12-19-06_ny9talzz.pkl\n",
      "Moving model to device:  cuda\n",
      "Moving model to device:  cpu\n",
      "Loading model from /homes/55/bwilop/wsg/experiments//tictactoe/tictactoe_pretraining/experiment_4_huge_weak_2025-05-12-19-06_0amsvg9x.pkl\n",
      "Moving model to device:  cuda\n",
      "Moving model to device:  cpu\n",
      "Loading model from /homes/55/bwilop/wsg/experiments//tictactoe/tictactoe_pretraining_random/experiment_0_micro_strong_2025-05-14-00-05_RANDOM.pkl\n",
      "Moving model to device:  cuda\n",
      "Moving model to device:  cuda\n",
      "Moving model to device:  cpu\n",
      "Loading model from /homes/55/bwilop/wsg/experiments//tictactoe/tictactoe_pretraining_random/experiment_0_mini_strong_2025-05-14-00-05_RANDOM.pkl\n",
      "Moving model to device:  cuda\n",
      "Moving model to device:  cuda\n",
      "Moving model to device:  cpu\n",
      "Loading model from /homes/55/bwilop/wsg/experiments//tictactoe/tictactoe_pretraining_random/experiment_0_small_strong_2025-05-14-00-05_RANDOM.pkl\n",
      "Moving model to device:  cuda\n",
      "Moving model to device:  cuda\n",
      "Moving model to device:  cpu\n",
      "Loading model from /homes/55/bwilop/wsg/experiments//tictactoe/tictactoe_pretraining_random/experiment_0_medium_strong_2025-05-14-00-05_RANDOM.pkl\n",
      "Moving model to device:  cuda\n",
      "Moving model to device:  cuda\n",
      "Moving model to device:  cpu\n",
      "Loading model from /homes/55/bwilop/wsg/experiments//tictactoe/tictactoe_pretraining_random/experiment_0_large_strong_2025-05-14-00-05_RANDOM.pkl\n",
      "Moving model to device:  cuda\n",
      "Moving model to device:  cuda\n",
      "Moving model to device:  cpu\n",
      "Loading model from /homes/55/bwilop/wsg/experiments//tictactoe/tictactoe_pretraining_random/experiment_0_huge_strong_2025-05-14-00-05_RANDOM.pkl\n",
      "Moving model to device:  cuda\n",
      "Moving model to device:  cuda\n",
      "Moving model to device:  cpu\n",
      "Loading model from /homes/55/bwilop/wsg/experiments//tictactoe/tictactoe_pretraining_random/experiment_0_mini_strong_2025-05-14-00-05_RANDOM.pkl\n",
      "Moving model to device:  cuda\n",
      "Moving model to device:  cuda\n",
      "Moving model to device:  cpu\n",
      "Loading model from /homes/55/bwilop/wsg/experiments//tictactoe/tictactoe_pretraining_random/experiment_0_small_strong_2025-05-14-00-05_RANDOM.pkl\n",
      "Moving model to device:  cuda\n",
      "Moving model to device:  cuda\n",
      "Moving model to device:  cpu\n",
      "Loading model from /homes/55/bwilop/wsg/experiments//tictactoe/tictactoe_pretraining_random/experiment_0_medium_strong_2025-05-14-00-05_RANDOM.pkl\n",
      "Moving model to device:  cuda\n",
      "Moving model to device:  cuda\n",
      "Moving model to device:  cpu\n",
      "Loading model from /homes/55/bwilop/wsg/experiments//tictactoe/tictactoe_pretraining_random/experiment_0_large_strong_2025-05-14-00-05_RANDOM.pkl\n",
      "Moving model to device:  cuda\n",
      "Moving model to device:  cuda\n",
      "Moving model to device:  cpu\n",
      "Loading model from /homes/55/bwilop/wsg/experiments//tictactoe/tictactoe_pretraining_random/experiment_0_huge_strong_2025-05-14-00-05_RANDOM.pkl\n",
      "Moving model to device:  cuda\n",
      "Moving model to device:  cuda\n",
      "Moving model to device:  cpu\n",
      "Loading model from /homes/55/bwilop/wsg/experiments//tictactoe/tictactoe_pretraining_random/experiment_0_small_strong_2025-05-14-00-05_RANDOM.pkl\n",
      "Moving model to device:  cuda\n",
      "Moving model to device:  cuda\n",
      "Moving model to device:  cpu\n",
      "Loading model from /homes/55/bwilop/wsg/experiments//tictactoe/tictactoe_pretraining_random/experiment_0_medium_strong_2025-05-14-00-05_RANDOM.pkl\n",
      "Moving model to device:  cuda\n",
      "Moving model to device:  cuda\n",
      "Moving model to device:  cpu\n",
      "Loading model from /homes/55/bwilop/wsg/experiments//tictactoe/tictactoe_pretraining_random/experiment_0_large_strong_2025-05-14-00-05_RANDOM.pkl\n",
      "Moving model to device:  cuda\n",
      "Moving model to device:  cuda\n",
      "Moving model to device:  cpu\n",
      "Loading model from /homes/55/bwilop/wsg/experiments//tictactoe/tictactoe_pretraining_random/experiment_0_huge_strong_2025-05-14-00-05_RANDOM.pkl\n",
      "Moving model to device:  cuda\n",
      "Moving model to device:  cuda\n",
      "Moving model to device:  cpu\n",
      "Loading model from /homes/55/bwilop/wsg/experiments//tictactoe/tictactoe_pretraining_random/experiment_0_medium_strong_2025-05-14-00-05_RANDOM.pkl\n",
      "Moving model to device:  cuda\n",
      "Moving model to device:  cuda\n",
      "Moving model to device:  cpu\n",
      "Loading model from /homes/55/bwilop/wsg/experiments//tictactoe/tictactoe_pretraining_random/experiment_0_large_strong_2025-05-14-00-05_RANDOM.pkl\n",
      "Moving model to device:  cuda\n",
      "Moving model to device:  cuda\n",
      "Moving model to device:  cpu\n",
      "Loading model from /homes/55/bwilop/wsg/experiments//tictactoe/tictactoe_pretraining_random/experiment_0_huge_strong_2025-05-14-00-05_RANDOM.pkl\n",
      "Moving model to device:  cuda\n",
      "Moving model to device:  cuda\n",
      "Moving model to device:  cpu\n",
      "Loading model from /homes/55/bwilop/wsg/experiments//tictactoe/tictactoe_pretraining_random/experiment_0_large_strong_2025-05-14-00-05_RANDOM.pkl\n",
      "Moving model to device:  cuda\n",
      "Moving model to device:  cuda\n",
      "Moving model to device:  cpu\n",
      "Loading model from /homes/55/bwilop/wsg/experiments//tictactoe/tictactoe_pretraining_random/experiment_0_huge_strong_2025-05-14-00-05_RANDOM.pkl\n",
      "Moving model to device:  cuda\n",
      "Moving model to device:  cuda\n",
      "Moving model to device:  cpu\n",
      "Loading model from /homes/55/bwilop/wsg/experiments//tictactoe/tictactoe_pretraining_random/experiment_0_huge_strong_2025-05-14-00-05_RANDOM.pkl\n",
      "Moving model to device:  cuda\n",
      "Moving model to device:  cuda\n",
      "Moving model to device:  cpu\n",
      "Loading model from /homes/55/bwilop/wsg/experiments//tictactoe/tictactoe_pretraining_random/experiment_1_micro_strong_2025-05-14-00-05_RANDOM.pkl\n",
      "Moving model to device:  cuda\n",
      "Moving model to device:  cuda\n",
      "Moving model to device:  cpu\n",
      "Loading model from /homes/55/bwilop/wsg/experiments//tictactoe/tictactoe_pretraining_random/experiment_1_mini_strong_2025-05-14-00-05_RANDOM.pkl\n",
      "Moving model to device:  cuda\n",
      "Moving model to device:  cuda\n",
      "Moving model to device:  cpu\n",
      "Loading model from /homes/55/bwilop/wsg/experiments//tictactoe/tictactoe_pretraining_random/experiment_1_small_strong_2025-05-14-00-05_RANDOM.pkl\n",
      "Moving model to device:  cuda\n",
      "Moving model to device:  cuda\n",
      "Moving model to device:  cpu\n",
      "Loading model from /homes/55/bwilop/wsg/experiments//tictactoe/tictactoe_pretraining_random/experiment_1_medium_strong_2025-05-14-00-05_RANDOM.pkl\n",
      "Moving model to device:  cuda\n",
      "Moving model to device:  cuda\n",
      "Moving model to device:  cpu\n",
      "Loading model from /homes/55/bwilop/wsg/experiments//tictactoe/tictactoe_pretraining_random/experiment_1_large_strong_2025-05-14-00-05_RANDOM.pkl\n",
      "Moving model to device:  cuda\n",
      "Moving model to device:  cuda\n",
      "Moving model to device:  cpu\n",
      "Loading model from /homes/55/bwilop/wsg/experiments//tictactoe/tictactoe_pretraining_random/experiment_1_huge_strong_2025-05-14-00-05_RANDOM.pkl\n",
      "Moving model to device:  cuda\n",
      "Moving model to device:  cuda\n",
      "Moving model to device:  cpu\n",
      "Loading model from /homes/55/bwilop/wsg/experiments//tictactoe/tictactoe_pretraining_random/experiment_1_mini_strong_2025-05-14-00-05_RANDOM.pkl\n",
      "Moving model to device:  cuda\n",
      "Moving model to device:  cuda\n",
      "Moving model to device:  cpu\n",
      "Loading model from /homes/55/bwilop/wsg/experiments//tictactoe/tictactoe_pretraining_random/experiment_1_small_strong_2025-05-14-00-05_RANDOM.pkl\n",
      "Moving model to device:  cuda\n",
      "Moving model to device:  cuda\n",
      "Moving model to device:  cpu\n",
      "Loading model from /homes/55/bwilop/wsg/experiments//tictactoe/tictactoe_pretraining_random/experiment_1_medium_strong_2025-05-14-00-05_RANDOM.pkl\n",
      "Moving model to device:  cuda\n",
      "Moving model to device:  cuda\n",
      "Moving model to device:  cpu\n",
      "Loading model from /homes/55/bwilop/wsg/experiments//tictactoe/tictactoe_pretraining_random/experiment_1_large_strong_2025-05-14-00-05_RANDOM.pkl\n",
      "Moving model to device:  cuda\n",
      "Moving model to device:  cuda\n",
      "Moving model to device:  cpu\n",
      "Loading model from /homes/55/bwilop/wsg/experiments//tictactoe/tictactoe_pretraining_random/experiment_1_huge_strong_2025-05-14-00-05_RANDOM.pkl\n",
      "Moving model to device:  cuda\n",
      "Moving model to device:  cuda\n",
      "Moving model to device:  cpu\n",
      "Loading model from /homes/55/bwilop/wsg/experiments//tictactoe/tictactoe_pretraining_random/experiment_1_small_strong_2025-05-14-00-05_RANDOM.pkl\n",
      "Moving model to device:  cuda\n",
      "Moving model to device:  cuda\n",
      "Moving model to device:  cpu\n",
      "Loading model from /homes/55/bwilop/wsg/experiments//tictactoe/tictactoe_pretraining_random/experiment_1_medium_strong_2025-05-14-00-05_RANDOM.pkl\n",
      "Moving model to device:  cuda\n",
      "Moving model to device:  cuda\n",
      "Moving model to device:  cpu\n",
      "Loading model from /homes/55/bwilop/wsg/experiments//tictactoe/tictactoe_pretraining_random/experiment_1_large_strong_2025-05-14-00-05_RANDOM.pkl\n",
      "Moving model to device:  cuda\n",
      "Moving model to device:  cuda\n",
      "Moving model to device:  cpu\n",
      "Loading model from /homes/55/bwilop/wsg/experiments//tictactoe/tictactoe_pretraining_random/experiment_1_huge_strong_2025-05-14-00-05_RANDOM.pkl\n",
      "Moving model to device:  cuda\n",
      "Moving model to device:  cuda\n",
      "Moving model to device:  cpu\n",
      "Loading model from /homes/55/bwilop/wsg/experiments//tictactoe/tictactoe_pretraining_random/experiment_1_medium_strong_2025-05-14-00-05_RANDOM.pkl\n",
      "Moving model to device:  cuda\n",
      "Moving model to device:  cuda\n",
      "Moving model to device:  cpu\n",
      "Loading model from /homes/55/bwilop/wsg/experiments//tictactoe/tictactoe_pretraining_random/experiment_1_large_strong_2025-05-14-00-05_RANDOM.pkl\n",
      "Moving model to device:  cuda\n",
      "Moving model to device:  cuda\n",
      "Moving model to device:  cpu\n",
      "Loading model from /homes/55/bwilop/wsg/experiments//tictactoe/tictactoe_pretraining_random/experiment_1_huge_strong_2025-05-14-00-05_RANDOM.pkl\n",
      "Moving model to device:  cuda\n",
      "Moving model to device:  cuda\n",
      "Moving model to device:  cpu\n",
      "Loading model from /homes/55/bwilop/wsg/experiments//tictactoe/tictactoe_pretraining_random/experiment_1_large_strong_2025-05-14-00-05_RANDOM.pkl\n",
      "Moving model to device:  cuda\n",
      "Moving model to device:  cuda\n",
      "Moving model to device:  cpu\n",
      "Loading model from /homes/55/bwilop/wsg/experiments//tictactoe/tictactoe_pretraining_random/experiment_1_huge_strong_2025-05-14-00-05_RANDOM.pkl\n",
      "Moving model to device:  cuda\n",
      "Moving model to device:  cuda\n",
      "Moving model to device:  cpu\n",
      "Loading model from /homes/55/bwilop/wsg/experiments//tictactoe/tictactoe_pretraining_random/experiment_1_huge_strong_2025-05-14-00-05_RANDOM.pkl\n",
      "Moving model to device:  cuda\n",
      "Moving model to device:  cuda\n",
      "Moving model to device:  cpu\n",
      "Loading model from /homes/55/bwilop/wsg/experiments//tictactoe/tictactoe_pretraining_random/experiment_2_micro_strong_2025-05-14-00-05_RANDOM.pkl\n",
      "Moving model to device:  cuda\n",
      "Moving model to device:  cuda\n",
      "Moving model to device:  cpu\n",
      "Loading model from /homes/55/bwilop/wsg/experiments//tictactoe/tictactoe_pretraining_random/experiment_2_mini_strong_2025-05-14-00-05_RANDOM.pkl\n",
      "Moving model to device:  cuda\n",
      "Moving model to device:  cuda\n",
      "Moving model to device:  cpu\n",
      "Loading model from /homes/55/bwilop/wsg/experiments//tictactoe/tictactoe_pretraining_random/experiment_2_small_strong_2025-05-14-00-05_RANDOM.pkl\n",
      "Moving model to device:  cuda\n",
      "Moving model to device:  cuda\n",
      "Moving model to device:  cpu\n",
      "Loading model from /homes/55/bwilop/wsg/experiments//tictactoe/tictactoe_pretraining_random/experiment_2_medium_strong_2025-05-14-00-05_RANDOM.pkl\n",
      "Moving model to device:  cuda\n",
      "Moving model to device:  cuda\n",
      "Moving model to device:  cpu\n",
      "Loading model from /homes/55/bwilop/wsg/experiments//tictactoe/tictactoe_pretraining_random/experiment_2_large_strong_2025-05-14-00-05_RANDOM.pkl\n",
      "Moving model to device:  cuda\n",
      "Moving model to device:  cuda\n",
      "Moving model to device:  cpu\n",
      "Loading model from /homes/55/bwilop/wsg/experiments//tictactoe/tictactoe_pretraining_random/experiment_2_huge_strong_2025-05-14-00-05_RANDOM.pkl\n",
      "Moving model to device:  cuda\n",
      "Moving model to device:  cuda\n",
      "Moving model to device:  cpu\n",
      "Loading model from /homes/55/bwilop/wsg/experiments//tictactoe/tictactoe_pretraining_random/experiment_2_mini_strong_2025-05-14-00-05_RANDOM.pkl\n",
      "Moving model to device:  cuda\n",
      "Moving model to device:  cuda\n",
      "Moving model to device:  cpu\n",
      "Loading model from /homes/55/bwilop/wsg/experiments//tictactoe/tictactoe_pretraining_random/experiment_2_small_strong_2025-05-14-00-05_RANDOM.pkl\n",
      "Moving model to device:  cuda\n",
      "Moving model to device:  cuda\n",
      "Moving model to device:  cpu\n",
      "Loading model from /homes/55/bwilop/wsg/experiments//tictactoe/tictactoe_pretraining_random/experiment_2_medium_strong_2025-05-14-00-05_RANDOM.pkl\n",
      "Moving model to device:  cuda\n",
      "Moving model to device:  cuda\n",
      "Moving model to device:  cpu\n",
      "Loading model from /homes/55/bwilop/wsg/experiments//tictactoe/tictactoe_pretraining_random/experiment_2_large_strong_2025-05-14-00-05_RANDOM.pkl\n",
      "Moving model to device:  cuda\n",
      "Moving model to device:  cuda\n",
      "Moving model to device:  cpu\n",
      "Loading model from /homes/55/bwilop/wsg/experiments//tictactoe/tictactoe_pretraining_random/experiment_2_huge_strong_2025-05-14-00-05_RANDOM.pkl\n",
      "Moving model to device:  cuda\n",
      "Moving model to device:  cuda\n",
      "Moving model to device:  cpu\n",
      "Loading model from /homes/55/bwilop/wsg/experiments//tictactoe/tictactoe_pretraining_random/experiment_2_small_strong_2025-05-14-00-05_RANDOM.pkl\n",
      "Moving model to device:  cuda\n",
      "Moving model to device:  cuda\n",
      "Moving model to device:  cpu\n",
      "Loading model from /homes/55/bwilop/wsg/experiments//tictactoe/tictactoe_pretraining_random/experiment_2_medium_strong_2025-05-14-00-05_RANDOM.pkl\n",
      "Moving model to device:  cuda\n",
      "Moving model to device:  cuda\n",
      "Moving model to device:  cpu\n",
      "Loading model from /homes/55/bwilop/wsg/experiments//tictactoe/tictactoe_pretraining_random/experiment_2_large_strong_2025-05-14-00-05_RANDOM.pkl\n",
      "Moving model to device:  cuda\n",
      "Moving model to device:  cuda\n",
      "Moving model to device:  cpu\n",
      "Loading model from /homes/55/bwilop/wsg/experiments//tictactoe/tictactoe_pretraining_random/experiment_2_huge_strong_2025-05-14-00-05_RANDOM.pkl\n",
      "Moving model to device:  cuda\n",
      "Moving model to device:  cuda\n",
      "Moving model to device:  cpu\n",
      "Loading model from /homes/55/bwilop/wsg/experiments//tictactoe/tictactoe_pretraining_random/experiment_2_medium_strong_2025-05-14-00-05_RANDOM.pkl\n",
      "Moving model to device:  cuda\n",
      "Moving model to device:  cuda\n",
      "Moving model to device:  cpu\n",
      "Loading model from /homes/55/bwilop/wsg/experiments//tictactoe/tictactoe_pretraining_random/experiment_2_large_strong_2025-05-14-00-05_RANDOM.pkl\n",
      "Moving model to device:  cuda\n",
      "Moving model to device:  cuda\n",
      "Moving model to device:  cpu\n",
      "Loading model from /homes/55/bwilop/wsg/experiments//tictactoe/tictactoe_pretraining_random/experiment_2_huge_strong_2025-05-14-00-05_RANDOM.pkl\n",
      "Moving model to device:  cuda\n",
      "Moving model to device:  cuda\n",
      "Moving model to device:  cpu\n",
      "Loading model from /homes/55/bwilop/wsg/experiments//tictactoe/tictactoe_pretraining_random/experiment_2_large_strong_2025-05-14-00-05_RANDOM.pkl\n",
      "Moving model to device:  cuda\n",
      "Moving model to device:  cuda\n",
      "Moving model to device:  cpu\n",
      "Loading model from /homes/55/bwilop/wsg/experiments//tictactoe/tictactoe_pretraining_random/experiment_2_huge_strong_2025-05-14-00-05_RANDOM.pkl\n",
      "Moving model to device:  cuda\n",
      "Moving model to device:  cuda\n",
      "Moving model to device:  cpu\n",
      "Loading model from /homes/55/bwilop/wsg/experiments//tictactoe/tictactoe_pretraining_random/experiment_2_huge_strong_2025-05-14-00-05_RANDOM.pkl\n",
      "Moving model to device:  cuda\n",
      "Moving model to device:  cuda\n",
      "Moving model to device:  cpu\n",
      "Loading model from /homes/55/bwilop/wsg/experiments//tictactoe/tictactoe_pretraining_random/experiment_3_micro_strong_2025-05-14-00-05_RANDOM.pkl\n",
      "Moving model to device:  cuda\n",
      "Moving model to device:  cuda\n",
      "Moving model to device:  cpu\n",
      "Loading model from /homes/55/bwilop/wsg/experiments//tictactoe/tictactoe_pretraining_random/experiment_3_mini_strong_2025-05-14-00-05_RANDOM.pkl\n",
      "Moving model to device:  cuda\n",
      "Moving model to device:  cuda\n",
      "Moving model to device:  cpu\n",
      "Loading model from /homes/55/bwilop/wsg/experiments//tictactoe/tictactoe_pretraining_random/experiment_3_small_strong_2025-05-14-00-05_RANDOM.pkl\n",
      "Moving model to device:  cuda\n",
      "Moving model to device:  cuda\n",
      "Moving model to device:  cpu\n",
      "Loading model from /homes/55/bwilop/wsg/experiments//tictactoe/tictactoe_pretraining_random/experiment_3_medium_strong_2025-05-14-00-05_RANDOM.pkl\n",
      "Moving model to device:  cuda\n",
      "Moving model to device:  cuda\n",
      "Moving model to device:  cpu\n",
      "Loading model from /homes/55/bwilop/wsg/experiments//tictactoe/tictactoe_pretraining_random/experiment_3_large_strong_2025-05-14-00-05_RANDOM.pkl\n",
      "Moving model to device:  cuda\n",
      "Moving model to device:  cuda\n",
      "Moving model to device:  cpu\n",
      "Loading model from /homes/55/bwilop/wsg/experiments//tictactoe/tictactoe_pretraining_random/experiment_3_huge_strong_2025-05-14-00-05_RANDOM.pkl\n",
      "Moving model to device:  cuda\n",
      "Moving model to device:  cuda\n",
      "Moving model to device:  cpu\n",
      "Loading model from /homes/55/bwilop/wsg/experiments//tictactoe/tictactoe_pretraining_random/experiment_3_mini_strong_2025-05-14-00-05_RANDOM.pkl\n",
      "Moving model to device:  cuda\n",
      "Moving model to device:  cuda\n",
      "Moving model to device:  cpu\n",
      "Loading model from /homes/55/bwilop/wsg/experiments//tictactoe/tictactoe_pretraining_random/experiment_3_small_strong_2025-05-14-00-05_RANDOM.pkl\n",
      "Moving model to device:  cuda\n",
      "Moving model to device:  cuda\n",
      "Moving model to device:  cpu\n",
      "Loading model from /homes/55/bwilop/wsg/experiments//tictactoe/tictactoe_pretraining_random/experiment_3_medium_strong_2025-05-14-00-05_RANDOM.pkl\n",
      "Moving model to device:  cuda\n",
      "Moving model to device:  cuda\n",
      "Moving model to device:  cpu\n",
      "Loading model from /homes/55/bwilop/wsg/experiments//tictactoe/tictactoe_pretraining_random/experiment_3_large_strong_2025-05-14-00-05_RANDOM.pkl\n",
      "Moving model to device:  cuda\n",
      "Moving model to device:  cuda\n",
      "Moving model to device:  cpu\n",
      "Loading model from /homes/55/bwilop/wsg/experiments//tictactoe/tictactoe_pretraining_random/experiment_3_huge_strong_2025-05-14-00-05_RANDOM.pkl\n",
      "Moving model to device:  cuda\n",
      "Moving model to device:  cuda\n",
      "Moving model to device:  cpu\n",
      "Loading model from /homes/55/bwilop/wsg/experiments//tictactoe/tictactoe_pretraining_random/experiment_3_small_strong_2025-05-14-00-05_RANDOM.pkl\n",
      "Moving model to device:  cuda\n",
      "Moving model to device:  cuda\n",
      "Moving model to device:  cpu\n",
      "Loading model from /homes/55/bwilop/wsg/experiments//tictactoe/tictactoe_pretraining_random/experiment_3_medium_strong_2025-05-14-00-05_RANDOM.pkl\n",
      "Moving model to device:  cuda\n",
      "Moving model to device:  cuda\n",
      "Moving model to device:  cpu\n",
      "Loading model from /homes/55/bwilop/wsg/experiments//tictactoe/tictactoe_pretraining_random/experiment_3_large_strong_2025-05-14-00-05_RANDOM.pkl\n",
      "Moving model to device:  cuda\n",
      "Moving model to device:  cuda\n",
      "Moving model to device:  cpu\n",
      "Loading model from /homes/55/bwilop/wsg/experiments//tictactoe/tictactoe_pretraining_random/experiment_3_huge_strong_2025-05-14-00-05_RANDOM.pkl\n",
      "Moving model to device:  cuda\n",
      "Moving model to device:  cuda\n",
      "Moving model to device:  cpu\n",
      "Loading model from /homes/55/bwilop/wsg/experiments//tictactoe/tictactoe_pretraining_random/experiment_3_medium_strong_2025-05-14-00-05_RANDOM.pkl\n",
      "Moving model to device:  cuda\n",
      "Moving model to device:  cuda\n",
      "Moving model to device:  cpu\n",
      "Loading model from /homes/55/bwilop/wsg/experiments//tictactoe/tictactoe_pretraining_random/experiment_3_large_strong_2025-05-14-00-05_RANDOM.pkl\n",
      "Moving model to device:  cuda\n",
      "Moving model to device:  cuda\n",
      "Moving model to device:  cpu\n",
      "Loading model from /homes/55/bwilop/wsg/experiments//tictactoe/tictactoe_pretraining_random/experiment_3_huge_strong_2025-05-14-00-05_RANDOM.pkl\n",
      "Moving model to device:  cuda\n",
      "No finetuned model found for weak small and strong huge, and index 3\n",
      "Finetuned model of weak_size small and strong_size huge not found, skipping.\n",
      "Loading model from /homes/55/bwilop/wsg/experiments//tictactoe/tictactoe_pretraining_random/experiment_3_large_strong_2025-05-14-00-05_RANDOM.pkl\n",
      "Moving model to device:  cuda\n",
      "No finetuned model found for weak medium and strong large, and index 3\n",
      "Finetuned model of weak_size medium and strong_size large not found, skipping.\n",
      "Loading model from /homes/55/bwilop/wsg/experiments//tictactoe/tictactoe_pretraining_random/experiment_3_huge_strong_2025-05-14-00-05_RANDOM.pkl\n",
      "Moving model to device:  cuda\n",
      "No finetuned model found for weak medium and strong huge, and index 3\n",
      "Finetuned model of weak_size medium and strong_size huge not found, skipping.\n",
      "Loading model from /homes/55/bwilop/wsg/experiments//tictactoe/tictactoe_pretraining_random/experiment_3_huge_strong_2025-05-14-00-05_RANDOM.pkl\n",
      "Moving model to device:  cuda\n",
      "No finetuned model found for weak large and strong huge, and index 3\n",
      "Finetuned model of weak_size large and strong_size huge not found, skipping.\n",
      "Loading model from /homes/55/bwilop/wsg/experiments//tictactoe/tictactoe_pretraining_random/experiment_4_micro_strong_2025-05-14-00-05_RANDOM.pkl\n",
      "Moving model to device:  cuda\n",
      "Moving model to device:  cuda\n",
      "Moving model to device:  cpu\n",
      "Loading model from /homes/55/bwilop/wsg/experiments//tictactoe/tictactoe_pretraining_random/experiment_4_mini_strong_2025-05-14-00-05_RANDOM.pkl\n",
      "Moving model to device:  cuda\n",
      "Moving model to device:  cuda\n",
      "Moving model to device:  cpu\n",
      "Loading model from /homes/55/bwilop/wsg/experiments//tictactoe/tictactoe_pretraining_random/experiment_4_small_strong_2025-05-14-00-05_RANDOM.pkl\n",
      "Moving model to device:  cuda\n",
      "Moving model to device:  cuda\n",
      "Moving model to device:  cpu\n",
      "Loading model from /homes/55/bwilop/wsg/experiments//tictactoe/tictactoe_pretraining_random/experiment_4_medium_strong_2025-05-14-00-05_RANDOM.pkl\n",
      "Moving model to device:  cuda\n",
      "Moving model to device:  cuda\n",
      "Moving model to device:  cpu\n",
      "Loading model from /homes/55/bwilop/wsg/experiments//tictactoe/tictactoe_pretraining_random/experiment_4_large_strong_2025-05-14-00-05_RANDOM.pkl\n",
      "Moving model to device:  cuda\n",
      "Moving model to device:  cuda\n",
      "Moving model to device:  cpu\n",
      "Loading model from /homes/55/bwilop/wsg/experiments//tictactoe/tictactoe_pretraining_random/experiment_4_huge_strong_2025-05-14-00-05_RANDOM.pkl\n",
      "Moving model to device:  cuda\n",
      "Moving model to device:  cuda\n",
      "Moving model to device:  cpu\n",
      "Loading model from /homes/55/bwilop/wsg/experiments//tictactoe/tictactoe_pretraining_random/experiment_4_mini_strong_2025-05-14-00-05_RANDOM.pkl\n",
      "Moving model to device:  cuda\n",
      "Moving model to device:  cuda\n",
      "Moving model to device:  cpu\n",
      "Loading model from /homes/55/bwilop/wsg/experiments//tictactoe/tictactoe_pretraining_random/experiment_4_small_strong_2025-05-14-00-05_RANDOM.pkl\n",
      "Moving model to device:  cuda\n",
      "No finetuned model found for weak micro and strong small, and index 4\n",
      "Finetuned model of weak_size micro and strong_size small not found, skipping.\n",
      "Loading model from /homes/55/bwilop/wsg/experiments//tictactoe/tictactoe_pretraining_random/experiment_4_medium_strong_2025-05-14-00-05_RANDOM.pkl\n",
      "Moving model to device:  cuda\n",
      "No finetuned model found for weak micro and strong medium, and index 4\n",
      "Finetuned model of weak_size micro and strong_size medium not found, skipping.\n",
      "Loading model from /homes/55/bwilop/wsg/experiments//tictactoe/tictactoe_pretraining_random/experiment_4_large_strong_2025-05-14-00-05_RANDOM.pkl\n",
      "Moving model to device:  cuda\n",
      "No finetuned model found for weak micro and strong large, and index 4\n",
      "Finetuned model of weak_size micro and strong_size large not found, skipping.\n",
      "Loading model from /homes/55/bwilop/wsg/experiments//tictactoe/tictactoe_pretraining_random/experiment_4_huge_strong_2025-05-14-00-05_RANDOM.pkl\n",
      "Moving model to device:  cuda\n",
      "No finetuned model found for weak micro and strong huge, and index 4\n",
      "Finetuned model of weak_size micro and strong_size huge not found, skipping.\n",
      "Loading model from /homes/55/bwilop/wsg/experiments//tictactoe/tictactoe_pretraining_random/experiment_4_small_strong_2025-05-14-00-05_RANDOM.pkl\n",
      "Moving model to device:  cuda\n",
      "No finetuned model found for weak mini and strong small, and index 4\n",
      "Finetuned model of weak_size mini and strong_size small not found, skipping.\n",
      "Loading model from /homes/55/bwilop/wsg/experiments//tictactoe/tictactoe_pretraining_random/experiment_4_medium_strong_2025-05-14-00-05_RANDOM.pkl\n",
      "Moving model to device:  cuda\n",
      "No finetuned model found for weak mini and strong medium, and index 4\n",
      "Finetuned model of weak_size mini and strong_size medium not found, skipping.\n",
      "Loading model from /homes/55/bwilop/wsg/experiments//tictactoe/tictactoe_pretraining_random/experiment_4_large_strong_2025-05-14-00-05_RANDOM.pkl\n",
      "Moving model to device:  cuda\n",
      "No finetuned model found for weak mini and strong large, and index 4\n",
      "Finetuned model of weak_size mini and strong_size large not found, skipping.\n",
      "Loading model from /homes/55/bwilop/wsg/experiments//tictactoe/tictactoe_pretraining_random/experiment_4_huge_strong_2025-05-14-00-05_RANDOM.pkl\n",
      "Moving model to device:  cuda\n",
      "No finetuned model found for weak mini and strong huge, and index 4\n",
      "Finetuned model of weak_size mini and strong_size huge not found, skipping.\n",
      "Loading model from /homes/55/bwilop/wsg/experiments//tictactoe/tictactoe_pretraining_random/experiment_4_medium_strong_2025-05-14-00-05_RANDOM.pkl\n",
      "Moving model to device:  cuda\n",
      "No finetuned model found for weak small and strong medium, and index 4\n",
      "Finetuned model of weak_size small and strong_size medium not found, skipping.\n",
      "Loading model from /homes/55/bwilop/wsg/experiments//tictactoe/tictactoe_pretraining_random/experiment_4_large_strong_2025-05-14-00-05_RANDOM.pkl\n",
      "Moving model to device:  cuda\n",
      "No finetuned model found for weak small and strong large, and index 4\n",
      "Finetuned model of weak_size small and strong_size large not found, skipping.\n",
      "Loading model from /homes/55/bwilop/wsg/experiments//tictactoe/tictactoe_pretraining_random/experiment_4_huge_strong_2025-05-14-00-05_RANDOM.pkl\n",
      "Moving model to device:  cuda\n",
      "No finetuned model found for weak small and strong huge, and index 4\n",
      "Finetuned model of weak_size small and strong_size huge not found, skipping.\n",
      "Loading model from /homes/55/bwilop/wsg/experiments//tictactoe/tictactoe_pretraining_random/experiment_4_large_strong_2025-05-14-00-05_RANDOM.pkl\n",
      "Moving model to device:  cuda\n",
      "No finetuned model found for weak medium and strong large, and index 4\n",
      "Finetuned model of weak_size medium and strong_size large not found, skipping.\n",
      "Loading model from /homes/55/bwilop/wsg/experiments//tictactoe/tictactoe_pretraining_random/experiment_4_huge_strong_2025-05-14-00-05_RANDOM.pkl\n",
      "Moving model to device:  cuda\n",
      "No finetuned model found for weak medium and strong huge, and index 4\n",
      "Finetuned model of weak_size medium and strong_size huge not found, skipping.\n",
      "Loading model from /homes/55/bwilop/wsg/experiments//tictactoe/tictactoe_pretraining_random/experiment_4_huge_strong_2025-05-14-00-05_RANDOM.pkl\n",
      "Moving model to device:  cuda\n",
      "No finetuned model found for weak large and strong huge, and index 4\n",
      "Finetuned model of weak_size large and strong_size huge not found, skipping.\n"
     ]
    },
    {
     "data": {
      "image/png": "[encoded data removed]",
      "text/plain": [
       "<Figure size 1600x600 with 2 Axes>"
      ]
     },
     "metadata": {},
     "output_type": "display_data"
    }
   ],
   "source": [
    "# pretrained_project_name_weak = \"tictactoe/tictactoe_pretraining\"\n",
    "# pretrained_project_name_strong = \"tictactoe/tictactoe_pretraining\"\n",
    "# finetuned_project_name = \"tictactoe/tictactoe_finetuning4\"\n",
    "# finetuned_project_name = \"tictactoe/tictactoe_finetuning_use_best_val_step4\"\n",
    "\n",
    "pretrained_project_name_weak = \"tictactoe/tictactoe_pretraining\"\n",
    "pretrained_project_name_strong = \"tictactoe/tictactoe_pretraining_random\"\n",
    "finetuned_project_name = \"tictactoe/tictactoe_finetuning_use_best_val_step_random4\"\n",
    "\n",
    "plot_wsg_gap_finetuned_models(\n",
    "    data_folder + \"tictactoe/\",\n",
    "    experiment_folder,\n",
    "    pretrained_project_name_weak,\n",
    "    pretrained_project_name_strong,\n",
    "    finetuned_project_name,\n",
    "    device=DEVICE,\n",
    "    indices=None,\n",
    "    aggregate_data=False,\n",
    ")"
   ]
  },
  {
   "cell_type": "code",
   "execution_count": null,
   "metadata": {},
   "outputs": [
    {
     "ename": "NameError",
     "evalue": "name 'TicTacToeData' is not defined",
     "output_type": "error",
     "traceback": [
      "\u001b[0;31m---------------------------------------------------------------------------\u001b[0m",
      "\u001b[0;31mNameError\u001b[0m                                 Traceback (most recent call last)",
      "Cell \u001b[0;32mIn[4], line 6\u001b[0m\n\u001b[1;32m      2\u001b[0m \u001b[38;5;28;01mimport\u001b[39;00m\u001b[38;5;250m \u001b[39m\u001b[38;5;21;01mtorch\u001b[39;00m\u001b[38;5;250m \u001b[39m\u001b[38;5;28;01mas\u001b[39;00m\u001b[38;5;250m \u001b[39m\u001b[38;5;21;01mt\u001b[39;00m\n\u001b[1;32m      5\u001b[0m \u001b[38;5;66;03m# Helper: compute loss on test data\u001b[39;00m\n\u001b[0;32m----> 6\u001b[0m \u001b[38;5;28;01mdef\u001b[39;00m\u001b[38;5;250m \u001b[39m\u001b[38;5;21mget_weak_loss\u001b[39m(model, test_data: \u001b[43mTicTacToeData\u001b[49m, n_samples: \u001b[38;5;28mint\u001b[39m \u001b[38;5;241m=\u001b[39m \u001b[38;5;241m20000\u001b[39m) \u001b[38;5;241m-\u001b[39m\u001b[38;5;241m>\u001b[39m \u001b[38;5;28mfloat\u001b[39m:\n\u001b[1;32m      7\u001b[0m     model\u001b[38;5;241m.\u001b[39meval()\n\u001b[1;32m      8\u001b[0m     \u001b[38;5;28;01mwith\u001b[39;00m t\u001b[38;5;241m.\u001b[39mno_grad():\n",
      "\u001b[0;31mNameError\u001b[0m: name 'TicTacToeData' is not defined"
     ]
    },
    {
     "ename": "",
     "evalue": "",
     "output_type": "error",
     "traceback": [
      "\u001b[1;31mnotebook controller is DISPOSED. \n",
      "\u001b[1;31mView Jupyter <a href='command:jupyter.viewOutput'>log</a> for further details."
     ]
    },
    {
     "ename": "",
     "evalue": "",
     "output_type": "error",
     "traceback": [
      "\u001b[1;31mnotebook controller is DISPOSED. \n",
      "\u001b[1;31mView Jupyter <a href='command:jupyter.viewOutput'>log</a> for further details."
     ]
    }
   ],
   "source": [
    "import os\n",
    "import torch as t\n",
    "\n",
    "\n",
    "# Helper: compute loss on test data\n",
    "def get_weak_loss(model, test_data: TicTacToeData, n_samples: int = 20000) -> float:\n",
    "    model.eval()\n",
    "    with t.no_grad():\n",
    "        sample = random_sample_tictactoe_data(test_data, n_samples)\n",
    "        logits = model(sample.games_data)\n",
    "        loss = cross_entropy(\n",
    "            rearrange(logits), rearrange(sample.weak_goals_labels)\n",
    "        ).item()\n",
    "    return loss\n",
    "\n",
    "\n",
    "def visualize_finetuning_results(\n",
    "    pretrained_project_name: str,\n",
    "    finetuned_project_name: str,\n",
    "    experiment_folder: str,\n",
    "    test_data: TicTacToeData,\n",
    "    model_sizes: list,\n",
    "    device: t.device,\n",
    "    index: int | None,\n",
    "):\n",
    "    \"\"\"\n",
    "    For each weak_size and for every strong_size larger than weak_size,\n",
    "    compute the recovered percentage:\n",
    "\n",
    "        recovered % = (L_weak - L_model) / (L_weak - L_strong_baseline) * 100\n",
    "\n",
    "    where:\n",
    "      - L_weak: loss of the weak model (evaluated on weak_goals)\n",
    "      - L_strong_baseline: loss of the pretrained strong model on the weak goal\n",
    "      - L_model: loss of either the pretrained strong model (for the left plot) or the finetuned model (for the right plot)\n",
    "\n",
    "    The x-axis is the number of parameters in the strong model (log-scaled).\n",
    "    One line is drawn per weak model size, connecting datapoints for each strong size.\n",
    "    Two subplots are created: left for pretrained models and right for finetuned models.\n",
    "    \"\"\"\n",
    "    data_pretrained = {}  # { weak_size: list of (num_params, recovered %) }\n",
    "    data_finetuned = {}\n",
    "\n",
    "    for weak_size in model_sizes:\n",
    "        weak_model = load_model(\n",
    "            pretrained_project_name,\n",
    "            weak_size,\n",
    "            Goal.WEAK_GOAL,\n",
    "            experiment_folder,\n",
    "            device=device,\n",
    "            index=index,\n",
    "        )\n",
    "        if not weak_model:\n",
    "            print(f\"Weak model of size {weak_size} not found, skipping.\")\n",
    "            continue\n",
    "\n",
    "        # Get loss of weak model (using weak labels)\n",
    "        L_weak = get_weak_loss(weak_model, test_data)\n",
    "        data_pretrained[weak_size] = []\n",
    "        data_finetuned[weak_size] = []\n",
    "\n",
    "        for strong_size in model_sizes:\n",
    "            if model_sizes.index(strong_size) <= model_sizes.index(weak_size):\n",
    "                continue\n",
    "\n",
    "            strong_model_weak_goal = load_model(\n",
    "                pretrained_project_name,\n",
    "                strong_size,\n",
    "                Goal.WEAK_GOAL,\n",
    "                experiment_folder,\n",
    "                device=device,\n",
    "                index=index,\n",
    "            )\n",
    "            strong_model_strong_goal = load_model(\n",
    "                pretrained_project_name,\n",
    "                strong_size,\n",
    "                Goal.STRONG_GOAL,\n",
    "                experiment_folder,\n",
    "                device=device,\n",
    "                index=index,\n",
    "            )\n",
    "            if not strong_model_weak_goal or not strong_model_strong_goal:\n",
    "                print(f\"Strong models of size {strong_size} not found, skipping.\")\n",
    "                continue\n",
    "\n",
    "            num_params = count_parameters(strong_model_weak_goal)\n",
    "            L_strong_baseline = get_weak_loss(strong_model_weak_goal, test_data)\n",
    "            L_strong_pretrained_on_weak_goal = get_weak_loss(\n",
    "                strong_model_strong_goal, test_data\n",
    "            )\n",
    "\n",
    "            # Left plot\n",
    "            recovered_pretrained = (\n",
    "                (L_weak - L_strong_pretrained_on_weak_goal)\n",
    "                / (L_weak - L_strong_baseline)\n",
    "                * 100\n",
    "            )\n",
    "\n",
    "            # Right plot\n",
    "            finetuned_model = load_finetuned_model(\n",
    "                finetuned_project_name,\n",
    "                weak_size,\n",
    "                strong_size,\n",
    "                experiment_folder,\n",
    "                device=device,\n",
    "                index=index,\n",
    "            )\n",
    "            if not finetuned_model:\n",
    "                print(f\"Finetuned model of size {strong_size} not found, skipping.\")\n",
    "                continue\n",
    "\n",
    "            L_finetuned = get_weak_loss(finetuned_model, test_data)\n",
    "            recovered_finetuned = (\n",
    "                (L_weak - L_finetuned) / (L_weak - L_strong_baseline) * 100\n",
    "            )\n",
    "\n",
    "            data_pretrained[weak_size].append((num_params, recovered_pretrained))\n",
    "            data_finetuned[weak_size].append((num_params, recovered_finetuned))\n",
    "\n",
    "    # Create two subplots: left for pretrained, right for finetuned.\n",
    "    fig, axes = plt.subplots(1, 2, figsize=(14, 6), sharey=True)\n",
    "\n",
    "    # Plot pretrained data.\n",
    "    for weak_size, points in data_pretrained.items():\n",
    "        if points:\n",
    "            points.sort(key=lambda x: x[0])\n",
    "            x_vals = [p[0] for p in points]\n",
    "            y_vals = [p[1] for p in points]\n",
    "            axes[0].plot(x_vals, y_vals, marker=\"o\", label=f\"Weak {weak_size}\")\n",
    "    axes[0].set_xscale(\"log\")\n",
    "    axes[0].set_xlabel(\"Number of Parameters (log scale)\")\n",
    "    axes[0].set_ylabel(\"Recovered %\")\n",
    "    axes[0].set_title(\"Pretrained Models\")\n",
    "    axes[0].legend()\n",
    "    axes[0].grid(True, which=\"both\", ls=\"--\")\n",
    "\n",
    "    # Plot finetuned data.\n",
    "    for weak_size, points in data_finetuned.items():\n",
    "        if points:\n",
    "            points.sort(key=lambda x: x[0])\n",
    "            x_vals = [p[0] for p in points]\n",
    "            y_vals = [p[1] for p in points]\n",
    "            axes[1].plot(x_vals, y_vals, marker=\"o\", label=f\"Weak {weak_size}\")\n",
    "    axes[1].set_xscale(\"log\")\n",
    "    axes[1].set_xlabel(\"Number of Parameters (log scale)\")\n",
    "    axes[1].set_ylabel(\"Recovered %\")\n",
    "    axes[1].set_title(\"Finetuned Models\")\n",
    "    axes[1].legend()\n",
    "    axes[1].grid(True, which=\"both\", ls=\"--\")\n",
    "\n",
    "    axes[0].set_yscale(\"symlog\", linthresh=1)\n",
    "    axes[1].set_yscale(\"symlog\", linthresh=1)\n",
    "    axes[0].axhline(0, color=\"black\", linestyle=\":\")\n",
    "    axes[1].axhline(0, color=\"black\", linestyle=\":\")\n",
    "\n",
    "    plt.tight_layout()\n",
    "    plt.show()\n",
    "\n",
    "\n",
    "pretrained_project_name = \"tictactoe/tictactoe_pretraining\"\n",
    "finetuned_project_name = \"tictactoe/tictactoe_finetuning\"\n",
    "# pretrained_project_name = \"tictactoe_pretrained_forbidden_diagonals_no_overlap_split_start_third_200k\"\n",
    "# finetuned_project_name = \"finetune_sweep_test_parallel_early_top_20\"\n",
    "visualize_finetuning_results(\n",
    "    pretrained_project_name,\n",
    "    finetuned_project_name,\n",
    "    experiment_folder,\n",
    "    tictactoe_test_data,\n",
    "    [\"nano\", \"micro\", \"mini\", \"small\", \"medium\", \"large\", \"huge\"],\n",
    "    device=DEVICE,\n",
    "    index=1,\n",
    ")"
   ]
  },
  {
   "cell_type": "code",
   "execution_count": null,
   "metadata": {},
   "outputs": [
    {
     "ename": "Exception",
     "evalue": "",
     "output_type": "error",
     "traceback": [
      "\u001b[0;31m---------------------------------------------------------------------------\u001b[0m",
      "\u001b[0;31mException\u001b[0m                                 Traceback (most recent call last)",
      "Cell \u001b[0;32mIn[21], line 1\u001b[0m\n\u001b[0;32m----> 1\u001b[0m \u001b[38;5;28;01mraise\u001b[39;00m \u001b[38;5;167;01mException\u001b[39;00m()\n",
      "\u001b[0;31mException\u001b[0m: "
     ]
    },
    {
     "ename": "",
     "evalue": "",
     "output_type": "error",
     "traceback": [
      "\u001b[1;31mnotebook controller is DISPOSED. \n",
      "\u001b[1;31mView Jupyter <a href='command:jupyter.viewOutput'>log</a> for further details."
     ]
    },
    {
     "ename": "",
     "evalue": "",
     "output_type": "error",
     "traceback": [
      "\u001b[1;31mnotebook controller is DISPOSED. \n",
      "\u001b[1;31mView Jupyter <a href='command:jupyter.viewOutput'>log</a> for further details."
     ]
    },
    {
     "ename": "",
     "evalue": "",
     "output_type": "error",
     "traceback": [
      "\u001b[1;31mnotebook controller is DISPOSED. \n",
      "\u001b[1;31mView Jupyter <a href='command:jupyter.viewOutput'>log</a> for further details."
     ]
    },
    {
     "ename": "",
     "evalue": "",
     "output_type": "error",
     "traceback": [
      "\u001b[1;31mnotebook controller is DISPOSED. \n",
      "\u001b[1;31mView Jupyter <a href='command:jupyter.viewOutput'>log</a> for further details."
     ]
    }
   ],
   "source": [
    "raise Exception()"
   ]
  },
  {
   "cell_type": "markdown",
   "metadata": {
    "id": "3TAZfSRM_vTL"
   },
   "source": [
    "# Inspect model"
   ]
  },
  {
   "cell_type": "code",
   "execution_count": null,
   "metadata": {
    "id": "FseGnVqe_00c"
   },
   "outputs": [
    {
     "name": "stdout",
     "output_type": "stream",
     "text": [
      "Loading model from /homes/55/bwilop/wsg/experiments//tictactoe_pretrained_reverse_rule_no_overlap_split_start_third_200k/experiment_large_strong_2025-03-17-12-30_3z524rtf.pkl\n",
      "Moving model to device:  cuda\n",
      "model weak goal\n",
      "weak_loss:  3.2174108028411865\n",
      "strong_loss:  2.530097007751465\n"
     ]
    },
    {
     "ename": "",
     "evalue": "",
     "output_type": "error",
     "traceback": [
      "\u001b[1;31mnotebook controller is DISPOSED. \n",
      "\u001b[1;31mView Jupyter <a href='command:jupyter.viewOutput'>log</a> for further details."
     ]
    },
    {
     "ename": "",
     "evalue": "",
     "output_type": "error",
     "traceback": [
      "\u001b[1;31mnotebook controller is DISPOSED. \n",
      "\u001b[1;31mView Jupyter <a href='command:jupyter.viewOutput'>log</a> for further details."
     ]
    },
    {
     "ename": "",
     "evalue": "",
     "output_type": "error",
     "traceback": [
      "\u001b[1;31mnotebook controller is DISPOSED. \n",
      "\u001b[1;31mView Jupyter <a href='command:jupyter.viewOutput'>log</a> for further details."
     ]
    },
    {
     "ename": "",
     "evalue": "",
     "output_type": "error",
     "traceback": [
      "\u001b[1;31mnotebook controller is DISPOSED. \n",
      "\u001b[1;31mView Jupyter <a href='command:jupyter.viewOutput'>log</a> for further details."
     ]
    },
    {
     "ename": "",
     "evalue": "",
     "output_type": "error",
     "traceback": [
      "\u001b[1;31mnotebook controller is DISPOSED. \n",
      "\u001b[1;31mView Jupyter <a href='command:jupyter.viewOutput'>log</a> for further details."
     ]
    },
    {
     "ename": "",
     "evalue": "",
     "output_type": "error",
     "traceback": [
      "\u001b[1;31mnotebook controller is DISPOSED. \n",
      "\u001b[1;31mView Jupyter <a href='command:jupyter.viewOutput'>log</a> for further details."
     ]
    },
    {
     "ename": "",
     "evalue": "",
     "output_type": "error",
     "traceback": [
      "\u001b[1;31mnotebook controller is DISPOSED. \n",
      "\u001b[1;31mView Jupyter <a href='command:jupyter.viewOutput'>log</a> for further details."
     ]
    },
    {
     "ename": "",
     "evalue": "",
     "output_type": "error",
     "traceback": [
      "\u001b[1;31mnotebook controller is DISPOSED. \n",
      "\u001b[1;31mView Jupyter <a href='command:jupyter.viewOutput'>log</a> for further details."
     ]
    },
    {
     "ename": "",
     "evalue": "",
     "output_type": "error",
     "traceback": [
      "\u001b[1;31mnotebook controller is DISPOSED. \n",
      "\u001b[1;31mView Jupyter <a href='command:jupyter.viewOutput'>log</a> for further details."
     ]
    },
    {
     "ename": "",
     "evalue": "",
     "output_type": "error",
     "traceback": [
      "\u001b[1;31mnotebook controller is DISPOSED. \n",
      "\u001b[1;31mView Jupyter <a href='command:jupyter.viewOutput'>log</a> for further details."
     ]
    },
    {
     "ename": "",
     "evalue": "",
     "output_type": "error",
     "traceback": [
      "\u001b[1;31mnotebook controller is DISPOSED. \n",
      "\u001b[1;31mView Jupyter <a href='command:jupyter.viewOutput'>log</a> for further details."
     ]
    },
    {
     "ename": "",
     "evalue": "",
     "output_type": "error",
     "traceback": [
      "\u001b[1;31mnotebook controller is DISPOSED. \n",
      "\u001b[1;31mView Jupyter <a href='command:jupyter.viewOutput'>log</a> for further details."
     ]
    },
    {
     "ename": "",
     "evalue": "",
     "output_type": "error",
     "traceback": [
      "\u001b[1;31mnotebook controller is DISPOSED. \n",
      "\u001b[1;31mView Jupyter <a href='command:jupyter.viewOutput'>log</a> for further details."
     ]
    },
    {
     "ename": "",
     "evalue": "",
     "output_type": "error",
     "traceback": [
      "\u001b[1;31mnotebook controller is DISPOSED. \n",
      "\u001b[1;31mView Jupyter <a href='command:jupyter.viewOutput'>log</a> for further details."
     ]
    }
   ],
   "source": [
    "project_name = \"tictactoe_pretrained_reverse_rule_no_overlap_split_start_third_200k\"\n",
    "model = load_model(\n",
    "    project_name, \"large\", Goal.STRONG_GOAL, experiment_folder, device=device\n",
    ")\n",
    "quick_evaluation(\"model weak goal\", model, tictactoe_test_data)"
   ]
  },
  {
   "cell_type": "code",
   "execution_count": null,
   "metadata": {
    "id": "4pMmX7Y7_zLG"
   },
   "outputs": [
    {
     "data": {
      "image/png": "[encoded data removed]",
      "text/plain": [
       "<Figure size 600x600 with 2 Axes>"
      ]
     },
     "metadata": {},
     "output_type": "display_data"
    },
    {
     "ename": "",
     "evalue": "",
     "output_type": "error",
     "traceback": [
      "\u001b[1;31mnotebook controller is DISPOSED. \n",
      "\u001b[1;31mView Jupyter <a href='command:jupyter.viewOutput'>log</a> for further details."
     ]
    },
    {
     "ename": "",
     "evalue": "",
     "output_type": "error",
     "traceback": [
      "\u001b[1;31mnotebook controller is DISPOSED. \n",
      "\u001b[1;31mView Jupyter <a href='command:jupyter.viewOutput'>log</a> for further details."
     ]
    },
    {
     "ename": "",
     "evalue": "",
     "output_type": "error",
     "traceback": [
      "\u001b[1;31mnotebook controller is DISPOSED. \n",
      "\u001b[1;31mView Jupyter <a href='command:jupyter.viewOutput'>log</a> for further details."
     ]
    },
    {
     "ename": "",
     "evalue": "",
     "output_type": "error",
     "traceback": [
      "\u001b[1;31mnotebook controller is DISPOSED. \n",
      "\u001b[1;31mView Jupyter <a href='command:jupyter.viewOutput'>log</a> for further details."
     ]
    },
    {
     "ename": "",
     "evalue": "",
     "output_type": "error",
     "traceback": [
      "\u001b[1;31mnotebook controller is DISPOSED. \n",
      "\u001b[1;31mView Jupyter <a href='command:jupyter.viewOutput'>log</a> for further details."
     ]
    },
    {
     "ename": "",
     "evalue": "",
     "output_type": "error",
     "traceback": [
      "\u001b[1;31mnotebook controller is DISPOSED. \n",
      "\u001b[1;31mView Jupyter <a href='command:jupyter.viewOutput'>log</a> for further details."
     ]
    },
    {
     "ename": "",
     "evalue": "",
     "output_type": "error",
     "traceback": [
      "\u001b[1;31mnotebook controller is DISPOSED. \n",
      "\u001b[1;31mView Jupyter <a href='command:jupyter.viewOutput'>log</a> for further details."
     ]
    },
    {
     "ename": "",
     "evalue": "",
     "output_type": "error",
     "traceback": [
      "\u001b[1;31mnotebook controller is DISPOSED. \n",
      "\u001b[1;31mView Jupyter <a href='command:jupyter.viewOutput'>log</a> for further details."
     ]
    },
    {
     "ename": "",
     "evalue": "",
     "output_type": "error",
     "traceback": [
      "\u001b[1;31mnotebook controller is DISPOSED. \n",
      "\u001b[1;31mView Jupyter <a href='command:jupyter.viewOutput'>log</a> for further details."
     ]
    },
    {
     "ename": "",
     "evalue": "",
     "output_type": "error",
     "traceback": [
      "\u001b[1;31mnotebook controller is DISPOSED. \n",
      "\u001b[1;31mView Jupyter <a href='command:jupyter.viewOutput'>log</a> for further details."
     ]
    },
    {
     "ename": "",
     "evalue": "",
     "output_type": "error",
     "traceback": [
      "\u001b[1;31mnotebook controller is DISPOSED. \n",
      "\u001b[1;31mView Jupyter <a href='command:jupyter.viewOutput'>log</a> for further details."
     ]
    },
    {
     "ename": "",
     "evalue": "",
     "output_type": "error",
     "traceback": [
      "\u001b[1;31mnotebook controller is DISPOSED. \n",
      "\u001b[1;31mView Jupyter <a href='command:jupyter.viewOutput'>log</a> for further details."
     ]
    },
    {
     "ename": "",
     "evalue": "",
     "output_type": "error",
     "traceback": [
      "\u001b[1;31mnotebook controller is DISPOSED. \n",
      "\u001b[1;31mView Jupyter <a href='command:jupyter.viewOutput'>log</a> for further details."
     ]
    },
    {
     "ename": "",
     "evalue": "",
     "output_type": "error",
     "traceback": [
      "\u001b[1;31mnotebook controller is DISPOSED. \n",
      "\u001b[1;31mView Jupyter <a href='command:jupyter.viewOutput'>log</a> for further details."
     ]
    }
   ],
   "source": [
    "W = model.embed.W_E\n",
    "W_normed = W / W.norm(dim=1, keepdim=True)\n",
    "\n",
    "# Compute cosine similarity matrix and move to CPU as a NumPy array\n",
    "cosine_sim = (W_normed @ W_normed.T).detach().cpu().numpy()\n",
    "\n",
    "im = plt.imshow(cosine_sim)\n",
    "plt.title(\"Cosine similarities of each pair of 2D feature embeddings\")\n",
    "plt.gcf().set_size_inches(6, 6)\n",
    "\n",
    "# Add a colorbar with a label\n",
    "cbar = plt.colorbar(im)\n",
    "cbar.set_label(\"Cosine similarity value\")\n",
    "\n",
    "plt.show()"
   ]
  },
  {
   "cell_type": "code",
   "execution_count": null,
   "metadata": {
    "id": "v6yflRSMxJKa"
   },
   "outputs": [
    {
     "data": {
      "text/plain": [
       "torch.Size([11, 64])"
      ]
     },
     "execution_count": 46,
     "metadata": {},
     "output_type": "execute_result"
    },
    {
     "ename": "",
     "evalue": "",
     "output_type": "error",
     "traceback": [
      "\u001b[1;31mnotebook controller is DISPOSED. \n",
      "\u001b[1;31mView Jupyter <a href='command:jupyter.viewOutput'>log</a> for further details."
     ]
    },
    {
     "ename": "",
     "evalue": "",
     "output_type": "error",
     "traceback": [
      "\u001b[1;31mnotebook controller is DISPOSED. \n",
      "\u001b[1;31mView Jupyter <a href='command:jupyter.viewOutput'>log</a> for further details."
     ]
    },
    {
     "ename": "",
     "evalue": "",
     "output_type": "error",
     "traceback": [
      "\u001b[1;31mnotebook controller is DISPOSED. \n",
      "\u001b[1;31mView Jupyter <a href='command:jupyter.viewOutput'>log</a> for further details."
     ]
    },
    {
     "ename": "",
     "evalue": "",
     "output_type": "error",
     "traceback": [
      "\u001b[1;31mnotebook controller is DISPOSED. \n",
      "\u001b[1;31mView Jupyter <a href='command:jupyter.viewOutput'>log</a> for further details."
     ]
    },
    {
     "ename": "",
     "evalue": "",
     "output_type": "error",
     "traceback": [
      "\u001b[1;31mnotebook controller is DISPOSED. \n",
      "\u001b[1;31mView Jupyter <a href='command:jupyter.viewOutput'>log</a> for further details."
     ]
    },
    {
     "ename": "",
     "evalue": "",
     "output_type": "error",
     "traceback": [
      "\u001b[1;31mnotebook controller is DISPOSED. \n",
      "\u001b[1;31mView Jupyter <a href='command:jupyter.viewOutput'>log</a> for further details."
     ]
    },
    {
     "ename": "",
     "evalue": "",
     "output_type": "error",
     "traceback": [
      "\u001b[1;31mnotebook controller is DISPOSED. \n",
      "\u001b[1;31mView Jupyter <a href='command:jupyter.viewOutput'>log</a> for further details."
     ]
    },
    {
     "ename": "",
     "evalue": "",
     "output_type": "error",
     "traceback": [
      "\u001b[1;31mnotebook controller is DISPOSED. \n",
      "\u001b[1;31mView Jupyter <a href='command:jupyter.viewOutput'>log</a> for further details."
     ]
    },
    {
     "ename": "",
     "evalue": "",
     "output_type": "error",
     "traceback": [
      "\u001b[1;31mnotebook controller is DISPOSED. \n",
      "\u001b[1;31mView Jupyter <a href='command:jupyter.viewOutput'>log</a> for further details."
     ]
    },
    {
     "ename": "",
     "evalue": "",
     "output_type": "error",
     "traceback": [
      "\u001b[1;31mnotebook controller is DISPOSED. \n",
      "\u001b[1;31mView Jupyter <a href='command:jupyter.viewOutput'>log</a> for further details."
     ]
    },
    {
     "ename": "",
     "evalue": "",
     "output_type": "error",
     "traceback": [
      "\u001b[1;31mnotebook controller is DISPOSED. \n",
      "\u001b[1;31mView Jupyter <a href='command:jupyter.viewOutput'>log</a> for further details."
     ]
    },
    {
     "ename": "",
     "evalue": "",
     "output_type": "error",
     "traceback": [
      "\u001b[1;31mnotebook controller is DISPOSED. \n",
      "\u001b[1;31mView Jupyter <a href='command:jupyter.viewOutput'>log</a> for further details."
     ]
    },
    {
     "ename": "",
     "evalue": "",
     "output_type": "error",
     "traceback": [
      "\u001b[1;31mnotebook controller is DISPOSED. \n",
      "\u001b[1;31mView Jupyter <a href='command:jupyter.viewOutput'>log</a> for further details."
     ]
    },
    {
     "ename": "",
     "evalue": "",
     "output_type": "error",
     "traceback": [
      "\u001b[1;31mnotebook controller is DISPOSED. \n",
      "\u001b[1;31mView Jupyter <a href='command:jupyter.viewOutput'>log</a> for further details."
     ]
    }
   ],
   "source": [
    "W.shape"
   ]
  },
  {
   "cell_type": "code",
   "execution_count": null,
   "metadata": {
    "id": "1zsCpa7EBMaw"
   },
   "outputs": [
    {
     "name": "stdout",
     "output_type": "stream",
     "text": [
      "torch.Size([1, 10, 10])\n",
      "torch.Size([1, 10, 10])\n",
      "torch.Size([1, 10, 10])\n",
      "torch.Size([1, 10, 10])\n"
     ]
    },
    {
     "ename": "",
     "evalue": "",
     "output_type": "error",
     "traceback": [
      "\u001b[1;31mnotebook controller is DISPOSED. \n",
      "\u001b[1;31mView Jupyter <a href='command:jupyter.viewOutput'>log</a> for further details."
     ]
    },
    {
     "ename": "",
     "evalue": "",
     "output_type": "error",
     "traceback": [
      "\u001b[1;31mnotebook controller is DISPOSED. \n",
      "\u001b[1;31mView Jupyter <a href='command:jupyter.viewOutput'>log</a> for further details."
     ]
    },
    {
     "ename": "",
     "evalue": "",
     "output_type": "error",
     "traceback": [
      "\u001b[1;31mnotebook controller is DISPOSED. \n",
      "\u001b[1;31mView Jupyter <a href='command:jupyter.viewOutput'>log</a> for further details."
     ]
    },
    {
     "ename": "",
     "evalue": "",
     "output_type": "error",
     "traceback": [
      "\u001b[1;31mnotebook controller is DISPOSED. \n",
      "\u001b[1;31mView Jupyter <a href='command:jupyter.viewOutput'>log</a> for further details."
     ]
    },
    {
     "ename": "",
     "evalue": "",
     "output_type": "error",
     "traceback": [
      "\u001b[1;31mnotebook controller is DISPOSED. \n",
      "\u001b[1;31mView Jupyter <a href='command:jupyter.viewOutput'>log</a> for further details."
     ]
    },
    {
     "ename": "",
     "evalue": "",
     "output_type": "error",
     "traceback": [
      "\u001b[1;31mnotebook controller is DISPOSED. \n",
      "\u001b[1;31mView Jupyter <a href='command:jupyter.viewOutput'>log</a> for further details."
     ]
    },
    {
     "ename": "",
     "evalue": "",
     "output_type": "error",
     "traceback": [
      "\u001b[1;31mnotebook controller is DISPOSED. \n",
      "\u001b[1;31mView Jupyter <a href='command:jupyter.viewOutput'>log</a> for further details."
     ]
    },
    {
     "ename": "",
     "evalue": "",
     "output_type": "error",
     "traceback": [
      "\u001b[1;31mnotebook controller is DISPOSED. \n",
      "\u001b[1;31mView Jupyter <a href='command:jupyter.viewOutput'>log</a> for further details."
     ]
    },
    {
     "ename": "",
     "evalue": "",
     "output_type": "error",
     "traceback": [
      "\u001b[1;31mnotebook controller is DISPOSED. \n",
      "\u001b[1;31mView Jupyter <a href='command:jupyter.viewOutput'>log</a> for further details."
     ]
    },
    {
     "ename": "",
     "evalue": "",
     "output_type": "error",
     "traceback": [
      "\u001b[1;31mnotebook controller is DISPOSED. \n",
      "\u001b[1;31mView Jupyter <a href='command:jupyter.viewOutput'>log</a> for further details."
     ]
    },
    {
     "ename": "",
     "evalue": "",
     "output_type": "error",
     "traceback": [
      "\u001b[1;31mnotebook controller is DISPOSED. \n",
      "\u001b[1;31mView Jupyter <a href='command:jupyter.viewOutput'>log</a> for further details."
     ]
    },
    {
     "ename": "",
     "evalue": "",
     "output_type": "error",
     "traceback": [
      "\u001b[1;31mnotebook controller is DISPOSED. \n",
      "\u001b[1;31mView Jupyter <a href='command:jupyter.viewOutput'>log</a> for further details."
     ]
    },
    {
     "ename": "",
     "evalue": "",
     "output_type": "error",
     "traceback": [
      "\u001b[1;31mnotebook controller is DISPOSED. \n",
      "\u001b[1;31mView Jupyter <a href='command:jupyter.viewOutput'>log</a> for further details."
     ]
    },
    {
     "ename": "",
     "evalue": "",
     "output_type": "error",
     "traceback": [
      "\u001b[1;31mnotebook controller is DISPOSED. \n",
      "\u001b[1;31mView Jupyter <a href='command:jupyter.viewOutput'>log</a> for further details."
     ]
    }
   ],
   "source": [
    "train_sample = random_sample_tictactoe_data(tictactoe_train_data, 1)\n",
    "train_logits = model(train_sample.games_data)\n",
    "soft_labels = softmax(train_logits, dim=-1)\n",
    "hard_labels = F.one_hot(\n",
    "    train_sample.weak_goals_labels.argmax(dim=-1), num_classes=train_logits.shape[-1]\n",
    ").float()\n",
    "\n",
    "print(train_sample.weak_goals_labels.shape)\n",
    "print(train_logits.shape)\n",
    "print(soft_labels.shape)\n",
    "print(hard_labels.shape)"
   ]
  },
  {
   "cell_type": "code",
   "execution_count": null,
   "metadata": {
    "id": "azOH0vhNCKdg"
   },
   "outputs": [
    {
     "data": {
      "text/plain": [
       "tensor([[[0., 0., 0., 0., 0., 0., 0., 0., 1., 0.],\n",
       "         [1., 0., 0., 0., 0., 0., 0., 0., 0., 0.],\n",
       "         [0., 0., 0., 0., 0., 0., 1., 0., 0., 0.],\n",
       "         [1., 0., 0., 0., 0., 0., 0., 0., 0., 0.],\n",
       "         [1., 0., 0., 0., 0., 0., 0., 0., 0., 0.],\n",
       "         [0., 0., 0., 0., 0., 0., 0., 0., 1., 0.],\n",
       "         [1., 0., 0., 0., 0., 0., 0., 0., 0., 0.],\n",
       "         [0., 0., 0., 0., 0., 0., 0., 0., 1., 0.],\n",
       "         [1., 0., 0., 0., 0., 0., 0., 0., 0., 0.],\n",
       "         [0., 0., 0., 0., 0., 0., 0., 0., 0., 1.]]], device='cuda:0')"
      ]
     },
     "execution_count": 48,
     "metadata": {},
     "output_type": "execute_result"
    },
    {
     "ename": "",
     "evalue": "",
     "output_type": "error",
     "traceback": [
      "\u001b[1;31mnotebook controller is DISPOSED. \n",
      "\u001b[1;31mView Jupyter <a href='command:jupyter.viewOutput'>log</a> for further details."
     ]
    },
    {
     "ename": "",
     "evalue": "",
     "output_type": "error",
     "traceback": [
      "\u001b[1;31mnotebook controller is DISPOSED. \n",
      "\u001b[1;31mView Jupyter <a href='command:jupyter.viewOutput'>log</a> for further details."
     ]
    },
    {
     "ename": "",
     "evalue": "",
     "output_type": "error",
     "traceback": [
      "\u001b[1;31mnotebook controller is DISPOSED. \n",
      "\u001b[1;31mView Jupyter <a href='command:jupyter.viewOutput'>log</a> for further details."
     ]
    },
    {
     "ename": "",
     "evalue": "",
     "output_type": "error",
     "traceback": [
      "\u001b[1;31mnotebook controller is DISPOSED. \n",
      "\u001b[1;31mView Jupyter <a href='command:jupyter.viewOutput'>log</a> for further details."
     ]
    },
    {
     "ename": "",
     "evalue": "",
     "output_type": "error",
     "traceback": [
      "\u001b[1;31mnotebook controller is DISPOSED. \n",
      "\u001b[1;31mView Jupyter <a href='command:jupyter.viewOutput'>log</a> for further details."
     ]
    },
    {
     "ename": "",
     "evalue": "",
     "output_type": "error",
     "traceback": [
      "\u001b[1;31mnotebook controller is DISPOSED. \n",
      "\u001b[1;31mView Jupyter <a href='command:jupyter.viewOutput'>log</a> for further details."
     ]
    },
    {
     "ename": "",
     "evalue": "",
     "output_type": "error",
     "traceback": [
      "\u001b[1;31mnotebook controller is DISPOSED. \n",
      "\u001b[1;31mView Jupyter <a href='command:jupyter.viewOutput'>log</a> for further details."
     ]
    },
    {
     "ename": "",
     "evalue": "",
     "output_type": "error",
     "traceback": [
      "\u001b[1;31mnotebook controller is DISPOSED. \n",
      "\u001b[1;31mView Jupyter <a href='command:jupyter.viewOutput'>log</a> for further details."
     ]
    },
    {
     "ename": "",
     "evalue": "",
     "output_type": "error",
     "traceback": [
      "\u001b[1;31mnotebook controller is DISPOSED. \n",
      "\u001b[1;31mView Jupyter <a href='command:jupyter.viewOutput'>log</a> for further details."
     ]
    },
    {
     "ename": "",
     "evalue": "",
     "output_type": "error",
     "traceback": [
      "\u001b[1;31mnotebook controller is DISPOSED. \n",
      "\u001b[1;31mView Jupyter <a href='command:jupyter.viewOutput'>log</a> for further details."
     ]
    },
    {
     "ename": "",
     "evalue": "",
     "output_type": "error",
     "traceback": [
      "\u001b[1;31mnotebook controller is DISPOSED. \n",
      "\u001b[1;31mView Jupyter <a href='command:jupyter.viewOutput'>log</a> for further details."
     ]
    },
    {
     "ename": "",
     "evalue": "",
     "output_type": "error",
     "traceback": [
      "\u001b[1;31mnotebook controller is DISPOSED. \n",
      "\u001b[1;31mView Jupyter <a href='command:jupyter.viewOutput'>log</a> for further details."
     ]
    },
    {
     "ename": "",
     "evalue": "",
     "output_type": "error",
     "traceback": [
      "\u001b[1;31mnotebook controller is DISPOSED. \n",
      "\u001b[1;31mView Jupyter <a href='command:jupyter.viewOutput'>log</a> for further details."
     ]
    },
    {
     "ename": "",
     "evalue": "",
     "output_type": "error",
     "traceback": [
      "\u001b[1;31mnotebook controller is DISPOSED. \n",
      "\u001b[1;31mView Jupyter <a href='command:jupyter.viewOutput'>log</a> for further details."
     ]
    }
   ],
   "source": [
    "train_sample.weak_goals_labels"
   ]
  },
  {
   "cell_type": "code",
   "execution_count": null,
   "metadata": {
    "id": "F-WQZHo_CdqW"
   },
   "outputs": [
    {
     "data": {
      "text/plain": [
       "tensor([[[0.0600, 0.2873, 0.0108, 0.0100, 0.0100, 0.0776, 0.0315, 0.3437,\n",
       "          0.1858, 0.0100],\n",
       "         [0.2072, 0.0100, 0.0227, 0.0699, 0.0100, 0.2064, 0.1506, 0.2729,\n",
       "          0.0698, 0.0100],\n",
       "         [0.1674, 0.0100, 0.1112, 0.1247, 0.1391, 0.1610, 0.1112, 0.0100,\n",
       "          0.1851, 0.0100],\n",
       "         [0.0100, 0.0100, 0.0100, 0.2412, 0.2433, 0.3149, 0.0100, 0.0100,\n",
       "          0.1994, 0.0100],\n",
       "         [0.1766, 0.0100, 0.0100, 0.0100, 0.2015, 0.2183, 0.1727, 0.0100,\n",
       "          0.2303, 0.0100],\n",
       "         [0.3166, 0.0100, 0.0100, 0.0100, 0.1323, 0.2899, 0.0100, 0.0100,\n",
       "          0.2578, 0.0100],\n",
       "         [0.3603, 0.0100, 0.0100, 0.0100, 0.0100, 0.3433, 0.0100, 0.0100,\n",
       "          0.2955, 0.0100],\n",
       "         [0.5842, 0.0100, 0.0100, 0.0100, 0.0100, 0.0100, 0.0100, 0.0100,\n",
       "          0.4102, 0.0100],\n",
       "         [0.9996, 0.0100, 0.0100, 0.0100, 0.0100, 0.0100, 0.0100, 0.0100,\n",
       "          0.0100, 0.0100],\n",
       "         [0.0100, 0.0100, 0.0100, 0.0100, 0.0100, 0.0100, 0.0100, 0.0100,\n",
       "          0.0100, 1.0000]]], device='cuda:0', grad_fn=<ClampBackward1>)"
      ]
     },
     "execution_count": 49,
     "metadata": {},
     "output_type": "execute_result"
    },
    {
     "ename": "",
     "evalue": "",
     "output_type": "error",
     "traceback": [
      "\u001b[1;31mnotebook controller is DISPOSED. \n",
      "\u001b[1;31mView Jupyter <a href='command:jupyter.viewOutput'>log</a> for further details."
     ]
    },
    {
     "ename": "",
     "evalue": "",
     "output_type": "error",
     "traceback": [
      "\u001b[1;31mnotebook controller is DISPOSED. \n",
      "\u001b[1;31mView Jupyter <a href='command:jupyter.viewOutput'>log</a> for further details."
     ]
    },
    {
     "ename": "",
     "evalue": "",
     "output_type": "error",
     "traceback": [
      "\u001b[1;31mnotebook controller is DISPOSED. \n",
      "\u001b[1;31mView Jupyter <a href='command:jupyter.viewOutput'>log</a> for further details."
     ]
    },
    {
     "ename": "",
     "evalue": "",
     "output_type": "error",
     "traceback": [
      "\u001b[1;31mnotebook controller is DISPOSED. \n",
      "\u001b[1;31mView Jupyter <a href='command:jupyter.viewOutput'>log</a> for further details."
     ]
    },
    {
     "ename": "",
     "evalue": "",
     "output_type": "error",
     "traceback": [
      "\u001b[1;31mnotebook controller is DISPOSED. \n",
      "\u001b[1;31mView Jupyter <a href='command:jupyter.viewOutput'>log</a> for further details."
     ]
    },
    {
     "ename": "",
     "evalue": "",
     "output_type": "error",
     "traceback": [
      "\u001b[1;31mnotebook controller is DISPOSED. \n",
      "\u001b[1;31mView Jupyter <a href='command:jupyter.viewOutput'>log</a> for further details."
     ]
    },
    {
     "ename": "",
     "evalue": "",
     "output_type": "error",
     "traceback": [
      "\u001b[1;31mnotebook controller is DISPOSED. \n",
      "\u001b[1;31mView Jupyter <a href='command:jupyter.viewOutput'>log</a> for further details."
     ]
    },
    {
     "ename": "",
     "evalue": "",
     "output_type": "error",
     "traceback": [
      "\u001b[1;31mnotebook controller is DISPOSED. \n",
      "\u001b[1;31mView Jupyter <a href='command:jupyter.viewOutput'>log</a> for further details."
     ]
    },
    {
     "ename": "",
     "evalue": "",
     "output_type": "error",
     "traceback": [
      "\u001b[1;31mnotebook controller is DISPOSED. \n",
      "\u001b[1;31mView Jupyter <a href='command:jupyter.viewOutput'>log</a> for further details."
     ]
    },
    {
     "ename": "",
     "evalue": "",
     "output_type": "error",
     "traceback": [
      "\u001b[1;31mnotebook controller is DISPOSED. \n",
      "\u001b[1;31mView Jupyter <a href='command:jupyter.viewOutput'>log</a> for further details."
     ]
    },
    {
     "ename": "",
     "evalue": "",
     "output_type": "error",
     "traceback": [
      "\u001b[1;31mnotebook controller is DISPOSED. \n",
      "\u001b[1;31mView Jupyter <a href='command:jupyter.viewOutput'>log</a> for further details."
     ]
    },
    {
     "ename": "",
     "evalue": "",
     "output_type": "error",
     "traceback": [
      "\u001b[1;31mnotebook controller is DISPOSED. \n",
      "\u001b[1;31mView Jupyter <a href='command:jupyter.viewOutput'>log</a> for further details."
     ]
    },
    {
     "ename": "",
     "evalue": "",
     "output_type": "error",
     "traceback": [
      "\u001b[1;31mnotebook controller is DISPOSED. \n",
      "\u001b[1;31mView Jupyter <a href='command:jupyter.viewOutput'>log</a> for further details."
     ]
    },
    {
     "ename": "",
     "evalue": "",
     "output_type": "error",
     "traceback": [
      "\u001b[1;31mnotebook controller is DISPOSED. \n",
      "\u001b[1;31mView Jupyter <a href='command:jupyter.viewOutput'>log</a> for further details."
     ]
    }
   ],
   "source": [
    "soft_labels.clip(0.01)"
   ]
  },
  {
   "cell_type": "code",
   "execution_count": null,
   "metadata": {
    "id": "jjxvnDxbCkoo"
   },
   "outputs": [
    {
     "data": {
      "text/plain": [
       "tensor([[[0., 0., 0., 0., 0., 0., 0., 0., 1., 0.],\n",
       "         [1., 0., 0., 0., 0., 0., 0., 0., 0., 0.],\n",
       "         [0., 0., 0., 0., 0., 0., 1., 0., 0., 0.],\n",
       "         [1., 0., 0., 0., 0., 0., 0., 0., 0., 0.],\n",
       "         [1., 0., 0., 0., 0., 0., 0., 0., 0., 0.],\n",
       "         [0., 0., 0., 0., 0., 0., 0., 0., 1., 0.],\n",
       "         [1., 0., 0., 0., 0., 0., 0., 0., 0., 0.],\n",
       "         [0., 0., 0., 0., 0., 0., 0., 0., 1., 0.],\n",
       "         [1., 0., 0., 0., 0., 0., 0., 0., 0., 0.],\n",
       "         [0., 0., 0., 0., 0., 0., 0., 0., 0., 1.]]], device='cuda:0')"
      ]
     },
     "execution_count": 50,
     "metadata": {},
     "output_type": "execute_result"
    },
    {
     "ename": "",
     "evalue": "",
     "output_type": "error",
     "traceback": [
      "\u001b[1;31mnotebook controller is DISPOSED. \n",
      "\u001b[1;31mView Jupyter <a href='command:jupyter.viewOutput'>log</a> for further details."
     ]
    },
    {
     "ename": "",
     "evalue": "",
     "output_type": "error",
     "traceback": [
      "\u001b[1;31mnotebook controller is DISPOSED. \n",
      "\u001b[1;31mView Jupyter <a href='command:jupyter.viewOutput'>log</a> for further details."
     ]
    },
    {
     "ename": "",
     "evalue": "",
     "output_type": "error",
     "traceback": [
      "\u001b[1;31mnotebook controller is DISPOSED. \n",
      "\u001b[1;31mView Jupyter <a href='command:jupyter.viewOutput'>log</a> for further details."
     ]
    },
    {
     "ename": "",
     "evalue": "",
     "output_type": "error",
     "traceback": [
      "\u001b[1;31mnotebook controller is DISPOSED. \n",
      "\u001b[1;31mView Jupyter <a href='command:jupyter.viewOutput'>log</a> for further details."
     ]
    },
    {
     "ename": "",
     "evalue": "",
     "output_type": "error",
     "traceback": [
      "\u001b[1;31mnotebook controller is DISPOSED. \n",
      "\u001b[1;31mView Jupyter <a href='command:jupyter.viewOutput'>log</a> for further details."
     ]
    },
    {
     "ename": "",
     "evalue": "",
     "output_type": "error",
     "traceback": [
      "\u001b[1;31mnotebook controller is DISPOSED. \n",
      "\u001b[1;31mView Jupyter <a href='command:jupyter.viewOutput'>log</a> for further details."
     ]
    },
    {
     "ename": "",
     "evalue": "",
     "output_type": "error",
     "traceback": [
      "\u001b[1;31mnotebook controller is DISPOSED. \n",
      "\u001b[1;31mView Jupyter <a href='command:jupyter.viewOutput'>log</a> for further details."
     ]
    },
    {
     "ename": "",
     "evalue": "",
     "output_type": "error",
     "traceback": [
      "\u001b[1;31mnotebook controller is DISPOSED. \n",
      "\u001b[1;31mView Jupyter <a href='command:jupyter.viewOutput'>log</a> for further details."
     ]
    },
    {
     "ename": "",
     "evalue": "",
     "output_type": "error",
     "traceback": [
      "\u001b[1;31mnotebook controller is DISPOSED. \n",
      "\u001b[1;31mView Jupyter <a href='command:jupyter.viewOutput'>log</a> for further details."
     ]
    },
    {
     "ename": "",
     "evalue": "",
     "output_type": "error",
     "traceback": [
      "\u001b[1;31mnotebook controller is DISPOSED. \n",
      "\u001b[1;31mView Jupyter <a href='command:jupyter.viewOutput'>log</a> for further details."
     ]
    },
    {
     "ename": "",
     "evalue": "",
     "output_type": "error",
     "traceback": [
      "\u001b[1;31mnotebook controller is DISPOSED. \n",
      "\u001b[1;31mView Jupyter <a href='command:jupyter.viewOutput'>log</a> for further details."
     ]
    },
    {
     "ename": "",
     "evalue": "",
     "output_type": "error",
     "traceback": [
      "\u001b[1;31mnotebook controller is DISPOSED. \n",
      "\u001b[1;31mView Jupyter <a href='command:jupyter.viewOutput'>log</a> for further details."
     ]
    },
    {
     "ename": "",
     "evalue": "",
     "output_type": "error",
     "traceback": [
      "\u001b[1;31mnotebook controller is DISPOSED. \n",
      "\u001b[1;31mView Jupyter <a href='command:jupyter.viewOutput'>log</a> for further details."
     ]
    },
    {
     "ename": "",
     "evalue": "",
     "output_type": "error",
     "traceback": [
      "\u001b[1;31mnotebook controller is DISPOSED. \n",
      "\u001b[1;31mView Jupyter <a href='command:jupyter.viewOutput'>log</a> for further details."
     ]
    }
   ],
   "source": [
    "hard_labels"
   ]
  },
  {
   "cell_type": "code",
   "execution_count": null,
   "metadata": {
    "id": "ZCAlprThCL57"
   },
   "outputs": [
    {
     "name": "stdout",
     "output_type": "stream",
     "text": [
      "[0, 1, 2, 3, 4, 5, 6, 7, 8]\n",
      "[0, 2, 4, 7]\n"
     ]
    },
    {
     "ename": "",
     "evalue": "",
     "output_type": "error",
     "traceback": [
      "\u001b[1;31mnotebook controller is DISPOSED. \n",
      "\u001b[1;31mView Jupyter <a href='command:jupyter.viewOutput'>log</a> for further details."
     ]
    },
    {
     "ename": "",
     "evalue": "",
     "output_type": "error",
     "traceback": [
      "\u001b[1;31mnotebook controller is DISPOSED. \n",
      "\u001b[1;31mView Jupyter <a href='command:jupyter.viewOutput'>log</a> for further details."
     ]
    },
    {
     "ename": "",
     "evalue": "",
     "output_type": "error",
     "traceback": [
      "\u001b[1;31mnotebook controller is DISPOSED. \n",
      "\u001b[1;31mView Jupyter <a href='command:jupyter.viewOutput'>log</a> for further details."
     ]
    },
    {
     "ename": "",
     "evalue": "",
     "output_type": "error",
     "traceback": [
      "\u001b[1;31mnotebook controller is DISPOSED. \n",
      "\u001b[1;31mView Jupyter <a href='command:jupyter.viewOutput'>log</a> for further details."
     ]
    },
    {
     "ename": "",
     "evalue": "",
     "output_type": "error",
     "traceback": [
      "\u001b[1;31mnotebook controller is DISPOSED. \n",
      "\u001b[1;31mView Jupyter <a href='command:jupyter.viewOutput'>log</a> for further details."
     ]
    },
    {
     "ename": "",
     "evalue": "",
     "output_type": "error",
     "traceback": [
      "\u001b[1;31mnotebook controller is DISPOSED. \n",
      "\u001b[1;31mView Jupyter <a href='command:jupyter.viewOutput'>log</a> for further details."
     ]
    },
    {
     "ename": "",
     "evalue": "",
     "output_type": "error",
     "traceback": [
      "\u001b[1;31mnotebook controller is DISPOSED. \n",
      "\u001b[1;31mView Jupyter <a href='command:jupyter.viewOutput'>log</a> for further details."
     ]
    },
    {
     "ename": "",
     "evalue": "",
     "output_type": "error",
     "traceback": [
      "\u001b[1;31mnotebook controller is DISPOSED. \n",
      "\u001b[1;31mView Jupyter <a href='command:jupyter.viewOutput'>log</a> for further details."
     ]
    },
    {
     "ename": "",
     "evalue": "",
     "output_type": "error",
     "traceback": [
      "\u001b[1;31mnotebook controller is DISPOSED. \n",
      "\u001b[1;31mView Jupyter <a href='command:jupyter.viewOutput'>log</a> for further details."
     ]
    },
    {
     "ename": "",
     "evalue": "",
     "output_type": "error",
     "traceback": [
      "\u001b[1;31mnotebook controller is DISPOSED. \n",
      "\u001b[1;31mView Jupyter <a href='command:jupyter.viewOutput'>log</a> for further details."
     ]
    },
    {
     "ename": "",
     "evalue": "",
     "output_type": "error",
     "traceback": [
      "\u001b[1;31mnotebook controller is DISPOSED. \n",
      "\u001b[1;31mView Jupyter <a href='command:jupyter.viewOutput'>log</a> for further details."
     ]
    },
    {
     "ename": "",
     "evalue": "",
     "output_type": "error",
     "traceback": [
      "\u001b[1;31mnotebook controller is DISPOSED. \n",
      "\u001b[1;31mView Jupyter <a href='command:jupyter.viewOutput'>log</a> for further details."
     ]
    },
    {
     "ename": "",
     "evalue": "",
     "output_type": "error",
     "traceback": [
      "\u001b[1;31mnotebook controller is DISPOSED. \n",
      "\u001b[1;31mView Jupyter <a href='command:jupyter.viewOutput'>log</a> for further details."
     ]
    },
    {
     "ename": "",
     "evalue": "",
     "output_type": "error",
     "traceback": [
      "\u001b[1;31mnotebook controller is DISPOSED. \n",
      "\u001b[1;31mView Jupyter <a href='command:jupyter.viewOutput'>log</a> for further details."
     ]
    }
   ],
   "source": [
    "board = Board()\n",
    "print(get_best_moves(board, Goal.WEAK_GOAL))\n",
    "board.make_move(1)\n",
    "print(get_best_moves(board, Goal.WEAK_GOAL))"
   ]
  },
  {
   "cell_type": "code",
   "execution_count": null,
   "metadata": {
    "id": "6mlqaz9FI6-3"
   },
   "outputs": [
    {
     "data": {
      "text/plain": [
       "tensor([10,  2,  0,  7,  3,  8,  1,  6,  9,  9], device='cuda:0')"
      ]
     },
     "execution_count": 52,
     "metadata": {},
     "output_type": "execute_result"
    },
    {
     "ename": "",
     "evalue": "",
     "output_type": "error",
     "traceback": [
      "\u001b[1;31mnotebook controller is DISPOSED. \n",
      "\u001b[1;31mView Jupyter <a href='command:jupyter.viewOutput'>log</a> for further details."
     ]
    },
    {
     "ename": "",
     "evalue": "",
     "output_type": "error",
     "traceback": [
      "\u001b[1;31mnotebook controller is DISPOSED. \n",
      "\u001b[1;31mView Jupyter <a href='command:jupyter.viewOutput'>log</a> for further details."
     ]
    },
    {
     "ename": "",
     "evalue": "",
     "output_type": "error",
     "traceback": [
      "\u001b[1;31mnotebook controller is DISPOSED. \n",
      "\u001b[1;31mView Jupyter <a href='command:jupyter.viewOutput'>log</a> for further details."
     ]
    },
    {
     "ename": "",
     "evalue": "",
     "output_type": "error",
     "traceback": [
      "\u001b[1;31mnotebook controller is DISPOSED. \n",
      "\u001b[1;31mView Jupyter <a href='command:jupyter.viewOutput'>log</a> for further details."
     ]
    },
    {
     "ename": "",
     "evalue": "",
     "output_type": "error",
     "traceback": [
      "\u001b[1;31mnotebook controller is DISPOSED. \n",
      "\u001b[1;31mView Jupyter <a href='command:jupyter.viewOutput'>log</a> for further details."
     ]
    },
    {
     "ename": "",
     "evalue": "",
     "output_type": "error",
     "traceback": [
      "\u001b[1;31mnotebook controller is DISPOSED. \n",
      "\u001b[1;31mView Jupyter <a href='command:jupyter.viewOutput'>log</a> for further details."
     ]
    },
    {
     "ename": "",
     "evalue": "",
     "output_type": "error",
     "traceback": [
      "\u001b[1;31mnotebook controller is DISPOSED. \n",
      "\u001b[1;31mView Jupyter <a href='command:jupyter.viewOutput'>log</a> for further details."
     ]
    },
    {
     "ename": "",
     "evalue": "",
     "output_type": "error",
     "traceback": [
      "\u001b[1;31mnotebook controller is DISPOSED. \n",
      "\u001b[1;31mView Jupyter <a href='command:jupyter.viewOutput'>log</a> for further details."
     ]
    },
    {
     "ename": "",
     "evalue": "",
     "output_type": "error",
     "traceback": [
      "\u001b[1;31mnotebook controller is DISPOSED. \n",
      "\u001b[1;31mView Jupyter <a href='command:jupyter.viewOutput'>log</a> for further details."
     ]
    },
    {
     "ename": "",
     "evalue": "",
     "output_type": "error",
     "traceback": [
      "\u001b[1;31mnotebook controller is DISPOSED. \n",
      "\u001b[1;31mView Jupyter <a href='command:jupyter.viewOutput'>log</a> for further details."
     ]
    },
    {
     "ename": "",
     "evalue": "",
     "output_type": "error",
     "traceback": [
      "\u001b[1;31mnotebook controller is DISPOSED. \n",
      "\u001b[1;31mView Jupyter <a href='command:jupyter.viewOutput'>log</a> for further details."
     ]
    },
    {
     "ename": "",
     "evalue": "",
     "output_type": "error",
     "traceback": [
      "\u001b[1;31mnotebook controller is DISPOSED. \n",
      "\u001b[1;31mView Jupyter <a href='command:jupyter.viewOutput'>log</a> for further details."
     ]
    },
    {
     "ename": "",
     "evalue": "",
     "output_type": "error",
     "traceback": [
      "\u001b[1;31mnotebook controller is DISPOSED. \n",
      "\u001b[1;31mView Jupyter <a href='command:jupyter.viewOutput'>log</a> for further details."
     ]
    },
    {
     "ename": "",
     "evalue": "",
     "output_type": "error",
     "traceback": [
      "\u001b[1;31mnotebook controller is DISPOSED. \n",
      "\u001b[1;31mView Jupyter <a href='command:jupyter.viewOutput'>log</a> for further details."
     ]
    }
   ],
   "source": [
    "tictactoe_test_data.games_data[600]"
   ]
  },
  {
   "cell_type": "code",
   "execution_count": null,
   "metadata": {
    "id": "FA4fanUYnFCd"
   },
   "outputs": [
    {
     "data": {
      "text/plain": [
       "tensor([[0.1111, 0.1111, 0.1111, 0.1111, 0.1111, 0.1111, 0.1111, 0.1111, 0.1111,\n",
       "         0.0000],\n",
       "        [0.0000, 0.0000, 0.0000, 0.0000, 1.0000, 0.0000, 0.0000, 0.0000, 0.0000,\n",
       "         0.0000],\n",
       "        [0.3333, 0.0000, 0.0000, 0.0000, 0.3333, 0.0000, 0.0000, 0.0000, 0.3333,\n",
       "         0.0000],\n",
       "        [0.0000, 0.0000, 0.0000, 0.0000, 1.0000, 0.0000, 0.0000, 0.0000, 0.0000,\n",
       "         0.0000],\n",
       "        [0.0000, 0.0000, 0.0000, 0.0000, 0.2500, 0.2500, 0.0000, 0.2500, 0.2500,\n",
       "         0.0000],\n",
       "        [0.2500, 0.0000, 0.0000, 0.0000, 0.2500, 0.2500, 0.0000, 0.2500, 0.0000,\n",
       "         0.0000],\n",
       "        [0.0000, 0.0000, 0.0000, 0.0000, 0.5000, 0.0000, 0.0000, 0.5000, 0.0000,\n",
       "         0.0000],\n",
       "        [0.0000, 0.0000, 0.0000, 0.0000, 0.0000, 0.0000, 0.0000, 0.0000, 0.0000,\n",
       "         1.0000],\n",
       "        [0.0000, 0.0000, 0.0000, 0.0000, 0.0000, 0.0000, 0.0000, 0.0000, 0.0000,\n",
       "         1.0000],\n",
       "        [0.0000, 0.0000, 0.0000, 0.0000, 0.0000, 0.0000, 0.0000, 0.0000, 0.0000,\n",
       "         1.0000]], device='cuda:0')"
      ]
     },
     "execution_count": 53,
     "metadata": {},
     "output_type": "execute_result"
    },
    {
     "ename": "",
     "evalue": "",
     "output_type": "error",
     "traceback": [
      "\u001b[1;31mnotebook controller is DISPOSED. \n",
      "\u001b[1;31mView Jupyter <a href='command:jupyter.viewOutput'>log</a> for further details."
     ]
    },
    {
     "ename": "",
     "evalue": "",
     "output_type": "error",
     "traceback": [
      "\u001b[1;31mnotebook controller is DISPOSED. \n",
      "\u001b[1;31mView Jupyter <a href='command:jupyter.viewOutput'>log</a> for further details."
     ]
    },
    {
     "ename": "",
     "evalue": "",
     "output_type": "error",
     "traceback": [
      "\u001b[1;31mnotebook controller is DISPOSED. \n",
      "\u001b[1;31mView Jupyter <a href='command:jupyter.viewOutput'>log</a> for further details."
     ]
    },
    {
     "ename": "",
     "evalue": "",
     "output_type": "error",
     "traceback": [
      "\u001b[1;31mnotebook controller is DISPOSED. \n",
      "\u001b[1;31mView Jupyter <a href='command:jupyter.viewOutput'>log</a> for further details."
     ]
    },
    {
     "ename": "",
     "evalue": "",
     "output_type": "error",
     "traceback": [
      "\u001b[1;31mnotebook controller is DISPOSED. \n",
      "\u001b[1;31mView Jupyter <a href='command:jupyter.viewOutput'>log</a> for further details."
     ]
    },
    {
     "ename": "",
     "evalue": "",
     "output_type": "error",
     "traceback": [
      "\u001b[1;31mnotebook controller is DISPOSED. \n",
      "\u001b[1;31mView Jupyter <a href='command:jupyter.viewOutput'>log</a> for further details."
     ]
    },
    {
     "ename": "",
     "evalue": "",
     "output_type": "error",
     "traceback": [
      "\u001b[1;31mnotebook controller is DISPOSED. \n",
      "\u001b[1;31mView Jupyter <a href='command:jupyter.viewOutput'>log</a> for further details."
     ]
    },
    {
     "ename": "",
     "evalue": "",
     "output_type": "error",
     "traceback": [
      "\u001b[1;31mnotebook controller is DISPOSED. \n",
      "\u001b[1;31mView Jupyter <a href='command:jupyter.viewOutput'>log</a> for further details."
     ]
    },
    {
     "ename": "",
     "evalue": "",
     "output_type": "error",
     "traceback": [
      "\u001b[1;31mnotebook controller is DISPOSED. \n",
      "\u001b[1;31mView Jupyter <a href='command:jupyter.viewOutput'>log</a> for further details."
     ]
    },
    {
     "ename": "",
     "evalue": "",
     "output_type": "error",
     "traceback": [
      "\u001b[1;31mnotebook controller is DISPOSED. \n",
      "\u001b[1;31mView Jupyter <a href='command:jupyter.viewOutput'>log</a> for further details."
     ]
    },
    {
     "ename": "",
     "evalue": "",
     "output_type": "error",
     "traceback": [
      "\u001b[1;31mnotebook controller is DISPOSED. \n",
      "\u001b[1;31mView Jupyter <a href='command:jupyter.viewOutput'>log</a> for further details."
     ]
    },
    {
     "ename": "",
     "evalue": "",
     "output_type": "error",
     "traceback": [
      "\u001b[1;31mnotebook controller is DISPOSED. \n",
      "\u001b[1;31mView Jupyter <a href='command:jupyter.viewOutput'>log</a> for further details."
     ]
    },
    {
     "ename": "",
     "evalue": "",
     "output_type": "error",
     "traceback": [
      "\u001b[1;31mnotebook controller is DISPOSED. \n",
      "\u001b[1;31mView Jupyter <a href='command:jupyter.viewOutput'>log</a> for further details."
     ]
    },
    {
     "ename": "",
     "evalue": "",
     "output_type": "error",
     "traceback": [
      "\u001b[1;31mnotebook controller is DISPOSED. \n",
      "\u001b[1;31mView Jupyter <a href='command:jupyter.viewOutput'>log</a> for further details."
     ]
    }
   ],
   "source": [
    "tictactoe_test_data.weak_goals_labels[2]"
   ]
  },
  {
   "cell_type": "code",
   "execution_count": null,
   "metadata": {
    "id": "rDmIrkjVnGAI"
   },
   "outputs": [
    {
     "ename": "NameError",
     "evalue": "name 'tictactoe_test_data' is not defined",
     "output_type": "error",
     "traceback": [
      "\u001b[0;31m---------------------------------------------------------------------------\u001b[0m",
      "\u001b[0;31mNameError\u001b[0m                                 Traceback (most recent call last)",
      "Cell \u001b[0;32mIn[14], line 1\u001b[0m\n\u001b[0;32m----> 1\u001b[0m \u001b[43mtictactoe_test_data\u001b[49m\u001b[38;5;241m.\u001b[39mgames_data[\u001b[38;5;241m25\u001b[39m][:]\n",
      "\u001b[0;31mNameError\u001b[0m: name 'tictactoe_test_data' is not defined"
     ]
    },
    {
     "ename": "",
     "evalue": "",
     "output_type": "error",
     "traceback": [
      "\u001b[1;31mnotebook controller is DISPOSED. \n",
      "\u001b[1;31mView Jupyter <a href='command:jupyter.viewOutput'>log</a> for further details."
     ]
    },
    {
     "ename": "",
     "evalue": "",
     "output_type": "error",
     "traceback": [
      "\u001b[1;31mnotebook controller is DISPOSED. \n",
      "\u001b[1;31mView Jupyter <a href='command:jupyter.viewOutput'>log</a> for further details."
     ]
    },
    {
     "ename": "",
     "evalue": "",
     "output_type": "error",
     "traceback": [
      "\u001b[1;31mnotebook controller is DISPOSED. \n",
      "\u001b[1;31mView Jupyter <a href='command:jupyter.viewOutput'>log</a> for further details."
     ]
    },
    {
     "ename": "",
     "evalue": "",
     "output_type": "error",
     "traceback": [
      "\u001b[1;31mnotebook controller is DISPOSED. \n",
      "\u001b[1;31mView Jupyter <a href='command:jupyter.viewOutput'>log</a> for further details."
     ]
    },
    {
     "ename": "",
     "evalue": "",
     "output_type": "error",
     "traceback": [
      "\u001b[1;31mnotebook controller is DISPOSED. \n",
      "\u001b[1;31mView Jupyter <a href='command:jupyter.viewOutput'>log</a> for further details."
     ]
    },
    {
     "ename": "",
     "evalue": "",
     "output_type": "error",
     "traceback": [
      "\u001b[1;31mnotebook controller is DISPOSED. \n",
      "\u001b[1;31mView Jupyter <a href='command:jupyter.viewOutput'>log</a> for further details."
     ]
    }
   ],
   "source": [
    "tictactoe_test_data.games_data[25][:]"
   ]
  },
  {
   "cell_type": "code",
   "execution_count": null,
   "metadata": {
    "id": "fvZuT97em_5p"
   },
   "outputs": [
    {
     "data": {
      "text/plain": [
       "tensor([[[0.0600, 0.2873, 0.0108, 0.0100, 0.0100, 0.0776, 0.0315, 0.3437,\n",
       "          0.1858, 0.0100],\n",
       "         [0.2072, 0.0100, 0.0227, 0.0699, 0.0100, 0.2064, 0.1506, 0.2729,\n",
       "          0.0698, 0.0100],\n",
       "         [0.1604, 0.0100, 0.1951, 0.1724, 0.0153, 0.1777, 0.0100, 0.2194,\n",
       "          0.0595, 0.0100],\n",
       "         [0.0100, 0.0100, 0.0672, 0.2839, 0.0138, 0.2801, 0.0100, 0.3431,\n",
       "          0.0106, 0.0100],\n",
       "         [0.0100, 0.0100, 0.2053, 0.1949, 0.1263, 0.0100, 0.0100, 0.2822,\n",
       "          0.1904, 0.0100],\n",
       "         [0.0100, 0.0100, 0.2955, 0.2582, 0.0100, 0.0100, 0.0100, 0.4357,\n",
       "          0.0100, 0.0100],\n",
       "         [0.0100, 0.0100, 0.0100, 0.2669, 0.2780, 0.0100, 0.0100, 0.4515,\n",
       "          0.0100, 0.0100],\n",
       "         [0.0100, 0.0100, 0.0100, 0.0100, 0.0100, 0.0100, 0.0100, 0.9999,\n",
       "          0.0100, 0.0100],\n",
       "         [0.0100, 0.0100, 0.0100, 0.0100, 0.9993, 0.0100, 0.0100, 0.0100,\n",
       "          0.0100, 0.0100],\n",
       "         [0.0100, 0.0100, 0.0100, 0.0100, 0.0100, 0.0100, 0.0100, 0.0100,\n",
       "          0.0100, 1.0000]]], device='cuda:0', grad_fn=<ClampBackward1>)"
      ]
     },
     "execution_count": 55,
     "metadata": {},
     "output_type": "execute_result"
    },
    {
     "ename": "",
     "evalue": "",
     "output_type": "error",
     "traceback": [
      "\u001b[1;31mnotebook controller is DISPOSED. \n",
      "\u001b[1;31mView Jupyter <a href='command:jupyter.viewOutput'>log</a> for further details."
     ]
    },
    {
     "ename": "",
     "evalue": "",
     "output_type": "error",
     "traceback": [
      "\u001b[1;31mnotebook controller is DISPOSED. \n",
      "\u001b[1;31mView Jupyter <a href='command:jupyter.viewOutput'>log</a> for further details."
     ]
    },
    {
     "ename": "",
     "evalue": "",
     "output_type": "error",
     "traceback": [
      "\u001b[1;31mnotebook controller is DISPOSED. \n",
      "\u001b[1;31mView Jupyter <a href='command:jupyter.viewOutput'>log</a> for further details."
     ]
    },
    {
     "ename": "",
     "evalue": "",
     "output_type": "error",
     "traceback": [
      "\u001b[1;31mnotebook controller is DISPOSED. \n",
      "\u001b[1;31mView Jupyter <a href='command:jupyter.viewOutput'>log</a> for further details."
     ]
    },
    {
     "ename": "",
     "evalue": "",
     "output_type": "error",
     "traceback": [
      "\u001b[1;31mnotebook controller is DISPOSED. \n",
      "\u001b[1;31mView Jupyter <a href='command:jupyter.viewOutput'>log</a> for further details."
     ]
    },
    {
     "ename": "",
     "evalue": "",
     "output_type": "error",
     "traceback": [
      "\u001b[1;31mnotebook controller is DISPOSED. \n",
      "\u001b[1;31mView Jupyter <a href='command:jupyter.viewOutput'>log</a> for further details."
     ]
    },
    {
     "ename": "",
     "evalue": "",
     "output_type": "error",
     "traceback": [
      "\u001b[1;31mnotebook controller is DISPOSED. \n",
      "\u001b[1;31mView Jupyter <a href='command:jupyter.viewOutput'>log</a> for further details."
     ]
    },
    {
     "ename": "",
     "evalue": "",
     "output_type": "error",
     "traceback": [
      "\u001b[1;31mnotebook controller is DISPOSED. \n",
      "\u001b[1;31mView Jupyter <a href='command:jupyter.viewOutput'>log</a> for further details."
     ]
    },
    {
     "ename": "",
     "evalue": "",
     "output_type": "error",
     "traceback": [
      "\u001b[1;31mnotebook controller is DISPOSED. \n",
      "\u001b[1;31mView Jupyter <a href='command:jupyter.viewOutput'>log</a> for further details."
     ]
    },
    {
     "ename": "",
     "evalue": "",
     "output_type": "error",
     "traceback": [
      "\u001b[1;31mnotebook controller is DISPOSED. \n",
      "\u001b[1;31mView Jupyter <a href='command:jupyter.viewOutput'>log</a> for further details."
     ]
    },
    {
     "ename": "",
     "evalue": "",
     "output_type": "error",
     "traceback": [
      "\u001b[1;31mnotebook controller is DISPOSED. \n",
      "\u001b[1;31mView Jupyter <a href='command:jupyter.viewOutput'>log</a> for further details."
     ]
    },
    {
     "ename": "",
     "evalue": "",
     "output_type": "error",
     "traceback": [
      "\u001b[1;31mnotebook controller is DISPOSED. \n",
      "\u001b[1;31mView Jupyter <a href='command:jupyter.viewOutput'>log</a> for further details."
     ]
    },
    {
     "ename": "",
     "evalue": "",
     "output_type": "error",
     "traceback": [
      "\u001b[1;31mnotebook controller is DISPOSED. \n",
      "\u001b[1;31mView Jupyter <a href='command:jupyter.viewOutput'>log</a> for further details."
     ]
    }
   ],
   "source": [
    "softmax(model(tictactoe_test_data.games_data[25][:]), dim=-1).clip(0.01)"
   ]
  },
  {
   "cell_type": "code",
   "execution_count": null,
   "metadata": {
    "id": "p0qQ8bpfPAwX"
   },
   "outputs": [
    {
     "name": "stdout",
     "output_type": "stream",
     "text": [
      "0 0.002280226442962885\n",
      "1 0.000929898233152926\n",
      "2 0.001686390838585794\n",
      "3 0.0004734809626825154\n",
      "4 0.0010997230419889092\n",
      "5 0.0007930731517262757\n",
      "6 0.00047902631922625005\n",
      "7 0.0016117574414238334\n",
      "8 0.00024018592375796288\n",
      "9 0.000412161200074479\n",
      "10 0.0007784710614942014\n",
      "11 0.00029883673414587975\n",
      "12 0.0011275947326794267\n",
      "13 0.00023937800142448395\n",
      "14 0.0009067708742804825\n",
      "15 0.0002063674182863906\n",
      "16 0.0021726086270064116\n",
      "17 0.0007019428303465247\n",
      "18 0.0006952477269805968\n",
      "19 0.0002523267758078873\n",
      "20 0.00040092653944157064\n",
      "21 0.0013260722626000643\n",
      "22 0.00015332397015299648\n",
      "23 0.0002664533967617899\n",
      "24 0.00039519648998975754\n",
      "25 0.0011439825175330043\n",
      "26 0.0003274463233537972\n",
      "27 0.000961422105319798\n",
      "28 0.0016347168711945415\n",
      "29 0.0005889135645702481\n",
      "30 0.0002385144616710022\n",
      "31 0.001433557248674333\n",
      "32 0.0007983925170265138\n",
      "33 0.00020917915389873087\n",
      "34 0.000469208782305941\n",
      "35 0.0006266026175580919\n",
      "36 9.939995652530342e-05\n",
      "37 0.0002688948006834835\n",
      "38 9.65259168879129e-05\n",
      "39 7.906727842055261e-05\n",
      "40 0.0010720150312408805\n",
      "41 0.002062604296952486\n",
      "42 0.00015365067520178854\n",
      "43 0.0002806468110065907\n",
      "44 0.00031353693339042366\n",
      "45 0.00012925405462738127\n",
      "46 0.0005879555828869343\n",
      "47 0.0017822937807068229\n",
      "48 0.0006102576153352857\n",
      "49 0.0008424448897130787\n",
      "50 4.530293517746031e-05\n",
      "51 0.0011414617765694857\n",
      "52 0.001254269271157682\n",
      "53 0.0006006080657243729\n",
      "54 0.0003354663494974375\n",
      "55 8.403771789744496e-05\n",
      "56 0.00021056165860500187\n",
      "57 0.00046565011143684387\n",
      "58 0.0029717397410422564\n",
      "59 5.881366814719513e-05\n",
      "60 0.0014359398046508431\n",
      "61 0.00015381730918306857\n",
      "62 0.0003914784174412489\n",
      "63 0.0005719540640711784\n",
      "64 4.175914727966301e-05\n",
      "65 0.001061049522832036\n",
      "66 0.00026155650266446173\n",
      "67 0.0010244863806292415\n",
      "68 0.0008088719914667308\n",
      "69 0.0004387475491967052\n",
      "70 0.0043460167944431305\n",
      "71 0.00020149248302914202\n",
      "72 0.0005665236967615783\n",
      "73 9.229099669028074e-05\n",
      "74 0.000139702606247738\n",
      "75 0.00020542927086353302\n",
      "76 0.0003506709181237966\n",
      "77 0.0010419860482215881\n",
      "78 0.00011812493903562427\n",
      "79 0.0007281348807737231\n",
      "80 0.0007918136543594301\n",
      "81 0.00020723971829283983\n",
      "82 0.0007509340648539364\n",
      "83 0.0006137814489193261\n",
      "84 0.00014838010247331113\n",
      "85 0.00021412847854662687\n",
      "86 0.0004941406659781933\n",
      "87 0.0003480267769191414\n",
      "88 0.0005425283452495933\n",
      "89 0.0005807039560750127\n",
      "90 0.0005540206911973655\n",
      "91 0.002536606043577194\n",
      "92 0.0001496928307460621\n",
      "93 0.0016294766683131456\n",
      "94 6.19833153905347e-05\n",
      "95 0.001089132740162313\n",
      "96 0.00031608654535375535\n",
      "97 0.00017195199325215071\n",
      "98 5.0459431804483756e-05\n",
      "99 0.0005768576520495117\n",
      "100 0.00011039474338758737\n"
     ]
    },
    {
     "ename": "",
     "evalue": "",
     "output_type": "error",
     "traceback": [
      "\u001b[1;31mnotebook controller is DISPOSED. \n",
      "\u001b[1;31mView Jupyter <a href='command:jupyter.viewOutput'>log</a> for further details."
     ]
    },
    {
     "ename": "",
     "evalue": "",
     "output_type": "error",
     "traceback": [
      "\u001b[1;31mnotebook controller is DISPOSED. \n",
      "\u001b[1;31mView Jupyter <a href='command:jupyter.viewOutput'>log</a> for further details."
     ]
    },
    {
     "ename": "",
     "evalue": "",
     "output_type": "error",
     "traceback": [
      "\u001b[1;31mnotebook controller is DISPOSED. \n",
      "\u001b[1;31mView Jupyter <a href='command:jupyter.viewOutput'>log</a> for further details."
     ]
    },
    {
     "ename": "",
     "evalue": "",
     "output_type": "error",
     "traceback": [
      "\u001b[1;31mnotebook controller is DISPOSED. \n",
      "\u001b[1;31mView Jupyter <a href='command:jupyter.viewOutput'>log</a> for further details."
     ]
    },
    {
     "ename": "",
     "evalue": "",
     "output_type": "error",
     "traceback": [
      "\u001b[1;31mnotebook controller is DISPOSED. \n",
      "\u001b[1;31mView Jupyter <a href='command:jupyter.viewOutput'>log</a> for further details."
     ]
    },
    {
     "ename": "",
     "evalue": "",
     "output_type": "error",
     "traceback": [
      "\u001b[1;31mnotebook controller is DISPOSED. \n",
      "\u001b[1;31mView Jupyter <a href='command:jupyter.viewOutput'>log</a> for further details."
     ]
    },
    {
     "ename": "",
     "evalue": "",
     "output_type": "error",
     "traceback": [
      "\u001b[1;31mnotebook controller is DISPOSED. \n",
      "\u001b[1;31mView Jupyter <a href='command:jupyter.viewOutput'>log</a> for further details."
     ]
    },
    {
     "ename": "",
     "evalue": "",
     "output_type": "error",
     "traceback": [
      "\u001b[1;31mnotebook controller is DISPOSED. \n",
      "\u001b[1;31mView Jupyter <a href='command:jupyter.viewOutput'>log</a> for further details."
     ]
    },
    {
     "ename": "",
     "evalue": "",
     "output_type": "error",
     "traceback": [
      "\u001b[1;31mnotebook controller is DISPOSED. \n",
      "\u001b[1;31mView Jupyter <a href='command:jupyter.viewOutput'>log</a> for further details."
     ]
    },
    {
     "ename": "",
     "evalue": "",
     "output_type": "error",
     "traceback": [
      "\u001b[1;31mnotebook controller is DISPOSED. \n",
      "\u001b[1;31mView Jupyter <a href='command:jupyter.viewOutput'>log</a> for further details."
     ]
    },
    {
     "ename": "",
     "evalue": "",
     "output_type": "error",
     "traceback": [
      "\u001b[1;31mnotebook controller is DISPOSED. \n",
      "\u001b[1;31mView Jupyter <a href='command:jupyter.viewOutput'>log</a> for further details."
     ]
    },
    {
     "ename": "",
     "evalue": "",
     "output_type": "error",
     "traceback": [
      "\u001b[1;31mnotebook controller is DISPOSED. \n",
      "\u001b[1;31mView Jupyter <a href='command:jupyter.viewOutput'>log</a> for further details."
     ]
    },
    {
     "ename": "",
     "evalue": "",
     "output_type": "error",
     "traceback": [
      "\u001b[1;31mnotebook controller is DISPOSED. \n",
      "\u001b[1;31mView Jupyter <a href='command:jupyter.viewOutput'>log</a> for further details."
     ]
    }
   ],
   "source": [
    "skip_to = 0\n",
    "train_dataset = TensorDataset(\n",
    "    tictactoe_train_data.games_data,\n",
    "    tictactoe_train_data.random_move_labels,\n",
    "    tictactoe_train_data.weak_goals_labels,\n",
    "    tictactoe_train_data.strong_goals_labels,\n",
    ")\n",
    "train_loader = DataLoader(train_dataset, batch_size=1, shuffle=False)\n",
    "i = 0\n",
    "for games, random_labels, weak_labels, strong_labels in train_loader:\n",
    "    logits = model(games)\n",
    "    probs = torch.softmax(logits, dim=-1)\n",
    "    illegal_mask = (random_labels == 0).float()\n",
    "    illegal_move_probs = (probs * illegal_mask).sum(dim=-1)\n",
    "    avg_illegal = illegal_move_probs.mean().item()\n",
    "\n",
    "    print(i, avg_illegal)\n",
    "\n",
    "    i += 1\n",
    "    if i > 100:\n",
    "        break"
   ]
  },
  {
   "cell_type": "code",
   "execution_count": null,
   "metadata": {
    "id": "HmpNzFgly2a2"
   },
   "outputs": [
    {
     "name": "stdout",
     "output_type": "stream",
     "text": [
      "tensor([10,  8,  5,  3,  0,  1,  2,  4,  6,  7], device='cuda:0')\n"
     ]
    },
    {
     "name": "stderr",
     "output_type": "stream",
     "text": [
      "/homes/55/bwilop/wsg/WSG_games/wsg_games/tictactoe/analysis/visualize_game.py:83: UserWarning: This figure includes Axes that are not compatible with tight_layout, so results might be incorrect.\n",
      "  plt.tight_layout(rect=[0, 0, 0.93, 1])\n"
     ]
    },
    {
     "data": {
      "image/png": "[encoded data removed]",
      "text/plain": [
       "<Figure size 1600x4000 with 41 Axes>"
      ]
     },
     "metadata": {},
     "output_type": "display_data"
    },
    {
     "ename": "",
     "evalue": "",
     "output_type": "error",
     "traceback": [
      "\u001b[1;31mnotebook controller is DISPOSED. \n",
      "\u001b[1;31mView Jupyter <a href='command:jupyter.viewOutput'>log</a> for further details."
     ]
    },
    {
     "ename": "",
     "evalue": "",
     "output_type": "error",
     "traceback": [
      "\u001b[1;31mnotebook controller is DISPOSED. \n",
      "\u001b[1;31mView Jupyter <a href='command:jupyter.viewOutput'>log</a> for further details."
     ]
    },
    {
     "ename": "",
     "evalue": "",
     "output_type": "error",
     "traceback": [
      "\u001b[1;31mnotebook controller is DISPOSED. \n",
      "\u001b[1;31mView Jupyter <a href='command:jupyter.viewOutput'>log</a> for further details."
     ]
    },
    {
     "ename": "",
     "evalue": "",
     "output_type": "error",
     "traceback": [
      "\u001b[1;31mnotebook controller is DISPOSED. \n",
      "\u001b[1;31mView Jupyter <a href='command:jupyter.viewOutput'>log</a> for further details."
     ]
    },
    {
     "ename": "",
     "evalue": "",
     "output_type": "error",
     "traceback": [
      "\u001b[1;31mnotebook controller is DISPOSED. \n",
      "\u001b[1;31mView Jupyter <a href='command:jupyter.viewOutput'>log</a> for further details."
     ]
    },
    {
     "ename": "",
     "evalue": "",
     "output_type": "error",
     "traceback": [
      "\u001b[1;31mnotebook controller is DISPOSED. \n",
      "\u001b[1;31mView Jupyter <a href='command:jupyter.viewOutput'>log</a> for further details."
     ]
    },
    {
     "ename": "",
     "evalue": "",
     "output_type": "error",
     "traceback": [
      "\u001b[1;31mnotebook controller is DISPOSED. \n",
      "\u001b[1;31mView Jupyter <a href='command:jupyter.viewOutput'>log</a> for further details."
     ]
    },
    {
     "ename": "",
     "evalue": "",
     "output_type": "error",
     "traceback": [
      "\u001b[1;31mnotebook controller is DISPOSED. \n",
      "\u001b[1;31mView Jupyter <a href='command:jupyter.viewOutput'>log</a> for further details."
     ]
    },
    {
     "ename": "",
     "evalue": "",
     "output_type": "error",
     "traceback": [
      "\u001b[1;31mnotebook controller is DISPOSED. \n",
      "\u001b[1;31mView Jupyter <a href='command:jupyter.viewOutput'>log</a> for further details."
     ]
    },
    {
     "ename": "",
     "evalue": "",
     "output_type": "error",
     "traceback": [
      "\u001b[1;31mnotebook controller is DISPOSED. \n",
      "\u001b[1;31mView Jupyter <a href='command:jupyter.viewOutput'>log</a> for further details."
     ]
    },
    {
     "ename": "",
     "evalue": "",
     "output_type": "error",
     "traceback": [
      "\u001b[1;31mnotebook controller is DISPOSED. \n",
      "\u001b[1;31mView Jupyter <a href='command:jupyter.viewOutput'>log</a> for further details."
     ]
    },
    {
     "ename": "",
     "evalue": "",
     "output_type": "error",
     "traceback": [
      "\u001b[1;31mnotebook controller is DISPOSED. \n",
      "\u001b[1;31mView Jupyter <a href='command:jupyter.viewOutput'>log</a> for further details."
     ]
    },
    {
     "ename": "",
     "evalue": "",
     "output_type": "error",
     "traceback": [
      "\u001b[1;31mnotebook controller is DISPOSED. \n",
      "\u001b[1;31mView Jupyter <a href='command:jupyter.viewOutput'>log</a> for further details."
     ]
    }
   ],
   "source": [
    "visualize_game(tictactoe_test_data, game_id=0, model=model)"
   ]
  },
  {
   "cell_type": "markdown",
   "metadata": {
    "id": "2OeILpjRqric"
   },
   "source": [
    "# Sample games"
   ]
  },
  {
   "cell_type": "code",
   "execution_count": null,
   "metadata": {
    "id": "oQb9vhch0H4I"
   },
   "outputs": [
    {
     "ename": "",
     "evalue": "",
     "output_type": "error",
     "traceback": [
      "\u001b[1;31mnotebook controller is DISPOSED. \n",
      "\u001b[1;31mView Jupyter <a href='command:jupyter.viewOutput'>log</a> for further details."
     ]
    },
    {
     "ename": "",
     "evalue": "",
     "output_type": "error",
     "traceback": [
      "\u001b[1;31mnotebook controller is DISPOSED. \n",
      "\u001b[1;31mView Jupyter <a href='command:jupyter.viewOutput'>log</a> for further details."
     ]
    },
    {
     "ename": "",
     "evalue": "",
     "output_type": "error",
     "traceback": [
      "\u001b[1;31mnotebook controller is DISPOSED. \n",
      "\u001b[1;31mView Jupyter <a href='command:jupyter.viewOutput'>log</a> for further details."
     ]
    },
    {
     "ename": "",
     "evalue": "",
     "output_type": "error",
     "traceback": [
      "\u001b[1;31mnotebook controller is DISPOSED. \n",
      "\u001b[1;31mView Jupyter <a href='command:jupyter.viewOutput'>log</a> for further details."
     ]
    },
    {
     "ename": "",
     "evalue": "",
     "output_type": "error",
     "traceback": [
      "\u001b[1;31mnotebook controller is DISPOSED. \n",
      "\u001b[1;31mView Jupyter <a href='command:jupyter.viewOutput'>log</a> for further details."
     ]
    },
    {
     "ename": "",
     "evalue": "",
     "output_type": "error",
     "traceback": [
      "\u001b[1;31mnotebook controller is DISPOSED. \n",
      "\u001b[1;31mView Jupyter <a href='command:jupyter.viewOutput'>log</a> for further details."
     ]
    },
    {
     "ename": "",
     "evalue": "",
     "output_type": "error",
     "traceback": [
      "\u001b[1;31mnotebook controller is DISPOSED. \n",
      "\u001b[1;31mView Jupyter <a href='command:jupyter.viewOutput'>log</a> for further details."
     ]
    },
    {
     "ename": "",
     "evalue": "",
     "output_type": "error",
     "traceback": [
      "\u001b[1;31mnotebook controller is DISPOSED. \n",
      "\u001b[1;31mView Jupyter <a href='command:jupyter.viewOutput'>log</a> for further details."
     ]
    },
    {
     "ename": "",
     "evalue": "",
     "output_type": "error",
     "traceback": [
      "\u001b[1;31mnotebook controller is DISPOSED. \n",
      "\u001b[1;31mView Jupyter <a href='command:jupyter.viewOutput'>log</a> for further details."
     ]
    },
    {
     "ename": "",
     "evalue": "",
     "output_type": "error",
     "traceback": [
      "\u001b[1;31mnotebook controller is DISPOSED. \n",
      "\u001b[1;31mView Jupyter <a href='command:jupyter.viewOutput'>log</a> for further details."
     ]
    },
    {
     "ename": "",
     "evalue": "",
     "output_type": "error",
     "traceback": [
      "\u001b[1;31mnotebook controller is DISPOSED. \n",
      "\u001b[1;31mView Jupyter <a href='command:jupyter.viewOutput'>log</a> for further details."
     ]
    },
    {
     "ename": "",
     "evalue": "",
     "output_type": "error",
     "traceback": [
      "\u001b[1;31mnotebook controller is DISPOSED. \n",
      "\u001b[1;31mView Jupyter <a href='command:jupyter.viewOutput'>log</a> for further details."
     ]
    },
    {
     "ename": "",
     "evalue": "",
     "output_type": "error",
     "traceback": [
      "\u001b[1;31mnotebook controller is DISPOSED. \n",
      "\u001b[1;31mView Jupyter <a href='command:jupyter.viewOutput'>log</a> for further details."
     ]
    }
   ],
   "source": [
    "samples = sample_games(model, 1, 100)"
   ]
  },
  {
   "cell_type": "code",
   "execution_count": null,
   "metadata": {
    "id": "T9XukQVE0IL0"
   },
   "outputs": [
    {
     "data": {
      "text/plain": [
       "{'_check_played_repeat_moves': 0.01,\n",
       " '_check_played_after_game_ends': 0.0,\n",
       " 'inappropriate_end_state': 0.0,\n",
       " '_check_if_illegal_moves': 0.01}"
      ]
     },
     "execution_count": 62,
     "metadata": {},
     "output_type": "execute_result"
    },
    {
     "ename": "",
     "evalue": "",
     "output_type": "error",
     "traceback": [
      "\u001b[1;31mnotebook controller is DISPOSED. \n",
      "\u001b[1;31mView Jupyter <a href='command:jupyter.viewOutput'>log</a> for further details."
     ]
    },
    {
     "ename": "",
     "evalue": "",
     "output_type": "error",
     "traceback": [
      "\u001b[1;31mnotebook controller is DISPOSED. \n",
      "\u001b[1;31mView Jupyter <a href='command:jupyter.viewOutput'>log</a> for further details."
     ]
    },
    {
     "ename": "",
     "evalue": "",
     "output_type": "error",
     "traceback": [
      "\u001b[1;31mnotebook controller is DISPOSED. \n",
      "\u001b[1;31mView Jupyter <a href='command:jupyter.viewOutput'>log</a> for further details."
     ]
    },
    {
     "ename": "",
     "evalue": "",
     "output_type": "error",
     "traceback": [
      "\u001b[1;31mnotebook controller is DISPOSED. \n",
      "\u001b[1;31mView Jupyter <a href='command:jupyter.viewOutput'>log</a> for further details."
     ]
    },
    {
     "ename": "",
     "evalue": "",
     "output_type": "error",
     "traceback": [
      "\u001b[1;31mnotebook controller is DISPOSED. \n",
      "\u001b[1;31mView Jupyter <a href='command:jupyter.viewOutput'>log</a> for further details."
     ]
    },
    {
     "ename": "",
     "evalue": "",
     "output_type": "error",
     "traceback": [
      "\u001b[1;31mnotebook controller is DISPOSED. \n",
      "\u001b[1;31mView Jupyter <a href='command:jupyter.viewOutput'>log</a> for further details."
     ]
    },
    {
     "ename": "",
     "evalue": "",
     "output_type": "error",
     "traceback": [
      "\u001b[1;31mnotebook controller is DISPOSED. \n",
      "\u001b[1;31mView Jupyter <a href='command:jupyter.viewOutput'>log</a> for further details."
     ]
    },
    {
     "ename": "",
     "evalue": "",
     "output_type": "error",
     "traceback": [
      "\u001b[1;31mnotebook controller is DISPOSED. \n",
      "\u001b[1;31mView Jupyter <a href='command:jupyter.viewOutput'>log</a> for further details."
     ]
    },
    {
     "ename": "",
     "evalue": "",
     "output_type": "error",
     "traceback": [
      "\u001b[1;31mnotebook controller is DISPOSED. \n",
      "\u001b[1;31mView Jupyter <a href='command:jupyter.viewOutput'>log</a> for further details."
     ]
    },
    {
     "ename": "",
     "evalue": "",
     "output_type": "error",
     "traceback": [
      "\u001b[1;31mnotebook controller is DISPOSED. \n",
      "\u001b[1;31mView Jupyter <a href='command:jupyter.viewOutput'>log</a> for further details."
     ]
    },
    {
     "ename": "",
     "evalue": "",
     "output_type": "error",
     "traceback": [
      "\u001b[1;31mnotebook controller is DISPOSED. \n",
      "\u001b[1;31mView Jupyter <a href='command:jupyter.viewOutput'>log</a> for further details."
     ]
    },
    {
     "ename": "",
     "evalue": "",
     "output_type": "error",
     "traceback": [
      "\u001b[1;31mnotebook controller is DISPOSED. \n",
      "\u001b[1;31mView Jupyter <a href='command:jupyter.viewOutput'>log</a> for further details."
     ]
    },
    {
     "ename": "",
     "evalue": "",
     "output_type": "error",
     "traceback": [
      "\u001b[1;31mnotebook controller is DISPOSED. \n",
      "\u001b[1;31mView Jupyter <a href='command:jupyter.viewOutput'>log</a> for further details."
     ]
    }
   ],
   "source": [
    "eval_model(samples)"
   ]
  },
  {
   "cell_type": "code",
   "execution_count": null,
   "metadata": {
    "id": "G-TT_WMvMsLw"
   },
   "outputs": [
    {
     "name": "stdout",
     "output_type": "stream",
     "text": [
      "[10, 7, 0, 3, 5, 8, 4, 1, 6, 2, 9]\n"
     ]
    },
    {
     "ename": "",
     "evalue": "",
     "output_type": "error",
     "traceback": [
      "\u001b[1;31mnotebook controller is DISPOSED. \n",
      "\u001b[1;31mView Jupyter <a href='command:jupyter.viewOutput'>log</a> for further details."
     ]
    },
    {
     "ename": "",
     "evalue": "",
     "output_type": "error",
     "traceback": [
      "\u001b[1;31mnotebook controller is DISPOSED. \n",
      "\u001b[1;31mView Jupyter <a href='command:jupyter.viewOutput'>log</a> for further details."
     ]
    },
    {
     "ename": "",
     "evalue": "",
     "output_type": "error",
     "traceback": [
      "\u001b[1;31mnotebook controller is DISPOSED. \n",
      "\u001b[1;31mView Jupyter <a href='command:jupyter.viewOutput'>log</a> for further details."
     ]
    },
    {
     "ename": "",
     "evalue": "",
     "output_type": "error",
     "traceback": [
      "\u001b[1;31mnotebook controller is DISPOSED. \n",
      "\u001b[1;31mView Jupyter <a href='command:jupyter.viewOutput'>log</a> for further details."
     ]
    },
    {
     "ename": "",
     "evalue": "",
     "output_type": "error",
     "traceback": [
      "\u001b[1;31mnotebook controller is DISPOSED. \n",
      "\u001b[1;31mView Jupyter <a href='command:jupyter.viewOutput'>log</a> for further details."
     ]
    },
    {
     "ename": "",
     "evalue": "",
     "output_type": "error",
     "traceback": [
      "\u001b[1;31mnotebook controller is DISPOSED. \n",
      "\u001b[1;31mView Jupyter <a href='command:jupyter.viewOutput'>log</a> for further details."
     ]
    },
    {
     "ename": "",
     "evalue": "",
     "output_type": "error",
     "traceback": [
      "\u001b[1;31mnotebook controller is DISPOSED. \n",
      "\u001b[1;31mView Jupyter <a href='command:jupyter.viewOutput'>log</a> for further details."
     ]
    },
    {
     "ename": "",
     "evalue": "",
     "output_type": "error",
     "traceback": [
      "\u001b[1;31mnotebook controller is DISPOSED. \n",
      "\u001b[1;31mView Jupyter <a href='command:jupyter.viewOutput'>log</a> for further details."
     ]
    },
    {
     "ename": "",
     "evalue": "",
     "output_type": "error",
     "traceback": [
      "\u001b[1;31mnotebook controller is DISPOSED. \n",
      "\u001b[1;31mView Jupyter <a href='command:jupyter.viewOutput'>log</a> for further details."
     ]
    },
    {
     "ename": "",
     "evalue": "",
     "output_type": "error",
     "traceback": [
      "\u001b[1;31mnotebook controller is DISPOSED. \n",
      "\u001b[1;31mView Jupyter <a href='command:jupyter.viewOutput'>log</a> for further details."
     ]
    },
    {
     "ename": "",
     "evalue": "",
     "output_type": "error",
     "traceback": [
      "\u001b[1;31mnotebook controller is DISPOSED. \n",
      "\u001b[1;31mView Jupyter <a href='command:jupyter.viewOutput'>log</a> for further details."
     ]
    },
    {
     "ename": "",
     "evalue": "",
     "output_type": "error",
     "traceback": [
      "\u001b[1;31mnotebook controller is DISPOSED. \n",
      "\u001b[1;31mView Jupyter <a href='command:jupyter.viewOutput'>log</a> for further details."
     ]
    },
    {
     "ename": "",
     "evalue": "",
     "output_type": "error",
     "traceback": [
      "\u001b[1;31mnotebook controller is DISPOSED. \n",
      "\u001b[1;31mView Jupyter <a href='command:jupyter.viewOutput'>log</a> for further details."
     ]
    }
   ],
   "source": [
    "sample = samples[1]\n",
    "print(sample)"
   ]
  },
  {
   "cell_type": "code",
   "execution_count": null,
   "metadata": {
    "id": "rP0nyV-liYvk"
   },
   "outputs": [
    {
     "name": "stdout",
     "output_type": "stream",
     "text": [
      "7\n",
      "0\n",
      "3\n",
      "5\n",
      "8\n",
      "4\n",
      "1\n",
      "6\n",
      "2\n"
     ]
    },
    {
     "data": {
      "text/plain": [
       "False"
      ]
     },
     "execution_count": 65,
     "metadata": {},
     "output_type": "execute_result"
    },
    {
     "ename": "",
     "evalue": "",
     "output_type": "error",
     "traceback": [
      "\u001b[1;31mnotebook controller is DISPOSED. \n",
      "\u001b[1;31mView Jupyter <a href='command:jupyter.viewOutput'>log</a> for further details."
     ]
    },
    {
     "ename": "",
     "evalue": "",
     "output_type": "error",
     "traceback": [
      "\u001b[1;31mnotebook controller is DISPOSED. \n",
      "\u001b[1;31mView Jupyter <a href='command:jupyter.viewOutput'>log</a> for further details."
     ]
    },
    {
     "ename": "",
     "evalue": "",
     "output_type": "error",
     "traceback": [
      "\u001b[1;31mnotebook controller is DISPOSED. \n",
      "\u001b[1;31mView Jupyter <a href='command:jupyter.viewOutput'>log</a> for further details."
     ]
    },
    {
     "ename": "",
     "evalue": "",
     "output_type": "error",
     "traceback": [
      "\u001b[1;31mnotebook controller is DISPOSED. \n",
      "\u001b[1;31mView Jupyter <a href='command:jupyter.viewOutput'>log</a> for further details."
     ]
    },
    {
     "ename": "",
     "evalue": "",
     "output_type": "error",
     "traceback": [
      "\u001b[1;31mnotebook controller is DISPOSED. \n",
      "\u001b[1;31mView Jupyter <a href='command:jupyter.viewOutput'>log</a> for further details."
     ]
    },
    {
     "ename": "",
     "evalue": "",
     "output_type": "error",
     "traceback": [
      "\u001b[1;31mnotebook controller is DISPOSED. \n",
      "\u001b[1;31mView Jupyter <a href='command:jupyter.viewOutput'>log</a> for further details."
     ]
    },
    {
     "ename": "",
     "evalue": "",
     "output_type": "error",
     "traceback": [
      "\u001b[1;31mnotebook controller is DISPOSED. \n",
      "\u001b[1;31mView Jupyter <a href='command:jupyter.viewOutput'>log</a> for further details."
     ]
    },
    {
     "ename": "",
     "evalue": "",
     "output_type": "error",
     "traceback": [
      "\u001b[1;31mnotebook controller is DISPOSED. \n",
      "\u001b[1;31mView Jupyter <a href='command:jupyter.viewOutput'>log</a> for further details."
     ]
    },
    {
     "ename": "",
     "evalue": "",
     "output_type": "error",
     "traceback": [
      "\u001b[1;31mnotebook controller is DISPOSED. \n",
      "\u001b[1;31mView Jupyter <a href='command:jupyter.viewOutput'>log</a> for further details."
     ]
    },
    {
     "ename": "",
     "evalue": "",
     "output_type": "error",
     "traceback": [
      "\u001b[1;31mnotebook controller is DISPOSED. \n",
      "\u001b[1;31mView Jupyter <a href='command:jupyter.viewOutput'>log</a> for further details."
     ]
    },
    {
     "ename": "",
     "evalue": "",
     "output_type": "error",
     "traceback": [
      "\u001b[1;31mnotebook controller is DISPOSED. \n",
      "\u001b[1;31mView Jupyter <a href='command:jupyter.viewOutput'>log</a> for further details."
     ]
    },
    {
     "ename": "",
     "evalue": "",
     "output_type": "error",
     "traceback": [
      "\u001b[1;31mnotebook controller is DISPOSED. \n",
      "\u001b[1;31mView Jupyter <a href='command:jupyter.viewOutput'>log</a> for further details."
     ]
    },
    {
     "ename": "",
     "evalue": "",
     "output_type": "error",
     "traceback": [
      "\u001b[1;31mnotebook controller is DISPOSED. \n",
      "\u001b[1;31mView Jupyter <a href='command:jupyter.viewOutput'>log</a> for further details."
     ]
    }
   ],
   "source": [
    "def check(game: list[int]) -> bool:\n",
    "    board = Board()\n",
    "    for move in game[1:-1]:\n",
    "        print(move)\n",
    "        if board.game_state == State.ONGOING:\n",
    "            try:\n",
    "                board.make_move(move)\n",
    "            except:\n",
    "                return True\n",
    "        elif move == 9:\n",
    "            pass\n",
    "        else:\n",
    "            return True\n",
    "    return False\n",
    "\n",
    "\n",
    "check(sample)"
   ]
  },
  {
   "cell_type": "code",
   "execution_count": null,
   "metadata": {
    "id": "SiWg1vL6aEDi"
   },
   "outputs": [
    {
     "ename": "NameError",
     "evalue": "name 'play_game' is not defined",
     "output_type": "error",
     "traceback": [
      "\u001b[0;31m---------------------------------------------------------------------------\u001b[0m",
      "\u001b[0;31mNameError\u001b[0m                                 Traceback (most recent call last)",
      "Cell \u001b[0;32mIn[67], line 1\u001b[0m\n\u001b[0;32m----> 1\u001b[0m \u001b[43mplay_game\u001b[49m(sample)\n\u001b[1;32m      2\u001b[0m \u001b[38;5;28mprint\u001b[39m(\u001b[38;5;124m\"\u001b[39m\u001b[38;5;130;01m\\n\u001b[39;00m\u001b[38;5;124mPLAY:\u001b[39m\u001b[38;5;124m\"\u001b[39m)\n\u001b[1;32m      3\u001b[0m board \u001b[38;5;241m=\u001b[39m Board()\n",
      "\u001b[0;31mNameError\u001b[0m: name 'play_game' is not defined"
     ]
    },
    {
     "ename": "",
     "evalue": "",
     "output_type": "error",
     "traceback": [
      "\u001b[1;31mnotebook controller is DISPOSED. \n",
      "\u001b[1;31mView Jupyter <a href='command:jupyter.viewOutput'>log</a> for further details."
     ]
    },
    {
     "ename": "",
     "evalue": "",
     "output_type": "error",
     "traceback": [
      "\u001b[1;31mnotebook controller is DISPOSED. \n",
      "\u001b[1;31mView Jupyter <a href='command:jupyter.viewOutput'>log</a> for further details."
     ]
    },
    {
     "ename": "",
     "evalue": "",
     "output_type": "error",
     "traceback": [
      "\u001b[1;31mnotebook controller is DISPOSED. \n",
      "\u001b[1;31mView Jupyter <a href='command:jupyter.viewOutput'>log</a> for further details."
     ]
    },
    {
     "ename": "",
     "evalue": "",
     "output_type": "error",
     "traceback": [
      "\u001b[1;31mnotebook controller is DISPOSED. \n",
      "\u001b[1;31mView Jupyter <a href='command:jupyter.viewOutput'>log</a> for further details."
     ]
    },
    {
     "ename": "",
     "evalue": "",
     "output_type": "error",
     "traceback": [
      "\u001b[1;31mnotebook controller is DISPOSED. \n",
      "\u001b[1;31mView Jupyter <a href='command:jupyter.viewOutput'>log</a> for further details."
     ]
    },
    {
     "ename": "",
     "evalue": "",
     "output_type": "error",
     "traceback": [
      "\u001b[1;31mnotebook controller is DISPOSED. \n",
      "\u001b[1;31mView Jupyter <a href='command:jupyter.viewOutput'>log</a> for further details."
     ]
    },
    {
     "ename": "",
     "evalue": "",
     "output_type": "error",
     "traceback": [
      "\u001b[1;31mnotebook controller is DISPOSED. \n",
      "\u001b[1;31mView Jupyter <a href='command:jupyter.viewOutput'>log</a> for further details."
     ]
    },
    {
     "ename": "",
     "evalue": "",
     "output_type": "error",
     "traceback": [
      "\u001b[1;31mnotebook controller is DISPOSED. \n",
      "\u001b[1;31mView Jupyter <a href='command:jupyter.viewOutput'>log</a> for further details."
     ]
    },
    {
     "ename": "",
     "evalue": "",
     "output_type": "error",
     "traceback": [
      "\u001b[1;31mnotebook controller is DISPOSED. \n",
      "\u001b[1;31mView Jupyter <a href='command:jupyter.viewOutput'>log</a> for further details."
     ]
    },
    {
     "ename": "",
     "evalue": "",
     "output_type": "error",
     "traceback": [
      "\u001b[1;31mnotebook controller is DISPOSED. \n",
      "\u001b[1;31mView Jupyter <a href='command:jupyter.viewOutput'>log</a> for further details."
     ]
    },
    {
     "ename": "",
     "evalue": "",
     "output_type": "error",
     "traceback": [
      "\u001b[1;31mnotebook controller is DISPOSED. \n",
      "\u001b[1;31mView Jupyter <a href='command:jupyter.viewOutput'>log</a> for further details."
     ]
    },
    {
     "ename": "",
     "evalue": "",
     "output_type": "error",
     "traceback": [
      "\u001b[1;31mnotebook controller is DISPOSED. \n",
      "\u001b[1;31mView Jupyter <a href='command:jupyter.viewOutput'>log</a> for further details."
     ]
    },
    {
     "ename": "",
     "evalue": "",
     "output_type": "error",
     "traceback": [
      "\u001b[1;31mnotebook controller is DISPOSED. \n",
      "\u001b[1;31mView Jupyter <a href='command:jupyter.viewOutput'>log</a> for further details."
     ]
    }
   ],
   "source": [
    "play_game(sample)\n",
    "print(\"\\nPLAY:\")\n",
    "board = Board()\n",
    "for move in sample:\n",
    "    if move not in [9, 10]:\n",
    "        board.make_move(move)\n",
    "        board.draw_board()\n",
    "        print(\".\")"
   ]
  },
  {
   "cell_type": "code",
   "execution_count": null,
   "metadata": {
    "id": "2Rhih5yKaYLr"
   },
   "outputs": [
    {
     "ename": "NameError",
     "evalue": "name 'evals' is not defined",
     "output_type": "error",
     "traceback": [
      "\u001b[0;31m---------------------------------------------------------------------------\u001b[0m",
      "\u001b[0;31mNameError\u001b[0m                                 Traceback (most recent call last)",
      "Cell \u001b[0;32mIn[68], line 1\u001b[0m\n\u001b[0;32m----> 1\u001b[0m \u001b[38;5;28mprint\u001b[39m(\u001b[43mevals\u001b[49m\u001b[38;5;241m.\u001b[39mmodel_vs_minimax(model, \u001b[38;5;28;01mTrue\u001b[39;00m), \u001b[38;5;124m\"\u001b[39m\u001b[38;5;130;01m\\n\u001b[39;00m\u001b[38;5;124m\"\u001b[39m)\n\u001b[1;32m      2\u001b[0m \u001b[38;5;28mprint\u001b[39m(evals\u001b[38;5;241m.\u001b[39m_check_minimax_win_rate(model, \u001b[38;5;241m100\u001b[39m))\n",
      "\u001b[0;31mNameError\u001b[0m: name 'evals' is not defined"
     ]
    },
    {
     "ename": "",
     "evalue": "",
     "output_type": "error",
     "traceback": [
      "\u001b[1;31mnotebook controller is DISPOSED. \n",
      "\u001b[1;31mView Jupyter <a href='command:jupyter.viewOutput'>log</a> for further details."
     ]
    },
    {
     "ename": "",
     "evalue": "",
     "output_type": "error",
     "traceback": [
      "\u001b[1;31mnotebook controller is DISPOSED. \n",
      "\u001b[1;31mView Jupyter <a href='command:jupyter.viewOutput'>log</a> for further details."
     ]
    },
    {
     "ename": "",
     "evalue": "",
     "output_type": "error",
     "traceback": [
      "\u001b[1;31mnotebook controller is DISPOSED. \n",
      "\u001b[1;31mView Jupyter <a href='command:jupyter.viewOutput'>log</a> for further details."
     ]
    },
    {
     "ename": "",
     "evalue": "",
     "output_type": "error",
     "traceback": [
      "\u001b[1;31mnotebook controller is DISPOSED. \n",
      "\u001b[1;31mView Jupyter <a href='command:jupyter.viewOutput'>log</a> for further details."
     ]
    },
    {
     "ename": "",
     "evalue": "",
     "output_type": "error",
     "traceback": [
      "\u001b[1;31mnotebook controller is DISPOSED. \n",
      "\u001b[1;31mView Jupyter <a href='command:jupyter.viewOutput'>log</a> for further details."
     ]
    },
    {
     "ename": "",
     "evalue": "",
     "output_type": "error",
     "traceback": [
      "\u001b[1;31mnotebook controller is DISPOSED. \n",
      "\u001b[1;31mView Jupyter <a href='command:jupyter.viewOutput'>log</a> for further details."
     ]
    },
    {
     "ename": "",
     "evalue": "",
     "output_type": "error",
     "traceback": [
      "\u001b[1;31mnotebook controller is DISPOSED. \n",
      "\u001b[1;31mView Jupyter <a href='command:jupyter.viewOutput'>log</a> for further details."
     ]
    },
    {
     "ename": "",
     "evalue": "",
     "output_type": "error",
     "traceback": [
      "\u001b[1;31mnotebook controller is DISPOSED. \n",
      "\u001b[1;31mView Jupyter <a href='command:jupyter.viewOutput'>log</a> for further details."
     ]
    },
    {
     "ename": "",
     "evalue": "",
     "output_type": "error",
     "traceback": [
      "\u001b[1;31mnotebook controller is DISPOSED. \n",
      "\u001b[1;31mView Jupyter <a href='command:jupyter.viewOutput'>log</a> for further details."
     ]
    },
    {
     "ename": "",
     "evalue": "",
     "output_type": "error",
     "traceback": [
      "\u001b[1;31mnotebook controller is DISPOSED. \n",
      "\u001b[1;31mView Jupyter <a href='command:jupyter.viewOutput'>log</a> for further details."
     ]
    },
    {
     "ename": "",
     "evalue": "",
     "output_type": "error",
     "traceback": [
      "\u001b[1;31mnotebook controller is DISPOSED. \n",
      "\u001b[1;31mView Jupyter <a href='command:jupyter.viewOutput'>log</a> for further details."
     ]
    },
    {
     "ename": "",
     "evalue": "",
     "output_type": "error",
     "traceback": [
      "\u001b[1;31mnotebook controller is DISPOSED. \n",
      "\u001b[1;31mView Jupyter <a href='command:jupyter.viewOutput'>log</a> for further details."
     ]
    },
    {
     "ename": "",
     "evalue": "",
     "output_type": "error",
     "traceback": [
      "\u001b[1;31mnotebook controller is DISPOSED. \n",
      "\u001b[1;31mView Jupyter <a href='command:jupyter.viewOutput'>log</a> for further details."
     ]
    }
   ],
   "source": [
    "print(evals.model_vs_minimax(model, True), \"\\n\")\n",
    "print(evals._check_minimax_win_rate(model, 100))"
   ]
  },
  {
   "cell_type": "code",
   "execution_count": null,
   "metadata": {
    "id": "IaOr1TOhkhyO"
   },
   "outputs": [
    {
     "ename": "",
     "evalue": "",
     "output_type": "error",
     "traceback": [
      "\u001b[1;31mnotebook controller is DISPOSED. \n",
      "\u001b[1;31mView Jupyter <a href='command:jupyter.viewOutput'>log</a> for further details."
     ]
    },
    {
     "ename": "",
     "evalue": "",
     "output_type": "error",
     "traceback": [
      "\u001b[1;31mnotebook controller is DISPOSED. \n",
      "\u001b[1;31mView Jupyter <a href='command:jupyter.viewOutput'>log</a> for further details."
     ]
    },
    {
     "ename": "",
     "evalue": "",
     "output_type": "error",
     "traceback": [
      "\u001b[1;31mnotebook controller is DISPOSED. \n",
      "\u001b[1;31mView Jupyter <a href='command:jupyter.viewOutput'>log</a> for further details."
     ]
    },
    {
     "ename": "",
     "evalue": "",
     "output_type": "error",
     "traceback": [
      "\u001b[1;31mnotebook controller is DISPOSED. \n",
      "\u001b[1;31mView Jupyter <a href='command:jupyter.viewOutput'>log</a> for further details."
     ]
    },
    {
     "ename": "",
     "evalue": "",
     "output_type": "error",
     "traceback": [
      "\u001b[1;31mnotebook controller is DISPOSED. \n",
      "\u001b[1;31mView Jupyter <a href='command:jupyter.viewOutput'>log</a> for further details."
     ]
    },
    {
     "ename": "",
     "evalue": "",
     "output_type": "error",
     "traceback": [
      "\u001b[1;31mnotebook controller is DISPOSED. \n",
      "\u001b[1;31mView Jupyter <a href='command:jupyter.viewOutput'>log</a> for further details."
     ]
    },
    {
     "ename": "",
     "evalue": "",
     "output_type": "error",
     "traceback": [
      "\u001b[1;31mnotebook controller is DISPOSED. \n",
      "\u001b[1;31mView Jupyter <a href='command:jupyter.viewOutput'>log</a> for further details."
     ]
    },
    {
     "ename": "",
     "evalue": "",
     "output_type": "error",
     "traceback": [
      "\u001b[1;31mnotebook controller is DISPOSED. \n",
      "\u001b[1;31mView Jupyter <a href='command:jupyter.viewOutput'>log</a> for further details."
     ]
    },
    {
     "ename": "",
     "evalue": "",
     "output_type": "error",
     "traceback": [
      "\u001b[1;31mnotebook controller is DISPOSED. \n",
      "\u001b[1;31mView Jupyter <a href='command:jupyter.viewOutput'>log</a> for further details."
     ]
    },
    {
     "ename": "",
     "evalue": "",
     "output_type": "error",
     "traceback": [
      "\u001b[1;31mnotebook controller is DISPOSED. \n",
      "\u001b[1;31mView Jupyter <a href='command:jupyter.viewOutput'>log</a> for further details."
     ]
    },
    {
     "ename": "",
     "evalue": "",
     "output_type": "error",
     "traceback": [
      "\u001b[1;31mnotebook controller is DISPOSED. \n",
      "\u001b[1;31mView Jupyter <a href='command:jupyter.viewOutput'>log</a> for further details."
     ]
    },
    {
     "ename": "",
     "evalue": "",
     "output_type": "error",
     "traceback": [
      "\u001b[1;31mnotebook controller is DISPOSED. \n",
      "\u001b[1;31mView Jupyter <a href='command:jupyter.viewOutput'>log</a> for further details."
     ]
    },
    {
     "ename": "",
     "evalue": "",
     "output_type": "error",
     "traceback": [
      "\u001b[1;31mnotebook controller is DISPOSED. \n",
      "\u001b[1;31mView Jupyter <a href='command:jupyter.viewOutput'>log</a> for further details."
     ]
    }
   ],
   "source": [
    "evals.get_error_rate(samples)"
   ]
  },
  {
   "cell_type": "code",
   "execution_count": null,
   "metadata": {},
   "outputs": [
    {
     "ename": "",
     "evalue": "",
     "output_type": "error",
     "traceback": [
      "\u001b[1;31mnotebook controller is DISPOSED. \n",
      "\u001b[1;31mView Jupyter <a href='command:jupyter.viewOutput'>log</a> for further details."
     ]
    },
    {
     "ename": "",
     "evalue": "",
     "output_type": "error",
     "traceback": [
      "\u001b[1;31mnotebook controller is DISPOSED. \n",
      "\u001b[1;31mView Jupyter <a href='command:jupyter.viewOutput'>log</a> for further details."
     ]
    },
    {
     "ename": "",
     "evalue": "",
     "output_type": "error",
     "traceback": [
      "\u001b[1;31mnotebook controller is DISPOSED. \n",
      "\u001b[1;31mView Jupyter <a href='command:jupyter.viewOutput'>log</a> for further details."
     ]
    },
    {
     "ename": "",
     "evalue": "",
     "output_type": "error",
     "traceback": [
      "\u001b[1;31mnotebook controller is DISPOSED. \n",
      "\u001b[1;31mView Jupyter <a href='command:jupyter.viewOutput'>log</a> for further details."
     ]
    },
    {
     "ename": "",
     "evalue": "",
     "output_type": "error",
     "traceback": [
      "\u001b[1;31mnotebook controller is DISPOSED. \n",
      "\u001b[1;31mView Jupyter <a href='command:jupyter.viewOutput'>log</a> for further details."
     ]
    },
    {
     "ename": "",
     "evalue": "",
     "output_type": "error",
     "traceback": [
      "\u001b[1;31mnotebook controller is DISPOSED. \n",
      "\u001b[1;31mView Jupyter <a href='command:jupyter.viewOutput'>log</a> for further details."
     ]
    },
    {
     "ename": "",
     "evalue": "",
     "output_type": "error",
     "traceback": [
      "\u001b[1;31mnotebook controller is DISPOSED. \n",
      "\u001b[1;31mView Jupyter <a href='command:jupyter.viewOutput'>log</a> for further details."
     ]
    }
   ],
   "source": []
  },
  {
   "cell_type": "code",
   "execution_count": null,
   "metadata": {},
   "outputs": [
    {
     "ename": "",
     "evalue": "",
     "output_type": "error",
     "traceback": [
      "\u001b[1;31mnotebook controller is DISPOSED. \n",
      "\u001b[1;31mView Jupyter <a href='command:jupyter.viewOutput'>log</a> for further details."
     ]
    },
    {
     "ename": "",
     "evalue": "",
     "output_type": "error",
     "traceback": [
      "\u001b[1;31mnotebook controller is DISPOSED. \n",
      "\u001b[1;31mView Jupyter <a href='command:jupyter.viewOutput'>log</a> for further details."
     ]
    },
    {
     "ename": "",
     "evalue": "",
     "output_type": "error",
     "traceback": [
      "\u001b[1;31mnotebook controller is DISPOSED. \n",
      "\u001b[1;31mView Jupyter <a href='command:jupyter.viewOutput'>log</a> for further details."
     ]
    },
    {
     "ename": "",
     "evalue": "",
     "output_type": "error",
     "traceback": [
      "\u001b[1;31mnotebook controller is DISPOSED. \n",
      "\u001b[1;31mView Jupyter <a href='command:jupyter.viewOutput'>log</a> for further details."
     ]
    },
    {
     "ename": "",
     "evalue": "",
     "output_type": "error",
     "traceback": [
      "\u001b[1;31mnotebook controller is DISPOSED. \n",
      "\u001b[1;31mView Jupyter <a href='command:jupyter.viewOutput'>log</a> for further details."
     ]
    },
    {
     "ename": "",
     "evalue": "",
     "output_type": "error",
     "traceback": [
      "\u001b[1;31mnotebook controller is DISPOSED. \n",
      "\u001b[1;31mView Jupyter <a href='command:jupyter.viewOutput'>log</a> for further details."
     ]
    },
    {
     "ename": "",
     "evalue": "",
     "output_type": "error",
     "traceback": [
      "\u001b[1;31mnotebook controller is DISPOSED. \n",
      "\u001b[1;31mView Jupyter <a href='command:jupyter.viewOutput'>log</a> for further details."
     ]
    }
   ],
   "source": []
  },
  {
   "cell_type": "code",
   "execution_count": null,
   "metadata": {},
   "outputs": [
    {
     "ename": "",
     "evalue": "",
     "output_type": "error",
     "traceback": [
      "\u001b[1;31mnotebook controller is DISPOSED. \n",
      "\u001b[1;31mView Jupyter <a href='command:jupyter.viewOutput'>log</a> for further details."
     ]
    },
    {
     "ename": "",
     "evalue": "",
     "output_type": "error",
     "traceback": [
      "\u001b[1;31mnotebook controller is DISPOSED. \n",
      "\u001b[1;31mView Jupyter <a href='command:jupyter.viewOutput'>log</a> for further details."
     ]
    },
    {
     "ename": "",
     "evalue": "",
     "output_type": "error",
     "traceback": [
      "\u001b[1;31mnotebook controller is DISPOSED. \n",
      "\u001b[1;31mView Jupyter <a href='command:jupyter.viewOutput'>log</a> for further details."
     ]
    },
    {
     "ename": "",
     "evalue": "",
     "output_type": "error",
     "traceback": [
      "\u001b[1;31mnotebook controller is DISPOSED. \n",
      "\u001b[1;31mView Jupyter <a href='command:jupyter.viewOutput'>log</a> for further details."
     ]
    },
    {
     "ename": "",
     "evalue": "",
     "output_type": "error",
     "traceback": [
      "\u001b[1;31mnotebook controller is DISPOSED. \n",
      "\u001b[1;31mView Jupyter <a href='command:jupyter.viewOutput'>log</a> for further details."
     ]
    },
    {
     "ename": "",
     "evalue": "",
     "output_type": "error",
     "traceback": [
      "\u001b[1;31mnotebook controller is DISPOSED. \n",
      "\u001b[1;31mView Jupyter <a href='command:jupyter.viewOutput'>log</a> for further details."
     ]
    },
    {
     "ename": "",
     "evalue": "",
     "output_type": "error",
     "traceback": [
      "\u001b[1;31mnotebook controller is DISPOSED. \n",
      "\u001b[1;31mView Jupyter <a href='command:jupyter.viewOutput'>log</a> for further details."
     ]
    }
   ],
   "source": []
  },
  {
   "cell_type": "code",
   "execution_count": null,
   "metadata": {},
   "outputs": [
    {
     "ename": "",
     "evalue": "",
     "output_type": "error",
     "traceback": [
      "\u001b[1;31mnotebook controller is DISPOSED. \n",
      "\u001b[1;31mView Jupyter <a href='command:jupyter.viewOutput'>log</a> for further details."
     ]
    },
    {
     "ename": "",
     "evalue": "",
     "output_type": "error",
     "traceback": [
      "\u001b[1;31mnotebook controller is DISPOSED. \n",
      "\u001b[1;31mView Jupyter <a href='command:jupyter.viewOutput'>log</a> for further details."
     ]
    },
    {
     "ename": "",
     "evalue": "",
     "output_type": "error",
     "traceback": [
      "\u001b[1;31mnotebook controller is DISPOSED. \n",
      "\u001b[1;31mView Jupyter <a href='command:jupyter.viewOutput'>log</a> for further details."
     ]
    },
    {
     "ename": "",
     "evalue": "",
     "output_type": "error",
     "traceback": [
      "\u001b[1;31mnotebook controller is DISPOSED. \n",
      "\u001b[1;31mView Jupyter <a href='command:jupyter.viewOutput'>log</a> for further details."
     ]
    },
    {
     "ename": "",
     "evalue": "",
     "output_type": "error",
     "traceback": [
      "\u001b[1;31mnotebook controller is DISPOSED. \n",
      "\u001b[1;31mView Jupyter <a href='command:jupyter.viewOutput'>log</a> for further details."
     ]
    },
    {
     "ename": "",
     "evalue": "",
     "output_type": "error",
     "traceback": [
      "\u001b[1;31mnotebook controller is DISPOSED. \n",
      "\u001b[1;31mView Jupyter <a href='command:jupyter.viewOutput'>log</a> for further details."
     ]
    }
   ],
   "source": []
  }
 ],
 "metadata": {
  "accelerator": "GPU",
  "colab": {
   "gpuType": "T4",
   "include_colab_link": true,
   "machine_shape": "hm",
   "provenance": []
  },
  "kernelspec": {
   "display_name": "Python (uv_venv2)",
   "language": "python",
   "name": "uv_venv2"
  },
  "language_info": {
   "codemirror_mode": {
    "name": "ipython",
    "version": 3
   },
   "file_extension": ".py",
   "mimetype": "text/x-python",
   "name": "python",
   "nbconvert_exporter": "python",
   "pygments_lexer": "ipython3",
   "version": "3.10.10"
  }
 },
 "nbformat": 4,
 "nbformat_minor": 0
}
