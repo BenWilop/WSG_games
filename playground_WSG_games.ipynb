{
  "cells": [
    {
      "cell_type": "markdown",
      "metadata": {
        "colab_type": "text",
        "id": "view-in-github"
      },
      "source": [
        "<a href=\"https://colab.research.google.com/github/BenWilop/WSG_games/blob/main/playground_WSG_games.ipynb\" target=\"_parent\"><img src=\"https://colab.research.google.com/assets/colab-badge.svg\" alt=\"Open In Colab\"/></a>"
      ]
    },
    {
      "cell_type": "markdown",
      "metadata": {},
      "source": [
        "# Imports"
      ]
    },
    {
      "cell_type": "code",
      "execution_count": null,
      "metadata": {
        "id": "V887fWJPBYKB"
      },
      "outputs": [
        {
          "ename": "",
          "evalue": "",
          "output_type": "error",
          "traceback": [
            "\u001b[1;31mThe kernel failed to start as the Python Environment 'Python 3.6.8' is no longer available. Consider selecting another kernel or refreshing the list of Python Environments."
          ]
        }
      ],
      "source": [
        "import getpass\n",
        "import dotenv\n",
        "import wandb\n",
        "import os\n",
        "dotenv.load_dotenv(os.path.join('/homes/55/bwilop/wsg/private/', 'vscode-ssh.env'))\n",
        "api_key = os.getenv('WANDB_API_KEY')\n",
        "wandb.login(key=api_key)\n",
        "\n",
        "data_folder = '/homes/55/bwilop/wsg/data/'\n",
        "experiment_folder = '/homes/55/bwilop/wsg/experiments/'"
      ]
    },
    {
      "cell_type": "code",
      "execution_count": null,
      "metadata": {
        "colab": {
          "base_uri": "https://localhost:8080/"
        },
        "id": "uV6cMqvSvaBY",
        "outputId": "ec9e34fb-4176-487f-e718-9b1a44238dfa"
      },
      "outputs": [],
      "source": [
        "%load_ext autoreload\n",
        "%autoreload 2\n",
        "import torch as t\n",
        "import torch.nn as nn\n",
        "from torch.nn.functional import cross_entropy, softmax\n",
        "from torch import Tensor\n",
        "from jaxtyping import Float\n",
        "from tqdm import tqdm\n",
        "from transformer_lens import HookedTransformerConfig, HookedTransformer\n",
        "import json\n",
        "from typing import Callable, Any\n",
        "import einops\n",
        "import time\n",
        "import uuid\n",
        "import glob\n",
        "from copy import deepcopy\n",
        "import matplotlib.pyplot as plt\n",
        "from datetime import datetime\n",
        "import torch.nn as nn\n",
        "\n",
        "from wsg_games.tictactoe.evals import *\n",
        "from wsg_games.tictactoe.data import *\n",
        "from wsg_games.tictactoe.game import *\n",
        "\n",
        "from wsg_games.tictactoe.analysis.analyse_data import *\n",
        "from wsg_games.tictactoe.analysis.visualize_game import *\n",
        "\n",
        "from wsg_games.tictactoe.train.create_models import *\n",
        "from wsg_games.tictactoe.train.save_load_models import *\n",
        "from wsg_games.tictactoe.train.train import *\n",
        "from wsg_games.tictactoe.train.finetune import *\n",
        "from wsg_games.tictactoe.train.pretrain import *\n",
        "\n",
        "device = t.device(\"cuda\" if t.cuda.is_available() else \"cpu\")\n",
        "print(device)"
      ]
    },
    {
      "cell_type": "markdown",
      "metadata": {
        "id": "x-WZi6lEq1sA"
      },
      "source": [
        "# Data"
      ]
    },
    {
      "cell_type": "code",
      "execution_count": null,
      "metadata": {
        "colab": {
          "base_uri": "https://localhost:8080/",
          "height": 400
        },
        "id": "ja80xiGclrkX",
        "outputId": "ee10de15-5c0a-4f8c-c559-c5005031824e"
      },
      "outputs": [],
      "source": [
        "# tictactoe_data = cache_tictactoe_data(data_folder + 'tictactoe_data.pkl')\n",
        "tictactoe_data = cache_tictactoe_data_random(data_folder + 'tictactoe_data_random_STRONG_RULE_REVERSE_RULE.pkl')\n",
        "# tictactoe_data = cache_tictactoe_data_random(data_folder + 'tictactoe_data_random_STRONG_RULE_NO_DIAGONAL.pkl')\n",
        "print_data_statistics(tictactoe_data)"
      ]
    },
    {
      "cell_type": "code",
      "execution_count": null,
      "metadata": {
        "id": "yoCX7cACxBLY"
      },
      "outputs": [],
      "source": [
        "# tictactoe_train_data, weak_finetune_data, tictactoe_val_data, tictactoe_test_data = train_test_split_tictactoe(tictactoe_data, 0.5, 0.25, 0.05, 0.20, device, 1234)\n",
        "tictactoe_train_data, tictactoe_weak_finetune_data, tictactoe_val_data, tictactoe_test_data = train_test_split_tictactoe_first_two_moves_no_overlap(tictactoe_data, 42, 15, 5, 10, device, 1234)\n",
        "\n",
        "print(\"Shape Train: \", tictactoe_train_data.games_data.shape)\n",
        "print(\"Shape Weak Finetune: \", tictactoe_weak_finetune_data.games_data.shape)\n",
        "print(\"Shape Validation: \", tictactoe_val_data.games_data.shape)\n",
        "print(\"Shape Test:  \", tictactoe_test_data.games_data.shape)"
      ]
    },
    {
      "cell_type": "code",
      "execution_count": null,
      "metadata": {
        "id": "z2UN1wnAMnEr"
      },
      "outputs": [],
      "source": [
        "# leakage_pct = calculate_leakage_percentage(tictactoe_train_data, tictactoe_test_data)\n",
        "# print(f\"Leakage Percentage: {leakage_pct:.2f}%\")"
      ]
    },
    {
      "cell_type": "code",
      "execution_count": null,
      "metadata": {
        "id": "m7t-JI6-Oz8L"
      },
      "outputs": [],
      "source": [
        "# plot_train_test_prefix_histograms(tictactoe_train_data, tictactoe_test_data)"
      ]
    },
    {
      "cell_type": "code",
      "execution_count": null,
      "metadata": {
        "id": "8kIUD9u4_QGk"
      },
      "outputs": [],
      "source": [
        "tictactoe_train_data = create_hard_label_tictactoe_data(tictactoe_train_data, num_samples=1)\n",
        "tictactoe_weak_finetune_data = create_hard_label_tictactoe_data(tictactoe_weak_finetune_data, num_samples=1)\n",
        "tictactoe_val_data = create_hard_label_tictactoe_data(tictactoe_val_data, num_samples=1)"
      ]
    },
    {
      "cell_type": "code",
      "execution_count": null,
      "metadata": {
        "id": "hR8xt9Kx4IzL"
      },
      "outputs": [],
      "source": [
        "print(\"Shape Train: \", tictactoe_train_data.games_data.shape)\n",
        "tictactoe_train_data.weak_goals_labels[0][:3]"
      ]
    },
    {
      "cell_type": "code",
      "execution_count": null,
      "metadata": {},
      "outputs": [],
      "source": [
        "print(\"Shape Weak Finetune: \", tictactoe_weak_finetune_data.games_data.shape)\n",
        "tictactoe_weak_finetune_data.weak_goals_labels[0][:3]"
      ]
    },
    {
      "cell_type": "code",
      "execution_count": null,
      "metadata": {
        "id": "CJSO2B_oAXDR"
      },
      "outputs": [],
      "source": [
        "print(\"Shape Val: \", tictactoe_val_data.games_data.shape)\n",
        "tictactoe_val_data.weak_goals_labels[0][:3]"
      ]
    },
    {
      "cell_type": "code",
      "execution_count": null,
      "metadata": {
        "id": "kY0HWIu8PH1a"
      },
      "outputs": [],
      "source": [
        "print(\"Shape Test:  \", tictactoe_test_data.games_data.shape)\n",
        "tictactoe_test_data.weak_goals_labels[0][:3]"
      ]
    },
    {
      "cell_type": "markdown",
      "metadata": {
        "id": "JuRcWagTqzSr"
      },
      "source": [
        "# Train model"
      ]
    },
    {
      "cell_type": "code",
      "execution_count": null,
      "metadata": {
        "id": "RLl-6o7fjzfS"
      },
      "outputs": [],
      "source": [
        "# raise Exception()"
      ]
    },
    {
      "cell_type": "markdown",
      "metadata": {
        "id": "D_6vzd1Lrwt5"
      },
      "source": [
        "### Parameters"
      ]
    },
    {
      "cell_type": "code",
      "execution_count": null,
      "metadata": {
        "id": "bjketwo1ipxE"
      },
      "outputs": [],
      "source": [
        "training_cfg = get_training_cfg()\n",
        "model_sizes = get_model_sizes()\n",
        "print_model_ratios(model_sizes, get_model_config)"
      ]
    },
    {
      "cell_type": "markdown",
      "metadata": {
        "id": "r-I_WW83ry7U"
      },
      "source": [
        "### wandb"
      ]
    },
    {
      "cell_type": "markdown",
      "metadata": {
        "id": "HZblgAQar1jd"
      },
      "source": [
        "### Train loop"
      ]
    },
    {
      "cell_type": "code",
      "execution_count": null,
      "metadata": {
        "id": "GwzgRcIE9JNs"
      },
      "outputs": [],
      "source": [
        "from wsg_games.tictactoe.evals import *\n",
        "from wsg_games.tictactoe.data import *\n",
        "from wsg_games.tictactoe.game import *\n",
        "\n",
        "from wsg_games.tictactoe.analysis.analyse_data import *\n",
        "from wsg_games.tictactoe.analysis.visualize_game import *\n",
        "\n",
        "from wsg_games.tictactoe.train.create_models import *\n",
        "from wsg_games.tictactoe.train.save_load_models import *\n",
        "from wsg_games.tictactoe.train.train import *\n",
        "from wsg_games.tictactoe.train.finetune import *\n",
        "from wsg_games.tictactoe.train.pretrain import *"
      ]
    },
    {
      "cell_type": "code",
      "execution_count": null,
      "metadata": {
        "id": "szlDLZgl1ist"
      },
      "outputs": [],
      "source": [
        "# project_name = \"tictactoe_playground\"\n",
        "# model_size = \"large\"\n",
        "# model_cfg = get_model_config(model_size)\n",
        "# wandb.finish()\n",
        "# model, _, _ = run_full_training(project_name, model_size, Goal.STRONG_GOAL, tictactoe_train_data, tictactoe_val_data, tictactoe_test_data, training_cfg, model_cfg)"
      ]
    },
    {
      "cell_type": "markdown",
      "metadata": {
        "id": "TtXdvXujjy_Z"
      },
      "source": [
        "### Experiments"
      ]
    },
    {
      "cell_type": "code",
      "execution_count": null,
      "metadata": {
        "id": "dp_ENvvSiLF3"
      },
      "outputs": [],
      "source": [
        "project_name = \"tictactoe_pretrained_reverse_rule_no_overlap_split_start_third_200k\"\n",
        "# project_name = \"tictactoe_pretrained_forbidden_diagonals_no_overlap_split_start_third_200k\"\n",
        "# pretrain_models(experiment_folder, project_name, tictactoe_train_data, tictactoe_val_data, tictactoe_test_data, training_cfg, get_model_config)"
      ]
    },
    {
      "cell_type": "code",
      "execution_count": null,
      "metadata": {
        "id": "-UammRfNkGPt"
      },
      "outputs": [],
      "source": [
        "# plot_loss_pretrain_models(experiment_folder, project_name, tictactoe_test_data)"
      ]
    },
    {
      "cell_type": "code",
      "execution_count": null,
      "metadata": {
        "id": "fER3-VgSv1nU"
      },
      "outputs": [],
      "source": [
        "# project_name = \"tictactoe_pretrained_reverse_rule_no_overlap_split_start_third_200k\"\n",
        "# weak_model_weak_goals = load_model(project_name, \"mini\", Goal.WEAK_GOAL, experiment_folder)\n",
        "# strong_model_weak_goals = load_model(project_name, \"medium\", Goal.WEAK_GOAL, experiment_folder)\n",
        "# strong_model_strong_goals = load_model(project_name, \"medium\", Goal.STRONG_GOAL, experiment_folder)\n",
        "# quick_evaluation(\"Weak model weak goal\", weak_model_weak_goals, tictactoe_test_data)\n",
        "# quick_evaluation(\"Strong model weak goal\", strong_model_weak_goals, tictactoe_test_data)\n",
        "# quick_evaluation(\"Strong model strong goal\", strong_model_strong_goals, tictactoe_test_data)\n",
        "# strong_model_finetuned = deepcopy(strong_model_strong_goals)\n",
        "\n",
        "# project_name = \"tictactoe_playground\"\n",
        "# timestamp = datetime.now().strftime(\"%Y-%m-%d-%H-%M\")\n",
        "# experiment_name = f\"experiment_finetuning_{timestamp}\"\n",
        "# # Use validation data as weak_train_data\n",
        "# finetune_strong_with_weak(project_name, experiment_name, weak_model_weak_goals, strong_model_finetuned, tictactoe_weak_finetune_data, tictactoe_test_data, adapted_training_cfg)"
      ]
    },
    {
      "cell_type": "code",
      "execution_count": null,
      "metadata": {},
      "outputs": [],
      "source": [
        "pretrained_project_name = \"tictactoe_pretrained_reverse_rule_no_overlap_split_start_third_200k\" \n",
        "finetuned_project_name = \"finetune_sweep_test\"\n",
        "# finetune_sweep(pretrained_project_name, finetuned_project_name, experiment_folder, tictactoe_weak_finetune_data, tictactoe_val_data, tictactoe_test_data, training_cfg)"
      ]
    },
    {
      "cell_type": "code",
      "execution_count": null,
      "metadata": {},
      "outputs": [],
      "source": [
        "import os\n",
        "import glob\n",
        "import torch as t\n",
        "\n",
        "# Helper: compute loss on test data\n",
        "def get_weak_loss(model, test_data: TicTacToeData, n_samples: int = 20000) -> float:\n",
        "    model.eval()\n",
        "    with t.no_grad():\n",
        "        sample = random_sample_tictactoe_data(test_data, n_samples)\n",
        "        logits = model(sample.games_data)\n",
        "        loss = cross_entropy(rearrange(logits), rearrange(sample.weak_goals_labels)).item()\n",
        "    return loss\n",
        "\n",
        "\n",
        "def visualize_finetuning_results(pretrained_project_name: str, finetuned_project_name: str, \n",
        "                                 experiment_folder: str, test_data: TicTacToeData, \n",
        "                                 model_sizes: list):\n",
        "    \"\"\"\n",
        "    For each weak_size and for every strong_size larger than weak_size,\n",
        "    compute the recovered percentage:\n",
        "    \n",
        "        recovered % = (L_weak - L_model) / (L_weak - L_strong_baseline) * 100\n",
        "    \n",
        "    where:\n",
        "      - L_weak: loss of the weak model (evaluated on weak_goals)\n",
        "      - L_strong_baseline: loss of the pretrained strong model on the weak goal\n",
        "      - L_model: loss of either the pretrained strong model (for the left plot) or the finetuned model (for the right plot)\n",
        "      \n",
        "    The x-axis is the number of parameters in the strong model (log-scaled).\n",
        "    One line is drawn per weak model size, connecting datapoints for each strong size.\n",
        "    Two subplots are created: left for pretrained models and right for finetuned models.\n",
        "    \"\"\"\n",
        "    data_pretrained = {}  # { weak_size: list of (num_params, recovered %) }\n",
        "    data_finetuned = {}\n",
        "    \n",
        "    for weak_size in model_sizes:\n",
        "        weak_model = load_model(pretrained_project_name, weak_size, \n",
        "                                Goal.WEAK_GOAL, experiment_folder)\n",
        "        if not weak_model:\n",
        "            print(f\"Weak model of size {weak_size} not found, skipping.\")\n",
        "            continue\n",
        "        \n",
        "        # Get loss of weak model (using weak labels)\n",
        "        L_weak = get_weak_loss(weak_model, test_data)\n",
        "        data_pretrained[weak_size] = []\n",
        "        data_finetuned[weak_size] = []\n",
        "        \n",
        "        for strong_size in model_sizes:\n",
        "            if model_sizes.index(strong_size) <= model_sizes.index(weak_size):\n",
        "                continue\n",
        "            \n",
        "            strong_model_weak_goal = load_model(pretrained_project_name, strong_size, \n",
        "                                                 Goal.WEAK_GOAL, experiment_folder)\n",
        "            strong_model_strong_goal = load_model(pretrained_project_name, strong_size, \n",
        "                                                 Goal.STRONG_GOAL, experiment_folder)\n",
        "            if not strong_model_weak_goal or not strong_model_strong_goal:\n",
        "                print(f\"Strong models of size {strong_size} not found, skipping.\")\n",
        "                continue\n",
        "            \n",
        "            num_params = count_parameters(strong_model_weak_goal)\n",
        "            L_strong_baseline = get_weak_loss(strong_model_weak_goal, test_data)\n",
        "            L_strong_pretrained_on_weak_goal = get_weak_loss(strong_model_strong_goal, test_data)\n",
        "            \n",
        "            # Left plot\n",
        "            recovered_pretrained = (L_weak - L_strong_pretrained_on_weak_goal) / (L_weak - L_strong_baseline) * 100 \n",
        "\n",
        "            # Right plot\n",
        "            finetuned_model = load_finetuned_model(finetuned_project_name, weak_size, strong_size, experiment_folder)\n",
        "            if not finetuned_model:\n",
        "                print(f\"Finetuned model of size {strong_size} not found, skipping.\")\n",
        "                continue\n",
        "\n",
        "            L_finetuned = get_weak_loss(finetuned_model, test_data)\n",
        "            recovered_finetuned = (L_weak - L_finetuned) / (L_weak - L_strong_baseline) * 100\n",
        "            \n",
        "            data_pretrained[weak_size].append((num_params, recovered_pretrained))\n",
        "            data_finetuned[weak_size].append((num_params, recovered_finetuned))\n",
        "    \n",
        "    # Create two subplots: left for pretrained, right for finetuned.\n",
        "    fig, axes = plt.subplots(1, 2, figsize=(14, 6))\n",
        "    \n",
        "    # Plot pretrained data.\n",
        "    for weak_size, points in data_pretrained.items():\n",
        "        if points:\n",
        "            points.sort(key=lambda x: x[0])\n",
        "            x_vals = [p[0] for p in points]\n",
        "            y_vals = [p[1] for p in points]\n",
        "            axes[0].plot(x_vals, y_vals, marker='o', label=f\"Weak {weak_size}\")\n",
        "    axes[0].set_xscale('log')\n",
        "    axes[0].set_xlabel(\"Number of Parameters (log scale)\")\n",
        "    axes[0].set_ylabel(\"Recovered %\")\n",
        "    axes[0].set_title(\"Pretrained Models\")\n",
        "    axes[0].legend()\n",
        "    axes[0].grid(True, which=\"both\", ls=\"--\")\n",
        "    \n",
        "    # Plot finetuned data.\n",
        "    for weak_size, points in data_finetuned.items():\n",
        "        if points:\n",
        "            points.sort(key=lambda x: x[0])\n",
        "            x_vals = [p[0] for p in points]\n",
        "            y_vals = [p[1] for p in points]\n",
        "            axes[1].plot(x_vals, y_vals, marker='o', label=f\"Weak {weak_size}\")\n",
        "    axes[1].set_xscale('log')\n",
        "    axes[1].set_xlabel(\"Number of Parameters (log scale)\")\n",
        "    axes[1].set_ylabel(\"Recovered %\")\n",
        "    axes[1].set_title(\"Finetuned Models\")\n",
        "    axes[1].legend()\n",
        "    axes[1].grid(True, which=\"both\", ls=\"--\")\n",
        "    \n",
        "    plt.tight_layout()\n",
        "    plt.show()\n",
        "\n",
        "visualize_finetuning_results(pretrained_project_name, finetuned_project_name, \n",
        "                                 experiment_folder, tictactoe_test_data, \n",
        "                                 [\"nano\", \"micro\", \"mini\", \"small\", \"medium\", \"large\", \"huge\"])"
      ]
    },
    {
      "cell_type": "code",
      "execution_count": null,
      "metadata": {},
      "outputs": [],
      "source": [
        "raise Exception()"
      ]
    },
    {
      "cell_type": "markdown",
      "metadata": {
        "id": "3TAZfSRM_vTL"
      },
      "source": [
        "# Inspect model"
      ]
    },
    {
      "cell_type": "code",
      "execution_count": null,
      "metadata": {
        "id": "FseGnVqe_00c"
      },
      "outputs": [],
      "source": [
        "project_name = \"tictactoe_pretrained_reverse_rule_no_overlap_split_start_third_200k\"\n",
        "model = load_model(project_name, \"large\", Goal.STRONG_GOAL, experiment_folder)\n",
        "quick_evaluation(\"model weak goal\", model, tictactoe_test_data)"
      ]
    },
    {
      "cell_type": "code",
      "execution_count": null,
      "metadata": {
        "id": "4pMmX7Y7_zLG"
      },
      "outputs": [],
      "source": [
        "W = model.embed.W_E\n",
        "W_normed = W / W.norm(dim=1, keepdim=True)\n",
        "\n",
        "# Compute cosine similarity matrix and move to CPU as a NumPy array\n",
        "cosine_sim = (W_normed @ W_normed.T).detach().cpu().numpy()\n",
        "\n",
        "im = plt.imshow(cosine_sim)\n",
        "plt.title(\"Cosine similarities of each pair of 2D feature embeddings\")\n",
        "plt.gcf().set_size_inches(6, 6)\n",
        "\n",
        "# Add a colorbar with a label\n",
        "cbar = plt.colorbar(im)\n",
        "cbar.set_label(\"Cosine similarity value\")\n",
        "\n",
        "plt.show()"
      ]
    },
    {
      "cell_type": "code",
      "execution_count": null,
      "metadata": {
        "id": "v6yflRSMxJKa"
      },
      "outputs": [],
      "source": [
        "W.shape"
      ]
    },
    {
      "cell_type": "code",
      "execution_count": null,
      "metadata": {
        "id": "1zsCpa7EBMaw"
      },
      "outputs": [],
      "source": [
        "train_sample = random_sample_tictactoe_data(tictactoe_train_data, 1)\n",
        "train_logits = model(train_sample.games_data)\n",
        "soft_labels = softmax(train_logits, dim=-1)\n",
        "hard_labels = F.one_hot(train_sample.weak_goals_labels.argmax(dim=-1), num_classes=train_logits.shape[-1]).float()\n",
        "\n",
        "print(train_sample.weak_goals_labels.shape)\n",
        "print(train_logits.shape)\n",
        "print(soft_labels.shape)\n",
        "print(hard_labels.shape)"
      ]
    },
    {
      "cell_type": "code",
      "execution_count": null,
      "metadata": {
        "id": "azOH0vhNCKdg"
      },
      "outputs": [],
      "source": [
        "train_sample.weak_goals_labels"
      ]
    },
    {
      "cell_type": "code",
      "execution_count": null,
      "metadata": {
        "id": "F-WQZHo_CdqW"
      },
      "outputs": [],
      "source": [
        "soft_labels.clip(0.01)"
      ]
    },
    {
      "cell_type": "code",
      "execution_count": null,
      "metadata": {
        "id": "jjxvnDxbCkoo"
      },
      "outputs": [],
      "source": [
        "hard_labels"
      ]
    },
    {
      "cell_type": "code",
      "execution_count": null,
      "metadata": {
        "id": "ZCAlprThCL57"
      },
      "outputs": [],
      "source": [
        "board = Board()\n",
        "print(get_best_moves(board, Goal.WEAK_GOAL))\n",
        "board.make_move(1)\n",
        "print(get_best_moves(board, Goal.WEAK_GOAL))"
      ]
    },
    {
      "cell_type": "code",
      "execution_count": null,
      "metadata": {
        "id": "6mlqaz9FI6-3"
      },
      "outputs": [],
      "source": [
        "tictactoe_test_data.games_data[600]"
      ]
    },
    {
      "cell_type": "code",
      "execution_count": null,
      "metadata": {
        "id": "FA4fanUYnFCd"
      },
      "outputs": [],
      "source": [
        "tictactoe_test_data.weak_goals_labels[2]"
      ]
    },
    {
      "cell_type": "code",
      "execution_count": null,
      "metadata": {
        "id": "rDmIrkjVnGAI"
      },
      "outputs": [],
      "source": [
        "tictactoe_test_data.games_data[25][:]"
      ]
    },
    {
      "cell_type": "code",
      "execution_count": null,
      "metadata": {
        "id": "fvZuT97em_5p"
      },
      "outputs": [],
      "source": [
        "softmax(model(tictactoe_test_data.games_data[25][:]), dim=-1).clip(0.01)"
      ]
    },
    {
      "cell_type": "code",
      "execution_count": null,
      "metadata": {
        "id": "p0qQ8bpfPAwX"
      },
      "outputs": [],
      "source": [
        "skip_to = 0\n",
        "train_dataset = TensorDataset(\n",
        "    tictactoe_train_data.games_data,\n",
        "    tictactoe_train_data.random_move_labels,\n",
        "    tictactoe_train_data.weak_goals_labels,\n",
        "    tictactoe_train_data.strong_goals_labels,\n",
        ")\n",
        "train_loader = DataLoader(train_dataset, batch_size=1, shuffle=False)\n",
        "i = 0\n",
        "for games, random_labels, weak_labels, strong_labels in train_loader:\n",
        "    logits = model(games)\n",
        "    probs = torch.softmax(logits, dim=-1)\n",
        "    illegal_mask = (random_labels == 0).float()\n",
        "    illegal_move_probs = (probs * illegal_mask).sum(dim=-1)\n",
        "    avg_illegal = illegal_move_probs.mean().item()\n",
        "\n",
        "    print(i, avg_illegal)\n",
        "\n",
        "    i += 1\n",
        "    if i > 100:\n",
        "        break"
      ]
    },
    {
      "cell_type": "code",
      "execution_count": null,
      "metadata": {
        "id": "HmpNzFgly2a2"
      },
      "outputs": [],
      "source": [
        "visualize_game(tictactoe_test_data, game_id=0, model=model)"
      ]
    },
    {
      "cell_type": "markdown",
      "metadata": {
        "id": "2OeILpjRqric"
      },
      "source": [
        "# Sample games"
      ]
    },
    {
      "cell_type": "code",
      "execution_count": null,
      "metadata": {
        "id": "oQb9vhch0H4I"
      },
      "outputs": [],
      "source": [
        "samples = sample_games(model, 1, 100)"
      ]
    },
    {
      "cell_type": "code",
      "execution_count": null,
      "metadata": {
        "id": "T9XukQVE0IL0"
      },
      "outputs": [],
      "source": [
        "evals.eval_model(samples)"
      ]
    },
    {
      "cell_type": "code",
      "execution_count": null,
      "metadata": {
        "id": "G-TT_WMvMsLw"
      },
      "outputs": [],
      "source": [
        "sample = samples[1]\n",
        "print(sample)"
      ]
    },
    {
      "cell_type": "code",
      "execution_count": null,
      "metadata": {
        "id": "rP0nyV-liYvk"
      },
      "outputs": [],
      "source": [
        "from alphatoe.game import Board, State\n",
        "\n",
        "def check(game: list[int]) -> bool:\n",
        "    board = Board()\n",
        "    for move in game[1:-1]:\n",
        "        print(move)\n",
        "        if board.game_state == State.ONGOING:\n",
        "            try:\n",
        "                board.make_move(move)\n",
        "            except:\n",
        "                return True\n",
        "        elif move == 9:\n",
        "            pass\n",
        "        else:\n",
        "            return True\n",
        "    return False\n",
        "\n",
        "check(sample)"
      ]
    },
    {
      "cell_type": "code",
      "execution_count": null,
      "metadata": {
        "id": "SiWg1vL6aEDi"
      },
      "outputs": [],
      "source": [
        "game.play_game(sample)\n",
        "print(\"\\nPLAY:\")\n",
        "board = game.Board()\n",
        "for move in sample:\n",
        "  if move not in [9, 10]:\n",
        "    board.make_move(move)\n",
        "    board.draw_board()\n",
        "    print(\".\")"
      ]
    },
    {
      "cell_type": "code",
      "execution_count": null,
      "metadata": {
        "id": "2Rhih5yKaYLr"
      },
      "outputs": [],
      "source": [
        "print(evals.model_vs_minimax(model, True), \"\\n\")\n",
        "print(evals._check_minimax_win_rate(model, 100))"
      ]
    },
    {
      "cell_type": "code",
      "execution_count": null,
      "metadata": {
        "id": "IaOr1TOhkhyO"
      },
      "outputs": [],
      "source": [
        "evals.get_error_rate(samples)"
      ]
    },
    {
      "cell_type": "code",
      "execution_count": null,
      "metadata": {
        "id": "Ii5yV15Lbym4"
      },
      "outputs": [],
      "source": []
    }
  ],
  "metadata": {
    "accelerator": "GPU",
    "colab": {
      "gpuType": "T4",
      "include_colab_link": true,
      "machine_shape": "hm",
      "provenance": []
    },
    "kernelspec": {
      "display_name": ".venv",
      "language": "python",
      "name": "python3"
    },
    "language_info": {
      "codemirror_mode": {
        "name": "ipython",
        "version": 3
      },
      "file_extension": ".py",
      "mimetype": "text/x-python",
      "name": "python",
      "nbconvert_exporter": "python",
      "pygments_lexer": "ipython3",
      "version": "3.11.2"
    }
  },
  "nbformat": 4,
  "nbformat_minor": 0
}
