{
  "cells": [
    {
      "cell_type": "markdown",
      "metadata": {
        "colab_type": "text",
        "id": "view-in-github"
      },
      "source": [
        "<a href=\"https://colab.research.google.com/github/BenWilop/WSG_games/blob/main/playground_WSG_games.ipynb\" target=\"_parent\"><img src=\"https://colab.research.google.com/assets/colab-badge.svg\" alt=\"Open In Colab\"/></a>"
      ]
    },
    {
      "cell_type": "markdown",
      "metadata": {},
      "source": [
        "# Imports"
      ]
    },
    {
      "cell_type": "code",
      "execution_count": 1,
      "metadata": {
        "id": "V887fWJPBYKB"
      },
      "outputs": [
        {
          "name": "stderr",
          "output_type": "stream",
          "text": [
            "\u001b[34m\u001b[1mwandb\u001b[0m: Using wandb-core as the SDK backend.  Please refer to https://wandb.me/wandb-core for more information.\n",
            "\u001b[34m\u001b[1mwandb\u001b[0m: \u001b[33mWARNING\u001b[0m If you're specifying your api key in code, ensure this code is not shared publicly.\n",
            "\u001b[34m\u001b[1mwandb\u001b[0m: \u001b[33mWARNING\u001b[0m Consider setting the WANDB_API_KEY environment variable, or running `wandb login` from the command line.\n",
            "\u001b[34m\u001b[1mwandb\u001b[0m: Appending key for api.wandb.ai to your netrc file: /homes/55/bwilop/.netrc\n",
            "\u001b[34m\u001b[1mwandb\u001b[0m: Currently logged in as: \u001b[33mbenwilop\u001b[0m (\u001b[33mbenwilop-rwth-aachen-university\u001b[0m) to \u001b[32mhttps://api.wandb.ai\u001b[0m. Use \u001b[1m`wandb login --relogin`\u001b[0m to force relogin\n"
          ]
        }
      ],
      "source": [
        "import getpass\n",
        "import dotenv\n",
        "import wandb\n",
        "import os\n",
        "dotenv.load_dotenv(os.path.join('/homes/55/bwilop/wsg/private/', 'vscode-ssh.env'))\n",
        "api_key = os.getenv('WANDB_API_KEY')\n",
        "wandb.login(key=api_key)\n",
        "\n",
        "data_folder = '/homes/55/bwilop/wsg/data/'\n",
        "experiment_folder = '/homes/55/bwilop/wsg/experiments/'"
      ]
    },
    {
      "cell_type": "code",
      "execution_count": 2,
      "metadata": {
        "colab": {
          "base_uri": "https://localhost:8080/"
        },
        "id": "uV6cMqvSvaBY",
        "outputId": "ec9e34fb-4176-487f-e718-9b1a44238dfa"
      },
      "outputs": [
        {
          "name": "stdout",
          "output_type": "stream",
          "text": [
            "cuda\n"
          ]
        }
      ],
      "source": [
        "%load_ext autoreload\n",
        "%autoreload 2\n",
        "import torch as t\n",
        "import torch.nn as nn\n",
        "from torch.nn.functional import cross_entropy, softmax\n",
        "from torch import Tensor\n",
        "from jaxtyping import Float\n",
        "from tqdm import tqdm\n",
        "from transformer_lens import HookedTransformerConfig, HookedTransformer\n",
        "import json\n",
        "from typing import Callable, Any\n",
        "import einops\n",
        "import time\n",
        "import uuid\n",
        "import glob\n",
        "from copy import deepcopy\n",
        "import matplotlib.pyplot as plt\n",
        "from datetime import datetime\n",
        "import torch.nn as nn\n",
        "\n",
        "from wsg_games.tictactoe.evals import *\n",
        "from wsg_games.tictactoe.data import *\n",
        "from wsg_games.tictactoe.game import *\n",
        "\n",
        "from wsg_games.tictactoe.analysis.analyse_data import *\n",
        "from wsg_games.tictactoe.analysis.visualize_game import *\n",
        "\n",
        "from wsg_games.tictactoe.train.create_models import *\n",
        "from wsg_games.tictactoe.train.save_load_models import *\n",
        "from wsg_games.tictactoe.train.train import *\n",
        "from wsg_games.tictactoe.train.finetune import *\n",
        "from wsg_games.tictactoe.train.pretrain import *\n",
        "\n",
        "device = t.device(\"cuda\" if t.cuda.is_available() else \"cpu\")\n",
        "print(device)"
      ]
    },
    {
      "cell_type": "markdown",
      "metadata": {
        "id": "x-WZi6lEq1sA"
      },
      "source": [
        "# Data"
      ]
    },
    {
      "cell_type": "code",
      "execution_count": 3,
      "metadata": {
        "colab": {
          "base_uri": "https://localhost:8080/",
          "height": 400
        },
        "id": "ja80xiGclrkX",
        "outputId": "ee10de15-5c0a-4f8c-c559-c5005031824e"
      },
      "outputs": [
        {
          "name": "stdout",
          "output_type": "stream",
          "text": [
            "Shape Data:    torch.Size([100000, 10])\n",
            "Shape Random:  torch.Size([100000, 10, 10])\n",
            "Shape Weak:    torch.Size([100000, 10, 10])\n",
            "Shape Strong:  torch.Size([100000, 10, 10])\n",
            "--------------------------------------------------------\n",
            "Evals Random:  {'weak_accuracy': 0.6964439749717712, 'strong_accuracy': 0.6497600078582764, 'illegal_move_chance': 0.0}\n",
            "Evals Weak:    {'weak_accuracy': 1.0, 'strong_accuracy': 0.5115780234336853, 'illegal_move_chance': 0.0}\n",
            "Evals Strong:  {'weak_accuracy': 0.5749099850654602, 'strong_accuracy': 1.0, 'illegal_move_chance': 0.0}\n",
            "--------------------------------------------------------\n",
            "Entropy Random:  1.215964674949646\n",
            "Entropy Weak:    0.6564516425132751\n",
            "Entropy Strong:  0.5888455510139465\n",
            "--------------------------------------------------------\n"
          ]
        }
      ],
      "source": [
        "# tictactoe_data = cache_tictactoe_data(data_folder + 'tictactoe_data.pkl')\n",
        "tictactoe_data = cache_tictactoe_data_random(data_folder + 'tictactoe_data_random.pkl')\n",
        "# tictactoe_data = cache_tictactoe_data_random(data_folder + 'tictactoe_data_random_STRONG_RULE_NO_DIAGONAL.pkl')\n",
        "print_data_statistics(tictactoe_data)"
      ]
    },
    {
      "cell_type": "code",
      "execution_count": 4,
      "metadata": {
        "id": "yoCX7cACxBLY"
      },
      "outputs": [
        {
          "name": "stdout",
          "output_type": "stream",
          "text": [
            "Shape Train:  torch.Size([50000, 10])\n",
            "Shape Validation:  torch.Size([25000, 10])\n",
            "Shape Test:   torch.Size([25000, 10])\n"
          ]
        }
      ],
      "source": [
        "tictactoe_train_data, tictactoe_val_data, tictactoe_test_data = train_test_split_tictactoe(tictactoe_data, 0.5, 0.25, 0.25, device, 1234)\n",
        "print(\"Shape Train: \", tictactoe_train_data.games_data.shape)\n",
        "print(\"Shape Validation: \", tictactoe_val_data.games_data.shape)\n",
        "print(\"Shape Test:  \", tictactoe_test_data.games_data.shape)"
      ]
    },
    {
      "cell_type": "code",
      "execution_count": 5,
      "metadata": {
        "id": "z2UN1wnAMnEr"
      },
      "outputs": [],
      "source": [
        "# leakage_pct_weigted, leakage_pct = calculate_leakage_percentage(tictactoe_train_data, tictactoe_test_data)\n",
        "# print(f\"Leakage Percentage Weighted: {leakage_pct_weigted:.2f}%\")\n",
        "# print(f\"Leakage Percentage: {leakage_pct:.2f}%\")"
      ]
    },
    {
      "cell_type": "code",
      "execution_count": 6,
      "metadata": {
        "id": "m7t-JI6-Oz8L"
      },
      "outputs": [],
      "source": [
        "# plot_train_test_prefix_histograms(tictactoe_train_data, tictactoe_test_data)"
      ]
    },
    {
      "cell_type": "code",
      "execution_count": 7,
      "metadata": {
        "id": "8kIUD9u4_QGk"
      },
      "outputs": [],
      "source": [
        "import torch.nn.functional as F\n",
        "\n",
        "def sample_hard_labels_from_soft(soft_labels: t.Tensor, num_samples) -> t.Tensor:\n",
        "    n_games, game_length, n_tokens = soft_labels.shape\n",
        "    soft_labels_flat = soft_labels.view(-1, n_tokens)\n",
        "    sampled_indices = t.multinomial(soft_labels_flat, num_samples=num_samples, replacement=True)\n",
        "\n",
        "    one_hot_samples = F.one_hot(sampled_indices, num_classes=n_tokens).float()\n",
        "    one_hot_samples = one_hot_samples.view(n_games, game_length, num_samples, n_tokens)\n",
        "    one_hot_samples = one_hot_samples.permute(0, 2, 1, 3)\n",
        "    new_hard_labels = one_hot_samples.reshape(n_games * num_samples, game_length, n_tokens)\n",
        "    return new_hard_labels\n",
        "\n",
        "def create_hard_label_tictactoe_data(data: TicTacToeData, num_samples, random_seed: int = 4567) -> TicTacToeData:\n",
        "    t.manual_seed(random_seed)\n",
        "    new_games_data = data.games_data.repeat_interleave(num_samples, dim=0)\n",
        "    new_random_move_labels = sample_hard_labels_from_soft(data.random_move_labels, num_samples=num_samples)\n",
        "    new_weak_goals_labels  = sample_hard_labels_from_soft(data.weak_goals_labels, num_samples=num_samples)\n",
        "    new_strong_goals_labels = sample_hard_labels_from_soft(data.strong_goals_labels, num_samples=num_samples)\n",
        "    return TicTacToeData(\n",
        "        games_data=new_games_data,\n",
        "        random_move_labels=new_random_move_labels,\n",
        "        weak_goals_labels=new_weak_goals_labels,\n",
        "        strong_goals_labels=new_strong_goals_labels\n",
        "    )\n",
        "\n",
        "def create_sample_of_hard_label_train_data(train_data: TicTacToeData, tictactoe_val_data: TicTacToeData, test_data: TicTacToeData, n_train_games, n_val_games, random_seed: int = 4567) -> tuple[TicTacToeData, TicTacToeData, TicTacToeData]:\n",
        "    \"\"\"Samples hard labels for training and validation data and then samples n_games random games.\"\"\"\n",
        "    t.manual_seed(random_seed)\n",
        "    new_train_data = create_hard_label_tictactoe_data(train_data, num_samples=1, random_seed=random_seed)\n",
        "    random_indices = t.randperm(new_train_data.games_data.shape[0])[:n_train_games]  # CHANGE: use n_train_games\n",
        "    new_train_data.games_data = new_train_data.games_data[random_indices]\n",
        "    new_train_data.random_move_labels = new_train_data.random_move_labels[random_indices]\n",
        "    new_train_data.weak_goals_labels = new_train_data.weak_goals_labels[random_indices]\n",
        "    new_train_data.strong_goals_labels = new_train_data.strong_goals_labels[random_indices]\n",
        "\n",
        "    # CHANGE: Also sample hard labels for the validation set.\n",
        "    new_val_data = create_hard_label_tictactoe_data(tictactoe_val_data, num_samples=1, random_seed=random_seed)\n",
        "    random_indices_val = t.randperm(new_val_data.games_data.shape[0])[:n_val_games]  # CHANGE: use n_val_games\n",
        "    new_val_data.games_data = new_val_data.games_data[random_indices_val]\n",
        "    new_val_data.random_move_labels = new_val_data.random_move_labels[random_indices_val]\n",
        "    new_val_data.weak_goals_labels = new_val_data.weak_goals_labels[random_indices_val]\n",
        "    new_val_data.strong_goals_labels = new_val_data.strong_goals_labels[random_indices_val]\n",
        "\n",
        "    return new_train_data, new_val_data, test_data\n",
        "\n",
        "\n",
        "tictactoe_train_data = create_hard_label_tictactoe_data(tictactoe_train_data, num_samples=1)\n",
        "tictactoe_val_data = create_hard_label_tictactoe_data(tictactoe_val_data, num_samples=1)\n",
        "\n",
        "# Example usage:\n",
        "# tictactoe_train_data, tictactoe_val_data, tictactoe_test_data = create_sample_of_hard_label_train_data(\n",
        "#     tictactoe_train_data, tictactoe_val_data, tictactoe_test_data, 10000, 10000\n",
        "# )"
      ]
    },
    {
      "cell_type": "code",
      "execution_count": 8,
      "metadata": {
        "id": "hR8xt9Kx4IzL"
      },
      "outputs": [
        {
          "name": "stdout",
          "output_type": "stream",
          "text": [
            "Shape Train:  torch.Size([50000, 10])\n"
          ]
        },
        {
          "data": {
            "text/plain": [
              "tensor([[0., 1., 0., 0., 0., 0., 0., 0., 0., 0.],\n",
              "        [0., 0., 0., 0., 1., 0., 0., 0., 0., 0.],\n",
              "        [0., 0., 0., 0., 0., 0., 1., 0., 0., 0.],\n",
              "        [0., 0., 0., 0., 0., 0., 1., 0., 0., 0.],\n",
              "        [0., 0., 0., 1., 0., 0., 0., 0., 0., 0.],\n",
              "        [0., 0., 0., 0., 0., 0., 1., 0., 0., 0.],\n",
              "        [0., 0., 0., 1., 0., 0., 0., 0., 0., 0.],\n",
              "        [0., 0., 0., 0., 0., 1., 0., 0., 0., 0.],\n",
              "        [0., 0., 0., 0., 0., 0., 0., 0., 0., 1.],\n",
              "        [0., 0., 0., 0., 0., 0., 0., 0., 0., 1.]], device='cuda:0')"
            ]
          },
          "execution_count": 8,
          "metadata": {},
          "output_type": "execute_result"
        }
      ],
      "source": [
        "print(\"Shape Train: \", tictactoe_train_data.games_data.shape)\n",
        "tictactoe_train_data.random_move_labels[0]"
      ]
    },
    {
      "cell_type": "code",
      "execution_count": 9,
      "metadata": {
        "id": "CJSO2B_oAXDR"
      },
      "outputs": [
        {
          "name": "stdout",
          "output_type": "stream",
          "text": [
            "Shape Train:  torch.Size([25000, 10])\n"
          ]
        },
        {
          "data": {
            "text/plain": [
              "tensor([[0., 1., 0., 0., 0., 0., 0., 0., 0., 0.],\n",
              "        [1., 0., 0., 0., 0., 0., 0., 0., 0., 0.],\n",
              "        [0., 0., 0., 0., 0., 0., 0., 0., 1., 0.],\n",
              "        [0., 0., 0., 0., 0., 0., 0., 1., 0., 0.],\n",
              "        [0., 0., 0., 0., 0., 0., 0., 1., 0., 0.],\n",
              "        [0., 0., 0., 1., 0., 0., 0., 0., 0., 0.],\n",
              "        [0., 0., 0., 1., 0., 0., 0., 0., 0., 0.],\n",
              "        [0., 0., 0., 1., 0., 0., 0., 0., 0., 0.],\n",
              "        [0., 0., 0., 0., 0., 0., 0., 0., 0., 1.],\n",
              "        [0., 0., 0., 0., 0., 0., 0., 0., 0., 1.]], device='cuda:0')"
            ]
          },
          "execution_count": 9,
          "metadata": {},
          "output_type": "execute_result"
        }
      ],
      "source": [
        "print(\"Shape Train: \", tictactoe_val_data.games_data.shape)\n",
        "tictactoe_val_data.random_move_labels[0]"
      ]
    },
    {
      "cell_type": "code",
      "execution_count": 10,
      "metadata": {
        "id": "kY0HWIu8PH1a"
      },
      "outputs": [
        {
          "name": "stdout",
          "output_type": "stream",
          "text": [
            "Shape Test:   torch.Size([25000, 10])\n"
          ]
        },
        {
          "data": {
            "text/plain": [
              "tensor([[0.1111, 0.1111, 0.1111, 0.1111, 0.1111, 0.1111, 0.1111, 0.1111, 0.1111,\n",
              "         0.0000],\n",
              "        [0.1250, 0.1250, 0.0000, 0.1250, 0.1250, 0.1250, 0.1250, 0.1250, 0.1250,\n",
              "         0.0000],\n",
              "        [0.1429, 0.1429, 0.0000, 0.1429, 0.1429, 0.0000, 0.1429, 0.1429, 0.1429,\n",
              "         0.0000],\n",
              "        [0.1667, 0.1667, 0.0000, 0.1667, 0.1667, 0.0000, 0.0000, 0.1667, 0.1667,\n",
              "         0.0000],\n",
              "        [0.0000, 0.2000, 0.0000, 0.2000, 0.2000, 0.0000, 0.0000, 0.2000, 0.2000,\n",
              "         0.0000],\n",
              "        [0.0000, 0.2500, 0.0000, 0.0000, 0.2500, 0.0000, 0.0000, 0.2500, 0.2500,\n",
              "         0.0000],\n",
              "        [0.0000, 0.3333, 0.0000, 0.0000, 0.0000, 0.0000, 0.0000, 0.3333, 0.3333,\n",
              "         0.0000],\n",
              "        [0.0000, 0.5000, 0.0000, 0.0000, 0.0000, 0.0000, 0.0000, 0.0000, 0.5000,\n",
              "         0.0000],\n",
              "        [0.0000, 0.0000, 0.0000, 0.0000, 0.0000, 0.0000, 0.0000, 0.0000, 0.0000,\n",
              "         1.0000],\n",
              "        [0.0000, 0.0000, 0.0000, 0.0000, 0.0000, 0.0000, 0.0000, 0.0000, 0.0000,\n",
              "         1.0000]], device='cuda:0')"
            ]
          },
          "execution_count": 10,
          "metadata": {},
          "output_type": "execute_result"
        }
      ],
      "source": [
        "print(\"Shape Test:  \", tictactoe_test_data.games_data.shape)\n",
        "tictactoe_test_data.random_move_labels[0]"
      ]
    },
    {
      "cell_type": "code",
      "execution_count": 11,
      "metadata": {
        "id": "LkmF7KJ9Xql4"
      },
      "outputs": [],
      "source": [
        "def sample_random_games(n_games: int) -> t.Tensor:\n",
        "    games = []\n",
        "    for _ in range(n_games):\n",
        "        board = Board()\n",
        "        while board.game_state == State.ONGOING:\n",
        "            moves = board.get_possible_moves()\n",
        "            if not moves: break\n",
        "            board.make_move(random.choice(moves))\n",
        "        seq = [10] + board.moves_played + [9] * (10 - len(board.moves_played))\n",
        "        games.append(seq)\n",
        "    return t.tensor(games)\n",
        "\n",
        "def print_evaluate_overlap():\n",
        "    train = sample_random_games(1000)\n",
        "    test = sample_random_games(30000)\n",
        "\n",
        "    # Full games\n",
        "    train_full = [tuple(g.tolist()) for g in train]\n",
        "    full_count = sum(1 for game in test.tolist() if tuple(game) in train_full)\n",
        "    perc_full = 100 * full_count / len(test)\n",
        "\n",
        "    # Subgames (all prefixes)\n",
        "    def all_prefixes(games):\n",
        "        prefs = []\n",
        "        for game in games.tolist():\n",
        "            for l in range(1, len(game)+1):\n",
        "                prefs.append(tuple(game[:l]))\n",
        "        return prefs\n",
        "\n",
        "    train_prefs = set(all_prefixes(train))\n",
        "    test_prefs = all_prefixes(test)\n",
        "    subgame_count = sum(1 for p in test_prefs if p in train_prefs)\n",
        "    perc_subgames = 100 * subgame_count / len(test_prefs)\n",
        "\n",
        "    # Board states: unordered sets of moves (only valid moves 0-8)\n",
        "    def board_states(games):\n",
        "        states = []\n",
        "        for game in games.tolist():\n",
        "            for l in range(1, len(game)+1):\n",
        "                state = frozenset(x for x in game[:l] if 0 <= x <= 8)\n",
        "                states.append(state)\n",
        "        return states\n",
        "\n",
        "    train_states = set(board_states(train))\n",
        "    test_states = board_states(test)\n",
        "    state_count = sum(1 for s in test_states if s in train_states)\n",
        "    perc_states = 100 * state_count / len(test_states)\n",
        "\n",
        "    print(f\"Test full games seen: {perc_full:.2f}%\")\n",
        "    print(f\"Test subgames seen: {perc_subgames:.2f}%\")\n",
        "    print(f\"Test board states seen: {perc_states:.2f}%\")\n",
        "\n",
        "# print_evaluate_overlap()\n",
        "# 255k games\n",
        "# We train on 50k games\n",
        "# Test full games seen: 40.98%\n",
        "# Test subgames seen: 77.87%\n",
        "# Test board states seen: 100.00%"
      ]
    },
    {
      "cell_type": "markdown",
      "metadata": {
        "id": "JuRcWagTqzSr"
      },
      "source": [
        "# Train model"
      ]
    },
    {
      "cell_type": "code",
      "execution_count": 12,
      "metadata": {
        "id": "RLl-6o7fjzfS"
      },
      "outputs": [],
      "source": [
        "# raise Exception()"
      ]
    },
    {
      "cell_type": "markdown",
      "metadata": {
        "id": "D_6vzd1Lrwt5"
      },
      "source": [
        "### Parameters"
      ]
    },
    {
      "cell_type": "code",
      "execution_count": 13,
      "metadata": {
        "id": "bjketwo1ipxE"
      },
      "outputs": [
        {
          "name": "stdout",
          "output_type": "stream",
          "text": [
            "Moving model to device:  cuda\n",
            "nano 6.8 * 10^01\n",
            "Moving model to device:  cuda\n",
            "micro 3.9 * 10^02\n",
            "Moving model to device:  cuda\n",
            "mini 2.0 * 10^03\n",
            "Moving model to device:  cuda\n",
            "small 1.0 * 10^04\n",
            "Moving model to device:  cuda\n",
            "medium 5.2 * 10^04\n",
            "Moving model to device:  cuda\n",
            "large 2.5 * 10^05\n",
            "Ratio of consecutive model-sizes:  [5.676470588235294, 5.227979274611399, 5.142715559960357, 4.9992291385623435, 4.857985428472302]\n"
          ]
        }
      ],
      "source": [
        "training_cfg = {\n",
        "    \"learning_rate\": 1e-3, # 1e-4,\n",
        "    \"weight_decay\": 1e-4,  # 1e-5,\n",
        "    \"max_epochs\": 1000,\n",
        "    \"early_stopping_patience\": 5,\n",
        "    \"batch_size\": 64,\n",
        "}\n",
        "\n",
        "model_sizes = {}\n",
        "model_sizes[\"nano\"]   = {\"n_layers\": 1, \"n_heads\": 1, \"d_model\": 1, \"d_head\": 1, \"d_mlp\": 4}\n",
        "model_sizes[\"micro\"]   = {\"n_layers\": 1, \"n_heads\": 2, \"d_model\": 4, \"d_head\": 2, \"d_mlp\": 16}\n",
        "model_sizes[\"mini\"]   = {\"n_layers\": 2, \"n_heads\": 4, \"d_model\": 8, \"d_head\": 2, \"d_mlp\": 32}\n",
        "\n",
        "model_sizes[\"small\"] = {\"n_layers\": 3, \"n_heads\": 4, \"d_model\": 16, \"d_head\": 4, \"d_mlp\": 64}\n",
        "model_sizes[\"medium\"] = {\"n_layers\": 4, \"n_heads\": 8, \"d_model\": 32, \"d_head\": 4, \"d_mlp\": 128}\n",
        "model_sizes[\"large\"] = {\"n_layers\": 5, \"n_heads\": 8, \"d_model\": 64, \"d_head\": 8, \"d_mlp\": 256}\n",
        "\n",
        "# model_sizes[\"huge\"]   = {\"n_layers\": 6, \"n_heads\": 16, \"d_model\": 128, \"d_head\": 8,  \"d_mlp\": 512}\n",
        "# model_sizes[\"gigantic\"] = {\"n_layers\": 7, \"n_heads\": 16, \"d_model\": 256, \"d_head\": 16, \"d_mlp\": 1024}\n",
        "\n",
        "# model_size_to_epochs = {\n",
        "#                 # roughly converged after\n",
        "#     \"nano\": 3,  # 1\n",
        "#     \"micro\": 20,  # 10\n",
        "#     \"mini\": 40,  # 20\n",
        "#     \"small\": 50,  # 35\n",
        "#     \"medium\": 4,  # 2\n",
        "#     \"large\": 2,  # 1\n",
        "#     # \"huge\": 1,\n",
        "#     # \"gigantic\": 1\n",
        "# }\n",
        "\n",
        "\n",
        "def get_model_config(size: str):\n",
        "    common_params = {\n",
        "        \"act_fn\": \"relu\",\n",
        "        \"normalization_type\": \"LN\",\n",
        "        \"d_vocab\": 11,\n",
        "        \"d_vocab_out\": 10,\n",
        "        \"n_ctx\": 10,\n",
        "        \"init_weights\": True,\n",
        "        \"device\": \"cuda\",\n",
        "        \"seed\": 1337,\n",
        "    }\n",
        "    specific = model_sizes[size]\n",
        "    return HookedTransformerConfig(**specific, **common_params)\n",
        "\n",
        "print_model_ratios(model_sizes, get_model_config)"
      ]
    },
    {
      "cell_type": "markdown",
      "metadata": {
        "id": "r-I_WW83ry7U"
      },
      "source": [
        "### wandb"
      ]
    },
    {
      "cell_type": "markdown",
      "metadata": {
        "id": "HZblgAQar1jd"
      },
      "source": [
        "### Train loop"
      ]
    },
    {
      "cell_type": "code",
      "execution_count": 14,
      "metadata": {
        "id": "GwzgRcIE9JNs"
      },
      "outputs": [],
      "source": [
        "from wsg_games.tictactoe.evals import *\n",
        "from wsg_games.tictactoe.data import *\n",
        "from wsg_games.tictactoe.game import *\n",
        "\n",
        "from wsg_games.tictactoe.analysis.analyse_data import *\n",
        "from wsg_games.tictactoe.analysis.visualize_game import *\n",
        "\n",
        "from wsg_games.tictactoe.train.create_models import *\n",
        "from wsg_games.tictactoe.train.save_load_models import *\n",
        "from wsg_games.tictactoe.train.train import *\n",
        "from wsg_games.tictactoe.train.finetune import *\n",
        "from wsg_games.tictactoe.train.pretrain import *"
      ]
    },
    {
      "cell_type": "code",
      "execution_count": 15,
      "metadata": {
        "id": "szlDLZgl1ist"
      },
      "outputs": [
        {
          "name": "stdout",
          "output_type": "stream",
          "text": [
            "Moving model to device:  cuda\n"
          ]
        },
        {
          "data": {
            "text/html": [
              "creating run (4.9s)"
            ],
            "text/plain": [
              "<IPython.core.display.HTML object>"
            ]
          },
          "metadata": {},
          "output_type": "display_data"
        },
        {
          "data": {
            "text/html": [
              "Tracking run with wandb version 0.19.8"
            ],
            "text/plain": [
              "<IPython.core.display.HTML object>"
            ]
          },
          "metadata": {},
          "output_type": "display_data"
        },
        {
          "data": {
            "text/html": [
              "Run data is saved locally in <code>/homes/55/bwilop/wsg/WSG_games/wandb/run-20250314_175816-7ia597f1</code>"
            ],
            "text/plain": [
              "<IPython.core.display.HTML object>"
            ]
          },
          "metadata": {},
          "output_type": "display_data"
        },
        {
          "data": {
            "text/html": [
              "Syncing run <strong><a href='https://wandb.ai/benwilop-rwth-aachen-university/tictactoe_playground/runs/7ia597f1' target=\"_blank\">experiment_large_strong_2025-03-14-17-58</a></strong> to <a href='https://wandb.ai/benwilop-rwth-aachen-university/tictactoe_playground' target=\"_blank\">Weights & Biases</a> (<a href='https://wandb.me/developer-guide' target=\"_blank\">docs</a>)<br>"
            ],
            "text/plain": [
              "<IPython.core.display.HTML object>"
            ]
          },
          "metadata": {},
          "output_type": "display_data"
        },
        {
          "data": {
            "text/html": [
              " View project at <a href='https://wandb.ai/benwilop-rwth-aachen-university/tictactoe_playground' target=\"_blank\">https://wandb.ai/benwilop-rwth-aachen-university/tictactoe_playground</a>"
            ],
            "text/plain": [
              "<IPython.core.display.HTML object>"
            ]
          },
          "metadata": {},
          "output_type": "display_data"
        },
        {
          "data": {
            "text/html": [
              " View run at <a href='https://wandb.ai/benwilop-rwth-aachen-university/tictactoe_playground/runs/7ia597f1' target=\"_blank\">https://wandb.ai/benwilop-rwth-aachen-university/tictactoe_playground/runs/7ia597f1</a>"
            ],
            "text/plain": [
              "<IPython.core.display.HTML object>"
            ]
          },
          "metadata": {},
          "output_type": "display_data"
        },
        {
          "data": {
            "application/vnd.jupyter.widget-view+json": {
              "model_id": "da8d0d4859334d98bf105869b733ef67",
              "version_major": 2,
              "version_minor": 0
            },
            "text/plain": [
              "Training epochs:   0%|          | 0/1000 [00:00<?, ?it/s]"
            ]
          },
          "metadata": {},
          "output_type": "display_data"
        },
        {
          "data": {
            "application/vnd.jupyter.widget-view+json": {
              "model_id": "2e15b02f77654977b47b09634e8f73c3",
              "version_major": 2,
              "version_minor": 0
            },
            "text/plain": [
              "Training batches:   0%|          | 0/782 [00:00<?, ?it/s]"
            ]
          },
          "metadata": {},
          "output_type": "display_data"
        },
        {
          "data": {
            "application/vnd.jupyter.widget-view+json": {
              "model_id": "e23af85d19214114a10d2adfcfef05f6",
              "version_major": 2,
              "version_minor": 0
            },
            "text/plain": [
              "Training batches:   0%|          | 0/782 [00:00<?, ?it/s]"
            ]
          },
          "metadata": {},
          "output_type": "display_data"
        },
        {
          "data": {
            "application/vnd.jupyter.widget-view+json": {
              "model_id": "000acc23c4b2476c8368f3d8509bc074",
              "version_major": 2,
              "version_minor": 0
            },
            "text/plain": [
              "Training batches:   0%|          | 0/782 [00:00<?, ?it/s]"
            ]
          },
          "metadata": {},
          "output_type": "display_data"
        },
        {
          "data": {
            "application/vnd.jupyter.widget-view+json": {
              "model_id": "e4abc951033d4b0687aaa0f5beb15761",
              "version_major": 2,
              "version_minor": 0
            },
            "text/plain": [
              "Training batches:   0%|          | 0/782 [00:00<?, ?it/s]"
            ]
          },
          "metadata": {},
          "output_type": "display_data"
        },
        {
          "data": {
            "application/vnd.jupyter.widget-view+json": {
              "model_id": "eebda489f49a460dac64766c80324a52",
              "version_major": 2,
              "version_minor": 0
            },
            "text/plain": [
              "Training batches:   0%|          | 0/782 [00:00<?, ?it/s]"
            ]
          },
          "metadata": {},
          "output_type": "display_data"
        },
        {
          "data": {
            "application/vnd.jupyter.widget-view+json": {
              "model_id": "5cd4c66d09c34578931d9432ca9cb74f",
              "version_major": 2,
              "version_minor": 0
            },
            "text/plain": [
              "Training batches:   0%|          | 0/782 [00:00<?, ?it/s]"
            ]
          },
          "metadata": {},
          "output_type": "display_data"
        },
        {
          "data": {
            "application/vnd.jupyter.widget-view+json": {
              "model_id": "f2ecbb483c8e41a2a981d86bfafee3f1",
              "version_major": 2,
              "version_minor": 0
            },
            "text/plain": [
              "Training batches:   0%|          | 0/782 [00:00<?, ?it/s]"
            ]
          },
          "metadata": {},
          "output_type": "display_data"
        },
        {
          "ename": "KeyboardInterrupt",
          "evalue": "",
          "output_type": "error",
          "traceback": [
            "\u001b[31m---------------------------------------------------------------------------\u001b[39m",
            "\u001b[31mKeyboardInterrupt\u001b[39m                         Traceback (most recent call last)",
            "\u001b[36mCell\u001b[39m\u001b[36m \u001b[39m\u001b[32mIn[15]\u001b[39m\u001b[32m, line 5\u001b[39m\n\u001b[32m      3\u001b[39m model_cfg = get_model_config(model_size)\n\u001b[32m      4\u001b[39m wandb.finish()\n\u001b[32m----> \u001b[39m\u001b[32m5\u001b[39m model, _, _ = \u001b[43mrun_full_training\u001b[49m\u001b[43m(\u001b[49m\u001b[43mproject_name\u001b[49m\u001b[43m,\u001b[49m\u001b[43m \u001b[49m\u001b[43mmodel_size\u001b[49m\u001b[43m,\u001b[49m\u001b[43m \u001b[49m\u001b[43mGoal\u001b[49m\u001b[43m.\u001b[49m\u001b[43mSTRONG_GOAL\u001b[49m\u001b[43m,\u001b[49m\u001b[43m \u001b[49m\u001b[43mtictactoe_train_data\u001b[49m\u001b[43m,\u001b[49m\u001b[43m \u001b[49m\u001b[43mtictactoe_val_data\u001b[49m\u001b[43m,\u001b[49m\u001b[43m \u001b[49m\u001b[43mtictactoe_test_data\u001b[49m\u001b[43m,\u001b[49m\u001b[43m \u001b[49m\u001b[43mtraining_cfg\u001b[49m\u001b[43m,\u001b[49m\u001b[43m \u001b[49m\u001b[43mmodel_cfg\u001b[49m\u001b[43m)\u001b[49m\n",
            "\u001b[36mFile \u001b[39m\u001b[32m~/wsg/WSG_games/wsg_games/tictactoe/train/train.py:181\u001b[39m, in \u001b[36mrun_full_training\u001b[39m\u001b[34m(project_name, model_size, goal, train_data, val_data, test_data, training_cfg, model_cfg)\u001b[39m\n\u001b[32m    166\u001b[39m wandb.init(\n\u001b[32m    167\u001b[39m     project=project_name,\n\u001b[32m    168\u001b[39m     name=experiment_name,\n\u001b[32m   (...)\u001b[39m\u001b[32m    178\u001b[39m         \u001b[33m\"\u001b[39m\u001b[33mbatch_size\u001b[39m\u001b[33m\"\u001b[39m: batch_size,\n\u001b[32m    179\u001b[39m     })\n\u001b[32m    180\u001b[39m run_id = wandb.run.id\n\u001b[32m--> \u001b[39m\u001b[32m181\u001b[39m \u001b[43mtrain_model\u001b[49m\u001b[43m(\u001b[49m\u001b[43mproject_name\u001b[49m\u001b[43m,\u001b[49m\u001b[43m \u001b[49m\u001b[43mexperiment_name\u001b[49m\u001b[43m,\u001b[49m\u001b[43m \u001b[49m\u001b[43mtimestamp\u001b[49m\u001b[43m,\u001b[49m\n\u001b[32m    182\u001b[39m \u001b[43m    \u001b[49m\u001b[43mmodel\u001b[49m\u001b[43m,\u001b[49m\u001b[43m \u001b[49m\u001b[43mgoal\u001b[49m\u001b[43m,\u001b[49m\u001b[43m \u001b[49m\u001b[43moptimizer\u001b[49m\u001b[43m,\u001b[49m\u001b[43m \u001b[49m\u001b[43mloss_fn\u001b[49m\u001b[43m,\u001b[49m\n\u001b[32m    183\u001b[39m \u001b[43m    \u001b[49m\u001b[43mtrain_data\u001b[49m\u001b[43m,\u001b[49m\u001b[43m \u001b[49m\u001b[43mval_data\u001b[49m\u001b[43m,\u001b[49m\u001b[43m \u001b[49m\u001b[43mtest_data\u001b[49m\u001b[43m,\u001b[49m\u001b[43m \u001b[49m\u001b[43mmax_epochs\u001b[49m\u001b[43m,\u001b[49m\u001b[43m \u001b[49m\u001b[43mearly_stopping_patience\u001b[49m\u001b[43m,\u001b[49m\u001b[43m \u001b[49m\u001b[43mbatch_size\u001b[49m\u001b[43m=\u001b[49m\u001b[43mbatch_size\u001b[49m\u001b[43m)\u001b[49m\n\u001b[32m    185\u001b[39m wandb.finish()\n\u001b[32m    187\u001b[39m \u001b[38;5;28;01mreturn\u001b[39;00m model, experiment_name, run_id\n",
            "\u001b[36mFile \u001b[39m\u001b[32m~/wsg/WSG_games/wsg_games/tictactoe/train/train.py:107\u001b[39m, in \u001b[36mtrain_model\u001b[39m\u001b[34m(project_name, experiment_name, timestamp, model, goal, optimizer, loss_fn, train_data, val_data, test_data, max_epochs, early_stopping_patience, batch_size)\u001b[39m\n\u001b[32m    104\u001b[39m logits = model(games)\n\u001b[32m    105\u001b[39m loss = loss_fn(rearrange(logits),\n\u001b[32m    106\u001b[39m                rearrange(labels))\n\u001b[32m--> \u001b[39m\u001b[32m107\u001b[39m \u001b[43mloss\u001b[49m\u001b[43m.\u001b[49m\u001b[43mbackward\u001b[49m\u001b[43m(\u001b[49m\u001b[43m)\u001b[49m\n\u001b[32m    108\u001b[39m optimizer.step()\n\u001b[32m    110\u001b[39m n_datapoints_since_last_evaluation += batch_size\n",
            "\u001b[36mFile \u001b[39m\u001b[32m~/.venv/lib/python3.11/site-packages/torch/_tensor.py:626\u001b[39m, in \u001b[36mTensor.backward\u001b[39m\u001b[34m(self, gradient, retain_graph, create_graph, inputs)\u001b[39m\n\u001b[32m    616\u001b[39m \u001b[38;5;28;01mif\u001b[39;00m has_torch_function_unary(\u001b[38;5;28mself\u001b[39m):\n\u001b[32m    617\u001b[39m     \u001b[38;5;28;01mreturn\u001b[39;00m handle_torch_function(\n\u001b[32m    618\u001b[39m         Tensor.backward,\n\u001b[32m    619\u001b[39m         (\u001b[38;5;28mself\u001b[39m,),\n\u001b[32m   (...)\u001b[39m\u001b[32m    624\u001b[39m         inputs=inputs,\n\u001b[32m    625\u001b[39m     )\n\u001b[32m--> \u001b[39m\u001b[32m626\u001b[39m \u001b[43mtorch\u001b[49m\u001b[43m.\u001b[49m\u001b[43mautograd\u001b[49m\u001b[43m.\u001b[49m\u001b[43mbackward\u001b[49m\u001b[43m(\u001b[49m\n\u001b[32m    627\u001b[39m \u001b[43m    \u001b[49m\u001b[38;5;28;43mself\u001b[39;49m\u001b[43m,\u001b[49m\u001b[43m \u001b[49m\u001b[43mgradient\u001b[49m\u001b[43m,\u001b[49m\u001b[43m \u001b[49m\u001b[43mretain_graph\u001b[49m\u001b[43m,\u001b[49m\u001b[43m \u001b[49m\u001b[43mcreate_graph\u001b[49m\u001b[43m,\u001b[49m\u001b[43m \u001b[49m\u001b[43minputs\u001b[49m\u001b[43m=\u001b[49m\u001b[43minputs\u001b[49m\n\u001b[32m    628\u001b[39m \u001b[43m\u001b[49m\u001b[43m)\u001b[49m\n",
            "\u001b[36mFile \u001b[39m\u001b[32m~/.venv/lib/python3.11/site-packages/torch/autograd/__init__.py:347\u001b[39m, in \u001b[36mbackward\u001b[39m\u001b[34m(tensors, grad_tensors, retain_graph, create_graph, grad_variables, inputs)\u001b[39m\n\u001b[32m    342\u001b[39m     retain_graph = create_graph\n\u001b[32m    344\u001b[39m \u001b[38;5;66;03m# The reason we repeat the same comment below is that\u001b[39;00m\n\u001b[32m    345\u001b[39m \u001b[38;5;66;03m# some Python versions print out the first line of a multi-line function\u001b[39;00m\n\u001b[32m    346\u001b[39m \u001b[38;5;66;03m# calls in the traceback and some print out the last line\u001b[39;00m\n\u001b[32m--> \u001b[39m\u001b[32m347\u001b[39m \u001b[43m_engine_run_backward\u001b[49m\u001b[43m(\u001b[49m\n\u001b[32m    348\u001b[39m \u001b[43m    \u001b[49m\u001b[43mtensors\u001b[49m\u001b[43m,\u001b[49m\n\u001b[32m    349\u001b[39m \u001b[43m    \u001b[49m\u001b[43mgrad_tensors_\u001b[49m\u001b[43m,\u001b[49m\n\u001b[32m    350\u001b[39m \u001b[43m    \u001b[49m\u001b[43mretain_graph\u001b[49m\u001b[43m,\u001b[49m\n\u001b[32m    351\u001b[39m \u001b[43m    \u001b[49m\u001b[43mcreate_graph\u001b[49m\u001b[43m,\u001b[49m\n\u001b[32m    352\u001b[39m \u001b[43m    \u001b[49m\u001b[43minputs\u001b[49m\u001b[43m,\u001b[49m\n\u001b[32m    353\u001b[39m \u001b[43m    \u001b[49m\u001b[43mallow_unreachable\u001b[49m\u001b[43m=\u001b[49m\u001b[38;5;28;43;01mTrue\u001b[39;49;00m\u001b[43m,\u001b[49m\n\u001b[32m    354\u001b[39m \u001b[43m    \u001b[49m\u001b[43maccumulate_grad\u001b[49m\u001b[43m=\u001b[49m\u001b[38;5;28;43;01mTrue\u001b[39;49;00m\u001b[43m,\u001b[49m\n\u001b[32m    355\u001b[39m \u001b[43m\u001b[49m\u001b[43m)\u001b[49m\n",
            "\u001b[36mFile \u001b[39m\u001b[32m~/.venv/lib/python3.11/site-packages/torch/autograd/graph.py:823\u001b[39m, in \u001b[36m_engine_run_backward\u001b[39m\u001b[34m(t_outputs, *args, **kwargs)\u001b[39m\n\u001b[32m    821\u001b[39m     unregister_hooks = _register_logging_hooks_on_whole_graph(t_outputs)\n\u001b[32m    822\u001b[39m \u001b[38;5;28;01mtry\u001b[39;00m:\n\u001b[32m--> \u001b[39m\u001b[32m823\u001b[39m     \u001b[38;5;28;01mreturn\u001b[39;00m \u001b[43mVariable\u001b[49m\u001b[43m.\u001b[49m\u001b[43m_execution_engine\u001b[49m\u001b[43m.\u001b[49m\u001b[43mrun_backward\u001b[49m\u001b[43m(\u001b[49m\u001b[43m  \u001b[49m\u001b[38;5;66;43;03m# Calls into the C++ engine to run the backward pass\u001b[39;49;00m\n\u001b[32m    824\u001b[39m \u001b[43m        \u001b[49m\u001b[43mt_outputs\u001b[49m\u001b[43m,\u001b[49m\u001b[43m \u001b[49m\u001b[43m*\u001b[49m\u001b[43margs\u001b[49m\u001b[43m,\u001b[49m\u001b[43m \u001b[49m\u001b[43m*\u001b[49m\u001b[43m*\u001b[49m\u001b[43mkwargs\u001b[49m\n\u001b[32m    825\u001b[39m \u001b[43m    \u001b[49m\u001b[43m)\u001b[49m  \u001b[38;5;66;03m# Calls into the C++ engine to run the backward pass\u001b[39;00m\n\u001b[32m    826\u001b[39m \u001b[38;5;28;01mfinally\u001b[39;00m:\n\u001b[32m    827\u001b[39m     \u001b[38;5;28;01mif\u001b[39;00m attach_logging_hooks:\n",
            "\u001b[31mKeyboardInterrupt\u001b[39m: "
          ]
        }
      ],
      "source": [
        "project_name = \"tictactoe_playground\"\n",
        "model_size = \"large\"\n",
        "model_cfg = get_model_config(model_size)\n",
        "wandb.finish()\n",
        "model, _, _ = run_full_training(project_name, model_size, Goal.STRONG_GOAL, tictactoe_train_data, tictactoe_val_data, tictactoe_test_data, training_cfg, model_cfg)"
      ]
    },
    {
      "cell_type": "markdown",
      "metadata": {
        "id": "TtXdvXujjy_Z"
      },
      "source": [
        "### Experiments"
      ]
    },
    {
      "cell_type": "code",
      "execution_count": null,
      "metadata": {
        "id": "dp_ENvvSiLF3"
      },
      "outputs": [],
      "source": [
        "# project_name = \"tictactoe_pretrained_random_data_50000_hardlabels\"\n",
        "# pretrain_models(experiment_folder, project_name, tictactoe_train_data, tictactoe_val_data, tictactoe_test_data, training_cfg, get_model_config)"
      ]
    },
    {
      "cell_type": "code",
      "execution_count": null,
      "metadata": {
        "id": "-UammRfNkGPt"
      },
      "outputs": [],
      "source": [
        "# plot_loss_pretrain_models(experiment_folder, project_name, tictactoe_test_data)"
      ]
    },
    {
      "cell_type": "code",
      "execution_count": null,
      "metadata": {
        "id": "fER3-VgSv1nU"
      },
      "outputs": [],
      "source": [
        "# project_name = \"tictactoe_pretrained_random_data_50000_hardlabels\"\n",
        "# weak_model_weak_goals = load_model(project_name, \"micro\", Goal.STRONG_GOAL, experiment_folder)\n",
        "# strong_model_weak_goals = load_model(project_name, \"mini'\", Goal.STRONG_GOAL, experiment_folder)\n",
        "# strong_model_strong_goals = load_model(project_name, \"mini\", Goal.WEAK_GOAL, experiment_folder)\n",
        "# quick_evaluation(\"Weak model weak goal\", weak_model_weak_goals, tictactoe_test_data)\n",
        "# quick_evaluation(\"Strong model weak goal\", strong_model_weak_goals, tictactoe_test_data)\n",
        "# quick_evaluation(\"Strong model strong goal\", strong_model_strong_goals, tictactoe_test_data)\n",
        "# strong_model_finetuned = deepcopy(strong_model_strong_goals)\n",
        "\n",
        "# adapted_training_cfg = deepcopy(training_cfg)\n",
        "# adapted_training_cfg[\"epochs\"] = 20\n",
        "\n",
        "# project_name = \"tictactoe_playground\"\n",
        "# timestamp = datetime.now().strftime(\"%Y-%m-%d-%H-%M\")\n",
        "# experiment_name = f\"experiment_finetuning_{timestamp}\"\n",
        "# finetune_strong_with_weak(project_name, experiment_name, weak_model_weak_goals, strong_model_finetuned, tictactoe_train_data, tictactoe_test_data, adapted_training_cfg)"
      ]
    },
    {
      "cell_type": "code",
      "execution_count": null,
      "metadata": {
        "id": "mHXq7Cck4kZu"
      },
      "outputs": [],
      "source": [
        "# quick_evaluation(\"Weak model weak goal\", weak_model_weak_goals, tictactoe_test_data)\n",
        "# quick_evaluation(\"Strong model weak goal\", strong_model_weak_goals, tictactoe_test_data)\n",
        "# quick_evaluation(\"Strong model strong goal\", strong_model_strong_goals, tictactoe_test_data)\n",
        "# quick_evaluation(\"Strong model weakly-finetuned to weak goal\", strong_model_finetuned, tictactoe_test_data)"
      ]
    },
    {
      "cell_type": "markdown",
      "metadata": {
        "id": "3TAZfSRM_vTL"
      },
      "source": [
        "# Inspect model"
      ]
    },
    {
      "cell_type": "code",
      "execution_count": null,
      "metadata": {
        "id": "FseGnVqe_00c"
      },
      "outputs": [],
      "source": [
        "# project_name = \"tictactoe_pretrained_different_epochs\"\n",
        "# model = load_model(project_name, \"medium\", Goal.WEAK_GOAL, experiment_folder)\n",
        "# quick_evaluation(\"model weak goal\", model, tictactoe_test_data)"
      ]
    },
    {
      "cell_type": "code",
      "execution_count": null,
      "metadata": {
        "id": "4pMmX7Y7_zLG"
      },
      "outputs": [],
      "source": [
        "W = model.embed.W_E\n",
        "W_normed = W / W.norm(dim=1, keepdim=True)\n",
        "\n",
        "# Compute cosine similarity matrix and move to CPU as a NumPy array\n",
        "cosine_sim = (W_normed @ W_normed.T).detach().cpu().numpy()\n",
        "\n",
        "im = plt.imshow(cosine_sim)\n",
        "plt.title(\"Cosine similarities of each pair of 2D feature embeddings\")\n",
        "plt.gcf().set_size_inches(6, 6)\n",
        "\n",
        "# Add a colorbar with a label\n",
        "cbar = plt.colorbar(im)\n",
        "cbar.set_label(\"Cosine similarity value\")\n",
        "\n",
        "plt.show()"
      ]
    },
    {
      "cell_type": "code",
      "execution_count": null,
      "metadata": {
        "id": "v6yflRSMxJKa"
      },
      "outputs": [],
      "source": [
        "W.shape"
      ]
    },
    {
      "cell_type": "code",
      "execution_count": null,
      "metadata": {
        "id": "1zsCpa7EBMaw"
      },
      "outputs": [],
      "source": [
        "train_sample = random_sample_tictactoe_data(tictactoe_train_data, 1)\n",
        "train_logits = model(train_sample.games_data)\n",
        "soft_labels = softmax(train_logits, dim=-1)\n",
        "hard_labels = F.one_hot(train_sample.weak_goals_labels.argmax(dim=-1), num_classes=train_logits.shape[-1]).float()\n",
        "\n",
        "print(train_sample.weak_goals_labels.shape)\n",
        "print(train_logits.shape)\n",
        "print(soft_labels.shape)\n",
        "print(hard_labels.shape)"
      ]
    },
    {
      "cell_type": "code",
      "execution_count": null,
      "metadata": {
        "id": "azOH0vhNCKdg"
      },
      "outputs": [],
      "source": [
        "train_sample.weak_goals_labels"
      ]
    },
    {
      "cell_type": "code",
      "execution_count": null,
      "metadata": {
        "id": "F-WQZHo_CdqW"
      },
      "outputs": [],
      "source": [
        "soft_labels.clip(0.01)"
      ]
    },
    {
      "cell_type": "code",
      "execution_count": null,
      "metadata": {
        "id": "jjxvnDxbCkoo"
      },
      "outputs": [],
      "source": [
        "hard_labels"
      ]
    },
    {
      "cell_type": "code",
      "execution_count": null,
      "metadata": {
        "id": "ZCAlprThCL57"
      },
      "outputs": [],
      "source": [
        "board = Board()\n",
        "print(get_best_moves(board, Goal.WEAK_GOAL))\n",
        "board.make_move(1)\n",
        "print(get_best_moves(board, Goal.WEAK_GOAL))"
      ]
    },
    {
      "cell_type": "code",
      "execution_count": null,
      "metadata": {
        "id": "6mlqaz9FI6-3"
      },
      "outputs": [],
      "source": [
        "tictactoe_test_data.games_data[600]"
      ]
    },
    {
      "cell_type": "code",
      "execution_count": null,
      "metadata": {
        "id": "FA4fanUYnFCd"
      },
      "outputs": [],
      "source": [
        "tictactoe_test_data.weak_goals_labels[2]"
      ]
    },
    {
      "cell_type": "code",
      "execution_count": null,
      "metadata": {
        "id": "rDmIrkjVnGAI"
      },
      "outputs": [],
      "source": [
        "tictactoe_test_data.games_data[25][:]"
      ]
    },
    {
      "cell_type": "code",
      "execution_count": null,
      "metadata": {
        "id": "fvZuT97em_5p"
      },
      "outputs": [],
      "source": [
        "softmax(model(tictactoe_test_data.games_data[25][:]), dim=-1).clip(0.01)"
      ]
    },
    {
      "cell_type": "code",
      "execution_count": null,
      "metadata": {
        "id": "p0qQ8bpfPAwX"
      },
      "outputs": [],
      "source": [
        "skip_to = 0\n",
        "train_dataset = TensorDataset(\n",
        "    tictactoe_test_data.games_data,\n",
        "    tictactoe_test_data.random_move_labels,\n",
        "    tictactoe_test_data.weak_goals_labels,\n",
        "    tictactoe_test_data.strong_goals_labels,\n",
        ")\n",
        "train_loader = DataLoader(train_dataset, batch_size=1, shuffle=False)\n",
        "i = 0\n",
        "# for games, random_labels, weak_labels, strong_labels in tqdm(train_loader, desc=\"Training batches\", leave=False, position=1, dynamic_ncols=True):\n",
        "#     # if i == 25:\n",
        "#     # print(games)\n",
        "#     logits = model(games)\n",
        "#     # print(logits)\n",
        "#     print(i, cross_entropy(logits, weak_labels))\n",
        "#     # raise Exception()\n",
        "#     i += 1\n",
        "#     if i > 100:\n",
        "#         raise Exception()"
      ]
    },
    {
      "cell_type": "code",
      "execution_count": null,
      "metadata": {
        "id": "HmpNzFgly2a2"
      },
      "outputs": [],
      "source": [
        "visualize_game(tictactoe_test_data, game_id=25, model=model)"
      ]
    },
    {
      "cell_type": "markdown",
      "metadata": {
        "id": "2OeILpjRqric"
      },
      "source": [
        "# Sample games"
      ]
    },
    {
      "cell_type": "code",
      "execution_count": null,
      "metadata": {
        "id": "oQb9vhch0H4I"
      },
      "outputs": [],
      "source": [
        "samples = sample_games(model, 1, 100)"
      ]
    },
    {
      "cell_type": "code",
      "execution_count": null,
      "metadata": {
        "id": "T9XukQVE0IL0"
      },
      "outputs": [],
      "source": [
        "evals.eval_model(samples)"
      ]
    },
    {
      "cell_type": "code",
      "execution_count": null,
      "metadata": {
        "id": "G-TT_WMvMsLw"
      },
      "outputs": [],
      "source": [
        "sample = samples[1]\n",
        "print(sample)"
      ]
    },
    {
      "cell_type": "code",
      "execution_count": null,
      "metadata": {
        "id": "rP0nyV-liYvk"
      },
      "outputs": [],
      "source": [
        "from alphatoe.game import Board, State\n",
        "\n",
        "def check(game: list[int]) -> bool:\n",
        "    board = Board()\n",
        "    for move in game[1:-1]:\n",
        "        print(move)\n",
        "        if board.game_state == State.ONGOING:\n",
        "            try:\n",
        "                board.make_move(move)\n",
        "            except:\n",
        "                return True\n",
        "        elif move == 9:\n",
        "            pass\n",
        "        else:\n",
        "            return True\n",
        "    return False\n",
        "\n",
        "check(sample)"
      ]
    },
    {
      "cell_type": "code",
      "execution_count": null,
      "metadata": {
        "id": "SiWg1vL6aEDi"
      },
      "outputs": [],
      "source": [
        "game.play_game(sample)\n",
        "print(\"\\nPLAY:\")\n",
        "board = game.Board()\n",
        "for move in sample:\n",
        "  if move not in [9, 10]:\n",
        "    board.make_move(move)\n",
        "    board.draw_board()\n",
        "    print(\".\")"
      ]
    },
    {
      "cell_type": "code",
      "execution_count": null,
      "metadata": {
        "id": "2Rhih5yKaYLr"
      },
      "outputs": [],
      "source": [
        "print(evals.model_vs_minimax(model, True), \"\\n\")\n",
        "print(evals._check_minimax_win_rate(model, 100))"
      ]
    },
    {
      "cell_type": "code",
      "execution_count": null,
      "metadata": {
        "id": "IaOr1TOhkhyO"
      },
      "outputs": [],
      "source": [
        "evals.get_error_rate(samples)"
      ]
    },
    {
      "cell_type": "code",
      "execution_count": null,
      "metadata": {
        "id": "Ii5yV15Lbym4"
      },
      "outputs": [],
      "source": []
    }
  ],
  "metadata": {
    "accelerator": "GPU",
    "colab": {
      "gpuType": "T4",
      "include_colab_link": true,
      "machine_shape": "hm",
      "provenance": []
    },
    "kernelspec": {
      "display_name": ".venv",
      "language": "python",
      "name": "python3"
    },
    "language_info": {
      "codemirror_mode": {
        "name": "ipython",
        "version": 3
      },
      "file_extension": ".py",
      "mimetype": "text/x-python",
      "name": "python",
      "nbconvert_exporter": "python",
      "pygments_lexer": "ipython3",
      "version": "3.11.2"
    }
  },
  "nbformat": 4,
  "nbformat_minor": 0
}
